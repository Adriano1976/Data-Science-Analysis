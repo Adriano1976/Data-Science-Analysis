{
 "cells": [
  {
   "cell_type": "code",
   "execution_count": 1,
   "metadata": {},
   "outputs": [],
   "source": [
    "# Formação Cientista de Dados - Fernando Amaral e Jones Granatyr\n",
    "# Distribuição T Student"
   ]
  },
  {
   "cell_type": "code",
   "execution_count": 2,
   "metadata": {},
   "outputs": [],
   "source": [
    "# Importação da função para fazer o teste - O código importa a função \"t\" da biblioteca scipy.stats, que é usada para realizar cálculos estatísticos relacionados à distribuição t de Student. Essa função permite calcular valores de probabilidade, quantis e estatísticas da distribuição t, comumente usada em testes de hipóteses e intervalos de confiança em análise estatística.\n",
    "\n",
    "from scipy.stats import t"
   ]
  },
  {
   "cell_type": "markdown",
   "metadata": {},
   "source": [
    "Média de salário dos cientistas de dados = R$ 75,00 por hora\n",
    "Amostra com 9 funcionários e desvio padrão = 10"
   ]
  },
  {
   "cell_type": "code",
   "execution_count": 3,
   "metadata": {},
   "outputs": [
    {
     "data": {
      "text/plain": [
       "0.9139983540240443"
      ]
     },
     "execution_count": 3,
     "metadata": {},
     "output_type": "execute_result"
    }
   ],
   "source": [
    "# Qual a probabilidade de selecionar um cientista de dados e o salário ser menor que R$ 80 por hora?\n",
    "# O código t.cdf(1.5, 8) calcula a probabilidade acumulada em uma distribuição t-Student com 8 graus de liberdade até o ponto 1.5. Isso é útil em estatísticas para determinar a probabilidade de obter um valor igual ou menor que 1.5 em uma amostra de dados que segue essa distribuição.\n",
    "\n",
    "t.cdf(1.5, 8)"
   ]
  },
  {
   "cell_type": "code",
   "execution_count": 4,
   "metadata": {},
   "outputs": [
    {
     "data": {
      "text/plain": [
       "0.08600164597595565"
      ]
     },
     "execution_count": 4,
     "metadata": {},
     "output_type": "execute_result"
    }
   ],
   "source": [
    "# Qual a probabilidade do salário ser maior do que 80?\n",
    "# O código \"t.sf(1.5, 8)\" em Python é uma chamada de função da biblioteca SciPy, especificamente da função \"sf\" que calcula o valor da função de sobrevivência de uma distribuição t-Student. Nesse caso, o valor é calculado para um grau de liberdade de 8 e um valor de teste de 1.5. Essa função é comumente usada em estatísticas para avaliar a probabilidade de observar um valor igual ou maior que 1.5 em uma distribuição t-Student com 8 graus de liberdade.\n",
    "\n",
    "t.sf(1.5, 8)"
   ]
  },
  {
   "cell_type": "code",
   "execution_count": 5,
   "metadata": {},
   "outputs": [
    {
     "data": {
      "text/plain": [
       "0.9999999999999999"
      ]
     },
     "execution_count": 5,
     "metadata": {},
     "output_type": "execute_result"
    }
   ],
   "source": [
    "# Somatório da execução dos dois códigos acima (lado esquerdo + lado direito da distribuição) - Esse código em Python usa funções estatísticas para calcular probabilidades relacionadas à distribuição t de Student. A primeira parte, \"t.cdf(1.5, 8)\", calcula a probabilidade acumulada de uma variável t com parâmetros 1.5 e 8. A segunda parte, \"t.sf(1.5, 8)\", calcula a probabilidade complementar (ou seja, 1 - probabilidade acumulada) da mesma distribuição t. Ambos os resultados são somados para fornecer uma medida de probabilidade combinada.\n",
    "\n",
    "\n",
    "t.cdf(1.5, 8) + t.sf(1.5, 8)"
   ]
  },
  {
   "cell_type": "code",
   "execution_count": null,
   "metadata": {},
   "outputs": [],
   "source": []
  }
 ],
 "metadata": {
  "jupytext": {
   "cell_metadata_filter": "-all",
   "main_language": "python",
   "notebook_metadata_filter": "-all"
  },
  "kernelspec": {
   "display_name": "Python 3",
   "language": "python",
   "name": "python3"
  },
  "language_info": {
   "codemirror_mode": {
    "name": "ipython",
    "version": 3
   },
   "file_extension": ".py",
   "mimetype": "text/x-python",
   "name": "python",
   "nbconvert_exporter": "python",
   "pygments_lexer": "ipython3",
   "version": "3.11.3"
  }
 },
 "nbformat": 4,
 "nbformat_minor": 4
}
