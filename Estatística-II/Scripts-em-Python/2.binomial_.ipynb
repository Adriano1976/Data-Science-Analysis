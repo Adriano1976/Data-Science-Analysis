{
 "cells": [
  {
   "cell_type": "code",
   "execution_count": null,
   "metadata": {},
   "outputs": [],
   "source": [
    "# Formação Cientista de Dados - Fernando Amaral e Jones Granatyr\n",
    "# Distribuição binomianl"
   ]
  },
  {
   "cell_type": "code",
   "execution_count": 1,
   "metadata": {},
   "outputs": [],
   "source": [
    "# Importação da função binom - Esse código importa a função `binom` do módulo `scipy.stats`, que é utilizada para realizar cálculos relacionados à distribuição binomial em estatística. Essa distribuição é usada para modelar eventos de sucesso ou fracasso, como lançar uma moeda, onde 'binom' ajuda a calcular probabilidades associadas a esses eventos.\n",
    "\n",
    "from scipy.stats import binom"
   ]
  },
  {
   "cell_type": "code",
   "execution_count": 2,
   "metadata": {},
   "outputs": [
    {
     "data": {
      "text/plain": [
       "0.31249999999999983"
      ]
     },
     "execution_count": 2,
     "metadata": {},
     "output_type": "execute_result"
    }
   ],
   "source": [
    "# Jogar uma moeda 5 vezes, qual a probabilidade de dar cara 3 vezes? - Esse código em Python calcula a probabilidade de obter exatamente 3 sucessos em 5 tentativas de um experimento binomial com uma probabilidade de sucesso de 0,5. O resultado é armazenado na variável 'prob' e posteriormente exibido.\n",
    "\n",
    "prob = binom.pmf(3, 5, 0.5)\n",
    "prob"
   ]
  },
  {
   "cell_type": "code",
   "execution_count": 3,
   "metadata": {},
   "outputs": [
    {
     "data": {
      "text/plain": [
       "1.0000000000000002"
      ]
     },
     "execution_count": 3,
     "metadata": {},
     "output_type": "execute_result"
    }
   ],
   "source": [
    "# Passar por 4 sinais de 4 tempos, qual a probabilidade de pegar sinal verde? nenhuma, 1, 2, 3 ou 4 vezes seguidas?\n",
    "# O código calcula a probabilidade de obter 0, 1, 2, 3 e 4 sucessos em um experimento binomial com 4 tentativas, onde a probabilidade de sucesso em cada tentativa é de 25%. Ele soma essas probabilidades individuais para obter a probabilidade total de sucesso em todas as combinações possíveis de tentativas.\n",
    "\n",
    "binom.pmf(0, 4, 0.25) + binom.pmf(1, 4, 0.25) + binom.pmf(2, 4, 0.25) + binom.pmf(3, 4, 0.25) + binom.pmf(4, 4, 0.25)"
   ]
  },
  {
   "cell_type": "code",
   "execution_count": 4,
   "metadata": {},
   "outputs": [
    {
     "data": {
      "text/plain": [
       "0.0625"
      ]
     },
     "execution_count": 4,
     "metadata": {},
     "output_type": "execute_result"
    }
   ],
   "source": [
    "# E se forem sinais de dois tempos? - O código binom.pmf(4, 4, 0.5) calcula a probabilidade de obter exatamente 4 sucessos em 4 tentativas de um experimento binomial, onde a probabilidade de sucesso em cada tentativa é de 50%. Esse cálculo é realizado utilizando a função de massa de probabilidade (PMF) da distribuição binomial. Em resumo, ele avalia a chance de todos os eventos serem bem-sucedidos em 4 tentativas com uma probabilidade de sucesso de 50%.\n",
    "\n",
    "binom.pmf(4, 4, 0.5)"
   ]
  },
  {
   "cell_type": "code",
   "execution_count": 5,
   "metadata": {},
   "outputs": [
    {
     "data": {
      "text/plain": [
       "1.0"
      ]
     },
     "execution_count": 5,
     "metadata": {},
     "output_type": "execute_result"
    }
   ],
   "source": [
    "# Probabilidade acumulativa - Esse código calcula a probabilidade acumulada de obter até 4 sucessos em 4 tentativas de um experimento binomial com uma probabilidade de sucesso de 25%. Em outras palavras, ele determina a probabilidade de ocorrer 0, 1, 2, 3 ou 4 sucessos em 4 tentativas, considerando uma chance de sucesso de 25% em cada tentativa.\n",
    "\n",
    "binom.cdf(4, 4, 0.25)"
   ]
  },
  {
   "cell_type": "code",
   "execution_count": 6,
   "metadata": {},
   "outputs": [
    {
     "data": {
      "text/plain": [
       "0.011471271514892587"
      ]
     },
     "execution_count": 6,
     "metadata": {},
     "output_type": "execute_result"
    }
   ],
   "source": [
    "# Concurso com 12 questões, qual a probabilidade de acertar 7 questões considerando que cada questão tem 4 alternativas?\n",
    "# O código calcula a probabilidade de obter exatamente 7 sucessos em 12 tentativas de um experimento binomial com uma probabilidade de sucesso de 0,25. Isso é feito usando a função pmf da distribuição binomial.\n",
    "\n",
    "binom.pmf(7, 12, 0.25) "
   ]
  },
  {
   "cell_type": "code",
   "execution_count": 7,
   "metadata": {},
   "outputs": [
    {
     "data": {
      "text/plain": [
       "5.960464477539063e-08"
      ]
     },
     "execution_count": 7,
     "metadata": {},
     "output_type": "execute_result"
    }
   ],
   "source": [
    "# Probabilidade de acertar as 12 questões? \n",
    "# O código em questão calcula a probabilidade de obter 12 sucessos em 12 tentativas, seguindo uma distribuição binomial com uma probabilidade de sucesso de 0,25. Em outras palavras, ele determina a chance de que, em 12 experimentos independentes, ocorram exatamente 12 sucessos com uma taxa de sucesso de 25%.\n",
    "\n",
    "binom.pmf(12, 12, 0.25) "
   ]
  },
  {
   "cell_type": "code",
   "execution_count": null,
   "metadata": {},
   "outputs": [],
   "source": []
  }
 ],
 "metadata": {
  "jupytext": {
   "cell_metadata_filter": "-all",
   "main_language": "python",
   "notebook_metadata_filter": "-all"
  },
  "kernelspec": {
   "display_name": "Python 3",
   "language": "python",
   "name": "python3"
  },
  "language_info": {
   "codemirror_mode": {
    "name": "ipython",
    "version": 3
   },
   "file_extension": ".py",
   "mimetype": "text/x-python",
   "name": "python",
   "nbconvert_exporter": "python",
   "pygments_lexer": "ipython3",
   "version": "3.11.3"
  }
 },
 "nbformat": 4,
 "nbformat_minor": 4
}
