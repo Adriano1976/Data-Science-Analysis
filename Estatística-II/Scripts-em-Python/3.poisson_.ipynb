{
 "cells": [
  {
   "cell_type": "code",
   "execution_count": 1,
   "metadata": {},
   "outputs": [],
   "source": [
    "# Formação Cientista de Dados - Fernando Amaral e Jones Granatyr\n",
    "# Distribuição de Poisson"
   ]
  },
  {
   "cell_type": "code",
   "execution_count": 3,
   "metadata": {},
   "outputs": [],
   "source": [
    "# Importação da função - Esse código importa a função \"poisson\" do módulo \"scipy.stats\", que é utilizada para realizar cálculos estatísticos relacionados à distribuição de Poisson. Essa distribuição é frequentemente usada para modelar eventos raros e aleatórios, como a contagem de ocorrências em um intervalo de tempo ou espaço.\n",
    "\n",
    "from scipy.stats import poisson"
   ]
  },
  {
   "cell_type": "markdown",
   "metadata": {},
   "source": [
    "Média de acidentes de carro é 2 por dia"
   ]
  },
  {
   "cell_type": "code",
   "execution_count": 4,
   "metadata": {},
   "outputs": [
    {
     "data": {
      "text/plain": [
       "0.18044704431548356"
      ]
     },
     "execution_count": 4,
     "metadata": {},
     "output_type": "execute_result"
    }
   ],
   "source": [
    "# O código \"poisson.pmf(3, 2)\" em Python calcula a probabilidade de ocorrerem exatamente 3 eventos em um processo de Poisson com uma taxa média de 2 eventos por unidade de tempo. Ele usa a função de massa de probabilidade (pmf) da distribuição de Poisson para esse cálculo. - Qual a probabilidade de ocorrerem 3 acidentes no dia?\n",
    "\n",
    "poisson.pmf(3, 2)"
   ]
  },
  {
   "cell_type": "code",
   "execution_count": 5,
   "metadata": {},
   "outputs": [
    {
     "data": {
      "text/plain": [
       "0.857123460498547"
      ]
     },
     "execution_count": 5,
     "metadata": {},
     "output_type": "execute_result"
    }
   ],
   "source": [
    "# O código \"poisson.cdf(3, 2)\" calcula a probabilidade acumulada de uma distribuição Poisson com uma taxa média de 2 eventos, onde estamos interessados em saber a probabilidade de ocorrer até 3 eventos. Em outras palavras, ele calcula a chance de ocorrer 0, 1, 2 ou 3 eventos com uma taxa média de 2. - Qual a probabilidade de ocorrerem 3 ou menos acidentes no dia?\n",
    "\n",
    "poisson.cdf(3, 2)"
   ]
  },
  {
   "cell_type": "code",
   "execution_count": 6,
   "metadata": {},
   "outputs": [
    {
     "data": {
      "text/plain": [
       "0.14287653950145296"
      ]
     },
     "execution_count": 6,
     "metadata": {},
     "output_type": "execute_result"
    }
   ],
   "source": [
    "# O código \"poisson.sf(3, 2)\" calcula a probabilidade de ocorrer mais de três eventos em um processo de Poisson com uma taxa média de dois eventos por unidade de tempo. O resultado representa a probabilidade acumulada de exceder três eventos. - Qual a probabilidade de ocorrerem mais de 3 acidentes no dia?\n",
    "\n",
    "poisson.sf(3, 2)"
   ]
  },
  {
   "cell_type": "code",
   "execution_count": 7,
   "metadata": {},
   "outputs": [
    {
     "data": {
      "text/plain": [
       "1.0"
      ]
     },
     "execution_count": 7,
     "metadata": {},
     "output_type": "execute_result"
    }
   ],
   "source": [
    "# O código apresentado calcula a probabilidade cumulativa de uma distribuição de Poisson com média 2 para o valor 3 e, em seguida, adiciona a probabilidade complementar (sobrevivência) para o mesmo valor 3. Isso representa a probabilidade de ocorrerem até 3 eventos em um processo com média de 2 eventos por unidade de tempo ou espaço.\n",
    "\n",
    "poisson.cdf(3, 2) + poisson.sf(3, 2)"
   ]
  },
  {
   "cell_type": "code",
   "execution_count": null,
   "metadata": {},
   "outputs": [],
   "source": []
  }
 ],
 "metadata": {
  "jupytext": {
   "cell_metadata_filter": "-all",
   "main_language": "python",
   "notebook_metadata_filter": "-all"
  },
  "kernelspec": {
   "display_name": "Python 3",
   "language": "python",
   "name": "python3"
  },
  "language_info": {
   "codemirror_mode": {
    "name": "ipython",
    "version": 3
   },
   "file_extension": ".py",
   "mimetype": "text/x-python",
   "name": "python",
   "nbconvert_exporter": "python",
   "pygments_lexer": "ipython3",
   "version": "3.11.3"
  }
 },
 "nbformat": 4,
 "nbformat_minor": 4
}
