{
 "cells": [
  {
   "cell_type": "markdown",
   "metadata": {},
   "source": [
    "# <font color='yellow'>Análise Exploratória de Dados em Python - Área de Varejo</font>"
   ]
  },
  {
   "cell_type": "markdown",
   "metadata": {},
   "source": [
    "## Formação e Análise de Dados\n",
    "### Colaboração: Adriano Santos"
   ]
  },
  {
   "cell_type": "markdown",
   "metadata": {},
   "source": [
    "--------------------------------------------------------------------------------------------------------"
   ]
  },
  {
   "cell_type": "markdown",
   "metadata": {},
   "source": [
    "### > Verifique a versão da linguagem Python"
   ]
  },
  {
   "cell_type": "markdown",
   "metadata": {},
   "source": [
    "Esse código Python é uma maneira simples de verificar a versão da linguagem que está sendo usada no ambiente atual. Ele importa a função `python_version` do módulo `platform` e a utiliza para imprimir a versão do Python no Jupyter Notebook em que está sendo executado. É uma tarefa básica, mas útil para garantir que o ambiente esteja configurado corretamente com a versão desejada do Python."
   ]
  },
  {
   "cell_type": "code",
   "execution_count": 1,
   "metadata": {},
   "outputs": [
    {
     "name": "stdout",
     "output_type": "stream",
     "text": [
      "Versão da Linguagem Python usada nesse Jupyter Notebook:  3.11.3\n"
     ]
    }
   ],
   "source": [
    "\n",
    "from platform import python_version\n",
    "print('Versão da Linguagem Python usada nesse Jupyter Notebook: ', python_version())"
   ]
  },
  {
   "cell_type": "markdown",
   "metadata": {},
   "source": [
    "### > Importe as bibliotecas necessárias"
   ]
  },
  {
   "cell_type": "markdown",
   "metadata": {},
   "source": [
    "Esse código Python realiza importações essenciais para análise de dados, usando as bibliotecas NumPy para manipulação numérica, Pandas para estruturação de dados, Matplotlib e Seaborn para visualização gráfica, e Datetime para lidar com datas e horários. É um ponto de partida comum para análise de dados e criação de visualizações, proporcionando uma base sólida para projetos de Business Intelligence (BI)."
   ]
  },
  {
   "cell_type": "code",
   "execution_count": 2,
   "metadata": {},
   "outputs": [],
   "source": [
    "\n",
    "import numpy as np\n",
    "import pandas as pd\n",
    "import matplotlib.pyplot as plt\n",
    "import seaborn as sns\n",
    "import datetime as dt"
   ]
  },
  {
   "cell_type": "markdown",
   "metadata": {},
   "source": [
    "### > Carregue a base de dados a ser trabalhada"
   ]
  },
  {
   "cell_type": "markdown",
   "metadata": {},
   "source": [
    "No código Python fornecido, estamos utilizando a biblioteca Pandas para carregar uma base de dados a partir de um arquivo CSV chamado 'dataset.csv', que está localizado na pasta 'dados'. A variável 'df' será usada para armazenar esse conjunto de dados, permitindo-nos realizar operações de análise e manipulação nos dados posteriormente. É um passo essencial para iniciar o processo de análise de dados e exploração de informações contidas no arquivo CSV."
   ]
  },
  {
   "cell_type": "code",
   "execution_count": 3,
   "metadata": {},
   "outputs": [],
   "source": [
    "\n",
    "df = pd.read_csv('dados/dataset.csv')"
   ]
  },
  {
   "cell_type": "markdown",
   "metadata": {},
   "source": [
    "### > Faça a exibição das primeiras linhas do DataFrame"
   ]
  },
  {
   "cell_type": "markdown",
   "metadata": {},
   "source": [
    "No trecho de código Python apresentado, \"df.head()\" é um comando utilizado para visualizar as primeiras linhas de um DataFrame, que é uma estrutura de dados tabular frequentemente usada em análise de dados. Esse comando exibe as primeiras linhas do DataFrame, geralmente as cinco primeiras por padrão, permitindo uma rápida inspeção dos dados, útil para identificar a estrutura e os valores iniciais do conjunto de dados."
   ]
  },
  {
   "cell_type": "code",
   "execution_count": 4,
   "metadata": {},
   "outputs": [
    {
     "data": {
      "text/html": [
       "<div>\n",
       "<style scoped>\n",
       "    .dataframe tbody tr th:only-of-type {\n",
       "        vertical-align: middle;\n",
       "    }\n",
       "\n",
       "    .dataframe tbody tr th {\n",
       "        vertical-align: top;\n",
       "    }\n",
       "\n",
       "    .dataframe thead th {\n",
       "        text-align: right;\n",
       "    }\n",
       "</style>\n",
       "<table border=\"1\" class=\"dataframe\">\n",
       "  <thead>\n",
       "    <tr style=\"text-align: right;\">\n",
       "      <th></th>\n",
       "      <th>ID_Pedido</th>\n",
       "      <th>Data_Pedido</th>\n",
       "      <th>ID_Cliente</th>\n",
       "      <th>Segmento</th>\n",
       "      <th>Pais</th>\n",
       "      <th>Cidade</th>\n",
       "      <th>Estado</th>\n",
       "      <th>ID_Produto</th>\n",
       "      <th>Categoria</th>\n",
       "      <th>SubCategoria</th>\n",
       "      <th>Valor_Venda</th>\n",
       "    </tr>\n",
       "  </thead>\n",
       "  <tbody>\n",
       "    <tr>\n",
       "      <th>0</th>\n",
       "      <td>CA-2017-152156</td>\n",
       "      <td>08/11/2017</td>\n",
       "      <td>CG-12520</td>\n",
       "      <td>Consumer</td>\n",
       "      <td>United States</td>\n",
       "      <td>Henderson</td>\n",
       "      <td>Kentucky</td>\n",
       "      <td>FUR-BO-10001798</td>\n",
       "      <td>Furniture</td>\n",
       "      <td>Bookcases</td>\n",
       "      <td>261.9600</td>\n",
       "    </tr>\n",
       "    <tr>\n",
       "      <th>1</th>\n",
       "      <td>CA-2017-152156</td>\n",
       "      <td>08/11/2017</td>\n",
       "      <td>CG-12520</td>\n",
       "      <td>Consumer</td>\n",
       "      <td>United States</td>\n",
       "      <td>Henderson</td>\n",
       "      <td>Kentucky</td>\n",
       "      <td>FUR-CH-10000454</td>\n",
       "      <td>Furniture</td>\n",
       "      <td>Chairs</td>\n",
       "      <td>731.9400</td>\n",
       "    </tr>\n",
       "    <tr>\n",
       "      <th>2</th>\n",
       "      <td>CA-2017-138688</td>\n",
       "      <td>12/06/2017</td>\n",
       "      <td>DV-13045</td>\n",
       "      <td>Corporate</td>\n",
       "      <td>United States</td>\n",
       "      <td>Los Angeles</td>\n",
       "      <td>California</td>\n",
       "      <td>OFF-LA-10000240</td>\n",
       "      <td>Office Supplies</td>\n",
       "      <td>Labels</td>\n",
       "      <td>14.6200</td>\n",
       "    </tr>\n",
       "    <tr>\n",
       "      <th>3</th>\n",
       "      <td>US-2016-108966</td>\n",
       "      <td>11/10/2016</td>\n",
       "      <td>SO-20335</td>\n",
       "      <td>Consumer</td>\n",
       "      <td>United States</td>\n",
       "      <td>Fort Lauderdale</td>\n",
       "      <td>Florida</td>\n",
       "      <td>FUR-TA-10000577</td>\n",
       "      <td>Furniture</td>\n",
       "      <td>Tables</td>\n",
       "      <td>957.5775</td>\n",
       "    </tr>\n",
       "    <tr>\n",
       "      <th>4</th>\n",
       "      <td>US-2016-108966</td>\n",
       "      <td>11/10/2016</td>\n",
       "      <td>SO-20335</td>\n",
       "      <td>Consumer</td>\n",
       "      <td>United States</td>\n",
       "      <td>Fort Lauderdale</td>\n",
       "      <td>Florida</td>\n",
       "      <td>OFF-ST-10000760</td>\n",
       "      <td>Office Supplies</td>\n",
       "      <td>Storage</td>\n",
       "      <td>22.3680</td>\n",
       "    </tr>\n",
       "  </tbody>\n",
       "</table>\n",
       "</div>"
      ],
      "text/plain": [
       "        ID_Pedido Data_Pedido ID_Cliente   Segmento           Pais  \\\n",
       "0  CA-2017-152156  08/11/2017   CG-12520   Consumer  United States   \n",
       "1  CA-2017-152156  08/11/2017   CG-12520   Consumer  United States   \n",
       "2  CA-2017-138688  12/06/2017   DV-13045  Corporate  United States   \n",
       "3  US-2016-108966  11/10/2016   SO-20335   Consumer  United States   \n",
       "4  US-2016-108966  11/10/2016   SO-20335   Consumer  United States   \n",
       "\n",
       "            Cidade      Estado       ID_Produto        Categoria SubCategoria  \\\n",
       "0        Henderson    Kentucky  FUR-BO-10001798        Furniture    Bookcases   \n",
       "1        Henderson    Kentucky  FUR-CH-10000454        Furniture       Chairs   \n",
       "2      Los Angeles  California  OFF-LA-10000240  Office Supplies       Labels   \n",
       "3  Fort Lauderdale     Florida  FUR-TA-10000577        Furniture       Tables   \n",
       "4  Fort Lauderdale     Florida  OFF-ST-10000760  Office Supplies      Storage   \n",
       "\n",
       "   Valor_Venda  \n",
       "0     261.9600  \n",
       "1     731.9400  \n",
       "2      14.6200  \n",
       "3     957.5775  \n",
       "4      22.3680  "
      ]
     },
     "execution_count": 4,
     "metadata": {},
     "output_type": "execute_result"
    }
   ],
   "source": [
    "\n",
    "df.head()"
   ]
  },
  {
   "cell_type": "markdown",
   "metadata": {},
   "source": [
    "### > Faça a exibição das últimas linhas do DataFrame"
   ]
  },
  {
   "cell_type": "markdown",
   "metadata": {},
   "source": [
    "O código Python apresentado executa uma ação simples, que é a exibição das últimas linhas de um dataframe. O método \"tail()\" é utilizado para mostrar as últimas linhas do dataframe, facilitando a visualização dos dados finais do conjunto de dados em questão, o que pode ser útil para verificar os registros mais recentes ou as observações finais de um conjunto de dados."
   ]
  },
  {
   "cell_type": "code",
   "execution_count": 5,
   "metadata": {},
   "outputs": [
    {
     "data": {
      "text/html": [
       "<div>\n",
       "<style scoped>\n",
       "    .dataframe tbody tr th:only-of-type {\n",
       "        vertical-align: middle;\n",
       "    }\n",
       "\n",
       "    .dataframe tbody tr th {\n",
       "        vertical-align: top;\n",
       "    }\n",
       "\n",
       "    .dataframe thead th {\n",
       "        text-align: right;\n",
       "    }\n",
       "</style>\n",
       "<table border=\"1\" class=\"dataframe\">\n",
       "  <thead>\n",
       "    <tr style=\"text-align: right;\">\n",
       "      <th></th>\n",
       "      <th>ID_Pedido</th>\n",
       "      <th>Data_Pedido</th>\n",
       "      <th>ID_Cliente</th>\n",
       "      <th>Segmento</th>\n",
       "      <th>Pais</th>\n",
       "      <th>Cidade</th>\n",
       "      <th>Estado</th>\n",
       "      <th>ID_Produto</th>\n",
       "      <th>Categoria</th>\n",
       "      <th>SubCategoria</th>\n",
       "      <th>Valor_Venda</th>\n",
       "    </tr>\n",
       "  </thead>\n",
       "  <tbody>\n",
       "    <tr>\n",
       "      <th>9695</th>\n",
       "      <td>CA-2018-154116</td>\n",
       "      <td>15/12/2018</td>\n",
       "      <td>KM-16660</td>\n",
       "      <td>Consumer</td>\n",
       "      <td>United States</td>\n",
       "      <td>Inglewood</td>\n",
       "      <td>California</td>\n",
       "      <td>OFF-PA-10004569</td>\n",
       "      <td>Office Supplies</td>\n",
       "      <td>Paper</td>\n",
       "      <td>22.830</td>\n",
       "    </tr>\n",
       "    <tr>\n",
       "      <th>9696</th>\n",
       "      <td>CA-2018-154116</td>\n",
       "      <td>15/12/2018</td>\n",
       "      <td>KM-16660</td>\n",
       "      <td>Consumer</td>\n",
       "      <td>United States</td>\n",
       "      <td>Inglewood</td>\n",
       "      <td>California</td>\n",
       "      <td>OFF-AP-10000027</td>\n",
       "      <td>Office Supplies</td>\n",
       "      <td>Appliances</td>\n",
       "      <td>54.320</td>\n",
       "    </tr>\n",
       "    <tr>\n",
       "      <th>9697</th>\n",
       "      <td>CA-2018-154116</td>\n",
       "      <td>15/12/2018</td>\n",
       "      <td>KM-16660</td>\n",
       "      <td>Consumer</td>\n",
       "      <td>United States</td>\n",
       "      <td>Inglewood</td>\n",
       "      <td>California</td>\n",
       "      <td>TEC-PH-10000675</td>\n",
       "      <td>Technology</td>\n",
       "      <td>Phones</td>\n",
       "      <td>196.776</td>\n",
       "    </tr>\n",
       "    <tr>\n",
       "      <th>9698</th>\n",
       "      <td>CA-2017-105291</td>\n",
       "      <td>30/10/2017</td>\n",
       "      <td>SP-20920</td>\n",
       "      <td>Consumer</td>\n",
       "      <td>United States</td>\n",
       "      <td>San Luis Obispo</td>\n",
       "      <td>California</td>\n",
       "      <td>OFF-FA-10003059</td>\n",
       "      <td>Office Supplies</td>\n",
       "      <td>Fasteners</td>\n",
       "      <td>3.620</td>\n",
       "    </tr>\n",
       "    <tr>\n",
       "      <th>9699</th>\n",
       "      <td>CA-2018-147032</td>\n",
       "      <td>31/07/2018</td>\n",
       "      <td>LB-16795</td>\n",
       "      <td>Home Office</td>\n",
       "      <td>United States</td>\n",
       "      <td>Wilmington</td>\n",
       "      <td>Delaware</td>\n",
       "      <td>OFF-PA-10003256</td>\n",
       "      <td>Office Supplies</td>\n",
       "      <td>Paper</td>\n",
       "      <td>11.540</td>\n",
       "    </tr>\n",
       "  </tbody>\n",
       "</table>\n",
       "</div>"
      ],
      "text/plain": [
       "           ID_Pedido Data_Pedido ID_Cliente     Segmento           Pais  \\\n",
       "9695  CA-2018-154116  15/12/2018   KM-16660     Consumer  United States   \n",
       "9696  CA-2018-154116  15/12/2018   KM-16660     Consumer  United States   \n",
       "9697  CA-2018-154116  15/12/2018   KM-16660     Consumer  United States   \n",
       "9698  CA-2017-105291  30/10/2017   SP-20920     Consumer  United States   \n",
       "9699  CA-2018-147032  31/07/2018   LB-16795  Home Office  United States   \n",
       "\n",
       "               Cidade      Estado       ID_Produto        Categoria  \\\n",
       "9695        Inglewood  California  OFF-PA-10004569  Office Supplies   \n",
       "9696        Inglewood  California  OFF-AP-10000027  Office Supplies   \n",
       "9697        Inglewood  California  TEC-PH-10000675       Technology   \n",
       "9698  San Luis Obispo  California  OFF-FA-10003059  Office Supplies   \n",
       "9699       Wilmington    Delaware  OFF-PA-10003256  Office Supplies   \n",
       "\n",
       "     SubCategoria  Valor_Venda  \n",
       "9695        Paper       22.830  \n",
       "9696   Appliances       54.320  \n",
       "9697       Phones      196.776  \n",
       "9698    Fasteners        3.620  \n",
       "9699        Paper       11.540  "
      ]
     },
     "execution_count": 5,
     "metadata": {},
     "output_type": "execute_result"
    }
   ],
   "source": [
    "\n",
    "df.tail()"
   ]
  },
  {
   "cell_type": "markdown",
   "metadata": {},
   "source": [
    "### > Faça a verificação da forma do DataFrame"
   ]
  },
  {
   "cell_type": "markdown",
   "metadata": {},
   "source": [
    "Esse código Python realiza uma simples operação para verificar a forma (número de linhas e colunas) de um DataFrame. O comando \"df.shape\" retorna um par de valores, onde o primeiro representa o número de linhas e o segundo o número de colunas no DataFrame \"df\", fornecendo uma visão rápida da sua estrutura. É uma operação útil para entender a dimensão dos dados que você está manipulando em análises de dados com Python."
   ]
  },
  {
   "cell_type": "code",
   "execution_count": 6,
   "metadata": {},
   "outputs": [
    {
     "data": {
      "text/plain": [
       "(9700, 11)"
      ]
     },
     "execution_count": 6,
     "metadata": {},
     "output_type": "execute_result"
    }
   ],
   "source": [
    "\n",
    "df.shape"
   ]
  },
  {
   "cell_type": "markdown",
   "metadata": {},
   "source": [
    "# Análise Exploratória dos Dados"
   ]
  },
  {
   "cell_type": "markdown",
   "metadata": {},
   "source": [
    "A finalidade da Análise Exploratória de Dados (AED) é examinar os dados previamente à aplicação de qualquer técnica estatística. Desta forma o analista consegue um entendimento básico de seus dados e das relações existentes entre as variáveis analisadas."
   ]
  },
  {
   "cell_type": "markdown",
   "metadata": {},
   "source": [
    "### > Faça a listagem das colunas do conjunto de dados"
   ]
  },
  {
   "cell_type": "markdown",
   "metadata": {},
   "source": [
    "Esse código Python simplesmente retorna uma lista das colunas presentes no conjunto de dados 'df'. É uma operação básica que permite visualizar a estrutura do DataFrame, sendo útil para entender quais variáveis estão disponíveis para análise e manipulação no contexto de um projeto de Análise de Dados ou Business Intelligence."
   ]
  },
  {
   "cell_type": "code",
   "execution_count": 7,
   "metadata": {},
   "outputs": [
    {
     "data": {
      "text/plain": [
       "Index(['ID_Pedido', 'Data_Pedido', 'ID_Cliente', 'Segmento', 'Pais', 'Cidade',\n",
       "       'Estado', 'ID_Produto', 'Categoria', 'SubCategoria', 'Valor_Venda'],\n",
       "      dtype='object')"
      ]
     },
     "execution_count": 7,
     "metadata": {},
     "output_type": "execute_result"
    }
   ],
   "source": [
    "\n",
    "df.columns"
   ]
  },
  {
   "cell_type": "markdown",
   "metadata": {},
   "source": [
    "### > Faça a verificação do tipo de dado de cada coluna no DataFrame"
   ]
  },
  {
   "cell_type": "markdown",
   "metadata": {},
   "source": [
    "No código fornecido, estamos usando a função \"dtypes\" em um DataFrame chamado \"df\" para verificar o tipo de dado de cada coluna. Isso é útil para entender a estrutura e os tipos de variáveis presentes nos dados, o que é fundamental para análise e manipulação de dados em Python. O resultado será uma lista dos tipos de dados associados a cada coluna do DataFrame, ajudando a identificar possíveis problemas ou otimizações necessárias para o processamento subsequente."
   ]
  },
  {
   "cell_type": "code",
   "execution_count": 8,
   "metadata": {},
   "outputs": [
    {
     "data": {
      "text/plain": [
       "ID_Pedido        object\n",
       "Data_Pedido      object\n",
       "ID_Cliente       object\n",
       "Segmento         object\n",
       "Pais             object\n",
       "Cidade           object\n",
       "Estado           object\n",
       "ID_Produto       object\n",
       "Categoria        object\n",
       "SubCategoria     object\n",
       "Valor_Venda     float64\n",
       "dtype: object"
      ]
     },
     "execution_count": 8,
     "metadata": {},
     "output_type": "execute_result"
    }
   ],
   "source": [
    "\n",
    "df.dtypes"
   ]
  },
  {
   "cell_type": "markdown",
   "metadata": {},
   "source": [
    "### > Faça a exibição do resumo estatístico da coluna 'Valor_Venda'"
   ]
  },
  {
   "cell_type": "markdown",
   "metadata": {},
   "source": [
    "No código Python fornecido, está sendo realizado um resumo estatístico da coluna 'Valor_Venda' de um DataFrame (df). O método 'describe()' é aplicado a essa coluna, gerando estatísticas como média, desvio padrão, mínimo, máximo e quartis. Isso é útil para ter uma visão geral das propriedades estatísticas dessa variável em um conjunto de dados, o que pode ser valioso em análises e tomada de decisões baseadas em dados."
   ]
  },
  {
   "cell_type": "code",
   "execution_count": 9,
   "metadata": {},
   "outputs": [
    {
     "data": {
      "text/plain": [
       "count     9700.000000\n",
       "mean       230.469892\n",
       "std        627.504252\n",
       "min          0.444000\n",
       "25%         17.248000\n",
       "50%         54.272000\n",
       "75%        209.932500\n",
       "max      22638.480000\n",
       "Name: Valor_Venda, dtype: float64"
      ]
     },
     "execution_count": 9,
     "metadata": {},
     "output_type": "execute_result"
    }
   ],
   "source": [
    "\n",
    "df['Valor_Venda'].describe()"
   ]
  },
  {
   "cell_type": "markdown",
   "metadata": {},
   "source": [
    "### > Faça a verificação dos registros duplicados no DataFrame 'df'"
   ]
  },
  {
   "cell_type": "markdown",
   "metadata": {},
   "source": [
    "Esse trecho de código Python realiza uma verificação de registros duplicados no DataFrame 'df'. Ele utiliza a função 'duplicated()' para identificar e retornar as linhas duplicadas no DataFrame, ajudando na detecção de dados repetidos. Isso pode ser útil para a limpeza e análise de dados, garantindo a integridade das informações."
   ]
  },
  {
   "cell_type": "code",
   "execution_count": 10,
   "metadata": {},
   "outputs": [
    {
     "data": {
      "text/html": [
       "<div>\n",
       "<style scoped>\n",
       "    .dataframe tbody tr th:only-of-type {\n",
       "        vertical-align: middle;\n",
       "    }\n",
       "\n",
       "    .dataframe tbody tr th {\n",
       "        vertical-align: top;\n",
       "    }\n",
       "\n",
       "    .dataframe thead th {\n",
       "        text-align: right;\n",
       "    }\n",
       "</style>\n",
       "<table border=\"1\" class=\"dataframe\">\n",
       "  <thead>\n",
       "    <tr style=\"text-align: right;\">\n",
       "      <th></th>\n",
       "      <th>ID_Pedido</th>\n",
       "      <th>Data_Pedido</th>\n",
       "      <th>ID_Cliente</th>\n",
       "      <th>Segmento</th>\n",
       "      <th>Pais</th>\n",
       "      <th>Cidade</th>\n",
       "      <th>Estado</th>\n",
       "      <th>ID_Produto</th>\n",
       "      <th>Categoria</th>\n",
       "      <th>SubCategoria</th>\n",
       "      <th>Valor_Venda</th>\n",
       "    </tr>\n",
       "  </thead>\n",
       "  <tbody>\n",
       "  </tbody>\n",
       "</table>\n",
       "</div>"
      ],
      "text/plain": [
       "Empty DataFrame\n",
       "Columns: [ID_Pedido, Data_Pedido, ID_Cliente, Segmento, Pais, Cidade, Estado, ID_Produto, Categoria, SubCategoria, Valor_Venda]\n",
       "Index: []"
      ]
     },
     "execution_count": 10,
     "metadata": {},
     "output_type": "execute_result"
    }
   ],
   "source": [
    "\n",
    "df[df.duplicated()]"
   ]
  },
  {
   "cell_type": "markdown",
   "metadata": {},
   "source": [
    "### > Faça a verificação da presença de valores ausentes no DataFrame '`df`'"
   ]
  },
  {
   "cell_type": "markdown",
   "metadata": {},
   "source": [
    "No código Python fornecido, estamos utilizando o método `isnull()` no DataFrame 'df' para verificar a presença de valores ausentes em cada coluna. Em seguida, chamamos o método `sum()` para somar o número de valores ausentes em cada coluna. O resultado será uma série que mostra a contagem de valores nulos em cada coluna do DataFrame 'df'. Isso é útil para identificar e lidar com dados faltantes em análises de dados.\n"
   ]
  },
  {
   "cell_type": "code",
   "execution_count": 11,
   "metadata": {},
   "outputs": [
    {
     "data": {
      "text/plain": [
       "ID_Pedido       0\n",
       "Data_Pedido     0\n",
       "ID_Cliente      0\n",
       "Segmento        0\n",
       "Pais            0\n",
       "Cidade          0\n",
       "Estado          0\n",
       "ID_Produto      0\n",
       "Categoria       0\n",
       "SubCategoria    0\n",
       "Valor_Venda     0\n",
       "dtype: int64"
      ]
     },
     "execution_count": 11,
     "metadata": {},
     "output_type": "execute_result"
    }
   ],
   "source": [
    "\n",
    "df.isnull().sum()"
   ]
  },
  {
   "cell_type": "markdown",
   "metadata": {},
   "source": [
    "## Pergunta de Negócio 1\n",
    "\n",
    "### <font color='#f16465'>Qual Cidade com Maior Valor de Venda de Produtos da Categoria 'Office Supplies'?</font>\n",
    "\n"
   ]
  },
  {
   "cell_type": "markdown",
   "metadata": {},
   "source": [
    "### > 1ª - Faça a filtragem do DataFrame para selecionar registros da categoria desejada"
   ]
  },
  {
   "cell_type": "markdown",
   "metadata": {},
   "source": [
    "No código Python fornecido, estamos filtrando um DataFrame, representado por 'df', para selecionar apenas os registros que pertencem à categoria 'Office Supplies'. Isso é feito usando a expressão 'df['Categoria'] == 'Office Supplies', que verifica se a coluna 'Categoria' do DataFrame contém o valor 'Office Supplies'. Os registros que atendem a essa condição são retornados como um novo DataFrame, 'df_p1'. Isso permite isolar e trabalhar apenas com os dados relacionados a suprimentos de escritório."
   ]
  },
  {
   "cell_type": "code",
   "execution_count": 12,
   "metadata": {},
   "outputs": [
    {
     "data": {
      "text/html": [
       "<div>\n",
       "<style scoped>\n",
       "    .dataframe tbody tr th:only-of-type {\n",
       "        vertical-align: middle;\n",
       "    }\n",
       "\n",
       "    .dataframe tbody tr th {\n",
       "        vertical-align: top;\n",
       "    }\n",
       "\n",
       "    .dataframe thead th {\n",
       "        text-align: right;\n",
       "    }\n",
       "</style>\n",
       "<table border=\"1\" class=\"dataframe\">\n",
       "  <thead>\n",
       "    <tr style=\"text-align: right;\">\n",
       "      <th></th>\n",
       "      <th>ID_Pedido</th>\n",
       "      <th>Data_Pedido</th>\n",
       "      <th>ID_Cliente</th>\n",
       "      <th>Segmento</th>\n",
       "      <th>Pais</th>\n",
       "      <th>Cidade</th>\n",
       "      <th>Estado</th>\n",
       "      <th>ID_Produto</th>\n",
       "      <th>Categoria</th>\n",
       "      <th>SubCategoria</th>\n",
       "      <th>Valor_Venda</th>\n",
       "    </tr>\n",
       "  </thead>\n",
       "  <tbody>\n",
       "    <tr>\n",
       "      <th>2</th>\n",
       "      <td>CA-2017-138688</td>\n",
       "      <td>12/06/2017</td>\n",
       "      <td>DV-13045</td>\n",
       "      <td>Corporate</td>\n",
       "      <td>United States</td>\n",
       "      <td>Los Angeles</td>\n",
       "      <td>California</td>\n",
       "      <td>OFF-LA-10000240</td>\n",
       "      <td>Office Supplies</td>\n",
       "      <td>Labels</td>\n",
       "      <td>14.620</td>\n",
       "    </tr>\n",
       "    <tr>\n",
       "      <th>4</th>\n",
       "      <td>US-2016-108966</td>\n",
       "      <td>11/10/2016</td>\n",
       "      <td>SO-20335</td>\n",
       "      <td>Consumer</td>\n",
       "      <td>United States</td>\n",
       "      <td>Fort Lauderdale</td>\n",
       "      <td>Florida</td>\n",
       "      <td>OFF-ST-10000760</td>\n",
       "      <td>Office Supplies</td>\n",
       "      <td>Storage</td>\n",
       "      <td>22.368</td>\n",
       "    </tr>\n",
       "    <tr>\n",
       "      <th>6</th>\n",
       "      <td>CA-2015-115812</td>\n",
       "      <td>09/06/2015</td>\n",
       "      <td>BH-11710</td>\n",
       "      <td>Consumer</td>\n",
       "      <td>United States</td>\n",
       "      <td>Los Angeles</td>\n",
       "      <td>California</td>\n",
       "      <td>OFF-AR-10002833</td>\n",
       "      <td>Office Supplies</td>\n",
       "      <td>Art</td>\n",
       "      <td>7.280</td>\n",
       "    </tr>\n",
       "    <tr>\n",
       "      <th>8</th>\n",
       "      <td>CA-2015-115812</td>\n",
       "      <td>09/06/2015</td>\n",
       "      <td>BH-11710</td>\n",
       "      <td>Consumer</td>\n",
       "      <td>United States</td>\n",
       "      <td>Los Angeles</td>\n",
       "      <td>California</td>\n",
       "      <td>OFF-BI-10003910</td>\n",
       "      <td>Office Supplies</td>\n",
       "      <td>Binders</td>\n",
       "      <td>18.504</td>\n",
       "    </tr>\n",
       "    <tr>\n",
       "      <th>9</th>\n",
       "      <td>CA-2015-115812</td>\n",
       "      <td>09/06/2015</td>\n",
       "      <td>BH-11710</td>\n",
       "      <td>Consumer</td>\n",
       "      <td>United States</td>\n",
       "      <td>Los Angeles</td>\n",
       "      <td>California</td>\n",
       "      <td>OFF-AP-10002892</td>\n",
       "      <td>Office Supplies</td>\n",
       "      <td>Appliances</td>\n",
       "      <td>114.900</td>\n",
       "    </tr>\n",
       "  </tbody>\n",
       "</table>\n",
       "</div>"
      ],
      "text/plain": [
       "        ID_Pedido Data_Pedido ID_Cliente   Segmento           Pais  \\\n",
       "2  CA-2017-138688  12/06/2017   DV-13045  Corporate  United States   \n",
       "4  US-2016-108966  11/10/2016   SO-20335   Consumer  United States   \n",
       "6  CA-2015-115812  09/06/2015   BH-11710   Consumer  United States   \n",
       "8  CA-2015-115812  09/06/2015   BH-11710   Consumer  United States   \n",
       "9  CA-2015-115812  09/06/2015   BH-11710   Consumer  United States   \n",
       "\n",
       "            Cidade      Estado       ID_Produto        Categoria SubCategoria  \\\n",
       "2      Los Angeles  California  OFF-LA-10000240  Office Supplies       Labels   \n",
       "4  Fort Lauderdale     Florida  OFF-ST-10000760  Office Supplies      Storage   \n",
       "6      Los Angeles  California  OFF-AR-10002833  Office Supplies          Art   \n",
       "8      Los Angeles  California  OFF-BI-10003910  Office Supplies      Binders   \n",
       "9      Los Angeles  California  OFF-AP-10002892  Office Supplies   Appliances   \n",
       "\n",
       "   Valor_Venda  \n",
       "2       14.620  \n",
       "4       22.368  \n",
       "6        7.280  \n",
       "8       18.504  \n",
       "9      114.900  "
      ]
     },
     "execution_count": 12,
     "metadata": {},
     "output_type": "execute_result"
    }
   ],
   "source": [
    "\n",
    "df_p1 = df[df['Categoria'] == 'Office Supplies']\n",
    "df_p1.head()"
   ]
  },
  {
   "cell_type": "markdown",
   "metadata": {},
   "source": [
    "### > Faça o agrupamento das vendas por cidade e calculando o total de vendas por cidade"
   ]
  },
  {
   "cell_type": "markdown",
   "metadata": {},
   "source": [
    "Nesse código Python, estamos usando a biblioteca pandas para processar dados. Primeiro, o DataFrame 'df_p1' está sendo agrupado pelos valores únicos na coluna 'Cidade', e em seguida, estamos calculando a soma das vendas 'Valor_Venda' para cada cidade. O resultado é armazenado em 'df_p1_total', e o método 'head()' é usado para mostrar as primeiras linhas desse novo DataFrame, exibindo as cidades e os valores totais das vendas para cada uma delas."
   ]
  },
  {
   "cell_type": "code",
   "execution_count": 13,
   "metadata": {},
   "outputs": [
    {
     "data": {
      "text/plain": [
       "Cidade\n",
       "Aberdeen         25.500\n",
       "Abilene           1.392\n",
       "Akron          1107.646\n",
       "Albuquerque     943.122\n",
       "Alexandria     4879.790\n",
       "Name: Valor_Venda, dtype: float64"
      ]
     },
     "execution_count": 13,
     "metadata": {},
     "output_type": "execute_result"
    }
   ],
   "source": [
    "\n",
    "df_p1_total = df_p1.groupby('Cidade')['Valor_Venda'].sum()\n",
    "df_p1_total.head()"
   ]
  },
  {
   "cell_type": "markdown",
   "metadata": {},
   "source": [
    "### > 3ª - Encontrar a cidade com o maior valor de venda para 'Office Supplies'"
   ]
  },
  {
   "cell_type": "markdown",
   "metadata": {},
   "source": [
    "Neste código Python, estamos buscando a cidade com o maior valor de venda para a categoria 'Office Supplies'. Para fazer isso, usamos a função 'idxmax()' no DataFrame 'df_p1_total', que nos retorna o índice da cidade com a venda mais alta. Em seguida, exibimos o resultado com uma mensagem que informa qual cidade possui o maior valor de vendas na categoria 'Office Supplies'."
   ]
  },
  {
   "cell_type": "code",
   "execution_count": 14,
   "metadata": {},
   "outputs": [
    {
     "name": "stdout",
     "output_type": "stream",
     "text": [
      "Cidade com o maior valor de venda para 'Office Supplies':  New York City\n"
     ]
    }
   ],
   "source": [
    "\n",
    "cidade_maior_venda = df_p1_total.idxmax()\n",
    "print(\"Cidade com o maior valor de venda para 'Office Supplies': \", cidade_maior_venda)"
   ]
  },
  {
   "cell_type": "markdown",
   "metadata": {},
   "source": [
    "### > 4ª - Ordenar o DataFrame `df_p1_total` em ordem decrescente"
   ]
  },
  {
   "cell_type": "markdown",
   "metadata": {},
   "source": [
    "O código Python apresentado tem como objetivo ordenar o DataFrame df_p1_total em ordem decrescente, porém, ele possui um erro. Para que funcione corretamente, é necessário especificar a coluna pela qual deseja-se ordenar, adicionando o parâmetro \"by\" e, em seguida, usar o método \"sort_values(ascending=False)\" para obter a ordenação decrescente. Por exemplo, se quisermos ordenar pelo valor de uma coluna \"coluna_exemplo\", o código corrigido seria: \"df_p1_total = df_p1_total.sort_values(by='coluna_exemplo', ascending=False)\". Isso classificará o DataFrame em ordem decrescente com base nos valores da coluna \"coluna_exemplo\"."
   ]
  },
  {
   "cell_type": "code",
   "execution_count": 15,
   "metadata": {},
   "outputs": [
    {
     "data": {
      "text/plain": [
       "Cidade\n",
       "New York City    68362.814\n",
       "Los Angeles      47098.100\n",
       "San Francisco    41771.198\n",
       "Seattle          34856.878\n",
       "Philadelphia     29313.687\n",
       "                   ...    \n",
       "Ormond Beach         2.808\n",
       "Pensacola            2.214\n",
       "Jupiter              2.064\n",
       "Elyria               1.824\n",
       "Abilene              1.392\n",
       "Name: Valor_Venda, Length: 480, dtype: float64"
      ]
     },
     "execution_count": 15,
     "metadata": {},
     "output_type": "execute_result"
    }
   ],
   "source": [
    "\n",
    "df_p1_total.sort_values(ascending = False)"
   ]
  },
  {
   "cell_type": "markdown",
   "metadata": {},
   "source": [
    "## Pergunta de Negócio 2:\n",
    "\n",
    "### <font color='#f16465'> Qual o Total de Vendas Por Data do Pedido? </font>\n",
    "\n",
    "Demonstre o resultado através de um gráfico de barras."
   ]
  },
  {
   "cell_type": "markdown",
   "metadata": {},
   "source": [
    "### > Agrupar os dados por data de pedido e calcular o total de vendas"
   ]
  },
  {
   "cell_type": "markdown",
   "metadata": {},
   "source": [
    "Nesse código Python, estamos utilizando a biblioteca pandas para processar dados. Primeiramente, estamos agrupando os dados de um DataFrame ('df') pela coluna 'Data_Pedido', e em seguida, calculamos a soma dos valores de vendas ('Valor_Venda') para cada data de pedido. O resultado é armazenado em 'df_dsa_p2', que é uma série de dados. Ao usar 'head()', exibimos as primeiras linhas desse resultado. Essencialmente, estamos resumindo as vendas por data de pedido, o que pode ser útil para análise de tendências temporais."
   ]
  },
  {
   "cell_type": "markdown",
   "metadata": {},
   "source": [
    "***Obs:*** Estamos aqui tratando data de pedido como variável categórica e não como série temporal. Se a pergunta fosse \"ao longo do tempo\" essa resposta não seria a ideal."
   ]
  },
  {
   "cell_type": "code",
   "execution_count": 16,
   "metadata": {},
   "outputs": [
    {
     "data": {
      "text/plain": [
       "Data_Pedido\n",
       "01/01/2018    1481.8280\n",
       "01/02/2015     468.9000\n",
       "01/02/2017     161.9700\n",
       "01/03/2015    2203.1510\n",
       "01/03/2016    1642.1744\n",
       "01/03/2017    6285.8060\n",
       "01/04/2015     119.8880\n",
       "01/04/2017    2161.4800\n",
       "01/04/2018    5972.9880\n",
       "01/05/2016     450.9400\n",
       "01/05/2017     517.8660\n",
       "01/05/2018    4108.3700\n",
       "01/06/2015    5188.5200\n",
       "01/06/2016     834.1980\n",
       "01/06/2018     586.0420\n",
       "01/07/2015     601.0240\n",
       "01/07/2017    1721.8800\n",
       "01/07/2018     639.8300\n",
       "01/08/2015     228.3280\n",
       "01/08/2016    1011.6960\n",
       "Name: Valor_Venda, dtype: float64"
      ]
     },
     "execution_count": 16,
     "metadata": {},
     "output_type": "execute_result"
    }
   ],
   "source": [
    "\n",
    "df_dsa_p2 = df.groupby('Data_Pedido')['Valor_Venda'].sum()\n",
    "df_dsa_p2.head(20)"
   ]
  },
  {
   "cell_type": "markdown",
   "metadata": {},
   "source": [
    "### > Realizar as configurações do gráfico e a sua exibição"
   ]
  },
  {
   "cell_type": "markdown",
   "metadata": {},
   "source": [
    "Nesse código Python, estamos configurando um gráfico de linhas utilizando a biblioteca Matplotlib. Primeiro, definimos o tamanho da figura como 20 unidades de largura por 6 unidades de altura. Em seguida, usamos os dados do DataFrame df_dsa_p2 para plotar um gráfico de linhas com a data do pedido no eixo x e o valor da venda no eixo y, com as linhas em verde. O título do gráfico é \"Total de Vendas Por Data do Pedido\". Por fim, exibimos o gráfico. Esse código gera um gráfico de vendas ao longo do tempo, facilitando a visualização das tendências."
   ]
  },
  {
   "cell_type": "code",
   "execution_count": 17,
   "metadata": {},
   "outputs": [
    {
     "data": {
      "image/png": "[encoded data removed]",
      "text/plain": [
       "<Figure size 2000x600 with 1 Axes>"
      ]
     },
     "metadata": {},
     "output_type": "display_data"
    }
   ],
   "source": [
    "\n",
    "plt.figure(figsize = (20, 6))\n",
    "df_dsa_p2.plot(x = 'Data_Pedido', y = 'Valor_Venda', color = 'green', fontsize=15)\n",
    "plt.title('Total de Vendas Por Data do Pedido')\n",
    "plt.annotate(\n",
    "    'Análise realizada por: @Adriano Santos',\n",
    "    xy=(1, -0.20),\n",
    "    xycoords='axes fraction',\n",
    "    ha='right',\n",
    "    fontsize=12\n",
    ")\n",
    "plt.show()"
   ]
  },
  {
   "cell_type": "markdown",
   "metadata": {},
   "source": [
    "## Pergunta de Negócio 3:\n",
    "\n",
    "### <font color='#f16465'>Qual o Total de Vendas por Estado?</font>\n",
    "\n",
    "Demonstre o resultado através de um gráfico de barras."
   ]
  },
  {
   "cell_type": "markdown",
   "metadata": {},
   "source": [
    "### > Agrupar o DataFrame por estado e calcular o total de vendas"
   ]
  },
  {
   "cell_type": "markdown",
   "metadata": {},
   "source": [
    "No código Python fornecido, estamos usando a biblioteca Pandas para analisar um DataFrame. Primeiro, agrupamos os dados com base na coluna 'Estado' e, em seguida, calculamos a soma das vendas ('Valor_Venda') para cada estado. O resultado é armazenado em um novo DataFrame chamado df_p3 e, por fim, imprimimos esse DataFrame, exibindo o total de vendas por estado."
   ]
  },
  {
   "cell_type": "code",
   "execution_count": 18,
   "metadata": {},
   "outputs": [
    {
     "data": {
      "text/html": [
       "<div>\n",
       "<style scoped>\n",
       "    .dataframe tbody tr th:only-of-type {\n",
       "        vertical-align: middle;\n",
       "    }\n",
       "\n",
       "    .dataframe tbody tr th {\n",
       "        vertical-align: top;\n",
       "    }\n",
       "\n",
       "    .dataframe thead th {\n",
       "        text-align: right;\n",
       "    }\n",
       "</style>\n",
       "<table border=\"1\" class=\"dataframe\">\n",
       "  <thead>\n",
       "    <tr style=\"text-align: right;\">\n",
       "      <th></th>\n",
       "      <th>Estado</th>\n",
       "      <th>Valor_Venda</th>\n",
       "    </tr>\n",
       "  </thead>\n",
       "  <tbody>\n",
       "    <tr>\n",
       "      <th>0</th>\n",
       "      <td>Alabama</td>\n",
       "      <td>19510.6400</td>\n",
       "    </tr>\n",
       "    <tr>\n",
       "      <th>1</th>\n",
       "      <td>Arizona</td>\n",
       "      <td>35272.6570</td>\n",
       "    </tr>\n",
       "    <tr>\n",
       "      <th>2</th>\n",
       "      <td>Arkansas</td>\n",
       "      <td>11673.8300</td>\n",
       "    </tr>\n",
       "    <tr>\n",
       "      <th>3</th>\n",
       "      <td>California</td>\n",
       "      <td>442927.0975</td>\n",
       "    </tr>\n",
       "    <tr>\n",
       "      <th>4</th>\n",
       "      <td>Colorado</td>\n",
       "      <td>31841.5980</td>\n",
       "    </tr>\n",
       "    <tr>\n",
       "      <th>5</th>\n",
       "      <td>Connecticut</td>\n",
       "      <td>13366.7370</td>\n",
       "    </tr>\n",
       "    <tr>\n",
       "      <th>6</th>\n",
       "      <td>Delaware</td>\n",
       "      <td>26452.5890</td>\n",
       "    </tr>\n",
       "    <tr>\n",
       "      <th>7</th>\n",
       "      <td>District of Columbia</td>\n",
       "      <td>2865.0200</td>\n",
       "    </tr>\n",
       "    <tr>\n",
       "      <th>8</th>\n",
       "      <td>Florida</td>\n",
       "      <td>88043.7000</td>\n",
       "    </tr>\n",
       "    <tr>\n",
       "      <th>9</th>\n",
       "      <td>Georgia</td>\n",
       "      <td>48083.1600</td>\n",
       "    </tr>\n",
       "    <tr>\n",
       "      <th>10</th>\n",
       "      <td>Idaho</td>\n",
       "      <td>4292.5160</td>\n",
       "    </tr>\n",
       "    <tr>\n",
       "      <th>11</th>\n",
       "      <td>Illinois</td>\n",
       "      <td>78109.9270</td>\n",
       "    </tr>\n",
       "    <tr>\n",
       "      <th>12</th>\n",
       "      <td>Indiana</td>\n",
       "      <td>48718.4000</td>\n",
       "    </tr>\n",
       "    <tr>\n",
       "      <th>13</th>\n",
       "      <td>Iowa</td>\n",
       "      <td>4443.5600</td>\n",
       "    </tr>\n",
       "    <tr>\n",
       "      <th>14</th>\n",
       "      <td>Kansas</td>\n",
       "      <td>2914.3100</td>\n",
       "    </tr>\n",
       "    <tr>\n",
       "      <th>15</th>\n",
       "      <td>Kentucky</td>\n",
       "      <td>36409.5800</td>\n",
       "    </tr>\n",
       "    <tr>\n",
       "      <th>16</th>\n",
       "      <td>Louisiana</td>\n",
       "      <td>9131.0500</td>\n",
       "    </tr>\n",
       "    <tr>\n",
       "      <th>17</th>\n",
       "      <td>Maine</td>\n",
       "      <td>1270.5300</td>\n",
       "    </tr>\n",
       "    <tr>\n",
       "      <th>18</th>\n",
       "      <td>Maryland</td>\n",
       "      <td>23705.5230</td>\n",
       "    </tr>\n",
       "    <tr>\n",
       "      <th>19</th>\n",
       "      <td>Massachusetts</td>\n",
       "      <td>27363.2640</td>\n",
       "    </tr>\n",
       "  </tbody>\n",
       "</table>\n",
       "</div>"
      ],
      "text/plain": [
       "                  Estado  Valor_Venda\n",
       "0                Alabama   19510.6400\n",
       "1                Arizona   35272.6570\n",
       "2               Arkansas   11673.8300\n",
       "3             California  442927.0975\n",
       "4               Colorado   31841.5980\n",
       "5            Connecticut   13366.7370\n",
       "6               Delaware   26452.5890\n",
       "7   District of Columbia    2865.0200\n",
       "8                Florida   88043.7000\n",
       "9                Georgia   48083.1600\n",
       "10                 Idaho    4292.5160\n",
       "11              Illinois   78109.9270\n",
       "12               Indiana   48718.4000\n",
       "13                  Iowa    4443.5600\n",
       "14                Kansas    2914.3100\n",
       "15              Kentucky   36409.5800\n",
       "16             Louisiana    9131.0500\n",
       "17                 Maine    1270.5300\n",
       "18              Maryland   23705.5230\n",
       "19         Massachusetts   27363.2640"
      ]
     },
     "execution_count": 18,
     "metadata": {},
     "output_type": "execute_result"
    }
   ],
   "source": [
    "\n",
    "df_p3 = df.groupby('Estado')['Valor_Venda'].sum().reset_index()\n",
    "df_p3.head(20)"
   ]
  },
  {
   "cell_type": "markdown",
   "metadata": {},
   "source": [
    "### > Analisar e visualizar as vendas por Estado"
   ]
  },
  {
   "cell_type": "markdown",
   "metadata": {},
   "source": [
    "Nesse código Python, é criado um gráfico de barras utilizando a biblioteca Seaborn (sns) para visualizar as vendas por estado a partir dos dados contidos no DataFrame 'df_p3'. O tamanho do gráfico é ajustado, um título é adicionado para identificação ('Vendas Por Estado'), e os rótulos no eixo x são rotacionados em 75 graus para facilitar a leitura. Por fim, o gráfico é exibido na tela. Esse código é útil para uma rápida análise visual das vendas em diferentes estados."
   ]
  },
  {
   "cell_type": "code",
   "execution_count": 19,
   "metadata": {},
   "outputs": [
    {
     "data": {
      "image/png": "[encoded data removed]",
      "text/plain": [
       "<Figure size 1600x600 with 1 Axes>"
      ]
     },
     "metadata": {},
     "output_type": "display_data"
    }
   ],
   "source": [
    "\n",
    "# Definir o tamanho do gráfico\n",
    "plt.figure(figsize=(16, 6))\n",
    "\n",
    "# Criar o gráfico de barras\n",
    "sns.barplot(data=df_p3, y='Valor_Venda', x='Estado')\n",
    "\n",
    "# Adicionar título ao gráfico\n",
    "plt.title('Vendas Por Estado')\n",
    "\n",
    "# Rotacionar os rótulos do eixo x para melhor leitura\n",
    "plt.xticks(rotation=75)\n",
    "\n",
    "# Mostrar o gráfico\n",
    "plt.show()"
   ]
  },
  {
   "cell_type": "markdown",
   "metadata": {},
   "source": [
    "## Pergunta de Negócio 4:\n",
    "\n",
    "### <font color='#f16465'>Quais São as 10 Cidades com Maior Total de Vendas?</font>\n",
    "\n",
    "Demonstre o resultado através de um gráfico de barras."
   ]
  },
  {
   "cell_type": "markdown",
   "metadata": {},
   "source": [
    "### > Agrupar e calcular o total de vendas por cidade e listar as 10 cidades com as maiores vendas"
   ]
  },
  {
   "cell_type": "markdown",
   "metadata": {},
   "source": [
    "Nesse código Python, estamos manipulando um DataFrame chamado \"df\" onde primeiramente agrupamos os dados por cidade, calculamos a soma das vendas para cada cidade e, em seguida, classificamos esses resultados em ordem decrescente com base no valor total de vendas. Por fim, selecionamos apenas os 10 primeiros registros com as maiores vendas e armazenamos esses dados em um novo DataFrame chamado \"df_p4\". Por fim, exibimos os 10 primeiros registros, que representam as cidades com as maiores vendas. Essa operação é útil para identificar as principais cidades em termos de receita de vendas no conjunto de dados."
   ]
  },
  {
   "cell_type": "code",
   "execution_count": 20,
   "metadata": {},
   "outputs": [
    {
     "data": {
      "text/html": [
       "<div>\n",
       "<style scoped>\n",
       "    .dataframe tbody tr th:only-of-type {\n",
       "        vertical-align: middle;\n",
       "    }\n",
       "\n",
       "    .dataframe tbody tr th {\n",
       "        vertical-align: top;\n",
       "    }\n",
       "\n",
       "    .dataframe thead th {\n",
       "        text-align: right;\n",
       "    }\n",
       "</style>\n",
       "<table border=\"1\" class=\"dataframe\">\n",
       "  <thead>\n",
       "    <tr style=\"text-align: right;\">\n",
       "      <th></th>\n",
       "      <th>Cidade</th>\n",
       "      <th>Valor_Venda</th>\n",
       "    </tr>\n",
       "  </thead>\n",
       "  <tbody>\n",
       "    <tr>\n",
       "      <th>327</th>\n",
       "      <td>New York City</td>\n",
       "      <td>251749.2190</td>\n",
       "    </tr>\n",
       "    <tr>\n",
       "      <th>265</th>\n",
       "      <td>Los Angeles</td>\n",
       "      <td>171654.6330</td>\n",
       "    </tr>\n",
       "    <tr>\n",
       "      <th>450</th>\n",
       "      <td>Seattle</td>\n",
       "      <td>114725.4780</td>\n",
       "    </tr>\n",
       "    <tr>\n",
       "      <th>436</th>\n",
       "      <td>San Francisco</td>\n",
       "      <td>107489.9520</td>\n",
       "    </tr>\n",
       "    <tr>\n",
       "      <th>372</th>\n",
       "      <td>Philadelphia</td>\n",
       "      <td>107197.8030</td>\n",
       "    </tr>\n",
       "    <tr>\n",
       "      <th>207</th>\n",
       "      <td>Houston</td>\n",
       "      <td>61590.1868</td>\n",
       "    </tr>\n",
       "    <tr>\n",
       "      <th>435</th>\n",
       "      <td>San Diego</td>\n",
       "      <td>47458.3790</td>\n",
       "    </tr>\n",
       "    <tr>\n",
       "      <th>80</th>\n",
       "      <td>Chicago</td>\n",
       "      <td>46974.3430</td>\n",
       "    </tr>\n",
       "    <tr>\n",
       "      <th>216</th>\n",
       "      <td>Jacksonville</td>\n",
       "      <td>44713.1830</td>\n",
       "    </tr>\n",
       "    <tr>\n",
       "      <th>123</th>\n",
       "      <td>Detroit</td>\n",
       "      <td>42446.9440</td>\n",
       "    </tr>\n",
       "  </tbody>\n",
       "</table>\n",
       "</div>"
      ],
      "text/plain": [
       "            Cidade  Valor_Venda\n",
       "327  New York City  251749.2190\n",
       "265    Los Angeles  171654.6330\n",
       "450        Seattle  114725.4780\n",
       "436  San Francisco  107489.9520\n",
       "372   Philadelphia  107197.8030\n",
       "207        Houston   61590.1868\n",
       "435      San Diego   47458.3790\n",
       "80         Chicago   46974.3430\n",
       "216   Jacksonville   44713.1830\n",
       "123        Detroit   42446.9440"
      ]
     },
     "execution_count": 20,
     "metadata": {},
     "output_type": "execute_result"
    }
   ],
   "source": [
    "\n",
    "df_p4 = df.groupby('Cidade')['Valor_Venda'].sum().reset_index().sort_values(by = 'Valor_Venda', ascending = False).head(10)\n",
    "df_p4\n"
   ]
  },
  {
   "cell_type": "markdown",
   "metadata": {},
   "source": [
    "### > Analizar e visualizar as 10 cidades com as maiores vendas"
   ]
  },
  {
   "cell_type": "markdown",
   "metadata": {},
   "source": [
    "Nesse código Python, estamos configurando um gráfico de barras utilizando a biblioteca Seaborn. Primeiro, definimos o tamanho da figura e a paleta de cores. Em seguida, criamos o gráfico de barras usando os dados contidos no DataFrame df_p4, com as cidades no eixo x e os valores de venda no eixo y. Definimos o título do gráfico como \"As 10 Cidades com Maior Total de Vendas\" e finalmente, exibimos o gráfico. Esse código gera um gráfico de barras que representa as 10 cidades com os maiores valores de venda de forma visualmente atraente."
   ]
  },
  {
   "cell_type": "code",
   "execution_count": 21,
   "metadata": {},
   "outputs": [
    {
     "data": {
      "image/png": "[encoded data removed]",
      "text/plain": [
       "<Figure size 1600x600 with 1 Axes>"
      ]
     },
     "metadata": {},
     "output_type": "display_data"
    }
   ],
   "source": [
    "\n",
    "# Configuração do gráfico\n",
    "plt.figure(figsize=(16, 6))\n",
    "sns.set_palette('coolwarm')\n",
    "\n",
    "# Criação do gráfico de barras\n",
    "sns.barplot(data=df_p4, x='Cidade', y='Valor_Venda')\n",
    "\n",
    "# Definição do título\n",
    "plt.title('As 10 Cidades com Maior Total de Vendas')\n",
    "\n",
    "# Exibição do gráfico\n",
    "plt.show()"
   ]
  },
  {
   "cell_type": "markdown",
   "metadata": {},
   "source": [
    "## Pergunta de Negócio 5:\n",
    "\n",
    "### <font color='#f16465'>Qual Segmento Teve o Maior Total de Vendas?</font>\n",
    "\n",
    "Demonstre o resultado através de um gráfico de pizza."
   ]
  },
  {
   "cell_type": "markdown",
   "metadata": {},
   "source": [
    "### > Agrupar por segmento e calcular o total de vendas"
   ]
  },
  {
   "cell_type": "markdown",
   "metadata": {},
   "source": [
    "Nesse código Python, estamos realizando uma análise de dados com um DataFrame chamado df. Primeiro, agrupamos os dados pelo campo 'Segmento' e calculamos a soma das vendas para cada segmento. Em seguida, reorganizamos o DataFrame resultante em ordem decrescente com base no valor total das vendas. O comando df_p5.head() exibe as cinco primeiras linhas desse novo DataFrame, se houver, mostrando os segmentos com as maiores vendas."
   ]
  },
  {
   "cell_type": "code",
   "execution_count": 22,
   "metadata": {},
   "outputs": [
    {
     "data": {
      "text/html": [
       "<div>\n",
       "<style scoped>\n",
       "    .dataframe tbody tr th:only-of-type {\n",
       "        vertical-align: middle;\n",
       "    }\n",
       "\n",
       "    .dataframe tbody tr th {\n",
       "        vertical-align: top;\n",
       "    }\n",
       "\n",
       "    .dataframe thead th {\n",
       "        text-align: right;\n",
       "    }\n",
       "</style>\n",
       "<table border=\"1\" class=\"dataframe\">\n",
       "  <thead>\n",
       "    <tr style=\"text-align: right;\">\n",
       "      <th></th>\n",
       "      <th>Segmento</th>\n",
       "      <th>Valor_Venda</th>\n",
       "    </tr>\n",
       "  </thead>\n",
       "  <tbody>\n",
       "    <tr>\n",
       "      <th>0</th>\n",
       "      <td>Consumer</td>\n",
       "      <td>1.133834e+06</td>\n",
       "    </tr>\n",
       "    <tr>\n",
       "      <th>1</th>\n",
       "      <td>Corporate</td>\n",
       "      <td>6.792322e+05</td>\n",
       "    </tr>\n",
       "    <tr>\n",
       "      <th>2</th>\n",
       "      <td>Home Office</td>\n",
       "      <td>4.224914e+05</td>\n",
       "    </tr>\n",
       "  </tbody>\n",
       "</table>\n",
       "</div>"
      ],
      "text/plain": [
       "      Segmento   Valor_Venda\n",
       "0     Consumer  1.133834e+06\n",
       "1    Corporate  6.792322e+05\n",
       "2  Home Office  4.224914e+05"
      ]
     },
     "execution_count": 22,
     "metadata": {},
     "output_type": "execute_result"
    }
   ],
   "source": [
    "\n",
    "df_p5 = df.groupby('Segmento')['Valor_Venda'].sum().reset_index().sort_values(by = 'Valor_Venda', ascending = False)\n",
    "df_p5.head()                                                                                    "
   ]
  },
  {
   "cell_type": "markdown",
   "metadata": {},
   "source": [
    "### > Formatar os valores recebidos em valores absolutos"
   ]
  },
  {
   "cell_type": "markdown",
   "metadata": {},
   "source": [
    "Nesse código Python, estamos criando um gráfico de pizza para representar o total de vendas por segmento. Primeiro, configuramos o tamanho da figura e os dados do gráfico, especificando os segmentos e os valores de venda. Em seguida, usamos a biblioteca matplotlib para desenhar o gráfico de pizza, com rótulos representando os segmentos e a porcentagem de vendas que cada segmento representa. Um círculo branco é desenhado no centro para limpar a área central do gráfico. Também adicionamos anotações, incluindo o total de vendas, e um título ao gráfico. Por fim, o gráfico é exibido. O resultado é uma representação visual das vendas por segmento em um formato de pizza."
   ]
  },
  {
   "cell_type": "code",
   "execution_count": 23,
   "metadata": {},
   "outputs": [
    {
     "data": {
      "image/png": "[encoded data removed]",
      "text/plain": [
       "<Figure size 2000x1000 with 1 Axes>"
      ]
     },
     "metadata": {},
     "output_type": "display_data"
    }
   ],
   "source": [
    "\n",
    "# Configurações do gráfico\n",
    "plt.figure(figsize=(20, 10))\n",
    "segments = df_p5['Segmento']\n",
    "sale_values = df_p5['Valor_Venda']\n",
    "total_sales = int(sum(sale_values))\n",
    "\n",
    "# Gráfico de pizza\n",
    "plt.pie(sale_values, labels=segments, autopct='%1.1f%%', startangle=90)\n",
    "\n",
    "# Limpa o círculo central\n",
    "central_circle = plt.Circle((0, 0), 0.82, facecolor='white')\n",
    "fig = plt.gcf()\n",
    "fig.gca().add_artist(central_circle)\n",
    "\n",
    "# Labels e anotações\n",
    "plt.annotate(f'Total de Vendas: $ {total_sales:,.0f}', xy=(-0.25, 0))\n",
    "plt.title('Total de Vendas Por Segmento')\n",
    "plt.show()"
   ]
  },
  {
   "cell_type": "markdown",
   "metadata": {},
   "source": [
    "## Pergunta de Negócio 6 (Desafio Nível Baby):\n",
    "\n",
    "### <font color='#f16465'>Qual o Total de Vendas Por Segmento e Por Ano?</font>"
   ]
  },
  {
   "cell_type": "markdown",
   "metadata": {},
   "source": [
    "### > Visualizar as primeiras 10 linhas da base de dados"
   ]
  },
  {
   "cell_type": "markdown",
   "metadata": {},
   "source": [
    "O código \"df.head(10)\" é utilizado para exibir as 10 primeiras linhas de um DataFrame, que é uma estrutura de dados comumente usada em análise de dados com Python, geralmente associada à biblioteca Pandas. Isso é útil para visualizar rapidamente os primeiros registros do conjunto de dados e ter uma ideia de como os dados estão organizados, o que é fundamental em tarefas de análise de dados e pré-processamento."
   ]
  },
  {
   "cell_type": "code",
   "execution_count": 24,
   "metadata": {},
   "outputs": [
    {
     "data": {
      "text/html": [
       "<div>\n",
       "<style scoped>\n",
       "    .dataframe tbody tr th:only-of-type {\n",
       "        vertical-align: middle;\n",
       "    }\n",
       "\n",
       "    .dataframe tbody tr th {\n",
       "        vertical-align: top;\n",
       "    }\n",
       "\n",
       "    .dataframe thead th {\n",
       "        text-align: right;\n",
       "    }\n",
       "</style>\n",
       "<table border=\"1\" class=\"dataframe\">\n",
       "  <thead>\n",
       "    <tr style=\"text-align: right;\">\n",
       "      <th></th>\n",
       "      <th>ID_Pedido</th>\n",
       "      <th>Data_Pedido</th>\n",
       "      <th>ID_Cliente</th>\n",
       "      <th>Segmento</th>\n",
       "      <th>Pais</th>\n",
       "      <th>Cidade</th>\n",
       "      <th>Estado</th>\n",
       "      <th>ID_Produto</th>\n",
       "      <th>Categoria</th>\n",
       "      <th>SubCategoria</th>\n",
       "      <th>Valor_Venda</th>\n",
       "    </tr>\n",
       "  </thead>\n",
       "  <tbody>\n",
       "    <tr>\n",
       "      <th>0</th>\n",
       "      <td>CA-2017-152156</td>\n",
       "      <td>08/11/2017</td>\n",
       "      <td>CG-12520</td>\n",
       "      <td>Consumer</td>\n",
       "      <td>United States</td>\n",
       "      <td>Henderson</td>\n",
       "      <td>Kentucky</td>\n",
       "      <td>FUR-BO-10001798</td>\n",
       "      <td>Furniture</td>\n",
       "      <td>Bookcases</td>\n",
       "      <td>261.9600</td>\n",
       "    </tr>\n",
       "    <tr>\n",
       "      <th>1</th>\n",
       "      <td>CA-2017-152156</td>\n",
       "      <td>08/11/2017</td>\n",
       "      <td>CG-12520</td>\n",
       "      <td>Consumer</td>\n",
       "      <td>United States</td>\n",
       "      <td>Henderson</td>\n",
       "      <td>Kentucky</td>\n",
       "      <td>FUR-CH-10000454</td>\n",
       "      <td>Furniture</td>\n",
       "      <td>Chairs</td>\n",
       "      <td>731.9400</td>\n",
       "    </tr>\n",
       "    <tr>\n",
       "      <th>2</th>\n",
       "      <td>CA-2017-138688</td>\n",
       "      <td>12/06/2017</td>\n",
       "      <td>DV-13045</td>\n",
       "      <td>Corporate</td>\n",
       "      <td>United States</td>\n",
       "      <td>Los Angeles</td>\n",
       "      <td>California</td>\n",
       "      <td>OFF-LA-10000240</td>\n",
       "      <td>Office Supplies</td>\n",
       "      <td>Labels</td>\n",
       "      <td>14.6200</td>\n",
       "    </tr>\n",
       "    <tr>\n",
       "      <th>3</th>\n",
       "      <td>US-2016-108966</td>\n",
       "      <td>11/10/2016</td>\n",
       "      <td>SO-20335</td>\n",
       "      <td>Consumer</td>\n",
       "      <td>United States</td>\n",
       "      <td>Fort Lauderdale</td>\n",
       "      <td>Florida</td>\n",
       "      <td>FUR-TA-10000577</td>\n",
       "      <td>Furniture</td>\n",
       "      <td>Tables</td>\n",
       "      <td>957.5775</td>\n",
       "    </tr>\n",
       "    <tr>\n",
       "      <th>4</th>\n",
       "      <td>US-2016-108966</td>\n",
       "      <td>11/10/2016</td>\n",
       "      <td>SO-20335</td>\n",
       "      <td>Consumer</td>\n",
       "      <td>United States</td>\n",
       "      <td>Fort Lauderdale</td>\n",
       "      <td>Florida</td>\n",
       "      <td>OFF-ST-10000760</td>\n",
       "      <td>Office Supplies</td>\n",
       "      <td>Storage</td>\n",
       "      <td>22.3680</td>\n",
       "    </tr>\n",
       "    <tr>\n",
       "      <th>5</th>\n",
       "      <td>CA-2015-115812</td>\n",
       "      <td>09/06/2015</td>\n",
       "      <td>BH-11710</td>\n",
       "      <td>Consumer</td>\n",
       "      <td>United States</td>\n",
       "      <td>Los Angeles</td>\n",
       "      <td>California</td>\n",
       "      <td>FUR-FU-10001487</td>\n",
       "      <td>Furniture</td>\n",
       "      <td>Furnishings</td>\n",
       "      <td>48.8600</td>\n",
       "    </tr>\n",
       "    <tr>\n",
       "      <th>6</th>\n",
       "      <td>CA-2015-115812</td>\n",
       "      <td>09/06/2015</td>\n",
       "      <td>BH-11710</td>\n",
       "      <td>Consumer</td>\n",
       "      <td>United States</td>\n",
       "      <td>Los Angeles</td>\n",
       "      <td>California</td>\n",
       "      <td>OFF-AR-10002833</td>\n",
       "      <td>Office Supplies</td>\n",
       "      <td>Art</td>\n",
       "      <td>7.2800</td>\n",
       "    </tr>\n",
       "    <tr>\n",
       "      <th>7</th>\n",
       "      <td>CA-2015-115812</td>\n",
       "      <td>09/06/2015</td>\n",
       "      <td>BH-11710</td>\n",
       "      <td>Consumer</td>\n",
       "      <td>United States</td>\n",
       "      <td>Los Angeles</td>\n",
       "      <td>California</td>\n",
       "      <td>TEC-PH-10002275</td>\n",
       "      <td>Technology</td>\n",
       "      <td>Phones</td>\n",
       "      <td>907.1520</td>\n",
       "    </tr>\n",
       "    <tr>\n",
       "      <th>8</th>\n",
       "      <td>CA-2015-115812</td>\n",
       "      <td>09/06/2015</td>\n",
       "      <td>BH-11710</td>\n",
       "      <td>Consumer</td>\n",
       "      <td>United States</td>\n",
       "      <td>Los Angeles</td>\n",
       "      <td>California</td>\n",
       "      <td>OFF-BI-10003910</td>\n",
       "      <td>Office Supplies</td>\n",
       "      <td>Binders</td>\n",
       "      <td>18.5040</td>\n",
       "    </tr>\n",
       "    <tr>\n",
       "      <th>9</th>\n",
       "      <td>CA-2015-115812</td>\n",
       "      <td>09/06/2015</td>\n",
       "      <td>BH-11710</td>\n",
       "      <td>Consumer</td>\n",
       "      <td>United States</td>\n",
       "      <td>Los Angeles</td>\n",
       "      <td>California</td>\n",
       "      <td>OFF-AP-10002892</td>\n",
       "      <td>Office Supplies</td>\n",
       "      <td>Appliances</td>\n",
       "      <td>114.9000</td>\n",
       "    </tr>\n",
       "  </tbody>\n",
       "</table>\n",
       "</div>"
      ],
      "text/plain": [
       "        ID_Pedido Data_Pedido ID_Cliente   Segmento           Pais  \\\n",
       "0  CA-2017-152156  08/11/2017   CG-12520   Consumer  United States   \n",
       "1  CA-2017-152156  08/11/2017   CG-12520   Consumer  United States   \n",
       "2  CA-2017-138688  12/06/2017   DV-13045  Corporate  United States   \n",
       "3  US-2016-108966  11/10/2016   SO-20335   Consumer  United States   \n",
       "4  US-2016-108966  11/10/2016   SO-20335   Consumer  United States   \n",
       "5  CA-2015-115812  09/06/2015   BH-11710   Consumer  United States   \n",
       "6  CA-2015-115812  09/06/2015   BH-11710   Consumer  United States   \n",
       "7  CA-2015-115812  09/06/2015   BH-11710   Consumer  United States   \n",
       "8  CA-2015-115812  09/06/2015   BH-11710   Consumer  United States   \n",
       "9  CA-2015-115812  09/06/2015   BH-11710   Consumer  United States   \n",
       "\n",
       "            Cidade      Estado       ID_Produto        Categoria SubCategoria  \\\n",
       "0        Henderson    Kentucky  FUR-BO-10001798        Furniture    Bookcases   \n",
       "1        Henderson    Kentucky  FUR-CH-10000454        Furniture       Chairs   \n",
       "2      Los Angeles  California  OFF-LA-10000240  Office Supplies       Labels   \n",
       "3  Fort Lauderdale     Florida  FUR-TA-10000577        Furniture       Tables   \n",
       "4  Fort Lauderdale     Florida  OFF-ST-10000760  Office Supplies      Storage   \n",
       "5      Los Angeles  California  FUR-FU-10001487        Furniture  Furnishings   \n",
       "6      Los Angeles  California  OFF-AR-10002833  Office Supplies          Art   \n",
       "7      Los Angeles  California  TEC-PH-10002275       Technology       Phones   \n",
       "8      Los Angeles  California  OFF-BI-10003910  Office Supplies      Binders   \n",
       "9      Los Angeles  California  OFF-AP-10002892  Office Supplies   Appliances   \n",
       "\n",
       "   Valor_Venda  \n",
       "0     261.9600  \n",
       "1     731.9400  \n",
       "2      14.6200  \n",
       "3     957.5775  \n",
       "4      22.3680  \n",
       "5      48.8600  \n",
       "6       7.2800  \n",
       "7     907.1520  \n",
       "8      18.5040  \n",
       "9     114.9000  "
      ]
     },
     "execution_count": 24,
     "metadata": {},
     "output_type": "execute_result"
    }
   ],
   "source": [
    "\n",
    "df.head(10)"
   ]
  },
  {
   "cell_type": "markdown",
   "metadata": {},
   "source": [
    "### > Converter a coluna de data para o tipo datetime e verificar os tipos de dados de cada coluna"
   ]
  },
  {
   "cell_type": "markdown",
   "metadata": {},
   "source": [
    "No código Python apresentado, estamos realizando a conversão da coluna 'Data_Pedido' para o tipo datetime usando a biblioteca pandas. Especificamente, estamos configurando o parâmetro 'dayfirst' como True para garantir que o formato da data seja interpretado corretamente, considerando o dia como o primeiro elemento na data. Em seguida, utilizamos 'df.dtypes' para verificar os tipos de dados das colunas do DataFrame. Isso é útil para garantir que a coluna 'Data_Pedido' agora seja do tipo datetime, o que facilita a manipulação de datas em análises posteriores."
   ]
  },
  {
   "cell_type": "code",
   "execution_count": 25,
   "metadata": {},
   "outputs": [
    {
     "data": {
      "text/plain": [
       "ID_Pedido               object\n",
       "Data_Pedido     datetime64[ns]\n",
       "ID_Cliente              object\n",
       "Segmento                object\n",
       "Pais                    object\n",
       "Cidade                  object\n",
       "Estado                  object\n",
       "ID_Produto              object\n",
       "Categoria               object\n",
       "SubCategoria            object\n",
       "Valor_Venda            float64\n",
       "dtype: object"
      ]
     },
     "execution_count": 25,
     "metadata": {},
     "output_type": "execute_result"
    }
   ],
   "source": [
    "\n",
    "df['Data_Pedido'] = pd.to_datetime(df['Data_Pedido'], dayfirst = True)\n",
    "df.dtypes"
   ]
  },
  {
   "cell_type": "markdown",
   "metadata": {},
   "source": [
    "### > Extrair o ano para criar uma nova variável e visualizar as 10 primeiras linhas do DataFrame"
   ]
  },
  {
   "cell_type": "markdown",
   "metadata": {},
   "source": [
    "Nesse código Python, a linha inicial extrai o ano da coluna 'Data_Pedido' de um DataFrame (df) usando o método 'dt.year' e armazena os valores em uma nova coluna chamada 'Ano'. Em seguida, a função 'head(10)' é usada para mostrar as 10 primeiras linhas do DataFrame, permitindo uma rápida visualização dos anos de pedido nas primeiras entradas do conjunto de dados. Essa operação é útil para análise inicial de séries temporais."
   ]
  },
  {
   "cell_type": "code",
   "execution_count": 26,
   "metadata": {},
   "outputs": [
    {
     "data": {
      "text/html": [
       "<div>\n",
       "<style scoped>\n",
       "    .dataframe tbody tr th:only-of-type {\n",
       "        vertical-align: middle;\n",
       "    }\n",
       "\n",
       "    .dataframe tbody tr th {\n",
       "        vertical-align: top;\n",
       "    }\n",
       "\n",
       "    .dataframe thead th {\n",
       "        text-align: right;\n",
       "    }\n",
       "</style>\n",
       "<table border=\"1\" class=\"dataframe\">\n",
       "  <thead>\n",
       "    <tr style=\"text-align: right;\">\n",
       "      <th></th>\n",
       "      <th>ID_Pedido</th>\n",
       "      <th>Data_Pedido</th>\n",
       "      <th>ID_Cliente</th>\n",
       "      <th>Segmento</th>\n",
       "      <th>Pais</th>\n",
       "      <th>Cidade</th>\n",
       "      <th>Estado</th>\n",
       "      <th>ID_Produto</th>\n",
       "      <th>Categoria</th>\n",
       "      <th>SubCategoria</th>\n",
       "      <th>Valor_Venda</th>\n",
       "      <th>Ano</th>\n",
       "    </tr>\n",
       "  </thead>\n",
       "  <tbody>\n",
       "    <tr>\n",
       "      <th>0</th>\n",
       "      <td>CA-2017-152156</td>\n",
       "      <td>2017-11-08</td>\n",
       "      <td>CG-12520</td>\n",
       "      <td>Consumer</td>\n",
       "      <td>United States</td>\n",
       "      <td>Henderson</td>\n",
       "      <td>Kentucky</td>\n",
       "      <td>FUR-BO-10001798</td>\n",
       "      <td>Furniture</td>\n",
       "      <td>Bookcases</td>\n",
       "      <td>261.9600</td>\n",
       "      <td>2017</td>\n",
       "    </tr>\n",
       "    <tr>\n",
       "      <th>1</th>\n",
       "      <td>CA-2017-152156</td>\n",
       "      <td>2017-11-08</td>\n",
       "      <td>CG-12520</td>\n",
       "      <td>Consumer</td>\n",
       "      <td>United States</td>\n",
       "      <td>Henderson</td>\n",
       "      <td>Kentucky</td>\n",
       "      <td>FUR-CH-10000454</td>\n",
       "      <td>Furniture</td>\n",
       "      <td>Chairs</td>\n",
       "      <td>731.9400</td>\n",
       "      <td>2017</td>\n",
       "    </tr>\n",
       "    <tr>\n",
       "      <th>2</th>\n",
       "      <td>CA-2017-138688</td>\n",
       "      <td>2017-06-12</td>\n",
       "      <td>DV-13045</td>\n",
       "      <td>Corporate</td>\n",
       "      <td>United States</td>\n",
       "      <td>Los Angeles</td>\n",
       "      <td>California</td>\n",
       "      <td>OFF-LA-10000240</td>\n",
       "      <td>Office Supplies</td>\n",
       "      <td>Labels</td>\n",
       "      <td>14.6200</td>\n",
       "      <td>2017</td>\n",
       "    </tr>\n",
       "    <tr>\n",
       "      <th>3</th>\n",
       "      <td>US-2016-108966</td>\n",
       "      <td>2016-10-11</td>\n",
       "      <td>SO-20335</td>\n",
       "      <td>Consumer</td>\n",
       "      <td>United States</td>\n",
       "      <td>Fort Lauderdale</td>\n",
       "      <td>Florida</td>\n",
       "      <td>FUR-TA-10000577</td>\n",
       "      <td>Furniture</td>\n",
       "      <td>Tables</td>\n",
       "      <td>957.5775</td>\n",
       "      <td>2016</td>\n",
       "    </tr>\n",
       "    <tr>\n",
       "      <th>4</th>\n",
       "      <td>US-2016-108966</td>\n",
       "      <td>2016-10-11</td>\n",
       "      <td>SO-20335</td>\n",
       "      <td>Consumer</td>\n",
       "      <td>United States</td>\n",
       "      <td>Fort Lauderdale</td>\n",
       "      <td>Florida</td>\n",
       "      <td>OFF-ST-10000760</td>\n",
       "      <td>Office Supplies</td>\n",
       "      <td>Storage</td>\n",
       "      <td>22.3680</td>\n",
       "      <td>2016</td>\n",
       "    </tr>\n",
       "    <tr>\n",
       "      <th>5</th>\n",
       "      <td>CA-2015-115812</td>\n",
       "      <td>2015-06-09</td>\n",
       "      <td>BH-11710</td>\n",
       "      <td>Consumer</td>\n",
       "      <td>United States</td>\n",
       "      <td>Los Angeles</td>\n",
       "      <td>California</td>\n",
       "      <td>FUR-FU-10001487</td>\n",
       "      <td>Furniture</td>\n",
       "      <td>Furnishings</td>\n",
       "      <td>48.8600</td>\n",
       "      <td>2015</td>\n",
       "    </tr>\n",
       "    <tr>\n",
       "      <th>6</th>\n",
       "      <td>CA-2015-115812</td>\n",
       "      <td>2015-06-09</td>\n",
       "      <td>BH-11710</td>\n",
       "      <td>Consumer</td>\n",
       "      <td>United States</td>\n",
       "      <td>Los Angeles</td>\n",
       "      <td>California</td>\n",
       "      <td>OFF-AR-10002833</td>\n",
       "      <td>Office Supplies</td>\n",
       "      <td>Art</td>\n",
       "      <td>7.2800</td>\n",
       "      <td>2015</td>\n",
       "    </tr>\n",
       "    <tr>\n",
       "      <th>7</th>\n",
       "      <td>CA-2015-115812</td>\n",
       "      <td>2015-06-09</td>\n",
       "      <td>BH-11710</td>\n",
       "      <td>Consumer</td>\n",
       "      <td>United States</td>\n",
       "      <td>Los Angeles</td>\n",
       "      <td>California</td>\n",
       "      <td>TEC-PH-10002275</td>\n",
       "      <td>Technology</td>\n",
       "      <td>Phones</td>\n",
       "      <td>907.1520</td>\n",
       "      <td>2015</td>\n",
       "    </tr>\n",
       "    <tr>\n",
       "      <th>8</th>\n",
       "      <td>CA-2015-115812</td>\n",
       "      <td>2015-06-09</td>\n",
       "      <td>BH-11710</td>\n",
       "      <td>Consumer</td>\n",
       "      <td>United States</td>\n",
       "      <td>Los Angeles</td>\n",
       "      <td>California</td>\n",
       "      <td>OFF-BI-10003910</td>\n",
       "      <td>Office Supplies</td>\n",
       "      <td>Binders</td>\n",
       "      <td>18.5040</td>\n",
       "      <td>2015</td>\n",
       "    </tr>\n",
       "    <tr>\n",
       "      <th>9</th>\n",
       "      <td>CA-2015-115812</td>\n",
       "      <td>2015-06-09</td>\n",
       "      <td>BH-11710</td>\n",
       "      <td>Consumer</td>\n",
       "      <td>United States</td>\n",
       "      <td>Los Angeles</td>\n",
       "      <td>California</td>\n",
       "      <td>OFF-AP-10002892</td>\n",
       "      <td>Office Supplies</td>\n",
       "      <td>Appliances</td>\n",
       "      <td>114.9000</td>\n",
       "      <td>2015</td>\n",
       "    </tr>\n",
       "  </tbody>\n",
       "</table>\n",
       "</div>"
      ],
      "text/plain": [
       "        ID_Pedido Data_Pedido ID_Cliente   Segmento           Pais  \\\n",
       "0  CA-2017-152156  2017-11-08   CG-12520   Consumer  United States   \n",
       "1  CA-2017-152156  2017-11-08   CG-12520   Consumer  United States   \n",
       "2  CA-2017-138688  2017-06-12   DV-13045  Corporate  United States   \n",
       "3  US-2016-108966  2016-10-11   SO-20335   Consumer  United States   \n",
       "4  US-2016-108966  2016-10-11   SO-20335   Consumer  United States   \n",
       "5  CA-2015-115812  2015-06-09   BH-11710   Consumer  United States   \n",
       "6  CA-2015-115812  2015-06-09   BH-11710   Consumer  United States   \n",
       "7  CA-2015-115812  2015-06-09   BH-11710   Consumer  United States   \n",
       "8  CA-2015-115812  2015-06-09   BH-11710   Consumer  United States   \n",
       "9  CA-2015-115812  2015-06-09   BH-11710   Consumer  United States   \n",
       "\n",
       "            Cidade      Estado       ID_Produto        Categoria SubCategoria  \\\n",
       "0        Henderson    Kentucky  FUR-BO-10001798        Furniture    Bookcases   \n",
       "1        Henderson    Kentucky  FUR-CH-10000454        Furniture       Chairs   \n",
       "2      Los Angeles  California  OFF-LA-10000240  Office Supplies       Labels   \n",
       "3  Fort Lauderdale     Florida  FUR-TA-10000577        Furniture       Tables   \n",
       "4  Fort Lauderdale     Florida  OFF-ST-10000760  Office Supplies      Storage   \n",
       "5      Los Angeles  California  FUR-FU-10001487        Furniture  Furnishings   \n",
       "6      Los Angeles  California  OFF-AR-10002833  Office Supplies          Art   \n",
       "7      Los Angeles  California  TEC-PH-10002275       Technology       Phones   \n",
       "8      Los Angeles  California  OFF-BI-10003910  Office Supplies      Binders   \n",
       "9      Los Angeles  California  OFF-AP-10002892  Office Supplies   Appliances   \n",
       "\n",
       "   Valor_Venda   Ano  \n",
       "0     261.9600  2017  \n",
       "1     731.9400  2017  \n",
       "2      14.6200  2017  \n",
       "3     957.5775  2016  \n",
       "4      22.3680  2016  \n",
       "5      48.8600  2015  \n",
       "6       7.2800  2015  \n",
       "7     907.1520  2015  \n",
       "8      18.5040  2015  \n",
       "9     114.9000  2015  "
      ]
     },
     "execution_count": 26,
     "metadata": {},
     "output_type": "execute_result"
    }
   ],
   "source": [
    "\n",
    "df['Ano'] = df['Data_Pedido'].dt.year\n",
    "df.head(10)"
   ]
  },
  {
   "cell_type": "markdown",
   "metadata": {},
   "source": [
    "### > Agrupar o DataFrame por ano e segmento e calcular o total de vendas"
   ]
  },
  {
   "cell_type": "markdown",
   "metadata": {},
   "source": [
    "No código Python fornecido, estamos utilizando a biblioteca Pandas para processar um DataFrame. Ele realiza uma operação de agrupamento ('groupby') no DataFrame 'df', utilizando as colunas 'Ano' e 'Segmento', e, em seguida, calcula a soma ('sum') das vendas ('Valor_Venda') para cada combinação de ano e segmento. O resultado é armazenado na variável 'df_p6' e, por fim, exibimos esse DataFrame agrupado que mostra o total de vendas por ano e segmento."
   ]
  },
  {
   "cell_type": "code",
   "execution_count": 27,
   "metadata": {},
   "outputs": [
    {
     "name": "stdout",
     "output_type": "stream",
     "text": [
      "Ano   Segmento   \n",
      "2015  Consumer       256719.9166\n",
      "      Corporate      125819.5957\n",
      "      Home Office     88229.0878\n",
      "2016  Consumer       265295.2593\n",
      "      Corporate      114643.1229\n",
      "      Home Office     74134.1332\n",
      "2017  Consumer       288459.5572\n",
      "      Corporate      203266.7398\n",
      "      Home Office    103639.6270\n",
      "2018  Consumer       323359.6019\n",
      "      Corporate      235502.7284\n",
      "      Home Office    156488.5849\n",
      "Name: Valor_Venda, dtype: float64\n"
     ]
    }
   ],
   "source": [
    "\n",
    "df_p6 = df.groupby(['Ano', 'Segmento'])['Valor_Venda'].sum()\n",
    "print(df_p6)"
   ]
  },
  {
   "cell_type": "markdown",
   "metadata": {},
   "source": [
    "## Pergunta de Negócio 7 (Desafio Nível Júnior):\n",
    "\n",
    "Os gestores da empresa estão considerando conceder diferentes faixas de descontos e gostariam de fazer uma simulação com base na regra abaixo:\n",
    "\n",
    "- Se o Valor_Venda for maior que 1000 recebe 15% de desconto.\n",
    "- Se o Valor_Venda for menor que 1000 recebe 10% de desconto.\n",
    "\n",
    "### <font color='#f16465'>Quantas Vendas Receberiam 15% de Desconto?</font>"
   ]
  },
  {
   "cell_type": "markdown",
   "metadata": {},
   "source": [
    "### > Criar uma nova coluna de desconto com base em uma regra definida"
   ]
  },
  {
   "cell_type": "markdown",
   "metadata": {},
   "source": [
    "No código Python fornecido, uma nova coluna chamada 'Desconto' é criada no DataFrame 'df'. Essa coluna é preenchida com valores com base em uma condição. Se o valor na coluna 'Valor_Venda' for maior que 1000, o desconto é definido como 15% (0.15); caso contrário, o desconto é definido como 10% (0.10). Em seguida, uma amostra aleatória de 10 linhas do DataFrame é exibida para inspeção. Esse código efetivamente calcula descontos com base no valor de venda e os armazena em uma nova coluna do DataFrame."
   ]
  },
  {
   "cell_type": "code",
   "execution_count": 28,
   "metadata": {},
   "outputs": [
    {
     "data": {
      "text/html": [
       "<div>\n",
       "<style scoped>\n",
       "    .dataframe tbody tr th:only-of-type {\n",
       "        vertical-align: middle;\n",
       "    }\n",
       "\n",
       "    .dataframe tbody tr th {\n",
       "        vertical-align: top;\n",
       "    }\n",
       "\n",
       "    .dataframe thead th {\n",
       "        text-align: right;\n",
       "    }\n",
       "</style>\n",
       "<table border=\"1\" class=\"dataframe\">\n",
       "  <thead>\n",
       "    <tr style=\"text-align: right;\">\n",
       "      <th></th>\n",
       "      <th>ID_Pedido</th>\n",
       "      <th>Data_Pedido</th>\n",
       "      <th>ID_Cliente</th>\n",
       "      <th>Segmento</th>\n",
       "      <th>Pais</th>\n",
       "      <th>Cidade</th>\n",
       "      <th>Estado</th>\n",
       "      <th>ID_Produto</th>\n",
       "      <th>Categoria</th>\n",
       "      <th>SubCategoria</th>\n",
       "      <th>Valor_Venda</th>\n",
       "      <th>Ano</th>\n",
       "      <th>Desconto</th>\n",
       "    </tr>\n",
       "  </thead>\n",
       "  <tbody>\n",
       "    <tr>\n",
       "      <th>7109</th>\n",
       "      <td>CA-2017-109666</td>\n",
       "      <td>2017-04-19</td>\n",
       "      <td>KM-16720</td>\n",
       "      <td>Consumer</td>\n",
       "      <td>United States</td>\n",
       "      <td>New York City</td>\n",
       "      <td>New York</td>\n",
       "      <td>OFF-SU-10001218</td>\n",
       "      <td>Office Supplies</td>\n",
       "      <td>Supplies</td>\n",
       "      <td>54.900</td>\n",
       "      <td>2017</td>\n",
       "      <td>0.10</td>\n",
       "    </tr>\n",
       "    <tr>\n",
       "      <th>8104</th>\n",
       "      <td>CA-2018-159149</td>\n",
       "      <td>2018-02-17</td>\n",
       "      <td>CR-12820</td>\n",
       "      <td>Home Office</td>\n",
       "      <td>United States</td>\n",
       "      <td>Houston</td>\n",
       "      <td>Texas</td>\n",
       "      <td>TEC-PH-10000038</td>\n",
       "      <td>Technology</td>\n",
       "      <td>Phones</td>\n",
       "      <td>438.336</td>\n",
       "      <td>2018</td>\n",
       "      <td>0.10</td>\n",
       "    </tr>\n",
       "    <tr>\n",
       "      <th>3785</th>\n",
       "      <td>CA-2017-169971</td>\n",
       "      <td>2017-09-04</td>\n",
       "      <td>IL-15100</td>\n",
       "      <td>Consumer</td>\n",
       "      <td>United States</td>\n",
       "      <td>Houston</td>\n",
       "      <td>Texas</td>\n",
       "      <td>OFF-AR-10001044</td>\n",
       "      <td>Office Supplies</td>\n",
       "      <td>Art</td>\n",
       "      <td>62.376</td>\n",
       "      <td>2017</td>\n",
       "      <td>0.10</td>\n",
       "    </tr>\n",
       "    <tr>\n",
       "      <th>2592</th>\n",
       "      <td>CA-2018-128300</td>\n",
       "      <td>2018-11-24</td>\n",
       "      <td>RS-19765</td>\n",
       "      <td>Corporate</td>\n",
       "      <td>United States</td>\n",
       "      <td>Summerville</td>\n",
       "      <td>South Carolina</td>\n",
       "      <td>TEC-PH-10002807</td>\n",
       "      <td>Technology</td>\n",
       "      <td>Phones</td>\n",
       "      <td>79.100</td>\n",
       "      <td>2018</td>\n",
       "      <td>0.10</td>\n",
       "    </tr>\n",
       "    <tr>\n",
       "      <th>8968</th>\n",
       "      <td>CA-2018-122308</td>\n",
       "      <td>2018-03-24</td>\n",
       "      <td>MV-17485</td>\n",
       "      <td>Consumer</td>\n",
       "      <td>United States</td>\n",
       "      <td>New York City</td>\n",
       "      <td>New York</td>\n",
       "      <td>FUR-CH-10000665</td>\n",
       "      <td>Furniture</td>\n",
       "      <td>Chairs</td>\n",
       "      <td>271.764</td>\n",
       "      <td>2018</td>\n",
       "      <td>0.10</td>\n",
       "    </tr>\n",
       "    <tr>\n",
       "      <th>1370</th>\n",
       "      <td>US-2016-103471</td>\n",
       "      <td>2016-12-24</td>\n",
       "      <td>JR-15670</td>\n",
       "      <td>Consumer</td>\n",
       "      <td>United States</td>\n",
       "      <td>Colorado Springs</td>\n",
       "      <td>Colorado</td>\n",
       "      <td>OFF-AR-10003405</td>\n",
       "      <td>Office Supplies</td>\n",
       "      <td>Art</td>\n",
       "      <td>14.040</td>\n",
       "      <td>2016</td>\n",
       "      <td>0.10</td>\n",
       "    </tr>\n",
       "    <tr>\n",
       "      <th>7260</th>\n",
       "      <td>CA-2018-156363</td>\n",
       "      <td>2018-10-22</td>\n",
       "      <td>ML-17395</td>\n",
       "      <td>Corporate</td>\n",
       "      <td>United States</td>\n",
       "      <td>Philadelphia</td>\n",
       "      <td>Pennsylvania</td>\n",
       "      <td>OFF-EN-10003068</td>\n",
       "      <td>Office Supplies</td>\n",
       "      <td>Envelopes</td>\n",
       "      <td>31.680</td>\n",
       "      <td>2018</td>\n",
       "      <td>0.10</td>\n",
       "    </tr>\n",
       "    <tr>\n",
       "      <th>6267</th>\n",
       "      <td>CA-2018-102379</td>\n",
       "      <td>2018-12-02</td>\n",
       "      <td>BB-11545</td>\n",
       "      <td>Corporate</td>\n",
       "      <td>United States</td>\n",
       "      <td>Oakland</td>\n",
       "      <td>California</td>\n",
       "      <td>FUR-CH-10004983</td>\n",
       "      <td>Furniture</td>\n",
       "      <td>Chairs</td>\n",
       "      <td>1159.056</td>\n",
       "      <td>2018</td>\n",
       "      <td>0.15</td>\n",
       "    </tr>\n",
       "    <tr>\n",
       "      <th>1232</th>\n",
       "      <td>CA-2016-132570</td>\n",
       "      <td>2016-10-31</td>\n",
       "      <td>KT-16480</td>\n",
       "      <td>Consumer</td>\n",
       "      <td>United States</td>\n",
       "      <td>Buffalo</td>\n",
       "      <td>New York</td>\n",
       "      <td>OFF-EN-10003055</td>\n",
       "      <td>Office Supplies</td>\n",
       "      <td>Envelopes</td>\n",
       "      <td>79.960</td>\n",
       "      <td>2016</td>\n",
       "      <td>0.10</td>\n",
       "    </tr>\n",
       "    <tr>\n",
       "      <th>6353</th>\n",
       "      <td>CA-2018-139080</td>\n",
       "      <td>2018-01-23</td>\n",
       "      <td>CS-12250</td>\n",
       "      <td>Corporate</td>\n",
       "      <td>United States</td>\n",
       "      <td>Seattle</td>\n",
       "      <td>Washington</td>\n",
       "      <td>OFF-BI-10001757</td>\n",
       "      <td>Office Supplies</td>\n",
       "      <td>Binders</td>\n",
       "      <td>19.680</td>\n",
       "      <td>2018</td>\n",
       "      <td>0.10</td>\n",
       "    </tr>\n",
       "  </tbody>\n",
       "</table>\n",
       "</div>"
      ],
      "text/plain": [
       "           ID_Pedido Data_Pedido ID_Cliente     Segmento           Pais  \\\n",
       "7109  CA-2017-109666  2017-04-19   KM-16720     Consumer  United States   \n",
       "8104  CA-2018-159149  2018-02-17   CR-12820  Home Office  United States   \n",
       "3785  CA-2017-169971  2017-09-04   IL-15100     Consumer  United States   \n",
       "2592  CA-2018-128300  2018-11-24   RS-19765    Corporate  United States   \n",
       "8968  CA-2018-122308  2018-03-24   MV-17485     Consumer  United States   \n",
       "1370  US-2016-103471  2016-12-24   JR-15670     Consumer  United States   \n",
       "7260  CA-2018-156363  2018-10-22   ML-17395    Corporate  United States   \n",
       "6267  CA-2018-102379  2018-12-02   BB-11545    Corporate  United States   \n",
       "1232  CA-2016-132570  2016-10-31   KT-16480     Consumer  United States   \n",
       "6353  CA-2018-139080  2018-01-23   CS-12250    Corporate  United States   \n",
       "\n",
       "                Cidade          Estado       ID_Produto        Categoria  \\\n",
       "7109     New York City        New York  OFF-SU-10001218  Office Supplies   \n",
       "8104           Houston           Texas  TEC-PH-10000038       Technology   \n",
       "3785           Houston           Texas  OFF-AR-10001044  Office Supplies   \n",
       "2592       Summerville  South Carolina  TEC-PH-10002807       Technology   \n",
       "8968     New York City        New York  FUR-CH-10000665        Furniture   \n",
       "1370  Colorado Springs        Colorado  OFF-AR-10003405  Office Supplies   \n",
       "7260      Philadelphia    Pennsylvania  OFF-EN-10003068  Office Supplies   \n",
       "6267           Oakland      California  FUR-CH-10004983        Furniture   \n",
       "1232           Buffalo        New York  OFF-EN-10003055  Office Supplies   \n",
       "6353           Seattle      Washington  OFF-BI-10001757  Office Supplies   \n",
       "\n",
       "     SubCategoria  Valor_Venda   Ano  Desconto  \n",
       "7109     Supplies       54.900  2017      0.10  \n",
       "8104       Phones      438.336  2018      0.10  \n",
       "3785          Art       62.376  2017      0.10  \n",
       "2592       Phones       79.100  2018      0.10  \n",
       "8968       Chairs      271.764  2018      0.10  \n",
       "1370          Art       14.040  2016      0.10  \n",
       "7260    Envelopes       31.680  2018      0.10  \n",
       "6267       Chairs     1159.056  2018      0.15  \n",
       "1232    Envelopes       79.960  2016      0.10  \n",
       "6353      Binders       19.680  2018      0.10  "
      ]
     },
     "execution_count": 28,
     "metadata": {},
     "output_type": "execute_result"
    }
   ],
   "source": [
    "\n",
    "df['Desconto'] = np.where(df['Valor_Venda'] > 1000, 0.15, 0.10)\n",
    "df.sample(10)"
   ]
  },
  {
   "cell_type": "markdown",
   "metadata": {},
   "source": [
    "### > Calcular o total por cada valor da variável"
   ]
  },
  {
   "cell_type": "markdown",
   "metadata": {},
   "source": [
    "No código Python fornecido, estamos calculando a contagem de ocorrências de cada valor presente na coluna 'Desconto' de um DataFrame (representado por 'df'). Em seguida, o resultado é impresso na tela. Isso é útil para entender quantas vezes cada valor específico de desconto aparece na coluna, proporcionando insights sobre a distribuição dos descontos nos dados."
   ]
  },
  {
   "cell_type": "code",
   "execution_count": 43,
   "metadata": {},
   "outputs": [
    {
     "name": "stdout",
     "output_type": "stream",
     "text": [
      "0.10    9243\n",
      "0.15     457\n",
      "Name: Desconto, dtype: int64\n"
     ]
    }
   ],
   "source": [
    "\n",
    "discount_counts = df['Desconto'].value_counts()\n",
    "print(discount_counts)"
   ]
  },
  {
   "cell_type": "markdown",
   "metadata": {},
   "source": [
    "### > Informar quantas vendas receberiam um desconto específico"
   ]
  },
  {
   "cell_type": "markdown",
   "metadata": {},
   "source": [
    "Neste código Python, estamos processando um DataFrame chamado 'df'. Primeiro, contamos os valores únicos na coluna 'Desconto' e armazenamos isso em 'discount_count'. Em seguida, convertemos essa contagem em uma representação de string e a dividimos em palavras. Por fim, imprimimos uma mensagem que informa quantas vendas receberiam um desconto específico, usando os valores obtidos da string processada."
   ]
  },
  {
   "cell_type": "code",
   "execution_count": 45,
   "metadata": {},
   "outputs": [
    {
     "name": "stdout",
     "output_type": "stream",
     "text": [
      "No Total, 457 Vendas Receberiam Desconto de 0.15\n"
     ]
    }
   ],
   "source": [
    "\n",
    "# Obter a contagem de valores da coluna 'Desconto' como uma série\n",
    "discount_count = df['Desconto'].value_counts()\n",
    "\n",
    "# Converter a série em uma representação de string\n",
    "string_count = discount_count.to_string()\n",
    "\n",
    "# Dividir a string em palavras\n",
    "words = string_count.split()\n",
    "\n",
    "# Imprimir informações relevantes\n",
    "print(f'No Total, {words[3]} Vendas Receberiam Desconto de {words[2]}')"
   ]
  },
  {
   "cell_type": "markdown",
   "metadata": {},
   "source": [
    "## Pergunta de Negócio 8 (Desafio Nível Master):\n",
    "\n",
    "### <font color='#f16465'>Considere Que a Empresa Decida Conceder o Desconto de 15% do Item Anterior.<br>Qual Seria a Média do Valor de Venda Antes e Depois do Desconto?</font>"
   ]
  },
  {
   "cell_type": "markdown",
   "metadata": {},
   "source": [
    "### > Calcular a coluna 'Valor_Venda_Desconto' subtraindo o desconto do valor de venda"
   ]
  },
  {
   "cell_type": "markdown",
   "metadata": {},
   "source": [
    "No código Python apresentado, estamos realizando um cálculo para criar a coluna 'Valor_Venda_Desconto'. Essa coluna é obtida subtraindo o valor de desconto, que é calculado multiplicando o 'Valor_Venda' pelo 'Desconto', do próprio 'Valor_Venda'. Posteriormente, usamos a função `head(10)` para exibir as 10 primeiras linhas do DataFrame 'df'. Esse código é útil para calcular o valor de venda com desconto e visualizar os resultados iniciais dos dados."
   ]
  },
  {
   "cell_type": "code",
   "execution_count": 31,
   "metadata": {},
   "outputs": [
    {
     "data": {
      "text/html": [
       "<div>\n",
       "<style scoped>\n",
       "    .dataframe tbody tr th:only-of-type {\n",
       "        vertical-align: middle;\n",
       "    }\n",
       "\n",
       "    .dataframe tbody tr th {\n",
       "        vertical-align: top;\n",
       "    }\n",
       "\n",
       "    .dataframe thead th {\n",
       "        text-align: right;\n",
       "    }\n",
       "</style>\n",
       "<table border=\"1\" class=\"dataframe\">\n",
       "  <thead>\n",
       "    <tr style=\"text-align: right;\">\n",
       "      <th></th>\n",
       "      <th>ID_Pedido</th>\n",
       "      <th>Data_Pedido</th>\n",
       "      <th>ID_Cliente</th>\n",
       "      <th>Segmento</th>\n",
       "      <th>Pais</th>\n",
       "      <th>Cidade</th>\n",
       "      <th>Estado</th>\n",
       "      <th>ID_Produto</th>\n",
       "      <th>Categoria</th>\n",
       "      <th>SubCategoria</th>\n",
       "      <th>Valor_Venda</th>\n",
       "      <th>Ano</th>\n",
       "      <th>Desconto</th>\n",
       "      <th>Valor_Venda_Desconto</th>\n",
       "    </tr>\n",
       "  </thead>\n",
       "  <tbody>\n",
       "    <tr>\n",
       "      <th>0</th>\n",
       "      <td>CA-2017-152156</td>\n",
       "      <td>2017-11-08</td>\n",
       "      <td>CG-12520</td>\n",
       "      <td>Consumer</td>\n",
       "      <td>United States</td>\n",
       "      <td>Henderson</td>\n",
       "      <td>Kentucky</td>\n",
       "      <td>FUR-BO-10001798</td>\n",
       "      <td>Furniture</td>\n",
       "      <td>Bookcases</td>\n",
       "      <td>261.9600</td>\n",
       "      <td>2017</td>\n",
       "      <td>0.1</td>\n",
       "      <td>235.76400</td>\n",
       "    </tr>\n",
       "    <tr>\n",
       "      <th>1</th>\n",
       "      <td>CA-2017-152156</td>\n",
       "      <td>2017-11-08</td>\n",
       "      <td>CG-12520</td>\n",
       "      <td>Consumer</td>\n",
       "      <td>United States</td>\n",
       "      <td>Henderson</td>\n",
       "      <td>Kentucky</td>\n",
       "      <td>FUR-CH-10000454</td>\n",
       "      <td>Furniture</td>\n",
       "      <td>Chairs</td>\n",
       "      <td>731.9400</td>\n",
       "      <td>2017</td>\n",
       "      <td>0.1</td>\n",
       "      <td>658.74600</td>\n",
       "    </tr>\n",
       "    <tr>\n",
       "      <th>2</th>\n",
       "      <td>CA-2017-138688</td>\n",
       "      <td>2017-06-12</td>\n",
       "      <td>DV-13045</td>\n",
       "      <td>Corporate</td>\n",
       "      <td>United States</td>\n",
       "      <td>Los Angeles</td>\n",
       "      <td>California</td>\n",
       "      <td>OFF-LA-10000240</td>\n",
       "      <td>Office Supplies</td>\n",
       "      <td>Labels</td>\n",
       "      <td>14.6200</td>\n",
       "      <td>2017</td>\n",
       "      <td>0.1</td>\n",
       "      <td>13.15800</td>\n",
       "    </tr>\n",
       "    <tr>\n",
       "      <th>3</th>\n",
       "      <td>US-2016-108966</td>\n",
       "      <td>2016-10-11</td>\n",
       "      <td>SO-20335</td>\n",
       "      <td>Consumer</td>\n",
       "      <td>United States</td>\n",
       "      <td>Fort Lauderdale</td>\n",
       "      <td>Florida</td>\n",
       "      <td>FUR-TA-10000577</td>\n",
       "      <td>Furniture</td>\n",
       "      <td>Tables</td>\n",
       "      <td>957.5775</td>\n",
       "      <td>2016</td>\n",
       "      <td>0.1</td>\n",
       "      <td>861.81975</td>\n",
       "    </tr>\n",
       "    <tr>\n",
       "      <th>4</th>\n",
       "      <td>US-2016-108966</td>\n",
       "      <td>2016-10-11</td>\n",
       "      <td>SO-20335</td>\n",
       "      <td>Consumer</td>\n",
       "      <td>United States</td>\n",
       "      <td>Fort Lauderdale</td>\n",
       "      <td>Florida</td>\n",
       "      <td>OFF-ST-10000760</td>\n",
       "      <td>Office Supplies</td>\n",
       "      <td>Storage</td>\n",
       "      <td>22.3680</td>\n",
       "      <td>2016</td>\n",
       "      <td>0.1</td>\n",
       "      <td>20.13120</td>\n",
       "    </tr>\n",
       "    <tr>\n",
       "      <th>5</th>\n",
       "      <td>CA-2015-115812</td>\n",
       "      <td>2015-06-09</td>\n",
       "      <td>BH-11710</td>\n",
       "      <td>Consumer</td>\n",
       "      <td>United States</td>\n",
       "      <td>Los Angeles</td>\n",
       "      <td>California</td>\n",
       "      <td>FUR-FU-10001487</td>\n",
       "      <td>Furniture</td>\n",
       "      <td>Furnishings</td>\n",
       "      <td>48.8600</td>\n",
       "      <td>2015</td>\n",
       "      <td>0.1</td>\n",
       "      <td>43.97400</td>\n",
       "    </tr>\n",
       "    <tr>\n",
       "      <th>6</th>\n",
       "      <td>CA-2015-115812</td>\n",
       "      <td>2015-06-09</td>\n",
       "      <td>BH-11710</td>\n",
       "      <td>Consumer</td>\n",
       "      <td>United States</td>\n",
       "      <td>Los Angeles</td>\n",
       "      <td>California</td>\n",
       "      <td>OFF-AR-10002833</td>\n",
       "      <td>Office Supplies</td>\n",
       "      <td>Art</td>\n",
       "      <td>7.2800</td>\n",
       "      <td>2015</td>\n",
       "      <td>0.1</td>\n",
       "      <td>6.55200</td>\n",
       "    </tr>\n",
       "    <tr>\n",
       "      <th>7</th>\n",
       "      <td>CA-2015-115812</td>\n",
       "      <td>2015-06-09</td>\n",
       "      <td>BH-11710</td>\n",
       "      <td>Consumer</td>\n",
       "      <td>United States</td>\n",
       "      <td>Los Angeles</td>\n",
       "      <td>California</td>\n",
       "      <td>TEC-PH-10002275</td>\n",
       "      <td>Technology</td>\n",
       "      <td>Phones</td>\n",
       "      <td>907.1520</td>\n",
       "      <td>2015</td>\n",
       "      <td>0.1</td>\n",
       "      <td>816.43680</td>\n",
       "    </tr>\n",
       "    <tr>\n",
       "      <th>8</th>\n",
       "      <td>CA-2015-115812</td>\n",
       "      <td>2015-06-09</td>\n",
       "      <td>BH-11710</td>\n",
       "      <td>Consumer</td>\n",
       "      <td>United States</td>\n",
       "      <td>Los Angeles</td>\n",
       "      <td>California</td>\n",
       "      <td>OFF-BI-10003910</td>\n",
       "      <td>Office Supplies</td>\n",
       "      <td>Binders</td>\n",
       "      <td>18.5040</td>\n",
       "      <td>2015</td>\n",
       "      <td>0.1</td>\n",
       "      <td>16.65360</td>\n",
       "    </tr>\n",
       "    <tr>\n",
       "      <th>9</th>\n",
       "      <td>CA-2015-115812</td>\n",
       "      <td>2015-06-09</td>\n",
       "      <td>BH-11710</td>\n",
       "      <td>Consumer</td>\n",
       "      <td>United States</td>\n",
       "      <td>Los Angeles</td>\n",
       "      <td>California</td>\n",
       "      <td>OFF-AP-10002892</td>\n",
       "      <td>Office Supplies</td>\n",
       "      <td>Appliances</td>\n",
       "      <td>114.9000</td>\n",
       "      <td>2015</td>\n",
       "      <td>0.1</td>\n",
       "      <td>103.41000</td>\n",
       "    </tr>\n",
       "  </tbody>\n",
       "</table>\n",
       "</div>"
      ],
      "text/plain": [
       "        ID_Pedido Data_Pedido ID_Cliente   Segmento           Pais  \\\n",
       "0  CA-2017-152156  2017-11-08   CG-12520   Consumer  United States   \n",
       "1  CA-2017-152156  2017-11-08   CG-12520   Consumer  United States   \n",
       "2  CA-2017-138688  2017-06-12   DV-13045  Corporate  United States   \n",
       "3  US-2016-108966  2016-10-11   SO-20335   Consumer  United States   \n",
       "4  US-2016-108966  2016-10-11   SO-20335   Consumer  United States   \n",
       "5  CA-2015-115812  2015-06-09   BH-11710   Consumer  United States   \n",
       "6  CA-2015-115812  2015-06-09   BH-11710   Consumer  United States   \n",
       "7  CA-2015-115812  2015-06-09   BH-11710   Consumer  United States   \n",
       "8  CA-2015-115812  2015-06-09   BH-11710   Consumer  United States   \n",
       "9  CA-2015-115812  2015-06-09   BH-11710   Consumer  United States   \n",
       "\n",
       "            Cidade      Estado       ID_Produto        Categoria SubCategoria  \\\n",
       "0        Henderson    Kentucky  FUR-BO-10001798        Furniture    Bookcases   \n",
       "1        Henderson    Kentucky  FUR-CH-10000454        Furniture       Chairs   \n",
       "2      Los Angeles  California  OFF-LA-10000240  Office Supplies       Labels   \n",
       "3  Fort Lauderdale     Florida  FUR-TA-10000577        Furniture       Tables   \n",
       "4  Fort Lauderdale     Florida  OFF-ST-10000760  Office Supplies      Storage   \n",
       "5      Los Angeles  California  FUR-FU-10001487        Furniture  Furnishings   \n",
       "6      Los Angeles  California  OFF-AR-10002833  Office Supplies          Art   \n",
       "7      Los Angeles  California  TEC-PH-10002275       Technology       Phones   \n",
       "8      Los Angeles  California  OFF-BI-10003910  Office Supplies      Binders   \n",
       "9      Los Angeles  California  OFF-AP-10002892  Office Supplies   Appliances   \n",
       "\n",
       "   Valor_Venda   Ano  Desconto  Valor_Venda_Desconto  \n",
       "0     261.9600  2017       0.1             235.76400  \n",
       "1     731.9400  2017       0.1             658.74600  \n",
       "2      14.6200  2017       0.1              13.15800  \n",
       "3     957.5775  2016       0.1             861.81975  \n",
       "4      22.3680  2016       0.1              20.13120  \n",
       "5      48.8600  2015       0.1              43.97400  \n",
       "6       7.2800  2015       0.1               6.55200  \n",
       "7     907.1520  2015       0.1             816.43680  \n",
       "8      18.5040  2015       0.1              16.65360  \n",
       "9     114.9000  2015       0.1             103.41000  "
      ]
     },
     "execution_count": 31,
     "metadata": {},
     "output_type": "execute_result"
    }
   ],
   "source": [
    "\n",
    "df['Valor_Venda_Desconto'] = df['Valor_Venda'] - (df['Valor_Venda'] * df['Desconto'])\n",
    "df.head(10)"
   ]
  },
  {
   "cell_type": "markdown",
   "metadata": {},
   "source": [
    "### > Filtrando as vendas antes do desconto de 15%"
   ]
  },
  {
   "cell_type": "markdown",
   "metadata": {},
   "source": [
    "No código Python fornecido, estamos filtrando as vendas do DataFrame 'df' em que o desconto é igual a 15%, e em seguida, selecionando a coluna 'Valor_Venda'. Os resultados das 10 primeiras vendas que atendem a esse critério são exibidos. Isso nos permite visualizar as vendas antes de aplicar um desconto de 15%."
   ]
  },
  {
   "cell_type": "code",
   "execution_count": 46,
   "metadata": {},
   "outputs": [
    {
     "data": {
      "text/plain": [
       "10     1706.184\n",
       "24     1044.630\n",
       "27     3083.430\n",
       "35     1097.544\n",
       "54     1029.950\n",
       "67     1113.024\n",
       "149    1951.840\n",
       "165    8159.952\n",
       "167    1740.060\n",
       "215    1188.000\n",
       "Name: Valor_Venda, dtype: float64"
      ]
     },
     "execution_count": 46,
     "metadata": {},
     "output_type": "execute_result"
    }
   ],
   "source": [
    "\n",
    "sales_with_discount_15 = df.loc[df['Desconto'] == 0.15, 'Valor_Venda']\n",
    "sales_with_discount_15.head(10)"
   ]
  },
  {
   "cell_type": "markdown",
   "metadata": {},
   "source": [
    "### > Filtrando as vendas com desconto de 15%"
   ]
  },
  {
   "cell_type": "markdown",
   "metadata": {},
   "source": [
    "No código Python fornecido, estamos filtrando as vendas que tiveram um desconto de 15%. Isso é feito selecionando as linhas do DataFrame 'df' em que a coluna 'Desconto' possui o valor 0.15 e, em seguida, extraindo os valores da coluna 'filtered_sales_after_discount'. Em seguida, usamos o método 'head(10)' para exibir as 10 primeiras entradas desse resultado. Dessa forma, estamos isolando e visualizando as vendas com o desconto de 15% em um subconjunto de dados."
   ]
  },
  {
   "cell_type": "code",
   "execution_count": 33,
   "metadata": {},
   "outputs": [
    {
     "data": {
      "text/plain": [
       "10     1450.2564\n",
       "24      887.9355\n",
       "27     2620.9155\n",
       "35      932.9124\n",
       "54      875.4575\n",
       "67      946.0704\n",
       "149    1659.0640\n",
       "165    6935.9592\n",
       "167    1479.0510\n",
       "215    1009.8000\n",
       "Name: Valor_Venda_Desconto, dtype: float64"
      ]
     },
     "execution_count": 33,
     "metadata": {},
     "output_type": "execute_result"
    }
   ],
   "source": [
    "\n",
    "filtered_sales_after_discount = df.loc[df['Desconto'] == 0.15, 'Valor_Venda_Desconto']\n",
    "filtered_sales_after_discount.head(10)\n"
   ]
  },
  {
   "cell_type": "markdown",
   "metadata": {},
   "source": [
    "### > Calcula a média das vendas antes do desconto de 15%"
   ]
  },
  {
   "cell_type": "code",
   "execution_count": 47,
   "metadata": {},
   "outputs": [
    {
     "name": "stdout",
     "output_type": "stream",
     "text": [
      "Média das vendas sem desconto: 2116.81\n"
     ]
    }
   ],
   "source": [
    "\n",
    "average_sales_before_discount = sales_with_discount_15.mean()\n",
    "print(f'Média das vendas sem desconto: {average_sales_before_discount:.2f}')"
   ]
  },
  {
   "cell_type": "markdown",
   "metadata": {},
   "source": [
    "### > Calcula a média das vendas depois do desconto de 15%"
   ]
  },
  {
   "cell_type": "code",
   "execution_count": 35,
   "metadata": {},
   "outputs": [
    {
     "name": "stdout",
     "output_type": "stream",
     "text": [
      "Média das vendas com desconto: 1799.29\n"
     ]
    }
   ],
   "source": [
    "\n",
    "average_sales_after_discount = filtered_sales_after_discount.mean()\n",
    "print(f'Média das vendas com desconto: {average_sales_after_discount:.2f}')"
   ]
  },
  {
   "cell_type": "code",
   "execution_count": 36,
   "metadata": {},
   "outputs": [
    {
     "name": "stdout",
     "output_type": "stream",
     "text": [
      "Média das vendas antes do desconto de 15%: 2116.81\n"
     ]
    }
   ],
   "source": [
    "\n",
    "print(\"Média das vendas antes do desconto de 15%:\", round(average_sales_before_discount, 2))"
   ]
  },
  {
   "cell_type": "code",
   "execution_count": 37,
   "metadata": {},
   "outputs": [
    {
     "name": "stdout",
     "output_type": "stream",
     "text": [
      "Média das vendas depois do desconto de 15%: 1799.29\n"
     ]
    }
   ],
   "source": [
    "\n",
    "print(\"Média das vendas depois do desconto de 15%:\", round(average_sales_after_discount, 2))"
   ]
  },
  {
   "cell_type": "markdown",
   "metadata": {},
   "source": [
    "## Pergunta de Negócio 9 (Desafio Nível Master Ninja):\n",
    "\n",
    "### <font color='#f16465' >Qual o Média de Vendas Por Segmento, Por Ano e Por Mês?</font>\n",
    "\n",
    "Demonstre o resultado através de gráfico de linha."
   ]
  },
  {
   "cell_type": "markdown",
   "metadata": {},
   "source": [
    "### > Faça a extração do mês da coluna 'Data_Pedido' e armazena em uma nova coluna 'Mes'"
   ]
  },
  {
   "cell_type": "markdown",
   "metadata": {},
   "source": [
    "Nesse código Python, estamos realizando duas ações. Primeiramente, estamos extraindo o mês da coluna 'Data_Pedido' de um DataFrame e armazenando esses valores em uma nova coluna chamada 'Mes'. Em seguida, exibimos as dez primeiras linhas do DataFrame, incluindo a recém-criada coluna 'Mes', para visualização inicial dos dados. Isso é útil para análises que envolvem informações mensais, facilitando a compreensão dos dados por mês."
   ]
  },
  {
   "cell_type": "code",
   "execution_count": 40,
   "metadata": {},
   "outputs": [
    {
     "data": {
      "text/html": [
       "<div>\n",
       "<style scoped>\n",
       "    .dataframe tbody tr th:only-of-type {\n",
       "        vertical-align: middle;\n",
       "    }\n",
       "\n",
       "    .dataframe tbody tr th {\n",
       "        vertical-align: top;\n",
       "    }\n",
       "\n",
       "    .dataframe thead th {\n",
       "        text-align: right;\n",
       "    }\n",
       "</style>\n",
       "<table border=\"1\" class=\"dataframe\">\n",
       "  <thead>\n",
       "    <tr style=\"text-align: right;\">\n",
       "      <th></th>\n",
       "      <th>ID_Pedido</th>\n",
       "      <th>Data_Pedido</th>\n",
       "      <th>ID_Cliente</th>\n",
       "      <th>Segmento</th>\n",
       "      <th>Pais</th>\n",
       "      <th>Cidade</th>\n",
       "      <th>Estado</th>\n",
       "      <th>ID_Produto</th>\n",
       "      <th>Categoria</th>\n",
       "      <th>SubCategoria</th>\n",
       "      <th>Valor_Venda</th>\n",
       "      <th>Ano</th>\n",
       "      <th>Desconto</th>\n",
       "      <th>Valor_Venda_Desconto</th>\n",
       "      <th>Mes</th>\n",
       "    </tr>\n",
       "  </thead>\n",
       "  <tbody>\n",
       "    <tr>\n",
       "      <th>0</th>\n",
       "      <td>CA-2017-152156</td>\n",
       "      <td>2017-11-08</td>\n",
       "      <td>CG-12520</td>\n",
       "      <td>Consumer</td>\n",
       "      <td>United States</td>\n",
       "      <td>Henderson</td>\n",
       "      <td>Kentucky</td>\n",
       "      <td>FUR-BO-10001798</td>\n",
       "      <td>Furniture</td>\n",
       "      <td>Bookcases</td>\n",
       "      <td>261.9600</td>\n",
       "      <td>2017</td>\n",
       "      <td>0.1</td>\n",
       "      <td>235.76400</td>\n",
       "      <td>11</td>\n",
       "    </tr>\n",
       "    <tr>\n",
       "      <th>1</th>\n",
       "      <td>CA-2017-152156</td>\n",
       "      <td>2017-11-08</td>\n",
       "      <td>CG-12520</td>\n",
       "      <td>Consumer</td>\n",
       "      <td>United States</td>\n",
       "      <td>Henderson</td>\n",
       "      <td>Kentucky</td>\n",
       "      <td>FUR-CH-10000454</td>\n",
       "      <td>Furniture</td>\n",
       "      <td>Chairs</td>\n",
       "      <td>731.9400</td>\n",
       "      <td>2017</td>\n",
       "      <td>0.1</td>\n",
       "      <td>658.74600</td>\n",
       "      <td>11</td>\n",
       "    </tr>\n",
       "    <tr>\n",
       "      <th>2</th>\n",
       "      <td>CA-2017-138688</td>\n",
       "      <td>2017-06-12</td>\n",
       "      <td>DV-13045</td>\n",
       "      <td>Corporate</td>\n",
       "      <td>United States</td>\n",
       "      <td>Los Angeles</td>\n",
       "      <td>California</td>\n",
       "      <td>OFF-LA-10000240</td>\n",
       "      <td>Office Supplies</td>\n",
       "      <td>Labels</td>\n",
       "      <td>14.6200</td>\n",
       "      <td>2017</td>\n",
       "      <td>0.1</td>\n",
       "      <td>13.15800</td>\n",
       "      <td>6</td>\n",
       "    </tr>\n",
       "    <tr>\n",
       "      <th>3</th>\n",
       "      <td>US-2016-108966</td>\n",
       "      <td>2016-10-11</td>\n",
       "      <td>SO-20335</td>\n",
       "      <td>Consumer</td>\n",
       "      <td>United States</td>\n",
       "      <td>Fort Lauderdale</td>\n",
       "      <td>Florida</td>\n",
       "      <td>FUR-TA-10000577</td>\n",
       "      <td>Furniture</td>\n",
       "      <td>Tables</td>\n",
       "      <td>957.5775</td>\n",
       "      <td>2016</td>\n",
       "      <td>0.1</td>\n",
       "      <td>861.81975</td>\n",
       "      <td>10</td>\n",
       "    </tr>\n",
       "    <tr>\n",
       "      <th>4</th>\n",
       "      <td>US-2016-108966</td>\n",
       "      <td>2016-10-11</td>\n",
       "      <td>SO-20335</td>\n",
       "      <td>Consumer</td>\n",
       "      <td>United States</td>\n",
       "      <td>Fort Lauderdale</td>\n",
       "      <td>Florida</td>\n",
       "      <td>OFF-ST-10000760</td>\n",
       "      <td>Office Supplies</td>\n",
       "      <td>Storage</td>\n",
       "      <td>22.3680</td>\n",
       "      <td>2016</td>\n",
       "      <td>0.1</td>\n",
       "      <td>20.13120</td>\n",
       "      <td>10</td>\n",
       "    </tr>\n",
       "    <tr>\n",
       "      <th>5</th>\n",
       "      <td>CA-2015-115812</td>\n",
       "      <td>2015-06-09</td>\n",
       "      <td>BH-11710</td>\n",
       "      <td>Consumer</td>\n",
       "      <td>United States</td>\n",
       "      <td>Los Angeles</td>\n",
       "      <td>California</td>\n",
       "      <td>FUR-FU-10001487</td>\n",
       "      <td>Furniture</td>\n",
       "      <td>Furnishings</td>\n",
       "      <td>48.8600</td>\n",
       "      <td>2015</td>\n",
       "      <td>0.1</td>\n",
       "      <td>43.97400</td>\n",
       "      <td>6</td>\n",
       "    </tr>\n",
       "    <tr>\n",
       "      <th>6</th>\n",
       "      <td>CA-2015-115812</td>\n",
       "      <td>2015-06-09</td>\n",
       "      <td>BH-11710</td>\n",
       "      <td>Consumer</td>\n",
       "      <td>United States</td>\n",
       "      <td>Los Angeles</td>\n",
       "      <td>California</td>\n",
       "      <td>OFF-AR-10002833</td>\n",
       "      <td>Office Supplies</td>\n",
       "      <td>Art</td>\n",
       "      <td>7.2800</td>\n",
       "      <td>2015</td>\n",
       "      <td>0.1</td>\n",
       "      <td>6.55200</td>\n",
       "      <td>6</td>\n",
       "    </tr>\n",
       "    <tr>\n",
       "      <th>7</th>\n",
       "      <td>CA-2015-115812</td>\n",
       "      <td>2015-06-09</td>\n",
       "      <td>BH-11710</td>\n",
       "      <td>Consumer</td>\n",
       "      <td>United States</td>\n",
       "      <td>Los Angeles</td>\n",
       "      <td>California</td>\n",
       "      <td>TEC-PH-10002275</td>\n",
       "      <td>Technology</td>\n",
       "      <td>Phones</td>\n",
       "      <td>907.1520</td>\n",
       "      <td>2015</td>\n",
       "      <td>0.1</td>\n",
       "      <td>816.43680</td>\n",
       "      <td>6</td>\n",
       "    </tr>\n",
       "    <tr>\n",
       "      <th>8</th>\n",
       "      <td>CA-2015-115812</td>\n",
       "      <td>2015-06-09</td>\n",
       "      <td>BH-11710</td>\n",
       "      <td>Consumer</td>\n",
       "      <td>United States</td>\n",
       "      <td>Los Angeles</td>\n",
       "      <td>California</td>\n",
       "      <td>OFF-BI-10003910</td>\n",
       "      <td>Office Supplies</td>\n",
       "      <td>Binders</td>\n",
       "      <td>18.5040</td>\n",
       "      <td>2015</td>\n",
       "      <td>0.1</td>\n",
       "      <td>16.65360</td>\n",
       "      <td>6</td>\n",
       "    </tr>\n",
       "    <tr>\n",
       "      <th>9</th>\n",
       "      <td>CA-2015-115812</td>\n",
       "      <td>2015-06-09</td>\n",
       "      <td>BH-11710</td>\n",
       "      <td>Consumer</td>\n",
       "      <td>United States</td>\n",
       "      <td>Los Angeles</td>\n",
       "      <td>California</td>\n",
       "      <td>OFF-AP-10002892</td>\n",
       "      <td>Office Supplies</td>\n",
       "      <td>Appliances</td>\n",
       "      <td>114.9000</td>\n",
       "      <td>2015</td>\n",
       "      <td>0.1</td>\n",
       "      <td>103.41000</td>\n",
       "      <td>6</td>\n",
       "    </tr>\n",
       "  </tbody>\n",
       "</table>\n",
       "</div>"
      ],
      "text/plain": [
       "        ID_Pedido Data_Pedido ID_Cliente   Segmento           Pais  \\\n",
       "0  CA-2017-152156  2017-11-08   CG-12520   Consumer  United States   \n",
       "1  CA-2017-152156  2017-11-08   CG-12520   Consumer  United States   \n",
       "2  CA-2017-138688  2017-06-12   DV-13045  Corporate  United States   \n",
       "3  US-2016-108966  2016-10-11   SO-20335   Consumer  United States   \n",
       "4  US-2016-108966  2016-10-11   SO-20335   Consumer  United States   \n",
       "5  CA-2015-115812  2015-06-09   BH-11710   Consumer  United States   \n",
       "6  CA-2015-115812  2015-06-09   BH-11710   Consumer  United States   \n",
       "7  CA-2015-115812  2015-06-09   BH-11710   Consumer  United States   \n",
       "8  CA-2015-115812  2015-06-09   BH-11710   Consumer  United States   \n",
       "9  CA-2015-115812  2015-06-09   BH-11710   Consumer  United States   \n",
       "\n",
       "            Cidade      Estado       ID_Produto        Categoria SubCategoria  \\\n",
       "0        Henderson    Kentucky  FUR-BO-10001798        Furniture    Bookcases   \n",
       "1        Henderson    Kentucky  FUR-CH-10000454        Furniture       Chairs   \n",
       "2      Los Angeles  California  OFF-LA-10000240  Office Supplies       Labels   \n",
       "3  Fort Lauderdale     Florida  FUR-TA-10000577        Furniture       Tables   \n",
       "4  Fort Lauderdale     Florida  OFF-ST-10000760  Office Supplies      Storage   \n",
       "5      Los Angeles  California  FUR-FU-10001487        Furniture  Furnishings   \n",
       "6      Los Angeles  California  OFF-AR-10002833  Office Supplies          Art   \n",
       "7      Los Angeles  California  TEC-PH-10002275       Technology       Phones   \n",
       "8      Los Angeles  California  OFF-BI-10003910  Office Supplies      Binders   \n",
       "9      Los Angeles  California  OFF-AP-10002892  Office Supplies   Appliances   \n",
       "\n",
       "   Valor_Venda   Ano  Desconto  Valor_Venda_Desconto  Mes  \n",
       "0     261.9600  2017       0.1             235.76400   11  \n",
       "1     731.9400  2017       0.1             658.74600   11  \n",
       "2      14.6200  2017       0.1              13.15800    6  \n",
       "3     957.5775  2016       0.1             861.81975   10  \n",
       "4      22.3680  2016       0.1              20.13120   10  \n",
       "5      48.8600  2015       0.1              43.97400    6  \n",
       "6       7.2800  2015       0.1               6.55200    6  \n",
       "7     907.1520  2015       0.1             816.43680    6  \n",
       "8      18.5040  2015       0.1              16.65360    6  \n",
       "9     114.9000  2015       0.1             103.41000    6  "
      ]
     },
     "execution_count": 40,
     "metadata": {},
     "output_type": "execute_result"
    }
   ],
   "source": [
    "\n",
    "df['Mes'] = df['Data_Pedido'].dt.month\n",
    "df.head(10)"
   ]
  },
  {
   "cell_type": "markdown",
   "metadata": {},
   "source": [
    "### > Faça o agrupamento do DataFrame por ano, mês e segmento e calcule as estatísticas de agregação"
   ]
  },
  {
   "cell_type": "markdown",
   "metadata": {},
   "source": [
    "Nesse código Python, estamos realizando uma operação de agregação em um DataFrame, agrupando os dados por ano, mês e segmento, e calculando estatísticas como a soma, a média e a mediana das vendas no campo 'Valor_Venda'. O resultado é uma tabela que exibe essas estatísticas para cada combinação de ano, mês e segmento. Essa abordagem é útil para analisar o desempenho das vendas em diferentes períodos e segmentos de forma resumida."
   ]
  },
  {
   "cell_type": "code",
   "execution_count": 41,
   "metadata": {},
   "outputs": [
    {
     "data": {
      "text/html": [
       "<div>\n",
       "<style scoped>\n",
       "    .dataframe tbody tr th:only-of-type {\n",
       "        vertical-align: middle;\n",
       "    }\n",
       "\n",
       "    .dataframe tbody tr th {\n",
       "        vertical-align: top;\n",
       "    }\n",
       "\n",
       "    .dataframe thead th {\n",
       "        text-align: right;\n",
       "    }\n",
       "</style>\n",
       "<table border=\"1\" class=\"dataframe\">\n",
       "  <thead>\n",
       "    <tr style=\"text-align: right;\">\n",
       "      <th></th>\n",
       "      <th></th>\n",
       "      <th></th>\n",
       "      <th>sum</th>\n",
       "      <th>mean</th>\n",
       "      <th>median</th>\n",
       "    </tr>\n",
       "    <tr>\n",
       "      <th>Ano</th>\n",
       "      <th>Mes</th>\n",
       "      <th>Segmento</th>\n",
       "      <th></th>\n",
       "      <th></th>\n",
       "      <th></th>\n",
       "    </tr>\n",
       "  </thead>\n",
       "  <tbody>\n",
       "    <tr>\n",
       "      <th rowspan=\"5\" valign=\"top\">2015</th>\n",
       "      <th rowspan=\"3\" valign=\"top\">1</th>\n",
       "      <th>Consumer</th>\n",
       "      <td>6896.6290</td>\n",
       "      <td>146.736787</td>\n",
       "      <td>36.440</td>\n",
       "    </tr>\n",
       "    <tr>\n",
       "      <th>Corporate</th>\n",
       "      <td>1701.5280</td>\n",
       "      <td>130.886769</td>\n",
       "      <td>51.940</td>\n",
       "    </tr>\n",
       "    <tr>\n",
       "      <th>Home Office</th>\n",
       "      <td>5607.5500</td>\n",
       "      <td>329.855882</td>\n",
       "      <td>62.820</td>\n",
       "    </tr>\n",
       "    <tr>\n",
       "      <th rowspan=\"2\" valign=\"top\">2</th>\n",
       "      <th>Consumer</th>\n",
       "      <td>3167.8540</td>\n",
       "      <td>117.327926</td>\n",
       "      <td>22.776</td>\n",
       "    </tr>\n",
       "    <tr>\n",
       "      <th>Corporate</th>\n",
       "      <td>623.1180</td>\n",
       "      <td>69.235333</td>\n",
       "      <td>62.310</td>\n",
       "    </tr>\n",
       "    <tr>\n",
       "      <th>...</th>\n",
       "      <th>...</th>\n",
       "      <th>...</th>\n",
       "      <td>...</td>\n",
       "      <td>...</td>\n",
       "      <td>...</td>\n",
       "    </tr>\n",
       "    <tr>\n",
       "      <th rowspan=\"5\" valign=\"top\">2018</th>\n",
       "      <th rowspan=\"2\" valign=\"top\">11</th>\n",
       "      <th>Corporate</th>\n",
       "      <td>44357.9862</td>\n",
       "      <td>341.215278</td>\n",
       "      <td>79.530</td>\n",
       "    </tr>\n",
       "    <tr>\n",
       "      <th>Home Office</th>\n",
       "      <td>24009.3840</td>\n",
       "      <td>247.519423</td>\n",
       "      <td>56.560</td>\n",
       "    </tr>\n",
       "    <tr>\n",
       "      <th rowspan=\"3\" valign=\"top\">12</th>\n",
       "      <th>Consumer</th>\n",
       "      <td>48107.4558</td>\n",
       "      <td>183.616244</td>\n",
       "      <td>52.533</td>\n",
       "    </tr>\n",
       "    <tr>\n",
       "      <th>Corporate</th>\n",
       "      <td>20524.4320</td>\n",
       "      <td>153.167403</td>\n",
       "      <td>46.460</td>\n",
       "    </tr>\n",
       "    <tr>\n",
       "      <th>Home Office</th>\n",
       "      <td>13022.3910</td>\n",
       "      <td>224.523983</td>\n",
       "      <td>49.260</td>\n",
       "    </tr>\n",
       "  </tbody>\n",
       "</table>\n",
       "<p>144 rows × 3 columns</p>\n",
       "</div>"
      ],
      "text/plain": [
       "                             sum        mean  median\n",
       "Ano  Mes Segmento                                   \n",
       "2015 1   Consumer      6896.6290  146.736787  36.440\n",
       "         Corporate     1701.5280  130.886769  51.940\n",
       "         Home Office   5607.5500  329.855882  62.820\n",
       "     2   Consumer      3167.8540  117.327926  22.776\n",
       "         Corporate      623.1180   69.235333  62.310\n",
       "...                          ...         ...     ...\n",
       "2018 11  Corporate    44357.9862  341.215278  79.530\n",
       "         Home Office  24009.3840  247.519423  56.560\n",
       "     12  Consumer     48107.4558  183.616244  52.533\n",
       "         Corporate    20524.4320  153.167403  46.460\n",
       "         Home Office  13022.3910  224.523983  49.260\n",
       "\n",
       "[144 rows x 3 columns]"
      ]
     },
     "execution_count": 41,
     "metadata": {},
     "output_type": "execute_result"
    }
   ],
   "source": [
    "\n",
    "sales_statistics = df.groupby(['Ano', 'Mes', 'Segmento'])['Valor_Venda'].agg([np.sum, np.mean, np.median])\n",
    "sales_statistics"
   ]
  },
  {
   "cell_type": "markdown",
   "metadata": {},
   "source": [
    "### Faça a extração dos níveis do DataFrame"
   ]
  },
  {
   "cell_type": "markdown",
   "metadata": {},
   "source": [
    "Nesse trecho de código em Python, estamos extraindo os níveis do DataFrame \"sales_statistics\" para as variáveis \"anos\", \"meses\" e \"segmentos\". Isso nos permite acessar e manipular os valores de cada nível separadamente, facilitando análises posteriores com base nos anos, meses e segmentos contidos no DataFrame."
   ]
  },
  {
   "cell_type": "code",
   "execution_count": 42,
   "metadata": {},
   "outputs": [],
   "source": [
    "\n",
    "anos = sales_statistics.index.get_level_values(0)\n",
    "meses = sales_statistics.index.get_level_values(1)\n",
    "segmentos = sales_statistics.index.get_level_values(2)"
   ]
  },
  {
   "cell_type": "markdown",
   "metadata": {},
   "source": [
    "### > Faça a configuração e criação do gráfico de linha usando a biblioteca Seabom"
   ]
  },
  {
   "cell_type": "markdown",
   "metadata": {},
   "source": [
    "Nesse código Python, estamos configurando um gráfico de linha utilizando a biblioteca Seaborn. Primeiro, definimos o tamanho da figura como 12 por 6 unidades. Em seguida, configuramos o estilo do gráfico. O gráfico de linha é criado com a função `sns.relplot`, onde especificamos o tipo 'line', os dados em `sales_statistics`, o eixo Y como 'mean', o eixo X como 'meses', e usamos cores diferentes para as linhas com base na variável 'segmentos'. Além disso, os gráficos são divididos em colunas com base na variável 'anos' e organizados em até 4 colunas por linha (col_wrap=4). Por fim, exibimos o gráfico com `plt.show()`."
   ]
  },
  {
   "cell_type": "code",
   "execution_count": 54,
   "metadata": {},
   "outputs": [
    {
     "data": {
      "text/plain": [
       "<Figure size 1200x600 with 0 Axes>"
      ]
     },
     "metadata": {},
     "output_type": "display_data"
    },
    {
     "data": {
      "image/png": "[encoded data removed]",
      "text/plain": [
       "<Figure size 2139.88x500 with 4 Axes>"
      ]
     },
     "metadata": {},
     "output_type": "display_data"
    }
   ],
   "source": [
    "\n",
    "# Configuração do gráfico\n",
    "plt.figure(figsize=(12, 6))\n",
    "sns.set()\n",
    "\n",
    "# Criando o gráfico de linha\n",
    "line_graph = sns.relplot(\n",
    "    kind='line',\n",
    "    data=sales_statistics, \n",
    "    y='mean', \n",
    "    x=meses,\n",
    "    hue=segmentos, \n",
    "    col=anos,\n",
    "    col_wrap=4\n",
    ")\n",
    "\n",
    "# Exibindo o gráfico\n",
    "plt.show()"
   ]
  },
  {
   "cell_type": "markdown",
   "metadata": {},
   "source": [
    "## Pergunta de Negócio 10 (Desafio Nível Master Ninja das Galáxias):\n",
    "\n",
    "### <font color='#f16465'> Qual o Total de Vendas Por Categoria e SubCategoria, Considerando Somente as Top 12 SubCategorias? </font>\n",
    "\n",
    "Demonstre tudo através de um único gráfico."
   ]
  },
  {
   "cell_type": "markdown",
   "metadata": {},
   "source": [
    "### > Fazer a exibição da base de dados do DataFrame"
   ]
  },
  {
   "cell_type": "markdown",
   "metadata": {},
   "source": [
    "Neste trecho de código em Python, o comando \"df.head()\" é utilizado para exibir as primeiras linhas da base de dados armazenada em um DataFrame. Essa função é útil para visualizar rapidamente os primeiros registros do conjunto de dados e entender sua estrutura, o que é fundamental para a análise e manipulação de dados em projetos de Business Intelligence (BI)."
   ]
  },
  {
   "cell_type": "code",
   "execution_count": 55,
   "metadata": {},
   "outputs": [
    {
     "data": {
      "text/html": [
       "<div>\n",
       "<style scoped>\n",
       "    .dataframe tbody tr th:only-of-type {\n",
       "        vertical-align: middle;\n",
       "    }\n",
       "\n",
       "    .dataframe tbody tr th {\n",
       "        vertical-align: top;\n",
       "    }\n",
       "\n",
       "    .dataframe thead th {\n",
       "        text-align: right;\n",
       "    }\n",
       "</style>\n",
       "<table border=\"1\" class=\"dataframe\">\n",
       "  <thead>\n",
       "    <tr style=\"text-align: right;\">\n",
       "      <th></th>\n",
       "      <th>ID_Pedido</th>\n",
       "      <th>Data_Pedido</th>\n",
       "      <th>ID_Cliente</th>\n",
       "      <th>Segmento</th>\n",
       "      <th>Pais</th>\n",
       "      <th>Cidade</th>\n",
       "      <th>Estado</th>\n",
       "      <th>ID_Produto</th>\n",
       "      <th>Categoria</th>\n",
       "      <th>SubCategoria</th>\n",
       "      <th>Valor_Venda</th>\n",
       "      <th>Ano</th>\n",
       "      <th>Desconto</th>\n",
       "      <th>Valor_Venda_Desconto</th>\n",
       "      <th>Mes</th>\n",
       "    </tr>\n",
       "  </thead>\n",
       "  <tbody>\n",
       "    <tr>\n",
       "      <th>0</th>\n",
       "      <td>CA-2017-152156</td>\n",
       "      <td>2017-11-08</td>\n",
       "      <td>CG-12520</td>\n",
       "      <td>Consumer</td>\n",
       "      <td>United States</td>\n",
       "      <td>Henderson</td>\n",
       "      <td>Kentucky</td>\n",
       "      <td>FUR-BO-10001798</td>\n",
       "      <td>Furniture</td>\n",
       "      <td>Bookcases</td>\n",
       "      <td>261.9600</td>\n",
       "      <td>2017</td>\n",
       "      <td>0.1</td>\n",
       "      <td>235.76400</td>\n",
       "      <td>11</td>\n",
       "    </tr>\n",
       "    <tr>\n",
       "      <th>1</th>\n",
       "      <td>CA-2017-152156</td>\n",
       "      <td>2017-11-08</td>\n",
       "      <td>CG-12520</td>\n",
       "      <td>Consumer</td>\n",
       "      <td>United States</td>\n",
       "      <td>Henderson</td>\n",
       "      <td>Kentucky</td>\n",
       "      <td>FUR-CH-10000454</td>\n",
       "      <td>Furniture</td>\n",
       "      <td>Chairs</td>\n",
       "      <td>731.9400</td>\n",
       "      <td>2017</td>\n",
       "      <td>0.1</td>\n",
       "      <td>658.74600</td>\n",
       "      <td>11</td>\n",
       "    </tr>\n",
       "    <tr>\n",
       "      <th>2</th>\n",
       "      <td>CA-2017-138688</td>\n",
       "      <td>2017-06-12</td>\n",
       "      <td>DV-13045</td>\n",
       "      <td>Corporate</td>\n",
       "      <td>United States</td>\n",
       "      <td>Los Angeles</td>\n",
       "      <td>California</td>\n",
       "      <td>OFF-LA-10000240</td>\n",
       "      <td>Office Supplies</td>\n",
       "      <td>Labels</td>\n",
       "      <td>14.6200</td>\n",
       "      <td>2017</td>\n",
       "      <td>0.1</td>\n",
       "      <td>13.15800</td>\n",
       "      <td>6</td>\n",
       "    </tr>\n",
       "    <tr>\n",
       "      <th>3</th>\n",
       "      <td>US-2016-108966</td>\n",
       "      <td>2016-10-11</td>\n",
       "      <td>SO-20335</td>\n",
       "      <td>Consumer</td>\n",
       "      <td>United States</td>\n",
       "      <td>Fort Lauderdale</td>\n",
       "      <td>Florida</td>\n",
       "      <td>FUR-TA-10000577</td>\n",
       "      <td>Furniture</td>\n",
       "      <td>Tables</td>\n",
       "      <td>957.5775</td>\n",
       "      <td>2016</td>\n",
       "      <td>0.1</td>\n",
       "      <td>861.81975</td>\n",
       "      <td>10</td>\n",
       "    </tr>\n",
       "    <tr>\n",
       "      <th>4</th>\n",
       "      <td>US-2016-108966</td>\n",
       "      <td>2016-10-11</td>\n",
       "      <td>SO-20335</td>\n",
       "      <td>Consumer</td>\n",
       "      <td>United States</td>\n",
       "      <td>Fort Lauderdale</td>\n",
       "      <td>Florida</td>\n",
       "      <td>OFF-ST-10000760</td>\n",
       "      <td>Office Supplies</td>\n",
       "      <td>Storage</td>\n",
       "      <td>22.3680</td>\n",
       "      <td>2016</td>\n",
       "      <td>0.1</td>\n",
       "      <td>20.13120</td>\n",
       "      <td>10</td>\n",
       "    </tr>\n",
       "  </tbody>\n",
       "</table>\n",
       "</div>"
      ],
      "text/plain": [
       "        ID_Pedido Data_Pedido ID_Cliente   Segmento           Pais  \\\n",
       "0  CA-2017-152156  2017-11-08   CG-12520   Consumer  United States   \n",
       "1  CA-2017-152156  2017-11-08   CG-12520   Consumer  United States   \n",
       "2  CA-2017-138688  2017-06-12   DV-13045  Corporate  United States   \n",
       "3  US-2016-108966  2016-10-11   SO-20335   Consumer  United States   \n",
       "4  US-2016-108966  2016-10-11   SO-20335   Consumer  United States   \n",
       "\n",
       "            Cidade      Estado       ID_Produto        Categoria SubCategoria  \\\n",
       "0        Henderson    Kentucky  FUR-BO-10001798        Furniture    Bookcases   \n",
       "1        Henderson    Kentucky  FUR-CH-10000454        Furniture       Chairs   \n",
       "2      Los Angeles  California  OFF-LA-10000240  Office Supplies       Labels   \n",
       "3  Fort Lauderdale     Florida  FUR-TA-10000577        Furniture       Tables   \n",
       "4  Fort Lauderdale     Florida  OFF-ST-10000760  Office Supplies      Storage   \n",
       "\n",
       "   Valor_Venda   Ano  Desconto  Valor_Venda_Desconto  Mes  \n",
       "0     261.9600  2017       0.1             235.76400   11  \n",
       "1     731.9400  2017       0.1             658.74600   11  \n",
       "2      14.6200  2017       0.1              13.15800    6  \n",
       "3     957.5775  2016       0.1             861.81975   10  \n",
       "4      22.3680  2016       0.1              20.13120   10  "
      ]
     },
     "execution_count": 55,
     "metadata": {},
     "output_type": "execute_result"
    }
   ],
   "source": [
    "\n",
    "df.head()"
   ]
  },
  {
   "cell_type": "markdown",
   "metadata": {},
   "source": [
    "### > Faça o agrupamento do DataFrame por categoria e subcategoria, somando apenas as colunas numéricas"
   ]
  },
  {
   "cell_type": "markdown",
   "metadata": {},
   "source": [
    "Nesse código Python, estamos processando um DataFrame chamado 'df'. Primeiro, agrupamos os dados com base nas colunas 'Categoria' e 'SubCategoria', realizando a soma das colunas numéricas. Em seguida, ordenamos o resultado em ordem decrescente com base na coluna 'Valor_Venda'. Por fim, selecionamos as 12 primeiras linhas desse DataFrame ordenado, o que nos dá as 12 principais combinações de categorias e subcategorias com os maiores valores de venda."
   ]
  },
  {
   "cell_type": "code",
   "execution_count": 58,
   "metadata": {},
   "outputs": [
    {
     "data": {
      "text/html": [
       "<div>\n",
       "<style scoped>\n",
       "    .dataframe tbody tr th:only-of-type {\n",
       "        vertical-align: middle;\n",
       "    }\n",
       "\n",
       "    .dataframe tbody tr th {\n",
       "        vertical-align: top;\n",
       "    }\n",
       "\n",
       "    .dataframe thead th {\n",
       "        text-align: right;\n",
       "    }\n",
       "</style>\n",
       "<table border=\"1\" class=\"dataframe\">\n",
       "  <thead>\n",
       "    <tr style=\"text-align: right;\">\n",
       "      <th></th>\n",
       "      <th></th>\n",
       "      <th>Valor_Venda</th>\n",
       "      <th>Ano</th>\n",
       "      <th>Desconto</th>\n",
       "      <th>Valor_Venda_Desconto</th>\n",
       "      <th>Mes</th>\n",
       "    </tr>\n",
       "    <tr>\n",
       "      <th>Categoria</th>\n",
       "      <th>SubCategoria</th>\n",
       "      <th></th>\n",
       "      <th></th>\n",
       "      <th></th>\n",
       "      <th></th>\n",
       "      <th></th>\n",
       "    </tr>\n",
       "  </thead>\n",
       "  <tbody>\n",
       "    <tr>\n",
       "      <th>Technology</th>\n",
       "      <th>Phones</th>\n",
       "      <td>325271.2940</td>\n",
       "      <td>1748496</td>\n",
       "      <td>90.15</td>\n",
       "      <td>286990.85830</td>\n",
       "      <td>6649</td>\n",
       "    </tr>\n",
       "    <tr>\n",
       "      <th>Furniture</th>\n",
       "      <th>Chairs</th>\n",
       "      <td>317919.6250</td>\n",
       "      <td>1201942</td>\n",
       "      <td>63.30</td>\n",
       "      <td>279816.75990</td>\n",
       "      <td>4834</td>\n",
       "    </tr>\n",
       "    <tr>\n",
       "      <th>Office Supplies</th>\n",
       "      <th>Storage</th>\n",
       "      <td>216188.3620</td>\n",
       "      <td>1663791</td>\n",
       "      <td>84.75</td>\n",
       "      <td>191433.27010</td>\n",
       "      <td>6548</td>\n",
       "    </tr>\n",
       "    <tr>\n",
       "      <th>Furniture</th>\n",
       "      <th>Tables</th>\n",
       "      <td>202083.3600</td>\n",
       "      <td>627193</td>\n",
       "      <td>34.15</td>\n",
       "      <td>176938.45555</td>\n",
       "      <td>2466</td>\n",
       "    </tr>\n",
       "    <tr>\n",
       "      <th>Office Supplies</th>\n",
       "      <th>Binders</th>\n",
       "      <td>194723.3810</td>\n",
       "      <td>2964618</td>\n",
       "      <td>149.10</td>\n",
       "      <td>169623.33495</td>\n",
       "      <td>11451</td>\n",
       "    </tr>\n",
       "    <tr>\n",
       "      <th rowspan=\"3\" valign=\"top\">Technology</th>\n",
       "      <th>Machines</th>\n",
       "      <td>189238.6310</td>\n",
       "      <td>231912</td>\n",
       "      <td>13.65</td>\n",
       "      <td>162213.65840</td>\n",
       "      <td>897</td>\n",
       "    </tr>\n",
       "    <tr>\n",
       "      <th>Accessories</th>\n",
       "      <td>162791.3620</td>\n",
       "      <td>1504508</td>\n",
       "      <td>76.10</td>\n",
       "      <td>144162.61990</td>\n",
       "      <td>5982</td>\n",
       "    </tr>\n",
       "    <tr>\n",
       "      <th>Copiers</th>\n",
       "      <td>146248.0940</td>\n",
       "      <td>133104</td>\n",
       "      <td>8.30</td>\n",
       "      <td>125379.85260</td>\n",
       "      <td>516</td>\n",
       "    </tr>\n",
       "    <tr>\n",
       "      <th>Furniture</th>\n",
       "      <th>Bookcases</th>\n",
       "      <td>108045.0467</td>\n",
       "      <td>449734</td>\n",
       "      <td>23.50</td>\n",
       "      <td>95035.86235</td>\n",
       "      <td>1706</td>\n",
       "    </tr>\n",
       "    <tr>\n",
       "      <th>Office Supplies</th>\n",
       "      <th>Appliances</th>\n",
       "      <td>104061.6930</td>\n",
       "      <td>915604</td>\n",
       "      <td>46.45</td>\n",
       "      <td>91938.64420</td>\n",
       "      <td>3583</td>\n",
       "    </tr>\n",
       "    <tr>\n",
       "      <th>Furniture</th>\n",
       "      <th>Furnishings</th>\n",
       "      <td>88862.7700</td>\n",
       "      <td>1865489</td>\n",
       "      <td>92.75</td>\n",
       "      <td>79694.54640</td>\n",
       "      <td>7301</td>\n",
       "    </tr>\n",
       "    <tr>\n",
       "      <th>Office Supplies</th>\n",
       "      <th>Paper</th>\n",
       "      <td>76312.7640</td>\n",
       "      <td>2680255</td>\n",
       "      <td>132.90</td>\n",
       "      <td>68681.48760</td>\n",
       "      <td>10404</td>\n",
       "    </tr>\n",
       "  </tbody>\n",
       "</table>\n",
       "</div>"
      ],
      "text/plain": [
       "                              Valor_Venda      Ano  Desconto  \\\n",
       "Categoria       SubCategoria                                   \n",
       "Technology      Phones        325271.2940  1748496     90.15   \n",
       "Furniture       Chairs        317919.6250  1201942     63.30   \n",
       "Office Supplies Storage       216188.3620  1663791     84.75   \n",
       "Furniture       Tables        202083.3600   627193     34.15   \n",
       "Office Supplies Binders       194723.3810  2964618    149.10   \n",
       "Technology      Machines      189238.6310   231912     13.65   \n",
       "                Accessories   162791.3620  1504508     76.10   \n",
       "                Copiers       146248.0940   133104      8.30   \n",
       "Furniture       Bookcases     108045.0467   449734     23.50   \n",
       "Office Supplies Appliances    104061.6930   915604     46.45   \n",
       "Furniture       Furnishings    88862.7700  1865489     92.75   \n",
       "Office Supplies Paper          76312.7640  2680255    132.90   \n",
       "\n",
       "                              Valor_Venda_Desconto    Mes  \n",
       "Categoria       SubCategoria                               \n",
       "Technology      Phones                286990.85830   6649  \n",
       "Furniture       Chairs                279816.75990   4834  \n",
       "Office Supplies Storage               191433.27010   6548  \n",
       "Furniture       Tables                176938.45555   2466  \n",
       "Office Supplies Binders               169623.33495  11451  \n",
       "Technology      Machines              162213.65840    897  \n",
       "                Accessories           144162.61990   5982  \n",
       "                Copiers               125379.85260    516  \n",
       "Furniture       Bookcases              95035.86235   1706  \n",
       "Office Supplies Appliances             91938.64420   3583  \n",
       "Furniture       Furnishings            79694.54640   7301  \n",
       "Office Supplies Paper                  68681.48760  10404  "
      ]
     },
     "execution_count": 58,
     "metadata": {},
     "output_type": "execute_result"
    }
   ],
   "source": [
    "\n",
    "# Agrupamos o DataFrame por categoria e subcategoria, somando apenas as colunas numéricas\n",
    "df_grouped = df.groupby(['Categoria', 'SubCategoria']).sum(numeric_only=True)\n",
    "\n",
    "# Ordenamos o DataFrame em ordem decrescente com base na coluna 'Valor_Venda'\n",
    "df_sorted = df_grouped.sort_values('Valor_Venda', ascending=False)\n",
    "\n",
    "# Selecionamos as 12 primeiras linhas do DataFrame resultante\n",
    "df_top12 = df_sorted.head(12)\n",
    "df_top12"
   ]
  },
  {
   "cell_type": "markdown",
   "metadata": {},
   "source": [
    "### > Converta a coluna 'Valor_Venda' em números inteiros e ordenamos por 'Categoria'"
   ]
  },
  {
   "cell_type": "markdown",
   "metadata": {},
   "source": [
    "No código Python fornecido, estamos transformando a coluna 'Valor_Venda' em números inteiros, organizando os dados com base na coluna 'Categoria' e redefinindo o índice do DataFrame. Isso nos permite obter uma visualização dos valores de venda ordenados por categoria em formato numérico inteiro."
   ]
  },
  {
   "cell_type": "code",
   "execution_count": 60,
   "metadata": {},
   "outputs": [
    {
     "data": {
      "text/html": [
       "<div>\n",
       "<style scoped>\n",
       "    .dataframe tbody tr th:only-of-type {\n",
       "        vertical-align: middle;\n",
       "    }\n",
       "\n",
       "    .dataframe tbody tr th {\n",
       "        vertical-align: top;\n",
       "    }\n",
       "\n",
       "    .dataframe thead th {\n",
       "        text-align: right;\n",
       "    }\n",
       "</style>\n",
       "<table border=\"1\" class=\"dataframe\">\n",
       "  <thead>\n",
       "    <tr style=\"text-align: right;\">\n",
       "      <th></th>\n",
       "      <th>Categoria</th>\n",
       "      <th>SubCategoria</th>\n",
       "      <th>Valor_Venda</th>\n",
       "    </tr>\n",
       "  </thead>\n",
       "  <tbody>\n",
       "    <tr>\n",
       "      <th>0</th>\n",
       "      <td>Furniture</td>\n",
       "      <td>Chairs</td>\n",
       "      <td>317919</td>\n",
       "    </tr>\n",
       "    <tr>\n",
       "      <th>1</th>\n",
       "      <td>Furniture</td>\n",
       "      <td>Tables</td>\n",
       "      <td>202083</td>\n",
       "    </tr>\n",
       "    <tr>\n",
       "      <th>2</th>\n",
       "      <td>Furniture</td>\n",
       "      <td>Bookcases</td>\n",
       "      <td>108045</td>\n",
       "    </tr>\n",
       "    <tr>\n",
       "      <th>3</th>\n",
       "      <td>Furniture</td>\n",
       "      <td>Furnishings</td>\n",
       "      <td>88862</td>\n",
       "    </tr>\n",
       "    <tr>\n",
       "      <th>4</th>\n",
       "      <td>Office Supplies</td>\n",
       "      <td>Storage</td>\n",
       "      <td>216188</td>\n",
       "    </tr>\n",
       "    <tr>\n",
       "      <th>5</th>\n",
       "      <td>Office Supplies</td>\n",
       "      <td>Binders</td>\n",
       "      <td>194723</td>\n",
       "    </tr>\n",
       "    <tr>\n",
       "      <th>6</th>\n",
       "      <td>Office Supplies</td>\n",
       "      <td>Appliances</td>\n",
       "      <td>104061</td>\n",
       "    </tr>\n",
       "    <tr>\n",
       "      <th>7</th>\n",
       "      <td>Office Supplies</td>\n",
       "      <td>Paper</td>\n",
       "      <td>76312</td>\n",
       "    </tr>\n",
       "    <tr>\n",
       "      <th>8</th>\n",
       "      <td>Technology</td>\n",
       "      <td>Phones</td>\n",
       "      <td>325271</td>\n",
       "    </tr>\n",
       "    <tr>\n",
       "      <th>9</th>\n",
       "      <td>Technology</td>\n",
       "      <td>Machines</td>\n",
       "      <td>189238</td>\n",
       "    </tr>\n",
       "    <tr>\n",
       "      <th>10</th>\n",
       "      <td>Technology</td>\n",
       "      <td>Accessories</td>\n",
       "      <td>162791</td>\n",
       "    </tr>\n",
       "    <tr>\n",
       "      <th>11</th>\n",
       "      <td>Technology</td>\n",
       "      <td>Copiers</td>\n",
       "      <td>146248</td>\n",
       "    </tr>\n",
       "  </tbody>\n",
       "</table>\n",
       "</div>"
      ],
      "text/plain": [
       "          Categoria SubCategoria  Valor_Venda\n",
       "0         Furniture       Chairs       317919\n",
       "1         Furniture       Tables       202083\n",
       "2         Furniture    Bookcases       108045\n",
       "3         Furniture  Furnishings        88862\n",
       "4   Office Supplies      Storage       216188\n",
       "5   Office Supplies      Binders       194723\n",
       "6   Office Supplies   Appliances       104061\n",
       "7   Office Supplies        Paper        76312\n",
       "8        Technology       Phones       325271\n",
       "9        Technology     Machines       189238\n",
       "10       Technology  Accessories       162791\n",
       "11       Technology      Copiers       146248"
      ]
     },
     "execution_count": 60,
     "metadata": {},
     "output_type": "execute_result"
    }
   ],
   "source": [
    "\n",
    "df_sales_cleaned = df_top12[['Valor_Venda']].astype(int).sort_values(by='Categoria').reset_index()\n",
    "df_sales_cleaned"
   ]
  },
  {
   "cell_type": "markdown",
   "metadata": {},
   "source": [
    "### > Faça o agrupamento dos dados por categoria e calcule a soma dos valores numéricos"
   ]
  },
  {
   "cell_type": "markdown",
   "metadata": {},
   "source": [
    "Nesse código Python, estamos realizando uma operação de agregação dos dados em um DataFrame chamado `df_sales_cleaned`. Primeiro, estamos agrupando os dados com base na coluna 'Categoria'. Em seguida, calculamos a soma das colunas numéricas para cada categoria usando o método `sum(numeric_only=True)`. Por fim, redefinimos o índice do DataFrame resultante para obter os totais por categoria. Em resumo, esse código agrupa os dados por categoria e calcula as somas dos valores numéricos, resultando em um novo DataFrame chamado `category_totals`."
   ]
  },
  {
   "cell_type": "code",
   "execution_count": 63,
   "metadata": {},
   "outputs": [
    {
     "data": {
      "text/html": [
       "<div>\n",
       "<style scoped>\n",
       "    .dataframe tbody tr th:only-of-type {\n",
       "        vertical-align: middle;\n",
       "    }\n",
       "\n",
       "    .dataframe tbody tr th {\n",
       "        vertical-align: top;\n",
       "    }\n",
       "\n",
       "    .dataframe thead th {\n",
       "        text-align: right;\n",
       "    }\n",
       "</style>\n",
       "<table border=\"1\" class=\"dataframe\">\n",
       "  <thead>\n",
       "    <tr style=\"text-align: right;\">\n",
       "      <th></th>\n",
       "      <th>Categoria</th>\n",
       "      <th>Valor_Venda</th>\n",
       "    </tr>\n",
       "  </thead>\n",
       "  <tbody>\n",
       "    <tr>\n",
       "      <th>0</th>\n",
       "      <td>Furniture</td>\n",
       "      <td>716909</td>\n",
       "    </tr>\n",
       "    <tr>\n",
       "      <th>1</th>\n",
       "      <td>Office Supplies</td>\n",
       "      <td>591284</td>\n",
       "    </tr>\n",
       "    <tr>\n",
       "      <th>2</th>\n",
       "      <td>Technology</td>\n",
       "      <td>823548</td>\n",
       "    </tr>\n",
       "  </tbody>\n",
       "</table>\n",
       "</div>"
      ],
      "text/plain": [
       "         Categoria  Valor_Venda\n",
       "0        Furniture       716909\n",
       "1  Office Supplies       591284\n",
       "2       Technology       823548"
      ]
     },
     "execution_count": 63,
     "metadata": {},
     "output_type": "execute_result"
    }
   ],
   "source": [
    "\n",
    "category_totals = df_sales_cleaned.groupby('Categoria').sum(numeric_only=True).reset_index()\n",
    "category_totals"
   ]
  },
  {
   "cell_type": "markdown",
   "metadata": {},
   "source": [
    "### > Lista de cores para categorias"
   ]
  },
  {
   "cell_type": "code",
   "execution_count": 69,
   "metadata": {},
   "outputs": [],
   "source": [
    "\n",
    "category_colors = [\n",
    "    '#5d00de',\n",
    "    '#0ee84f',\n",
    "    '#e80e27'\n",
    "]"
   ]
  },
  {
   "cell_type": "markdown",
   "metadata": {},
   "source": [
    "### > Listas de cores para subcategorias"
   ]
  },
  {
   "cell_type": "code",
   "execution_count": 70,
   "metadata": {},
   "outputs": [],
   "source": [
    "\n",
    "subcategories_colors = [\n",
    "    '#aa8cd4',\n",
    "    '#aa8cd5',\n",
    "    '#aa8cd6',\n",
    "    '#aa8cd7',\n",
    "    '#26c957',\n",
    "    '#26c958',\n",
    "    '#26c959',\n",
    "    '#26c960',\n",
    "    '#e65e65',\n",
    "    '#e65e66',\n",
    "    '#e65e67',\n",
    "    '#e65e68'\n",
    "]"
   ]
  },
  {
   "cell_type": "markdown",
   "metadata": {},
   "source": [
    "### >  Faça a exibição das informações sobre vendas por categoria e subcategoria"
   ]
  },
  {
   "cell_type": "markdown",
   "metadata": {},
   "source": [
    "Esse código Python cria um gráfico de pizza (ou \"pie chart\") usando a biblioteca Matplotlib. Ele exibe informações sobre vendas por categoria e subcategoria. O gráfico de categorias ocupa a parte externa do círculo, mostrando as porcentagens de vendas em cada categoria. As subcategorias são exibidas na parte interna com rótulos, porcentagens e cores diferentes. O centro do círculo é limpo, e informações adicionais, como o total de vendas, são exibidas. No final, o gráfico é apresentado com um título. Esse código é útil para visualizar a distribuição das vendas em categorias e subcategorias de forma clara e concisa."
   ]
  },
  {
   "cell_type": "code",
   "execution_count": 75,
   "metadata": {},
   "outputs": [
    {
     "data": {
      "image/png": "[encoded data removed]",
      "text/plain": [
       "<Figure size 1800x1200 with 1 Axes>"
      ]
     },
     "metadata": {},
     "output_type": "display_data"
    }
   ],
   "source": [
    "\n",
    "# Configurações do gráfico\n",
    "figura, eixo = plt.subplots(figsize=(18, 12))\n",
    "\n",
    "# Gráfico das categorias\n",
    "eixo.pie(\n",
    "    category_totals['Valor_Venda'], \n",
    "    radius=1,\n",
    "    labels=category_totals['Categoria'],\n",
    "    wedgeprops={'edgecolor': 'white'},\n",
    "    colors=category_colors\n",
    ")\n",
    "\n",
    "# Gráfico das subcategorias\n",
    "eixo.pie(\n",
    "    df_sales_cleaned['Valor_Venda'],\n",
    "    radius=0.9,\n",
    "    labels=df_sales_cleaned['SubCategoria'],\n",
    "    autopct='%1.1f%%',\n",
    "    colors=subcategories_colors, \n",
    "    labeldistance=0.7,\n",
    "    wedgeprops={'edgecolor': 'white'}, \n",
    "    pctdistance=0.53,\n",
    "    rotatelabels=True\n",
    ")\n",
    "\n",
    "# Limpa o centro do círculo\n",
    "center_circle = plt.Circle((0, 0), 0.6, fc='white')\n",
    "\n",
    "# Labels e anotações\n",
    "figura = plt.gcf()\n",
    "figura.gca().add_artist(center_circle)\n",
    "plt.annotate(text='Total de Vendas: ' + '$ ' + str(int(sum(df_sales_cleaned['Valor_Venda']))), xy=(-0.2, 0))\n",
    "plt.title('Total de Vendas Por Categoria e Top 12 SubCategorias')\n",
    "plt.show()"
   ]
  },
  {
   "cell_type": "markdown",
   "metadata": {},
   "source": [
    "**Análise Conclusivo:** A imagem é um gráfico de pizza que mostra o total de vendas por categoria e as 12 principais subcategorias de uma empresa. O gráfico é dividido em 12 fatias, cada uma representando uma categoria ou subcategoria. As fatias são coloridas de acordo com a categoria ou subcategoria que representam.\n",
    "\n",
    "Os dados do gráfico mostram que a categoria de móveis é a que mais representa o total de vendas, com 28,5%. A subcategoria de cadeiras é a que mais representa o total de vendas dentro da categoria de móveis, com 14,9%. As outras 11 categorias e subcategorias representam o restante do total de vendas.\n",
    "\n",
    "Os pontos de destaque do gráfico são os seguintes:\n",
    "\n",
    "* A categoria de móveis é a que mais representa o total de vendas, com 28,5%.\n",
    "* A subcategoria de cadeiras é a que mais representa o total de vendas dentro da categoria de móveis, com 14,9%.\n",
    "* As outras 11 categorias e subcategorias representam o restante do total de vendas.\n",
    "\n",
    "O gráfico pode ser usado para fornecer uma visão geral do desempenho de vendas de uma empresa. Ele pode ser usado para identificar as categorias e subcategorias que mais contribuem para o total de vendas. O gráfico também pode ser usado para comparar o desempenho de vendas de diferentes categorias e subcategorias.\n",
    "\n",
    "Aqui estão algumas interpretações adicionais do gráfico:\n",
    "\n",
    "* A empresa está bem diversificada, com vendas em uma variedade de categorias e subcategorias.\n",
    "* A empresa está se concentrando na categoria de móveis, que é a que mais representa o total de vendas.\n",
    "* A empresa pode considerar estratégias para aumentar as vendas nas categorias e subcategorias que representam uma menor porcentagem do total de vendas.\n",
    "\n",
    "É importante notar que os dados do gráfico são apenas uma representação do desempenho de vendas da empresa em um determinado período de tempo. Os dados podem variar de um período para outro."
   ]
  }
 ],
 "metadata": {
  "kernelspec": {
   "display_name": "base",
   "language": "python",
   "name": "python3"
  },
  "language_info": {
   "codemirror_mode": {
    "name": "ipython",
    "version": 3
   },
   "file_extension": ".py",
   "mimetype": "text/x-python",
   "name": "python",
   "nbconvert_exporter": "python",
   "pygments_lexer": "ipython3",
   "version": "3.11.3"
  }
 },
 "nbformat": 4,
 "nbformat_minor": 2
}
