{
 "cells": [
  {
   "cell_type": "code",
   "execution_count": 6,
   "metadata": {},
   "outputs": [],
   "source": [
    "# Formação Cientista de Dados - Fernando Amaral e Jones Granatyr\n",
    "# Contribuição: Adriano Santos\n",
    "\n",
    "# Deep Learning"
   ]
  },
  {
   "cell_type": "markdown",
   "metadata": {},
   "source": [
    "## Instalação das Bibliotecas de Python"
   ]
  },
  {
   "cell_type": "markdown",
   "metadata": {},
   "source": [
    "Este código utiliza bibliotecas de Python, como Matplotlib e Keras, para criar e treinar uma rede neural. Ele importa dados do conjunto de dados MNIST, que contém imagens de dígitos escritos à mão. Em seguida, ele define uma rede neural com camadas densas e dropout para o treinamento. O objetivo é aprender a classificar os dígitos corretamente. Por fim, o código utiliza métricas de avaliação, como matriz de confusão, para verificar o desempenho do modelo. Certifique-se de ter instalado a biblioteca TensorFlow antes de executar este código."
   ]
  },
  {
   "cell_type": "code",
   "execution_count": 8,
   "metadata": {},
   "outputs": [],
   "source": [
    "import matplotlib.pyplot as plt\n",
    "from keras.models import Sequential\n",
    "from keras.layers import Dense, Dropout\n",
    "# Você pode substituir a linha from keras.utils import np_utils por from keras.utils import to_categorical\n",
    "from keras.utils import to_categorical\n",
    "import numpy as np\n",
    "from sklearn.metrics import confusion_matrix\n",
    "from keras.datasets import mnist\n",
    "\n",
    "# Para instalar o TensorFlow, execute no Anaconda Prompt se precisar:\n",
    "# pip install tensorflow"
   ]
  },
  {
   "cell_type": "markdown",
   "metadata": {},
   "source": [
    "## Mostrando Imagem do Conjunto de Dados MNIST"
   ]
  },
  {
   "cell_type": "markdown",
   "metadata": {},
   "source": [
    "Este código é usado para mostrar uma imagem do conjunto de dados MNIST, que contém dígitos escritos à mão. Primeiro, ele carrega os dados e os divide em conjuntos de treinamento e teste. Em seguida, exibe uma imagem específica do conjunto de treinamento (no caso, a imagem número 21) em escala de cinza e adiciona um título indicando a classe (número) correspondente à imagem, tornando a legenda mais compreensível."
   ]
  },
  {
   "cell_type": "code",
   "execution_count": 13,
   "metadata": {},
   "outputs": [
    {
     "data": {
      "image/png": "[encoded data removed]",
      "text/plain": [
       "<Figure size 640x480 with 1 Axes>"
      ]
     },
     "metadata": {},
     "output_type": "display_data"
    }
   ],
   "source": [
    "# Obtenção dos dados e divisão automática entre treinamento e teste\n",
    "(X_treinamento, y_treinamento), (X_teste, y_teste) = mnist.load_data()\n",
    "\n",
    "# Visualização de uma imagem específica\n",
    "plt.imshow(X_treinamento[21], cmap='gray')\n",
    "plt.title(f\"Classe: {y_treinamento[21]}\") \n",
    "plt.show()"
   ]
  },
  {
   "cell_type": "markdown",
   "metadata": {},
   "source": [
    "## Ajustando a Forma dos Conjuntos de Dados"
   ]
  },
  {
   "cell_type": "markdown",
   "metadata": {},
   "source": [
    "Nesse código, estamos ajustando a forma dos conjuntos de dados de treinamento e teste (X_treinamento e X_teste) para que cada imagem, originalmente com dimensões diferentes, agora tenha 784 valores. Isso é necessário para que possamos usar esses dados em um modelo de aprendizado de máquina que espera uma entrada consistente. A linha final (X_teste[0]) mostra a primeira imagem após essa transformação."
   ]
  },
  {
   "cell_type": "code",
   "execution_count": 16,
   "metadata": {},
   "outputs": [
    {
     "data": {
      "text/plain": [
       "array([  0,   0,   0,   0,   0,   0,   0,   0,   0,   0,   0,   0,   0,\n",
       "         0,   0,   0,   0,   0,   0,   0,   0,   0,   0,   0,   0,   0,\n",
       "         0,   0,   0,   0,   0,   0,   0,   0,   0,   0,   0,   0,   0,\n",
       "         0,   0,   0,   0,   0,   0,   0,   0,   0,   0,   0,   0,   0,\n",
       "         0,   0,   0,   0,   0,   0,   0,   0,   0,   0,   0,   0,   0,\n",
       "         0,   0,   0,   0,   0,   0,   0,   0,   0,   0,   0,   0,   0,\n",
       "         0,   0,   0,   0,   0,   0,   0,   0,   0,   0,   0,   0,   0,\n",
       "         0,   0,   0,   0,   0,   0,   0,   0,   0,   0,   0,   0,   0,\n",
       "         0,   0,   0,   0,   0,   0,   0,   0,   0,   0,   0,   0,   0,\n",
       "         0,   0,   0,   0,   0,   0,   0,   0,   0,   0,   0,   0,   0,\n",
       "         0,   0,   0,   0,   0,   0,   0,   0,   0,   0,   0,   0,   0,\n",
       "         0,   0,   0,   0,   0,   0,   0,   0,   0,   0,   0,   0,   0,\n",
       "         0,   0,   0,   0,   0,   0,   0,   0,   0,   0,   0,   0,   0,\n",
       "         0,   0,   0,   0,   0,   0,   0,   0,   0,   0,   0,   0,   0,\n",
       "         0,   0,   0,   0,   0,   0,   0,   0,   0,   0,   0,   0,   0,\n",
       "         0,   0,   0,   0,   0,   0,   0,  84, 185, 159, 151,  60,  36,\n",
       "         0,   0,   0,   0,   0,   0,   0,   0,   0,   0,   0,   0,   0,\n",
       "         0,   0,   0,   0,   0,   0,   0,   0,   0, 222, 254, 254, 254,\n",
       "       254, 241, 198, 198, 198, 198, 198, 198, 198, 198, 170,  52,   0,\n",
       "         0,   0,   0,   0,   0,   0,   0,   0,   0,   0,   0,  67, 114,\n",
       "        72, 114, 163, 227, 254, 225, 254, 254, 254, 250, 229, 254, 254,\n",
       "       140,   0,   0,   0,   0,   0,   0,   0,   0,   0,   0,   0,   0,\n",
       "         0,   0,   0,   0,   0,  17,  66,  14,  67,  67,  67,  59,  21,\n",
       "       236, 254, 106,   0,   0,   0,   0,   0,   0,   0,   0,   0,   0,\n",
       "         0,   0,   0,   0,   0,   0,   0,   0,   0,   0,   0,   0,   0,\n",
       "         0,  83, 253, 209,  18,   0,   0,   0,   0,   0,   0,   0,   0,\n",
       "         0,   0,   0,   0,   0,   0,   0,   0,   0,   0,   0,   0,   0,\n",
       "         0,   0,  22, 233, 255,  83,   0,   0,   0,   0,   0,   0,   0,\n",
       "         0,   0,   0,   0,   0,   0,   0,   0,   0,   0,   0,   0,   0,\n",
       "         0,   0,   0,   0, 129, 254, 238,  44,   0,   0,   0,   0,   0,\n",
       "         0,   0,   0,   0,   0,   0,   0,   0,   0,   0,   0,   0,   0,\n",
       "         0,   0,   0,   0,   0,  59, 249, 254,  62,   0,   0,   0,   0,\n",
       "         0,   0,   0,   0,   0,   0,   0,   0,   0,   0,   0,   0,   0,\n",
       "         0,   0,   0,   0,   0,   0,   0, 133, 254, 187,   5,   0,   0,\n",
       "         0,   0,   0,   0,   0,   0,   0,   0,   0,   0,   0,   0,   0,\n",
       "         0,   0,   0,   0,   0,   0,   0,   0,   9, 205, 248,  58,   0,\n",
       "         0,   0,   0,   0,   0,   0,   0,   0,   0,   0,   0,   0,   0,\n",
       "         0,   0,   0,   0,   0,   0,   0,   0,   0,   0, 126, 254, 182,\n",
       "         0,   0,   0,   0,   0,   0,   0,   0,   0,   0,   0,   0,   0,\n",
       "         0,   0,   0,   0,   0,   0,   0,   0,   0,   0,   0,  75, 251,\n",
       "       240,  57,   0,   0,   0,   0,   0,   0,   0,   0,   0,   0,   0,\n",
       "         0,   0,   0,   0,   0,   0,   0,   0,   0,   0,   0,   0,  19,\n",
       "       221, 254, 166,   0,   0,   0,   0,   0,   0,   0,   0,   0,   0,\n",
       "         0,   0,   0,   0,   0,   0,   0,   0,   0,   0,   0,   0,   0,\n",
       "         3, 203, 254, 219,  35,   0,   0,   0,   0,   0,   0,   0,   0,\n",
       "         0,   0,   0,   0,   0,   0,   0,   0,   0,   0,   0,   0,   0,\n",
       "         0,   0,  38, 254, 254,  77,   0,   0,   0,   0,   0,   0,   0,\n",
       "         0,   0,   0,   0,   0,   0,   0,   0,   0,   0,   0,   0,   0,\n",
       "         0,   0,   0,  31, 224, 254, 115,   1,   0,   0,   0,   0,   0,\n",
       "         0,   0,   0,   0,   0,   0,   0,   0,   0,   0,   0,   0,   0,\n",
       "         0,   0,   0,   0,   0, 133, 254, 254,  52,   0,   0,   0,   0,\n",
       "         0,   0,   0,   0,   0,   0,   0,   0,   0,   0,   0,   0,   0,\n",
       "         0,   0,   0,   0,   0,   0,  61, 242, 254, 254,  52,   0,   0,\n",
       "         0,   0,   0,   0,   0,   0,   0,   0,   0,   0,   0,   0,   0,\n",
       "         0,   0,   0,   0,   0,   0,   0,   0, 121, 254, 254, 219,  40,\n",
       "         0,   0,   0,   0,   0,   0,   0,   0,   0,   0,   0,   0,   0,\n",
       "         0,   0,   0,   0,   0,   0,   0,   0,   0,   0, 121, 254, 207,\n",
       "        18,   0,   0,   0,   0,   0,   0,   0,   0,   0,   0,   0,   0,\n",
       "         0,   0,   0,   0,   0,   0,   0,   0,   0,   0,   0,   0,   0,\n",
       "         0,   0,   0,   0,   0,   0,   0,   0,   0,   0,   0,   0,   0,\n",
       "         0,   0,   0,   0], dtype=uint8)"
      ]
     },
     "execution_count": 16,
     "metadata": {},
     "output_type": "execute_result"
    }
   ],
   "source": [
    "# Mudando a dimensão de X_treinamento e X_teste para 784\n",
    "\n",
    "X_treinamento = X_treinamento.reshape(-1, 784)\n",
    "X_teste = X_teste.reshape(-1, 784)\n",
    "X_teste[0]"
   ]
  },
  {
   "cell_type": "markdown",
   "metadata": {},
   "source": [
    "## Convertendo os Dados Para o Tipo 'float32' "
   ]
  },
  {
   "cell_type": "markdown",
   "metadata": {},
   "source": [
    "Nesse trecho de código, estamos convertendo os dados do conjunto de treinamento (X_treinamento) e do conjunto de teste (X_teste) para o tipo 'float32', que é um formato de número decimal com menos precisão do que outros tipos, como 'float64'. Isso pode ser útil em algumas situações, economizando espaço de memória, especialmente quando estamos lidando com grandes conjuntos de dados, tornando o código mais eficiente e rápido ao executar operações numéricas."
   ]
  },
  {
   "cell_type": "code",
   "execution_count": 17,
   "metadata": {},
   "outputs": [],
   "source": [
    "# Transformação dos dados para float para podermos normalizar os dados\n",
    "\n",
    "X_treinamento = X_treinamento.astype('float32')\n",
    "X_teste = X_teste.astype('float32')"
   ]
  },
  {
   "cell_type": "markdown",
   "metadata": {},
   "source": [
    "## Normalizando os Dados Atuais em Dados de Imagens"
   ]
  },
  {
   "cell_type": "markdown",
   "metadata": {},
   "source": [
    "No código acima, estamos realizando um processo chamado normalização em dados de imagens. O valor máximo que um pixel pode ter em uma imagem é 255. Portanto, ao dividir os dados de treinamento e teste por 255, estamos transformando todos os valores dos pixels para um intervalo de 0 a 1. Isso ajuda o modelo a aprender de maneira mais eficaz, pois os números menores facilitam o processo de treinamento, tornando-o mais rápido e preciso."
   ]
  },
  {
   "cell_type": "code",
   "execution_count": 18,
   "metadata": {},
   "outputs": [],
   "source": [
    "# Normalização (255 é o valor máximo de um pixel)\n",
    "\n",
    "X_treinamento /= 255\n",
    "X_teste /= 255"
   ]
  },
  {
   "cell_type": "markdown",
   "metadata": {},
   "source": [
    "## Convertendo os Dados Para o Formato \"one-hot encoding\""
   ]
  },
  {
   "cell_type": "markdown",
   "metadata": {},
   "source": [
    "Nesse código, estamos realizando uma transformação nos dados de treinamento e teste. A linha \"y_treinamento = to_categorical(y_treinamento, 10)\" converte os rótulos de treinamento em um formato especial chamado de \"one-hot encoding,\" que é útil em tarefas de classificação com 10 categorias possíveis. O mesmo é feito para os rótulos de teste na linha seguinte. Por fim, \"y_teste[0]\" simplesmente nos mostra o primeiro rótulo de teste após essa conversão, representado como um vetor binário que indica a categoria à qual pertence."
   ]
  },
  {
   "cell_type": "code",
   "execution_count": 27,
   "metadata": {},
   "outputs": [
    {
     "data": {
      "text/plain": [
       "array([0., 0., 0., 0., 0., 0., 0., 1., 0., 0.], dtype=float32)"
      ]
     },
     "execution_count": 27,
     "metadata": {},
     "output_type": "execute_result"
    }
   ],
   "source": [
    "# Transformação para o formato dummy (temos 10 classes)\n",
    "\n",
    "y_treinamento = to_categorical(y_treinamento, 10)\n",
    "y_teste = to_categorical(y_teste, 10)\n",
    "y_teste[0]"
   ]
  },
  {
   "cell_type": "markdown",
   "metadata": {},
   "source": [
    "## Definindo a Estrutura da Rede Neural"
   ]
  },
  {
   "cell_type": "markdown",
   "metadata": {},
   "source": [
    "Este código cria uma rede neural para classificação de dados. A rede tem uma camada de entrada com 784 neurônios, seguida por três camadas ocultas, cada uma com 64 neurônios e uma função de ativação chamada ReLU. O Dropout é usado para evitar que a rede memorize demais os dados. Finalmente, há uma camada de saída com 10 neurônios e uma função de ativação softmax para classificar os dados em 10 categorias diferentes. O código não mostra a compilação do modelo, mas fornece um resumo das camadas e neurônios usados na rede."
   ]
  },
  {
   "cell_type": "code",
   "execution_count": 31,
   "metadata": {},
   "outputs": [
    {
     "name": "stdout",
     "output_type": "stream",
     "text": [
      "Model: \"sequential_3\"\n",
      "_________________________________________________________________\n",
      " Layer (type)                Output Shape              Param #   \n",
      "=================================================================\n",
      " dense_13 (Dense)            (None, 64)                50240     \n",
      "                                                                 \n",
      " dropout_10 (Dropout)        (None, 64)                0         \n",
      "                                                                 \n",
      " dense_14 (Dense)            (None, 64)                4160      \n",
      "                                                                 \n",
      " dropout_11 (Dropout)        (None, 64)                0         \n"
     ]
    },
    {
     "name": "stdout",
     "output_type": "stream",
     "text": [
      "                                                                 \n",
      " dense_15 (Dense)            (None, 64)                4160      \n",
      "                                                                 \n",
      " dropout_12 (Dropout)        (None, 64)                0         \n",
      "                                                                 \n",
      " dense_16 (Dense)            (None, 64)                4160      \n",
      "                                                                 \n",
      " dropout_13 (Dropout)        (None, 64)                0         \n",
      "                                                                 \n",
      " dense_17 (Dense)            (None, 10)                650       \n",
      "                                                                 \n",
      "=================================================================\n",
      "Total params: 63370 (247.54 KB)\n",
      "Trainable params: 63370 (247.54 KB)\n",
      "Non-trainable params: 0 (0.00 Byte)\n",
      "_________________________________________________________________\n"
     ]
    }
   ],
   "source": [
    "# Entrada: 784 - Camadas ocultas: 64, 64, 64 - Saída: 10 (para classificação)\n",
    "modelo = Sequential()\n",
    "\n",
    "# Camada de entrada\n",
    "modelo.add(Dense(units=64, activation='relu', input_dim=784))\n",
    "modelo.add(Dropout(0.2))  # Dropout para evitar overfitting\n",
    "\n",
    "# Três camadas ocultas idênticas\n",
    "for _ in range(3):\n",
    "    modelo.add(Dense(units=64, activation='relu'))\n",
    "    modelo.add(Dropout(0.2))  # Dropout em cada camada oculta\n",
    "\n",
    "# Camada de saída com ativação softmax para classificação\n",
    "modelo.add(Dense(units=10, activation='softmax'))\n",
    "\n",
    "# Resumo do modelo\n",
    "modelo.summary()"
   ]
  },
  {
   "cell_type": "markdown",
   "metadata": {},
   "source": [
    "## Configurando e Treinando Rede Neural"
   ]
  },
  {
   "cell_type": "markdown",
   "metadata": {},
   "source": [
    "Nesse código, estamos configurando e treinando uma rede neural. A primeira linha define como a rede neural será treinada, especificando que usaremos o otimizador 'adam' para ajustar os parâmetros da rede, a função de perda 'categorical_crossentropy' para medir o quão bem a rede está aprendendo e métricas para acompanhar o desempenho. A segunda parte do código executa o treinamento real da rede, onde 'X_treinamento' e 'y_treinamento' são os dados de treinamento, 'epochs=20' indica que a rede será treinada por 20 épocas, e 'validation_data=(X_teste, y_teste)' usa dados de teste para avaliar o desempenho durante o treinamento."
   ]
  },
  {
   "cell_type": "code",
   "execution_count": 36,
   "metadata": {},
   "outputs": [
    {
     "name": "stdout",
     "output_type": "stream",
     "text": [
      "Epoch 1/20\n",
      "1875/1875 [==============================] - 48s 17ms/step - loss: 0.0819 - accuracy: 0.9778 - val_loss: 0.1005 - val_accuracy: 0.9752\n",
      "Epoch 2/20\n",
      "1875/1875 [==============================] - 29s 15ms/step - loss: 0.0824 - accuracy: 0.9761 - val_loss: 0.1050 - val_accuracy: 0.9766\n",
      "Epoch 3/20\n",
      "1875/1875 [==============================] - 29s 15ms/step - loss: 0.0810 - accuracy: 0.9769 - val_loss: 0.0994 - val_accuracy: 0.9776\n",
      "Epoch 4/20\n",
      "1875/1875 [==============================] - 27s 14ms/step - loss: 0.0816 - accuracy: 0.9766 - val_loss: 0.1047 - val_accuracy: 0.9764\n",
      "Epoch 5/20\n",
      "1875/1875 [==============================] - 31s 17ms/step - loss: 0.0800 - accuracy: 0.9771 - val_loss: 0.1017 - val_accuracy: 0.9763\n",
      "Epoch 6/20\n",
      "1875/1875 [==============================] - 28s 15ms/step - loss: 0.0762 - accuracy: 0.9782 - val_loss: 0.1019 - val_accuracy: 0.9754\n",
      "Epoch 7/20\n",
      "1875/1875 [==============================] - 30s 16ms/step - loss: 0.0760 - accuracy: 0.9781 - val_loss: 0.1008 - val_accuracy: 0.9762\n",
      "Epoch 8/20\n",
      "1875/1875 [==============================] - 35s 19ms/step - loss: 0.0765 - accuracy: 0.9780 - val_loss: 0.1011 - val_accuracy: 0.9758\n",
      "Epoch 9/20\n",
      "1875/1875 [==============================] - 28s 15ms/step - loss: 0.0739 - accuracy: 0.9790 - val_loss: 0.1084 - val_accuracy: 0.9742\n",
      "Epoch 10/20\n",
      "1875/1875 [==============================] - 33s 17ms/step - loss: 0.0756 - accuracy: 0.9783 - val_loss: 0.1041 - val_accuracy: 0.9758\n",
      "Epoch 11/20\n",
      "1875/1875 [==============================] - 32s 17ms/step - loss: 0.0720 - accuracy: 0.9793 - val_loss: 0.1110 - val_accuracy: 0.9744\n",
      "Epoch 12/20\n",
      "1875/1875 [==============================] - 34s 18ms/step - loss: 0.0724 - accuracy: 0.9792 - val_loss: 0.1126 - val_accuracy: 0.9752\n",
      "Epoch 13/20\n",
      "1875/1875 [==============================] - 38s 20ms/step - loss: 0.0734 - accuracy: 0.9791 - val_loss: 0.1027 - val_accuracy: 0.9757\n",
      "Epoch 14/20\n",
      "1875/1875 [==============================] - 34s 18ms/step - loss: 0.0725 - accuracy: 0.9795 - val_loss: 0.1051 - val_accuracy: 0.9760\n",
      "Epoch 15/20\n",
      "1875/1875 [==============================] - 38s 20ms/step - loss: 0.0696 - accuracy: 0.9804 - val_loss: 0.1034 - val_accuracy: 0.9763\n",
      "Epoch 16/20\n",
      "1875/1875 [==============================] - 52s 28ms/step - loss: 0.0728 - accuracy: 0.9793 - val_loss: 0.1069 - val_accuracy: 0.9743\n",
      "Epoch 17/20\n",
      "1875/1875 [==============================] - 54s 29ms/step - loss: 0.0712 - accuracy: 0.9804 - val_loss: 0.1017 - val_accuracy: 0.9755\n",
      "Epoch 18/20\n",
      "1875/1875 [==============================] - 55s 29ms/step - loss: 0.0709 - accuracy: 0.9797 - val_loss: 0.1126 - val_accuracy: 0.9757\n",
      "Epoch 19/20\n",
      "1875/1875 [==============================] - 56s 30ms/step - loss: 0.0713 - accuracy: 0.9797 - val_loss: 0.1079 - val_accuracy: 0.9759\n",
      "Epoch 20/20\n",
      "1875/1875 [==============================] - 52s 28ms/step - loss: 0.0669 - accuracy: 0.9811 - val_loss: 0.1132 - val_accuracy: 0.9768\n"
     ]
    }
   ],
   "source": [
    "# Configuração dos parâmetros da rede neural\n",
    "modelo.compile(optimizer='adam', loss='categorical_crossentropy', metrics=['accuracy'])\n",
    "\n",
    "# Treinamento da rede neural\n",
    "historico = modelo.fit(\n",
    "    X_treinamento, y_treinamento, epochs=20, validation_data=(X_teste, y_teste)\n",
    ")"
   ]
  },
  {
   "cell_type": "markdown",
   "metadata": {},
   "source": [
    "## Criando Gráfico Simples para Mostrar Desempenho da Rede Neural"
   ]
  },
  {
   "cell_type": "markdown",
   "metadata": {},
   "source": [
    "Esse código é usado para criar um gráfico simples que ajuda a entender o desempenho de uma rede neural. Os dois gráficos mostram como o erro (representado em azul) e a precisão (representada em outra cor) da rede mudam ao longo do treinamento. Isso é útil para avaliar o quão bem a rede está aprendendo com os dados; se o erro está diminuindo e a precisão está aumentando, é um sinal de que a rede está progredindo. É uma ferramenta visual para acompanhar o treinamento de redes neurais."
   ]
  },
  {
   "cell_type": "code",
   "execution_count": 37,
   "metadata": {},
   "outputs": [
    {
     "data": {
      "text/plain": [
       "[<matplotlib.lines.Line2D at 0x2408f6e2410>]"
      ]
     },
     "execution_count": 37,
     "metadata": {},
     "output_type": "execute_result"
    },
    {
     "data": {
      "image/png": "[encoded data removed]",
      "text/plain": [
       "<Figure size 640x480 with 1 Axes>"
      ]
     },
     "metadata": {},
     "output_type": "display_data"
    }
   ],
   "source": [
    "# Gráfico para visualizar os erros e accuracy\n",
    "historico.history.keys()\n",
    "\n",
    "# Evolução do erro, azul\n",
    "plt.plot(historico.history['val_loss'])\n",
    "\n",
    "# Performance da rede\n",
    "plt.plot(historico.history['val_accuracy'])"
   ]
  },
  {
   "cell_type": "markdown",
   "metadata": {},
   "source": [
    "## Realizando Previsões Usando Modelo de Aprendizado de Máquina"
   ]
  },
  {
   "cell_type": "markdown",
   "metadata": {},
   "source": [
    "Esse código realiza previsões usando um modelo de aprendizado de máquina. Ele alimenta o modelo com um conjunto de dados chamado X_teste e, em seguida, obtém as previsões resultantes, armazenando-as na variável 'previsoes'. Basicamente, o código utiliza o modelo treinado para fazer estimativas com base nos dados de teste, e as respostas previstas são armazenadas na variável 'previsoes'."
   ]
  },
  {
   "cell_type": "code",
   "execution_count": 50,
   "metadata": {},
   "outputs": [
    {
     "name": "stdout",
     "output_type": "stream",
     "text": [
      "313/313 [==============================] - 15s 3ms/step\n",
      "[[5.6940502e-15 1.0019036e-11 3.4074064e-09 ... 1.0000000e+00\n",
      "  2.9699887e-15 3.5238486e-08]\n",
      " [4.3765494e-16 9.3749336e-14 1.0000000e+00 ... 3.8928232e-15\n",
      "  4.5003946e-16 7.7710650e-23]\n",
      " [6.6121334e-19 1.0000000e+00 3.6256480e-14 ... 4.5523703e-11\n",
      "  1.3809929e-09 4.5462737e-17]\n",
      " ...\n",
      " [1.7734190e-17 2.8376150e-17 3.1764470e-12 ... 1.9332289e-14\n",
      "  5.4437808e-14 3.2812610e-09]\n",
      " [1.8517438e-21 9.3810405e-20 1.0305720e-21 ... 2.6189531e-18\n",
      "  3.8459277e-16 1.3389066e-18]\n",
      " [1.5852876e-15 2.1675935e-21 4.0621011e-20 ... 3.1497965e-32\n",
      "  7.5489355e-18 2.7900824e-27]]\n"
     ]
    }
   ],
   "source": [
    "# Obtenção das previsões \n",
    "previsoes = modelo.predict(X_teste)\n",
    "print(previsoes)"
   ]
  },
  {
   "cell_type": "markdown",
   "metadata": {},
   "source": [
    "## Convertendo as Previsões em Classes Previstas"
   ]
  },
  {
   "cell_type": "markdown",
   "metadata": {},
   "source": [
    "Neste código, estamos convertendo as previsões e os valores reais do teste em classes previstas, o que é útil para avaliar o desempenho de um modelo de machine learning. Em seguida, calculamos a matriz de confusão, que nos mostra como as previsões se comparam aos valores reais. Por fim, exibimos essa matriz de confusão na saída, permitindo uma análise visual de quão bem o modelo está classificando os dados. A matriz de confusão é uma ferramenta importante para entender a precisão de um modelo de classificação."
   ]
  },
  {
   "cell_type": "code",
   "execution_count": 51,
   "metadata": {},
   "outputs": [
    {
     "name": "stdout",
     "output_type": "stream",
     "text": [
      "Matriz de Confusão:\n",
      "[[ 968    1    2    0    0    3    2    1    3    0]\n",
      " [   0 1127    0    2    0    1    2    1    2    0]\n",
      " [   2    0 1011    5    2    1    1    5    5    0]\n",
      " [   0    0    9  985    0    8    0    5    3    0]\n",
      " [   1    0    1    0  959    0    5    2    1   13]\n",
      " [   3    1    0   12    1  868    3    1    2    1]\n",
      " [   2    3    0    1    4    6  940    0    2    0]\n",
      " [   0    2    5    2    0    0    0 1014    1    4]\n",
      " [   4    2    3    9    4   10    1    5  932    4]\n",
      " [   0    3    0    7   12   10    1    9    3  964]]\n"
     ]
    }
   ],
   "source": [
    "# Transforma os valores de y_teste e previsoes para suas classes previstas\n",
    "y_teste_classes = [np.argmax(classe) for classe in y_teste]\n",
    "y_previsoes_classes = [np.argmax(classe) for classe in previsoes]\n",
    "\n",
    "# Calcula a matriz de confusão\n",
    "matriz_confusao = confusion_matrix(y_teste_classes, y_previsoes_classes)\n",
    "\n",
    "# Exibe a matriz de confusão\n",
    "print(\"Matriz de Confusão:\")\n",
    "print(matriz_confusao)\n"
   ]
  },
  {
   "cell_type": "markdown",
   "metadata": {},
   "source": [
    "## Fazendo Previsão Usando Novo Registro"
   ]
  },
  {
   "cell_type": "markdown",
   "metadata": {},
   "source": [
    "Neste código abaixo, estamos fazendo uma previsão usando um novo registro que é o quarto item do nosso conjunto de treinamento. A variável 'previsao_registro_4' guarda o valor correspondente a esse registro no conjunto de treinamento. Em seguida, usamos 'print' para mostrar esse valor na tela. Basicamente, estamos extraindo e exibindo o valor associado ao quarto item do nosso conjunto de treinamento."
   ]
  },
  {
   "cell_type": "code",
   "execution_count": 52,
   "metadata": {},
   "outputs": [
    {
     "name": "stdout",
     "output_type": "stream",
     "text": [
      "[0. 0. 0. 0. 1. 0. 0. 0. 0. 0.]\n"
     ]
    }
   ],
   "source": [
    "# Realizando previsão com um novo registro\n",
    "# Registro número 4 do conjunto de treinamento\n",
    "\n",
    "previsao_registro_4 = y_treinamento[20]\n",
    "print(previsao_registro_4)"
   ]
  },
  {
   "cell_type": "markdown",
   "metadata": {},
   "source": [
    "## Usando Modelo de Machine Learning ao Fazer Previsão"
   ]
  },
  {
   "cell_type": "markdown",
   "metadata": {},
   "source": [
    "Neste código simples, estamos usando um modelo de machine learning para fazer uma previsão. Primeiro, selecionamos um exemplo de entrada dos nossos dados de treinamento na posição 20. Em seguida, transformamos essa entrada de uma matriz em um vetor. Depois, fazemos a previsão usando o modelo e identificamos a classe com a maior probabilidade de ser a correta. Por fim, exibimos o número da classe prevista. Basicamente, estamos usando o modelo para dizer qual categoria esse exemplo de entrada pertence."
   ]
  },
  {
   "cell_type": "code",
   "execution_count": 53,
   "metadata": {},
   "outputs": [
    {
     "name": "stdout",
     "output_type": "stream",
     "text": [
      "1/1 [==============================] - 13s 13s/step\n",
      "4\n"
     ]
    }
   ],
   "source": [
    "# Passo a mesma posição para o modelo prever\n",
    "entrada = X_treinamento[20]\n",
    "\n",
    "# Converto de matriz para vetor\n",
    "entrada = np.expand_dims(entrada, axis=0)\n",
    "\n",
    "# Realizo a previsão\n",
    "previsao = modelo.predict(entrada)\n",
    "\n",
    "# Obtém o índice da classe com maior valor de previsão\n",
    "classe_predita = np.argmax(previsao)\n",
    "\n",
    "# Exibo a classe prevista\n",
    "print(classe_predita)"
   ]
  },
  {
   "cell_type": "code",
   "execution_count": null,
   "metadata": {},
   "outputs": [],
   "source": []
  }
 ],
 "metadata": {
  "jupytext": {
   "cell_metadata_filter": "-all",
   "main_language": "python",
   "notebook_metadata_filter": "-all"
  },
  "kernelspec": {
   "display_name": "Python 3",
   "language": "python",
   "name": "python3"
  },
  "language_info": {
   "codemirror_mode": {
    "name": "ipython",
    "version": 3
   },
   "file_extension": ".py",
   "mimetype": "text/x-python",
   "name": "python",
   "nbconvert_exporter": "python",
   "pygments_lexer": "ipython3",
   "version": "3.11.3"
  }
 },
 "nbformat": 4,
 "nbformat_minor": 4
}
