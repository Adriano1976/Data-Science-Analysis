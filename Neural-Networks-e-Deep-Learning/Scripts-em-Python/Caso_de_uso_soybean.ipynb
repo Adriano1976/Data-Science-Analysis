{
 "cells": [
  {
   "cell_type": "code",
   "execution_count": 1,
   "metadata": {},
   "outputs": [],
   "source": [
    "# Formação Cientista de Dados - Fernando Amaral e Jones Granatyr\n",
    "# Colaboração: Adriano Santos\n",
    "\n",
    "# Caso de Uso - ML e RNA\n",
    "\n",
    "# Diagnóstico de doenças em soja\n",
    "# 1. Crie um modelo de ML (pode usar RNA/DL etc)\n",
    "# 2. Busque a melhor performance\n",
    "\n",
    "# Conjunto de Dados:\n",
    "# 19 classes\n",
    "# 35 atributos\n",
    "# 683 instâncias"
   ]
  },
  {
   "cell_type": "markdown",
   "metadata": {},
   "source": [
    "## Importando as Bibliotecas Necessárias"
   ]
  },
  {
   "cell_type": "markdown",
   "metadata": {},
   "source": [
    "Esse código abaixo, utiliza bibliotecas como pandas e scikit-learn para criar um modelo de classificação. Ele carrega dados, transforma rótulos em números com o LabelEncoder, divide os dados em conjuntos de treinamento e teste, e cria um modelo de classificação de floresta aleatória (RandomForestClassifier). Em seguida, avalia o desempenho do modelo, calculando a matriz de confusão e a precisão. Em resumo, esse código automatiza a criação e avaliação de um modelo de machine learning para classificar dados com base em características específicas."
   ]
  },
  {
   "cell_type": "code",
   "execution_count": 2,
   "metadata": {},
   "outputs": [],
   "source": [
    "import pandas as pd\n",
    "from sklearn.preprocessing import LabelEncoder\n",
    "from sklearn.model_selection import train_test_split\n",
    "from sklearn.ensemble import RandomForestClassifier\n",
    "from sklearn.metrics import confusion_matrix, accuracy_score"
   ]
  },
  {
   "cell_type": "markdown",
   "metadata": {},
   "source": [
    "## Lendo Arquivo CSV"
   ]
  },
  {
   "cell_type": "markdown",
   "metadata": {},
   "source": [
    "Esse código abaixo, utiliza a biblioteca pandas para ler um arquivo CSV chamado 'soybean.csv' localizado no diretório '../dados/'. Em seguida, ele exibe as cinco primeiras linhas desse arquivo com o método 'head()'. Isso é útil para visualizar rapidamente os dados iniciais do arquivo e entender sua estrutura."
   ]
  },
  {
   "cell_type": "code",
   "execution_count": 4,
   "metadata": {},
   "outputs": [
    {
     "data": {
      "text/html": [
       "<div>\n",
       "<style scoped>\n",
       "    .dataframe tbody tr th:only-of-type {\n",
       "        vertical-align: middle;\n",
       "    }\n",
       "\n",
       "    .dataframe tbody tr th {\n",
       "        vertical-align: top;\n",
       "    }\n",
       "\n",
       "    .dataframe thead th {\n",
       "        text-align: right;\n",
       "    }\n",
       "</style>\n",
       "<table border=\"1\" class=\"dataframe\">\n",
       "  <thead>\n",
       "    <tr style=\"text-align: right;\">\n",
       "      <th></th>\n",
       "      <th>date</th>\n",
       "      <th>plant-stand</th>\n",
       "      <th>precip</th>\n",
       "      <th>temp</th>\n",
       "      <th>hail</th>\n",
       "      <th>crop-hist</th>\n",
       "      <th>area-damaged</th>\n",
       "      <th>severity</th>\n",
       "      <th>seed-tmt</th>\n",
       "      <th>germination</th>\n",
       "      <th>...</th>\n",
       "      <th>sclerotia</th>\n",
       "      <th>fruit-pods</th>\n",
       "      <th>fruit-spots</th>\n",
       "      <th>seed</th>\n",
       "      <th>mold-growth</th>\n",
       "      <th>seed-discolor</th>\n",
       "      <th>seed-size</th>\n",
       "      <th>shriveling</th>\n",
       "      <th>roots</th>\n",
       "      <th>class</th>\n",
       "    </tr>\n",
       "  </thead>\n",
       "  <tbody>\n",
       "    <tr>\n",
       "      <th>0</th>\n",
       "      <td>october</td>\n",
       "      <td>normal</td>\n",
       "      <td>gt-norm</td>\n",
       "      <td>norm</td>\n",
       "      <td>yes</td>\n",
       "      <td>same-lst-yr</td>\n",
       "      <td>low-areas</td>\n",
       "      <td>pot-severe</td>\n",
       "      <td>none</td>\n",
       "      <td>90-100</td>\n",
       "      <td>...</td>\n",
       "      <td>absent</td>\n",
       "      <td>norm</td>\n",
       "      <td>dna</td>\n",
       "      <td>norm</td>\n",
       "      <td>absent</td>\n",
       "      <td>absent</td>\n",
       "      <td>norm</td>\n",
       "      <td>absent</td>\n",
       "      <td>norm</td>\n",
       "      <td>diaporthe-stem-canker</td>\n",
       "    </tr>\n",
       "    <tr>\n",
       "      <th>1</th>\n",
       "      <td>august</td>\n",
       "      <td>normal</td>\n",
       "      <td>gt-norm</td>\n",
       "      <td>norm</td>\n",
       "      <td>yes</td>\n",
       "      <td>same-lst-two-yrs</td>\n",
       "      <td>scattered</td>\n",
       "      <td>severe</td>\n",
       "      <td>fungicide</td>\n",
       "      <td>80-89</td>\n",
       "      <td>...</td>\n",
       "      <td>absent</td>\n",
       "      <td>norm</td>\n",
       "      <td>dna</td>\n",
       "      <td>norm</td>\n",
       "      <td>absent</td>\n",
       "      <td>absent</td>\n",
       "      <td>norm</td>\n",
       "      <td>absent</td>\n",
       "      <td>norm</td>\n",
       "      <td>diaporthe-stem-canker</td>\n",
       "    </tr>\n",
       "    <tr>\n",
       "      <th>2</th>\n",
       "      <td>july</td>\n",
       "      <td>normal</td>\n",
       "      <td>gt-norm</td>\n",
       "      <td>norm</td>\n",
       "      <td>yes</td>\n",
       "      <td>same-lst-yr</td>\n",
       "      <td>scattered</td>\n",
       "      <td>severe</td>\n",
       "      <td>fungicide</td>\n",
       "      <td>lt-80</td>\n",
       "      <td>...</td>\n",
       "      <td>absent</td>\n",
       "      <td>norm</td>\n",
       "      <td>dna</td>\n",
       "      <td>norm</td>\n",
       "      <td>absent</td>\n",
       "      <td>absent</td>\n",
       "      <td>norm</td>\n",
       "      <td>absent</td>\n",
       "      <td>norm</td>\n",
       "      <td>diaporthe-stem-canker</td>\n",
       "    </tr>\n",
       "    <tr>\n",
       "      <th>3</th>\n",
       "      <td>july</td>\n",
       "      <td>normal</td>\n",
       "      <td>gt-norm</td>\n",
       "      <td>norm</td>\n",
       "      <td>yes</td>\n",
       "      <td>same-lst-yr</td>\n",
       "      <td>scattered</td>\n",
       "      <td>severe</td>\n",
       "      <td>none</td>\n",
       "      <td>80-89</td>\n",
       "      <td>...</td>\n",
       "      <td>absent</td>\n",
       "      <td>norm</td>\n",
       "      <td>dna</td>\n",
       "      <td>norm</td>\n",
       "      <td>absent</td>\n",
       "      <td>absent</td>\n",
       "      <td>norm</td>\n",
       "      <td>absent</td>\n",
       "      <td>norm</td>\n",
       "      <td>diaporthe-stem-canker</td>\n",
       "    </tr>\n",
       "    <tr>\n",
       "      <th>4</th>\n",
       "      <td>october</td>\n",
       "      <td>normal</td>\n",
       "      <td>gt-norm</td>\n",
       "      <td>norm</td>\n",
       "      <td>yes</td>\n",
       "      <td>same-lst-two-yrs</td>\n",
       "      <td>scattered</td>\n",
       "      <td>pot-severe</td>\n",
       "      <td>none</td>\n",
       "      <td>lt-80</td>\n",
       "      <td>...</td>\n",
       "      <td>absent</td>\n",
       "      <td>norm</td>\n",
       "      <td>dna</td>\n",
       "      <td>norm</td>\n",
       "      <td>absent</td>\n",
       "      <td>absent</td>\n",
       "      <td>norm</td>\n",
       "      <td>absent</td>\n",
       "      <td>norm</td>\n",
       "      <td>diaporthe-stem-canker</td>\n",
       "    </tr>\n",
       "  </tbody>\n",
       "</table>\n",
       "<p>5 rows × 36 columns</p>\n",
       "</div>"
      ],
      "text/plain": [
       "      date plant-stand   precip  temp hail         crop-hist area-damaged  \\\n",
       "0  october      normal  gt-norm  norm  yes       same-lst-yr    low-areas   \n",
       "1   august      normal  gt-norm  norm  yes  same-lst-two-yrs    scattered   \n",
       "2     july      normal  gt-norm  norm  yes       same-lst-yr    scattered   \n",
       "3     july      normal  gt-norm  norm  yes       same-lst-yr    scattered   \n",
       "4  october      normal  gt-norm  norm  yes  same-lst-two-yrs    scattered   \n",
       "\n",
       "     severity   seed-tmt germination  ... sclerotia fruit-pods fruit-spots  \\\n",
       "0  pot-severe       none      90-100  ...    absent       norm         dna   \n",
       "1      severe  fungicide       80-89  ...    absent       norm         dna   \n",
       "2      severe  fungicide       lt-80  ...    absent       norm         dna   \n",
       "3      severe       none       80-89  ...    absent       norm         dna   \n",
       "4  pot-severe       none       lt-80  ...    absent       norm         dna   \n",
       "\n",
       "   seed mold-growth seed-discolor seed-size shriveling roots  \\\n",
       "0  norm      absent        absent      norm     absent  norm   \n",
       "1  norm      absent        absent      norm     absent  norm   \n",
       "2  norm      absent        absent      norm     absent  norm   \n",
       "3  norm      absent        absent      norm     absent  norm   \n",
       "4  norm      absent        absent      norm     absent  norm   \n",
       "\n",
       "                   class  \n",
       "0  diaporthe-stem-canker  \n",
       "1  diaporthe-stem-canker  \n",
       "2  diaporthe-stem-canker  \n",
       "3  diaporthe-stem-canker  \n",
       "4  diaporthe-stem-canker  \n",
       "\n",
       "[5 rows x 36 columns]"
      ]
     },
     "execution_count": 4,
     "metadata": {},
     "output_type": "execute_result"
    }
   ],
   "source": [
    "base_soybean = pd.read_csv('../dados/soybean.csv')\n",
    "base_soybean.head()"
   ]
  },
  {
   "cell_type": "markdown",
   "metadata": {},
   "source": [
    "## Obtendo Dimensões da Base de Dados"
   ]
  },
  {
   "cell_type": "markdown",
   "metadata": {},
   "source": [
    "O código \"base_soybean.shape\" é utilizado para obter as dimensões da base de dados \"soybean\" em termos de linhas e colunas. Ele retorna um par de valores, onde o primeiro representa o número de linhas (registros) na base de dados e o segundo representa o número de colunas (variáveis). Isso é útil para entender a estrutura dos dados e realizar análises estatísticas ou preparar os dados para análises posteriores."
   ]
  },
  {
   "cell_type": "code",
   "execution_count": 4,
   "metadata": {},
   "outputs": [
    {
     "data": {
      "text/plain": [
       "(683, 36)"
      ]
     },
     "execution_count": 4,
     "metadata": {},
     "output_type": "execute_result"
    }
   ],
   "source": [
    "base_soybean.shape"
   ]
  },
  {
   "cell_type": "markdown",
   "metadata": {},
   "source": [
    "## Criando Variável que Contém as Informações da Linha 35"
   ]
  },
  {
   "cell_type": "markdown",
   "metadata": {},
   "source": [
    "Nesse código, estamos trabalhando com dados de soja. A linha de código em questão está criando uma variável chamada \"atributos_previsores\" que vai armazenar parte dos dados relacionados à soja. A expressão \"base_soybean.iloc[:, 0:35].values\" significa que estamos pegando as informações das 35 primeiras colunas da base de dados da soja. Esses dados serão usados para fazer previsões ou análises futuras relacionadas à soja. É como se estivéssemos selecionando as características iniciais dos dados da soja para usar em algum tipo de análise ou modelo."
   ]
  },
  {
   "cell_type": "code",
   "execution_count": 6,
   "metadata": {},
   "outputs": [],
   "source": [
    "atributos_previsores = base_soybean.iloc[:, 0:35].values"
   ]
  },
  {
   "cell_type": "markdown",
   "metadata": {},
   "source": [
    "## Criando Variável que Contém as Respostas"
   ]
  },
  {
   "cell_type": "markdown",
   "metadata": {},
   "source": [
    "Nesse código, estamos criando uma variável chamada \"respostas\" que vai guardar algumas informações. Ela está pegando dados de um conjunto de dados chamado \"base_soybean\" e selecionando apenas uma coluna específica, a coluna número 35. Esses dados selecionados estão sendo armazenados na variável \"respostas\" para serem usados posteriormente em algum tipo de análise ou processamento. É como se estivéssemos colocando em uma caixa as respostas de uma pesquisa que estão na 35ª coluna desse conjunto de dados."
   ]
  },
  {
   "cell_type": "code",
   "execution_count": 10,
   "metadata": {},
   "outputs": [],
   "source": [
    "respostas = base_soybean.iloc[:, 35].values"
   ]
  },
  {
   "cell_type": "markdown",
   "metadata": {},
   "source": [
    "## Transformando os Dados em Formato legível por Máquinas"
   ]
  },
  {
   "cell_type": "markdown",
   "metadata": {},
   "source": [
    "Esse código abaixo, utiliza o LabelEncoder para transformar dados em formato legível por máquinas. Ele percorre todas as colunas (características) de um conjunto de dados chamado \"atributos_previsores\" e converte seus valores em números, facilitando o uso em algoritmos de aprendizado de máquina, como classificação ou regressão. Isso é útil para que um computador possa entender e processar esses dados de maneira eficaz, mesmo que originalmente estejam em formato de texto ou categorias."
   ]
  },
  {
   "cell_type": "code",
   "execution_count": 13,
   "metadata": {},
   "outputs": [],
   "source": [
    "label_encoder = LabelEncoder()\n",
    "\n",
    "for coluna in range(35):\n",
    "    atributos_previsores[:, coluna] = label_encoder.fit_transform(atributos_previsores[:, coluna])"
   ]
  },
  {
   "cell_type": "markdown",
   "metadata": {},
   "source": [
    "# Dividindo o Conjunto de Dados em 2 Partes"
   ]
  },
  {
   "cell_type": "markdown",
   "metadata": {},
   "source": [
    "Esse código abaixo está dividindo um conjunto de dados em duas partes: uma para treinamento (usada para ensinar um modelo de machine learning) e outra para teste (usada para avaliar o desempenho do modelo). Ele faz isso separando os atributos que serão usados para previsões (atributos_previsores) das respostas esperadas (respostas) em duas partes, sendo 70% dos dados para treinamento (X_treinamento e y_treinamento) e 30% para teste (X_teste e y_teste). Isso é importante para verificar como o modelo se sai na previsão de dados que não foram usados durante o treinamento."
   ]
  },
  {
   "cell_type": "code",
   "execution_count": 14,
   "metadata": {},
   "outputs": [],
   "source": [
    "from sklearn.model_selection import train_test_split\n",
    "\n",
    "X_treinamento, X_teste, y_treinamento, y_teste = train_test_split(\n",
    "    atributos_previsores, respostas, \n",
    "    test_size=0.3,\n",
    "    random_state=0\n",
    ")"
   ]
  },
  {
   "cell_type": "markdown",
   "metadata": {},
   "source": [
    "## Criando um Modelo de Machine Learning"
   ]
  },
  {
   "cell_type": "markdown",
   "metadata": {},
   "source": [
    "Este código abaixo, faz parte da criação de um modelo de Machine Learning chamado \"Random Forest\". Em termos simples, o Random Forest é um algoritmo que ajuda a fazer previsões com base em dados. Neste código, estamos importando o \"classificador Random Forest\", criando uma instância dele com 100 estimadores (que são como pequenos modelos dentro do modelo principal) e treinando o modelo com dados de treinamento. Esse treinamento permite que o modelo aprenda a fazer previsões com base nos dados que fornecemos. É útil em muitos campos, como previsões de saúde, finanças e muito mais."
   ]
  },
  {
   "cell_type": "code",
   "execution_count": 21,
   "metadata": {},
   "outputs": [
    {
     "data": {
      "text/html": [
       "<style>#sk-container-id-3 {color: black;background-color: white;}#sk-container-id-3 pre{padding: 0;}#sk-container-id-3 div.sk-toggleable {background-color: white;}#sk-container-id-3 label.sk-toggleable__label {cursor: pointer;display: block;width: 100%;margin-bottom: 0;padding: 0.3em;box-sizing: border-box;text-align: center;}#sk-container-id-3 label.sk-toggleable__label-arrow:before {content: \"▸\";float: left;margin-right: 0.25em;color: #696969;}#sk-container-id-3 label.sk-toggleable__label-arrow:hover:before {color: black;}#sk-container-id-3 div.sk-estimator:hover label.sk-toggleable__label-arrow:before {color: black;}#sk-container-id-3 div.sk-toggleable__content {max-height: 0;max-width: 0;overflow: hidden;text-align: left;background-color: #f0f8ff;}#sk-container-id-3 div.sk-toggleable__content pre {margin: 0.2em;color: black;border-radius: 0.25em;background-color: #f0f8ff;}#sk-container-id-3 input.sk-toggleable__control:checked~div.sk-toggleable__content {max-height: 200px;max-width: 100%;overflow: auto;}#sk-container-id-3 input.sk-toggleable__control:checked~label.sk-toggleable__label-arrow:before {content: \"▾\";}#sk-container-id-3 div.sk-estimator input.sk-toggleable__control:checked~label.sk-toggleable__label {background-color: #d4ebff;}#sk-container-id-3 div.sk-label input.sk-toggleable__control:checked~label.sk-toggleable__label {background-color: #d4ebff;}#sk-container-id-3 input.sk-hidden--visually {border: 0;clip: rect(1px 1px 1px 1px);clip: rect(1px, 1px, 1px, 1px);height: 1px;margin: -1px;overflow: hidden;padding: 0;position: absolute;width: 1px;}#sk-container-id-3 div.sk-estimator {font-family: monospace;background-color: #f0f8ff;border: 1px dotted black;border-radius: 0.25em;box-sizing: border-box;margin-bottom: 0.5em;}#sk-container-id-3 div.sk-estimator:hover {background-color: #d4ebff;}#sk-container-id-3 div.sk-parallel-item::after {content: \"\";width: 100%;border-bottom: 1px solid gray;flex-grow: 1;}#sk-container-id-3 div.sk-label:hover label.sk-toggleable__label {background-color: #d4ebff;}#sk-container-id-3 div.sk-serial::before {content: \"\";position: absolute;border-left: 1px solid gray;box-sizing: border-box;top: 0;bottom: 0;left: 50%;z-index: 0;}#sk-container-id-3 div.sk-serial {display: flex;flex-direction: column;align-items: center;background-color: white;padding-right: 0.2em;padding-left: 0.2em;position: relative;}#sk-container-id-3 div.sk-item {position: relative;z-index: 1;}#sk-container-id-3 div.sk-parallel {display: flex;align-items: stretch;justify-content: center;background-color: white;position: relative;}#sk-container-id-3 div.sk-item::before, #sk-container-id-3 div.sk-parallel-item::before {content: \"\";position: absolute;border-left: 1px solid gray;box-sizing: border-box;top: 0;bottom: 0;left: 50%;z-index: -1;}#sk-container-id-3 div.sk-parallel-item {display: flex;flex-direction: column;z-index: 1;position: relative;background-color: white;}#sk-container-id-3 div.sk-parallel-item:first-child::after {align-self: flex-end;width: 50%;}#sk-container-id-3 div.sk-parallel-item:last-child::after {align-self: flex-start;width: 50%;}#sk-container-id-3 div.sk-parallel-item:only-child::after {width: 0;}#sk-container-id-3 div.sk-dashed-wrapped {border: 1px dashed gray;margin: 0 0.4em 0.5em 0.4em;box-sizing: border-box;padding-bottom: 0.4em;background-color: white;}#sk-container-id-3 div.sk-label label {font-family: monospace;font-weight: bold;display: inline-block;line-height: 1.2em;}#sk-container-id-3 div.sk-label-container {text-align: center;}#sk-container-id-3 div.sk-container {/* jupyter's `normalize.less` sets `[hidden] { display: none; }` but bootstrap.min.css set `[hidden] { display: none !important; }` so we also need the `!important` here to be able to override the default hidden behavior on the sphinx rendered scikit-learn.org. See: https://github.com/scikit-learn/scikit-learn/issues/21755 */display: inline-block !important;position: relative;}#sk-container-id-3 div.sk-text-repr-fallback {display: none;}</style><div id=\"sk-container-id-3\" class=\"sk-top-container\"><div class=\"sk-text-repr-fallback\"><pre>RandomForestClassifier()</pre><b>In a Jupyter environment, please rerun this cell to show the HTML representation or trust the notebook. <br />On GitHub, the HTML representation is unable to render, please try loading this page with nbviewer.org.</b></div><div class=\"sk-container\" hidden><div class=\"sk-item\"><div class=\"sk-estimator sk-toggleable\"><input class=\"sk-toggleable__control sk-hidden--visually\" id=\"sk-estimator-id-3\" type=\"checkbox\" checked><label for=\"sk-estimator-id-3\" class=\"sk-toggleable__label sk-toggleable__label-arrow\">RandomForestClassifier</label><div class=\"sk-toggleable__content\"><pre>RandomForestClassifier()</pre></div></div></div></div></div>"
      ],
      "text/plain": [
       "RandomForestClassifier()"
      ]
     },
     "execution_count": 21,
     "metadata": {},
     "output_type": "execute_result"
    }
   ],
   "source": [
    "from sklearn.ensemble import RandomForestClassifier\n",
    "floresta = RandomForestClassifier(n_estimators=100)\n",
    "floresta.fit(X_treinamento, y_treinamento)"
   ]
  },
  {
   "cell_type": "markdown",
   "metadata": {},
   "source": [
    "## Realizando Previsões Utilizando um Determinado Modelo"
   ]
  },
  {
   "cell_type": "markdown",
   "metadata": {},
   "source": [
    "Nesse código, estamos realizando previsões utilizando um modelo de floresta aleatória. As previsões são geradas para um conjunto de dados de teste (X_teste) e, em seguida, são impressas na saída padrão. Esse trecho de código é fundamental para avaliar o desempenho do modelo ao fazer previsões com dados de teste e verificar como ele se comporta em relação às respostas esperadas."
   ]
  },
  {
   "cell_type": "code",
   "execution_count": 20,
   "metadata": {},
   "outputs": [
    {
     "name": "stdout",
     "output_type": "stream",
     "text": [
      "Previsões: ['brown-spot' 'phytophthora-rot' 'herbicide-injury' 'purple-seed-stain'\n",
      " 'cyst-nematode' 'bacterial-blight' 'brown-stem-rot' 'bacterial-pustule'\n",
      " 'brown-spot' 'alternarialeaf-spot' 'charcoal-rot' 'bacterial-blight'\n",
      " 'anthracnose' 'anthracnose' 'alternarialeaf-spot' 'brown-spot'\n",
      " 'alternarialeaf-spot' 'alternarialeaf-spot' 'rhizoctonia-root-rot'\n",
      " 'phytophthora-rot' 'anthracnose' 'brown-stem-rot' 'brown-spot'\n",
      " 'phyllosticta-leaf-spot' 'diaporthe-stem-canker' 'brown-spot'\n",
      " 'anthracnose' 'diaporthe-stem-canker' 'bacterial-pustule'\n",
      " 'phytophthora-rot' 'frog-eye-leaf-spot' 'alternarialeaf-spot'\n",
      " 'phyllosticta-leaf-spot' 'frog-eye-leaf-spot' 'frog-eye-leaf-spot'\n",
      " 'bacterial-pustule' 'brown-stem-rot' 'charcoal-rot' 'brown-spot'\n",
      " 'brown-spot' 'brown-stem-rot' 'alternarialeaf-spot' 'phytophthora-rot'\n",
      " 'anthracnose' 'bacterial-blight' '2-4-d-injury' 'alternarialeaf-spot'\n",
      " 'phyllosticta-leaf-spot' 'phyllosticta-leaf-spot' 'alternarialeaf-spot'\n",
      " 'phyllosticta-leaf-spot' 'brown-stem-rot' 'phytophthora-rot'\n",
      " 'frog-eye-leaf-spot' 'brown-stem-rot' 'frog-eye-leaf-spot'\n",
      " 'alternarialeaf-spot' 'diaporthe-stem-canker' 'brown-stem-rot'\n",
      " 'downy-mildew' 'bacterial-pustule' 'downy-mildew' 'alternarialeaf-spot'\n",
      " 'alternarialeaf-spot' 'bacterial-blight' 'anthracnose'\n",
      " 'rhizoctonia-root-rot' 'frog-eye-leaf-spot' 'phytophthora-rot'\n",
      " 'phytophthora-rot' 'cyst-nematode' 'alternarialeaf-spot'\n",
      " 'alternarialeaf-spot' 'brown-spot' 'rhizoctonia-root-rot'\n",
      " 'phytophthora-rot' 'phytophthora-rot' 'frog-eye-leaf-spot'\n",
      " 'frog-eye-leaf-spot' 'diaporthe-stem-canker' 'brown-spot'\n",
      " 'frog-eye-leaf-spot' 'alternarialeaf-spot' 'diaporthe-stem-canker'\n",
      " 'purple-seed-stain' 'phytophthora-rot' 'anthracnose'\n",
      " 'alternarialeaf-spot' 'frog-eye-leaf-spot' 'phytophthora-rot'\n",
      " 'charcoal-rot' 'brown-spot' 'diaporthe-stem-canker' 'phytophthora-rot'\n",
      " 'phytophthora-rot' 'phytophthora-rot' 'brown-spot' 'phytophthora-rot'\n",
      " 'downy-mildew' 'alternarialeaf-spot' 'anthracnose' 'alternarialeaf-spot'\n",
      " 'brown-spot' 'alternarialeaf-spot' 'charcoal-rot' 'downy-mildew'\n",
      " 'phytophthora-rot' 'brown-spot' 'brown-spot' 'cyst-nematode'\n",
      " 'anthracnose' 'brown-spot' 'alternarialeaf-spot' 'alternarialeaf-spot'\n",
      " 'charcoal-rot' 'phyllosticta-leaf-spot' 'frog-eye-leaf-spot'\n",
      " 'rhizoctonia-root-rot' 'brown-stem-rot' 'phytophthora-rot'\n",
      " 'phytophthora-rot' 'charcoal-rot' 'frog-eye-leaf-spot' 'phytophthora-rot'\n",
      " '2-4-d-injury' 'phytophthora-rot' 'brown-spot' 'alternarialeaf-spot'\n",
      " 'anthracnose' 'diaporthe-pod-&-stem-blight' 'brown-spot' 'anthracnose'\n",
      " 'rhizoctonia-root-rot' 'brown-spot' 'purple-seed-stain'\n",
      " 'bacterial-pustule' 'brown-stem-rot' 'diaporthe-stem-canker' 'brown-spot'\n",
      " 'frog-eye-leaf-spot' 'brown-stem-rot' 'downy-mildew' 'frog-eye-leaf-spot'\n",
      " 'purple-seed-stain' 'brown-spot' 'frog-eye-leaf-spot'\n",
      " 'alternarialeaf-spot' 'powdery-mildew' 'frog-eye-leaf-spot'\n",
      " 'phyllosticta-leaf-spot' '2-4-d-injury' 'phytophthora-rot'\n",
      " 'frog-eye-leaf-spot' 'phytophthora-rot' 'bacterial-blight'\n",
      " 'bacterial-blight' 'brown-stem-rot' 'bacterial-blight'\n",
      " 'purple-seed-stain' 'herbicide-injury' 'diaporthe-pod-&-stem-blight'\n",
      " 'phyllosticta-leaf-spot' 'brown-spot' 'charcoal-rot' 'bacterial-pustule'\n",
      " 'cyst-nematode' 'brown-spot' 'bacterial-blight' 'charcoal-rot'\n",
      " 'brown-stem-rot' 'powdery-mildew' 'alternarialeaf-spot'\n",
      " 'phytophthora-rot' 'alternarialeaf-spot' 'cyst-nematode'\n",
      " 'phytophthora-rot' 'frog-eye-leaf-spot' 'alternarialeaf-spot'\n",
      " 'frog-eye-leaf-spot' 'anthracnose' 'alternarialeaf-spot' 'charcoal-rot'\n",
      " 'alternarialeaf-spot' 'alternarialeaf-spot' 'diaporthe-stem-canker'\n",
      " 'frog-eye-leaf-spot' 'brown-stem-rot' 'frog-eye-leaf-spot'\n",
      " 'diaporthe-pod-&-stem-blight' 'phytophthora-rot'\n",
      " 'diaporthe-pod-&-stem-blight' 'frog-eye-leaf-spot' 'anthracnose'\n",
      " 'alternarialeaf-spot' 'frog-eye-leaf-spot' 'phytophthora-rot'\n",
      " 'powdery-mildew' 'alternarialeaf-spot' 'herbicide-injury' 'brown-spot'\n",
      " 'anthracnose' 'diaporthe-pod-&-stem-blight' 'purple-seed-stain'\n",
      " 'bacterial-pustule' 'diaporthe-pod-&-stem-blight']\n"
     ]
    }
   ],
   "source": [
    "resultado_previsoes = floresta.predict(X_teste)\n",
    "print(\"Previsões:\", resultado_previsoes)"
   ]
  },
  {
   "cell_type": "markdown",
   "metadata": {},
   "source": [
    "## Avaliando Modelo de Machine Learning"
   ]
  },
  {
   "cell_type": "markdown",
   "metadata": {},
   "source": [
    "Neste código a seguir, estamos usando a biblioteca scikit-learn para avaliar um modelo de machine learning. Primeiro, importamos as funções necessárias para calcular a matriz de confusão e a precisão. Em seguida, calculamos a matriz de confusão usando os valores reais (y_teste) e as previsões do modelo (resultado_previsoes) e a exibimos na saída padrão. Essa matriz é útil para avaliar o desempenho de um modelo de classificação, mostrando o número de verdadeiros positivos, verdadeiros negativos, falsos positivos e falsos negativos. É uma ferramenta valiosa para avaliar a qualidade das previsões de um modelo."
   ]
  },
  {
   "cell_type": "code",
   "execution_count": 25,
   "metadata": {},
   "outputs": [
    {
     "name": "stdout",
     "output_type": "stream",
     "text": [
      "Matriz de Confusão:\n",
      "[[ 3  0  0  0  0  0  0  0  0  0  0  0  0  0  0  0  0  0  0]\n",
      " [ 0 27  0  0  0  0  0  0  0  0  0  0  0  0  0  0  0  0  0]\n",
      " [ 0  0 14  0  0  0  0  0  0  0  0  0  0  0  0  0  0  0  0]\n",
      " [ 0  0  0  8  0  0  0  0  0  0  0  0  0  0  0  0  0  0  0]\n",
      " [ 0  0  0  0  7  0  0  0  0  0  0  0  0  0  0  0  0  0  0]\n",
      " [ 0  0  0  0  0 22  0  0  0  0  0  0  0  0  1  0  0  0  0]\n",
      " [ 0  0  0  0  0  0 13  0  0  0  0  0  0  0  0  0  0  0  0]\n",
      " [ 0  0  0  0  0  0  0  9  0  0  0  0  0  0  0  0  0  0  0]\n",
      " [ 0  0  0  0  0  0  0  0  5  0  0  0  0  0  0  0  0  0  0]\n",
      " [ 0  0  0  0  0  0  0  0  0  6  0  0  0  0  0  0  0  0  0]\n",
      " [ 0  0  0  0  0  0  0  0  0  0  8  0  0  0  0  0  0  0  0]\n",
      " [ 0  0  0  0  0  0  0  0  0  0  0  5  0  0  0  0  0  0  0]\n",
      " [ 0  3  0  0  0  0  0  0  0  0  0  0 23  0  1  0  0  0  0]\n",
      " [ 0  0  0  0  0  0  0  0  0  0  0  0  0  3  0  0  0  0  0]\n",
      " [ 0  0  0  0  0  1  0  0  0  0  0  0  0  0  6  0  0  0  0]\n",
      " [ 0  0  0  0  0  0  0  0  0  0  0  0  0  0  0 26  0  0  0]\n",
      " [ 0  0  0  0  0  0  0  0  0  0  0  0  0  0  0  0  3  0  0]\n",
      " [ 0  0  0  0  0  0  0  0  0  0  0  0  0  0  0  0  0  6  0]\n",
      " [ 0  0  0  0  0  0  0  0  0  0  0  0  0  0  0  0  0  0  5]]\n"
     ]
    }
   ],
   "source": [
    "from sklearn.metrics import confusion_matrix, accuracy_score\n",
    "matriz_confusao = confusion_matrix(y_teste, resultado_previsoes)\n",
    "print(\"Matriz de Confusão:\")\n",
    "print(matriz_confusao)"
   ]
  },
  {
   "cell_type": "markdown",
   "metadata": {},
   "source": [
    "## Calculando Taxa de Acerto do Modelo de Machine Learning"
   ]
  },
  {
   "cell_type": "markdown",
   "metadata": {},
   "source": [
    "O código a seguir, calcula a taxa de acerto de um modelo de machine learning ao comparar as previsões (resultado_previsoes) com os valores reais (y_teste). A função accuracy_score() é utilizada para realizar essa comparação e retornar a porcentagem de acertos do modelo. Em seguida, a taxa de acerto é exibida na saída."
   ]
  },
  {
   "cell_type": "code",
   "execution_count": 32,
   "metadata": {},
   "outputs": [
    {
     "name": "stdout",
     "output_type": "stream",
     "text": [
      "Taxa de acerto: 97.07%\n"
     ]
    }
   ],
   "source": [
    "taxa_acerto = accuracy_score(y_teste, resultado_previsoes)\n",
    "print(\"Taxa de acerto: {:.2%}\".format(taxa_acerto))"
   ]
  },
  {
   "cell_type": "markdown",
   "metadata": {},
   "source": [
    "## Calculando Taxa de Erro do Modelo de Machine Learning"
   ]
  },
  {
   "cell_type": "markdown",
   "metadata": {},
   "source": [
    "Nesse código, estamos calculando a taxa de erro com base na taxa de acerto previamente definida. A variável \"taxa_erro\" é calculada subtraindo-se 1 da taxa de acerto. Em seguida, é exibida a taxa de erro em formato de porcentagem com duas casas decimais. Essa informação é útil em contextos de análise de desempenho, como em machine learning, para avaliar o quão preciso um modelo ou algoritmo é em suas previsões."
   ]
  },
  {
   "cell_type": "code",
   "execution_count": 35,
   "metadata": {},
   "outputs": [
    {
     "name": "stdout",
     "output_type": "stream",
     "text": [
      "Taxa de erro: 2.93%\n"
     ]
    }
   ],
   "source": [
    "taxa_erro = 1 - taxa_acerto\n",
    "print(\"Taxa de erro: {:.2%}\".format(taxa_erro))"
   ]
  },
  {
   "cell_type": "code",
   "execution_count": null,
   "metadata": {},
   "outputs": [],
   "source": []
  }
 ],
 "metadata": {
  "kernelspec": {
   "display_name": "Python 3",
   "language": "python",
   "name": "python3"
  },
  "language_info": {
   "codemirror_mode": {
    "name": "ipython",
    "version": 3
   },
   "file_extension": ".py",
   "mimetype": "text/x-python",
   "name": "python",
   "nbconvert_exporter": "python",
   "pygments_lexer": "ipython3",
   "version": "3.11.3"
  }
 },
 "nbformat": 4,
 "nbformat_minor": 4
}
