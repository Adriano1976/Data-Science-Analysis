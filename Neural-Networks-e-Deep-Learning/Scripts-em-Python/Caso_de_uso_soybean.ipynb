{
 "cells": [
  {
   "cell_type": "markdown",
   "metadata": {},
   "source": [
    "### **Formação Cientista de Dados** - Fernando Amaral e Jones Granatyr\n",
    "### Colaboração: Adriano Santos\n",
    "\n",
    "## <font color=blue><strong>Diagnóstico de doenças em soja</strong></font>\n",
    " 1. Crie um modelo de ML (pode usar RNA/DL etc)\n",
    " 2. Busque a melhor performance\n",
    "\n",
    "## <font color=red><strong>Conjunto de Dados:</strong></font>\n",
    " - 19 classes\n",
    " - 35 atributos\n",
    " - 683 instâncias\n",
    "<hr>"
   ]
  },
  {
   "cell_type": "markdown",
   "metadata": {},
   "source": [
    "### <font color=orange><strong>Verificando a Versão da Linguagem Python</strong></font>"
   ]
  },
  {
   "cell_type": "markdown",
   "metadata": {},
   "source": [
    "* Esse código Python exibe a versão da linguagem Python que está sendo usada no ambiente do Jupyter Notebook. Ele importa a função python_version do módulo platform e, em seguida, imprime a versão do Python. Isso é útil para verificar a versão da linguagem e garantir que seu código seja compatível com essa versão específica."
   ]
  },
  {
   "cell_type": "code",
   "execution_count": 2,
   "metadata": {},
   "outputs": [
    {
     "name": "stdout",
     "output_type": "stream",
     "text": [
      "Versão da Linguagem Python Usada Neste Jupyter Notebook: 3.11.3\n"
     ]
    }
   ],
   "source": [
    "from platform import python_version\n",
    "print('Versão da Linguagem Python Usada Neste Jupyter Notebook:', python_version())"
   ]
  },
  {
   "cell_type": "markdown",
   "metadata": {},
   "source": [
    "### <font color=orange><strong>Importando as Bibliotecas Necessárias</strong></font>"
   ]
  },
  {
   "cell_type": "markdown",
   "metadata": {},
   "source": [
    "Esse código abaixo, utiliza bibliotecas como pandas e scikit-learn para criar um modelo de classificação. Ele carrega dados, transforma rótulos em números com o LabelEncoder, divide os dados em conjuntos de treinamento e teste, e cria um modelo de classificação de floresta aleatória (RandomForestClassifier). Em seguida, avalia o desempenho do modelo, calculando a matriz de confusão e a precisão. Em resumo, esse código automatiza a criação e avaliação de um modelo de machine learning para classificar dados com base em características específicas."
   ]
  },
  {
   "cell_type": "code",
   "execution_count": 77,
   "metadata": {},
   "outputs": [],
   "source": [
    "import pandas as pd\n",
    "import matplotlib.pyplot as plt\n",
    "from sklearn.preprocessing import LabelEncoder\n",
    "from sklearn.model_selection import train_test_split\n",
    "from sklearn.ensemble import RandomForestClassifier\n",
    "from sklearn.metrics import confusion_matrix,ConfusionMatrixDisplay, classification_report ,accuracy_score"
   ]
  },
  {
   "cell_type": "markdown",
   "metadata": {},
   "source": [
    "### <font color=orange><strong>Carregando a Base de Dados</strong></font>"
   ]
  },
  {
   "cell_type": "markdown",
   "metadata": {},
   "source": [
    "Esse código abaixo, utiliza a biblioteca pandas para ler um arquivo CSV chamado 'soybean.csv' localizado no diretório '../dados/'. Em seguida, ele exibe as cinco primeiras linhas desse arquivo com o método 'head()'. Isso é útil para visualizar rapidamente os dados iniciais do arquivo e entender sua estrutura."
   ]
  },
  {
   "cell_type": "code",
   "execution_count": 78,
   "metadata": {},
   "outputs": [],
   "source": [
    "base_soybean = pd.read_csv('../dados/soybean.csv')"
   ]
  },
  {
   "cell_type": "markdown",
   "metadata": {},
   "source": [
    "### <font color=orange>__Analisando e Explorando a Base de Dados__</font>"
   ]
  },
  {
   "cell_type": "markdown",
   "metadata": {},
   "source": [
    "O código \"base_soybean.shape\" é utilizado para obter as dimensões da base de dados \"soybean\" em termos de linhas e colunas. Ele retorna um par de valores, onde o primeiro representa o número de linhas (registros) na base de dados e o segundo representa o número de colunas (variáveis). Isso é útil para entender a estrutura dos dados e realizar análises estatísticas ou preparar os dados para análises posteriores."
   ]
  },
  {
   "cell_type": "code",
   "execution_count": 79,
   "metadata": {},
   "outputs": [
    {
     "data": {
      "text/plain": [
       "(683, 36)"
      ]
     },
     "execution_count": 79,
     "metadata": {},
     "output_type": "execute_result"
    }
   ],
   "source": [
    "base_soybean.shape"
   ]
  },
  {
   "cell_type": "markdown",
   "metadata": {},
   "source": [
    "* O código \"`base.head(10)`\" e \"`base.tail(10)`\" são instruções em Python utilizadas para exibirem as primeiras e últimas linhas de um conjunto de dados, como um DataFrame do Pandas. Elas retornam por padrão as cinco primeiras e últimas linhas, oferecendo uma visão rápida das informações contidas no conjunto de dados. São ferramentas úteis para verificar a estrutura e os dados iniciais de um arquivo, facilitando a análise exploratória e a compreensão do conteúdo do dataset."
   ]
  },
  {
   "cell_type": "code",
   "execution_count": 80,
   "metadata": {},
   "outputs": [
    {
     "data": {
      "text/html": [
       "<div>\n",
       "<style scoped>\n",
       "    .dataframe tbody tr th:only-of-type {\n",
       "        vertical-align: middle;\n",
       "    }\n",
       "\n",
       "    .dataframe tbody tr th {\n",
       "        vertical-align: top;\n",
       "    }\n",
       "\n",
       "    .dataframe thead th {\n",
       "        text-align: right;\n",
       "    }\n",
       "</style>\n",
       "<table border=\"1\" class=\"dataframe\">\n",
       "  <thead>\n",
       "    <tr style=\"text-align: right;\">\n",
       "      <th></th>\n",
       "      <th>date</th>\n",
       "      <th>plant-stand</th>\n",
       "      <th>precip</th>\n",
       "      <th>temp</th>\n",
       "      <th>hail</th>\n",
       "      <th>crop-hist</th>\n",
       "      <th>area-damaged</th>\n",
       "      <th>severity</th>\n",
       "      <th>seed-tmt</th>\n",
       "      <th>germination</th>\n",
       "      <th>...</th>\n",
       "      <th>sclerotia</th>\n",
       "      <th>fruit-pods</th>\n",
       "      <th>fruit-spots</th>\n",
       "      <th>seed</th>\n",
       "      <th>mold-growth</th>\n",
       "      <th>seed-discolor</th>\n",
       "      <th>seed-size</th>\n",
       "      <th>shriveling</th>\n",
       "      <th>roots</th>\n",
       "      <th>class</th>\n",
       "    </tr>\n",
       "  </thead>\n",
       "  <tbody>\n",
       "    <tr>\n",
       "      <th>0</th>\n",
       "      <td>october</td>\n",
       "      <td>normal</td>\n",
       "      <td>gt-norm</td>\n",
       "      <td>norm</td>\n",
       "      <td>yes</td>\n",
       "      <td>same-lst-yr</td>\n",
       "      <td>low-areas</td>\n",
       "      <td>pot-severe</td>\n",
       "      <td>none</td>\n",
       "      <td>90-100</td>\n",
       "      <td>...</td>\n",
       "      <td>absent</td>\n",
       "      <td>norm</td>\n",
       "      <td>dna</td>\n",
       "      <td>norm</td>\n",
       "      <td>absent</td>\n",
       "      <td>absent</td>\n",
       "      <td>norm</td>\n",
       "      <td>absent</td>\n",
       "      <td>norm</td>\n",
       "      <td>diaporthe-stem-canker</td>\n",
       "    </tr>\n",
       "    <tr>\n",
       "      <th>1</th>\n",
       "      <td>august</td>\n",
       "      <td>normal</td>\n",
       "      <td>gt-norm</td>\n",
       "      <td>norm</td>\n",
       "      <td>yes</td>\n",
       "      <td>same-lst-two-yrs</td>\n",
       "      <td>scattered</td>\n",
       "      <td>severe</td>\n",
       "      <td>fungicide</td>\n",
       "      <td>80-89</td>\n",
       "      <td>...</td>\n",
       "      <td>absent</td>\n",
       "      <td>norm</td>\n",
       "      <td>dna</td>\n",
       "      <td>norm</td>\n",
       "      <td>absent</td>\n",
       "      <td>absent</td>\n",
       "      <td>norm</td>\n",
       "      <td>absent</td>\n",
       "      <td>norm</td>\n",
       "      <td>diaporthe-stem-canker</td>\n",
       "    </tr>\n",
       "    <tr>\n",
       "      <th>2</th>\n",
       "      <td>july</td>\n",
       "      <td>normal</td>\n",
       "      <td>gt-norm</td>\n",
       "      <td>norm</td>\n",
       "      <td>yes</td>\n",
       "      <td>same-lst-yr</td>\n",
       "      <td>scattered</td>\n",
       "      <td>severe</td>\n",
       "      <td>fungicide</td>\n",
       "      <td>lt-80</td>\n",
       "      <td>...</td>\n",
       "      <td>absent</td>\n",
       "      <td>norm</td>\n",
       "      <td>dna</td>\n",
       "      <td>norm</td>\n",
       "      <td>absent</td>\n",
       "      <td>absent</td>\n",
       "      <td>norm</td>\n",
       "      <td>absent</td>\n",
       "      <td>norm</td>\n",
       "      <td>diaporthe-stem-canker</td>\n",
       "    </tr>\n",
       "    <tr>\n",
       "      <th>3</th>\n",
       "      <td>july</td>\n",
       "      <td>normal</td>\n",
       "      <td>gt-norm</td>\n",
       "      <td>norm</td>\n",
       "      <td>yes</td>\n",
       "      <td>same-lst-yr</td>\n",
       "      <td>scattered</td>\n",
       "      <td>severe</td>\n",
       "      <td>none</td>\n",
       "      <td>80-89</td>\n",
       "      <td>...</td>\n",
       "      <td>absent</td>\n",
       "      <td>norm</td>\n",
       "      <td>dna</td>\n",
       "      <td>norm</td>\n",
       "      <td>absent</td>\n",
       "      <td>absent</td>\n",
       "      <td>norm</td>\n",
       "      <td>absent</td>\n",
       "      <td>norm</td>\n",
       "      <td>diaporthe-stem-canker</td>\n",
       "    </tr>\n",
       "    <tr>\n",
       "      <th>4</th>\n",
       "      <td>october</td>\n",
       "      <td>normal</td>\n",
       "      <td>gt-norm</td>\n",
       "      <td>norm</td>\n",
       "      <td>yes</td>\n",
       "      <td>same-lst-two-yrs</td>\n",
       "      <td>scattered</td>\n",
       "      <td>pot-severe</td>\n",
       "      <td>none</td>\n",
       "      <td>lt-80</td>\n",
       "      <td>...</td>\n",
       "      <td>absent</td>\n",
       "      <td>norm</td>\n",
       "      <td>dna</td>\n",
       "      <td>norm</td>\n",
       "      <td>absent</td>\n",
       "      <td>absent</td>\n",
       "      <td>norm</td>\n",
       "      <td>absent</td>\n",
       "      <td>norm</td>\n",
       "      <td>diaporthe-stem-canker</td>\n",
       "    </tr>\n",
       "    <tr>\n",
       "      <th>5</th>\n",
       "      <td>september</td>\n",
       "      <td>normal</td>\n",
       "      <td>gt-norm</td>\n",
       "      <td>norm</td>\n",
       "      <td>yes</td>\n",
       "      <td>same-lst-sev-yrs</td>\n",
       "      <td>scattered</td>\n",
       "      <td>pot-severe</td>\n",
       "      <td>none</td>\n",
       "      <td>80-89</td>\n",
       "      <td>...</td>\n",
       "      <td>absent</td>\n",
       "      <td>norm</td>\n",
       "      <td>dna</td>\n",
       "      <td>norm</td>\n",
       "      <td>absent</td>\n",
       "      <td>absent</td>\n",
       "      <td>norm</td>\n",
       "      <td>absent</td>\n",
       "      <td>norm</td>\n",
       "      <td>diaporthe-stem-canker</td>\n",
       "    </tr>\n",
       "    <tr>\n",
       "      <th>6</th>\n",
       "      <td>september</td>\n",
       "      <td>normal</td>\n",
       "      <td>gt-norm</td>\n",
       "      <td>norm</td>\n",
       "      <td>yes</td>\n",
       "      <td>same-lst-two-yrs</td>\n",
       "      <td>scattered</td>\n",
       "      <td>pot-severe</td>\n",
       "      <td>fungicide</td>\n",
       "      <td>90-100</td>\n",
       "      <td>...</td>\n",
       "      <td>absent</td>\n",
       "      <td>norm</td>\n",
       "      <td>dna</td>\n",
       "      <td>norm</td>\n",
       "      <td>absent</td>\n",
       "      <td>absent</td>\n",
       "      <td>norm</td>\n",
       "      <td>absent</td>\n",
       "      <td>norm</td>\n",
       "      <td>diaporthe-stem-canker</td>\n",
       "    </tr>\n",
       "    <tr>\n",
       "      <th>7</th>\n",
       "      <td>august</td>\n",
       "      <td>normal</td>\n",
       "      <td>gt-norm</td>\n",
       "      <td>norm</td>\n",
       "      <td>no</td>\n",
       "      <td>same-lst-yr</td>\n",
       "      <td>scattered</td>\n",
       "      <td>pot-severe</td>\n",
       "      <td>none</td>\n",
       "      <td>lt-80</td>\n",
       "      <td>...</td>\n",
       "      <td>absent</td>\n",
       "      <td>norm</td>\n",
       "      <td>dna</td>\n",
       "      <td>norm</td>\n",
       "      <td>absent</td>\n",
       "      <td>absent</td>\n",
       "      <td>norm</td>\n",
       "      <td>absent</td>\n",
       "      <td>norm</td>\n",
       "      <td>diaporthe-stem-canker</td>\n",
       "    </tr>\n",
       "    <tr>\n",
       "      <th>8</th>\n",
       "      <td>october</td>\n",
       "      <td>normal</td>\n",
       "      <td>gt-norm</td>\n",
       "      <td>norm</td>\n",
       "      <td>yes</td>\n",
       "      <td>same-lst-sev-yrs</td>\n",
       "      <td>scattered</td>\n",
       "      <td>pot-severe</td>\n",
       "      <td>fungicide</td>\n",
       "      <td>80-89</td>\n",
       "      <td>...</td>\n",
       "      <td>absent</td>\n",
       "      <td>norm</td>\n",
       "      <td>dna</td>\n",
       "      <td>norm</td>\n",
       "      <td>absent</td>\n",
       "      <td>absent</td>\n",
       "      <td>norm</td>\n",
       "      <td>absent</td>\n",
       "      <td>norm</td>\n",
       "      <td>diaporthe-stem-canker</td>\n",
       "    </tr>\n",
       "    <tr>\n",
       "      <th>9</th>\n",
       "      <td>august</td>\n",
       "      <td>normal</td>\n",
       "      <td>gt-norm</td>\n",
       "      <td>norm</td>\n",
       "      <td>yes</td>\n",
       "      <td>same-lst-two-yrs</td>\n",
       "      <td>scattered</td>\n",
       "      <td>severe</td>\n",
       "      <td>none</td>\n",
       "      <td>lt-80</td>\n",
       "      <td>...</td>\n",
       "      <td>absent</td>\n",
       "      <td>norm</td>\n",
       "      <td>dna</td>\n",
       "      <td>norm</td>\n",
       "      <td>absent</td>\n",
       "      <td>absent</td>\n",
       "      <td>norm</td>\n",
       "      <td>absent</td>\n",
       "      <td>norm</td>\n",
       "      <td>diaporthe-stem-canker</td>\n",
       "    </tr>\n",
       "  </tbody>\n",
       "</table>\n",
       "<p>10 rows × 36 columns</p>\n",
       "</div>"
      ],
      "text/plain": [
       "        date plant-stand   precip  temp hail         crop-hist area-damaged  \\\n",
       "0    october      normal  gt-norm  norm  yes       same-lst-yr    low-areas   \n",
       "1     august      normal  gt-norm  norm  yes  same-lst-two-yrs    scattered   \n",
       "2       july      normal  gt-norm  norm  yes       same-lst-yr    scattered   \n",
       "3       july      normal  gt-norm  norm  yes       same-lst-yr    scattered   \n",
       "4    october      normal  gt-norm  norm  yes  same-lst-two-yrs    scattered   \n",
       "5  september      normal  gt-norm  norm  yes  same-lst-sev-yrs    scattered   \n",
       "6  september      normal  gt-norm  norm  yes  same-lst-two-yrs    scattered   \n",
       "7     august      normal  gt-norm  norm   no       same-lst-yr    scattered   \n",
       "8    october      normal  gt-norm  norm  yes  same-lst-sev-yrs    scattered   \n",
       "9     august      normal  gt-norm  norm  yes  same-lst-two-yrs    scattered   \n",
       "\n",
       "     severity   seed-tmt germination  ... sclerotia fruit-pods fruit-spots  \\\n",
       "0  pot-severe       none      90-100  ...    absent       norm         dna   \n",
       "1      severe  fungicide       80-89  ...    absent       norm         dna   \n",
       "2      severe  fungicide       lt-80  ...    absent       norm         dna   \n",
       "3      severe       none       80-89  ...    absent       norm         dna   \n",
       "4  pot-severe       none       lt-80  ...    absent       norm         dna   \n",
       "5  pot-severe       none       80-89  ...    absent       norm         dna   \n",
       "6  pot-severe  fungicide      90-100  ...    absent       norm         dna   \n",
       "7  pot-severe       none       lt-80  ...    absent       norm         dna   \n",
       "8  pot-severe  fungicide       80-89  ...    absent       norm         dna   \n",
       "9      severe       none       lt-80  ...    absent       norm         dna   \n",
       "\n",
       "   seed mold-growth seed-discolor seed-size shriveling roots  \\\n",
       "0  norm      absent        absent      norm     absent  norm   \n",
       "1  norm      absent        absent      norm     absent  norm   \n",
       "2  norm      absent        absent      norm     absent  norm   \n",
       "3  norm      absent        absent      norm     absent  norm   \n",
       "4  norm      absent        absent      norm     absent  norm   \n",
       "5  norm      absent        absent      norm     absent  norm   \n",
       "6  norm      absent        absent      norm     absent  norm   \n",
       "7  norm      absent        absent      norm     absent  norm   \n",
       "8  norm      absent        absent      norm     absent  norm   \n",
       "9  norm      absent        absent      norm     absent  norm   \n",
       "\n",
       "                   class  \n",
       "0  diaporthe-stem-canker  \n",
       "1  diaporthe-stem-canker  \n",
       "2  diaporthe-stem-canker  \n",
       "3  diaporthe-stem-canker  \n",
       "4  diaporthe-stem-canker  \n",
       "5  diaporthe-stem-canker  \n",
       "6  diaporthe-stem-canker  \n",
       "7  diaporthe-stem-canker  \n",
       "8  diaporthe-stem-canker  \n",
       "9  diaporthe-stem-canker  \n",
       "\n",
       "[10 rows x 36 columns]"
      ]
     },
     "execution_count": 80,
     "metadata": {},
     "output_type": "execute_result"
    }
   ],
   "source": [
    "base_soybean.head(10)"
   ]
  },
  {
   "cell_type": "code",
   "execution_count": 81,
   "metadata": {},
   "outputs": [
    {
     "data": {
      "text/html": [
       "<div>\n",
       "<style scoped>\n",
       "    .dataframe tbody tr th:only-of-type {\n",
       "        vertical-align: middle;\n",
       "    }\n",
       "\n",
       "    .dataframe tbody tr th {\n",
       "        vertical-align: top;\n",
       "    }\n",
       "\n",
       "    .dataframe thead th {\n",
       "        text-align: right;\n",
       "    }\n",
       "</style>\n",
       "<table border=\"1\" class=\"dataframe\">\n",
       "  <thead>\n",
       "    <tr style=\"text-align: right;\">\n",
       "      <th></th>\n",
       "      <th>date</th>\n",
       "      <th>plant-stand</th>\n",
       "      <th>precip</th>\n",
       "      <th>temp</th>\n",
       "      <th>hail</th>\n",
       "      <th>crop-hist</th>\n",
       "      <th>area-damaged</th>\n",
       "      <th>severity</th>\n",
       "      <th>seed-tmt</th>\n",
       "      <th>germination</th>\n",
       "      <th>...</th>\n",
       "      <th>sclerotia</th>\n",
       "      <th>fruit-pods</th>\n",
       "      <th>fruit-spots</th>\n",
       "      <th>seed</th>\n",
       "      <th>mold-growth</th>\n",
       "      <th>seed-discolor</th>\n",
       "      <th>seed-size</th>\n",
       "      <th>shriveling</th>\n",
       "      <th>roots</th>\n",
       "      <th>class</th>\n",
       "    </tr>\n",
       "  </thead>\n",
       "  <tbody>\n",
       "    <tr>\n",
       "      <th>673</th>\n",
       "      <td>june</td>\n",
       "      <td>?</td>\n",
       "      <td>?</td>\n",
       "      <td>?</td>\n",
       "      <td>?</td>\n",
       "      <td>?</td>\n",
       "      <td>low-areas</td>\n",
       "      <td>?</td>\n",
       "      <td>?</td>\n",
       "      <td>?</td>\n",
       "      <td>...</td>\n",
       "      <td>?</td>\n",
       "      <td>?</td>\n",
       "      <td>?</td>\n",
       "      <td>?</td>\n",
       "      <td>?</td>\n",
       "      <td>?</td>\n",
       "      <td>?</td>\n",
       "      <td>?</td>\n",
       "      <td>?</td>\n",
       "      <td>2-4-d-injury</td>\n",
       "    </tr>\n",
       "    <tr>\n",
       "      <th>674</th>\n",
       "      <td>july</td>\n",
       "      <td>?</td>\n",
       "      <td>?</td>\n",
       "      <td>?</td>\n",
       "      <td>?</td>\n",
       "      <td>?</td>\n",
       "      <td>upper-areas</td>\n",
       "      <td>?</td>\n",
       "      <td>?</td>\n",
       "      <td>?</td>\n",
       "      <td>...</td>\n",
       "      <td>?</td>\n",
       "      <td>?</td>\n",
       "      <td>?</td>\n",
       "      <td>?</td>\n",
       "      <td>?</td>\n",
       "      <td>?</td>\n",
       "      <td>?</td>\n",
       "      <td>?</td>\n",
       "      <td>?</td>\n",
       "      <td>2-4-d-injury</td>\n",
       "    </tr>\n",
       "    <tr>\n",
       "      <th>675</th>\n",
       "      <td>august</td>\n",
       "      <td>?</td>\n",
       "      <td>?</td>\n",
       "      <td>?</td>\n",
       "      <td>?</td>\n",
       "      <td>?</td>\n",
       "      <td>whole-field</td>\n",
       "      <td>?</td>\n",
       "      <td>?</td>\n",
       "      <td>?</td>\n",
       "      <td>...</td>\n",
       "      <td>?</td>\n",
       "      <td>?</td>\n",
       "      <td>?</td>\n",
       "      <td>?</td>\n",
       "      <td>?</td>\n",
       "      <td>?</td>\n",
       "      <td>?</td>\n",
       "      <td>?</td>\n",
       "      <td>?</td>\n",
       "      <td>2-4-d-injury</td>\n",
       "    </tr>\n",
       "    <tr>\n",
       "      <th>676</th>\n",
       "      <td>september</td>\n",
       "      <td>?</td>\n",
       "      <td>?</td>\n",
       "      <td>?</td>\n",
       "      <td>?</td>\n",
       "      <td>?</td>\n",
       "      <td>scattered</td>\n",
       "      <td>?</td>\n",
       "      <td>?</td>\n",
       "      <td>?</td>\n",
       "      <td>...</td>\n",
       "      <td>?</td>\n",
       "      <td>?</td>\n",
       "      <td>?</td>\n",
       "      <td>?</td>\n",
       "      <td>?</td>\n",
       "      <td>?</td>\n",
       "      <td>?</td>\n",
       "      <td>?</td>\n",
       "      <td>?</td>\n",
       "      <td>2-4-d-injury</td>\n",
       "    </tr>\n",
       "    <tr>\n",
       "      <th>677</th>\n",
       "      <td>october</td>\n",
       "      <td>?</td>\n",
       "      <td>?</td>\n",
       "      <td>?</td>\n",
       "      <td>?</td>\n",
       "      <td>?</td>\n",
       "      <td>low-areas</td>\n",
       "      <td>?</td>\n",
       "      <td>?</td>\n",
       "      <td>?</td>\n",
       "      <td>...</td>\n",
       "      <td>?</td>\n",
       "      <td>?</td>\n",
       "      <td>?</td>\n",
       "      <td>?</td>\n",
       "      <td>?</td>\n",
       "      <td>?</td>\n",
       "      <td>?</td>\n",
       "      <td>?</td>\n",
       "      <td>?</td>\n",
       "      <td>2-4-d-injury</td>\n",
       "    </tr>\n",
       "    <tr>\n",
       "      <th>678</th>\n",
       "      <td>april</td>\n",
       "      <td>?</td>\n",
       "      <td>?</td>\n",
       "      <td>?</td>\n",
       "      <td>?</td>\n",
       "      <td>?</td>\n",
       "      <td>upper-areas</td>\n",
       "      <td>?</td>\n",
       "      <td>?</td>\n",
       "      <td>?</td>\n",
       "      <td>...</td>\n",
       "      <td>?</td>\n",
       "      <td>?</td>\n",
       "      <td>?</td>\n",
       "      <td>?</td>\n",
       "      <td>?</td>\n",
       "      <td>?</td>\n",
       "      <td>?</td>\n",
       "      <td>?</td>\n",
       "      <td>?</td>\n",
       "      <td>2-4-d-injury</td>\n",
       "    </tr>\n",
       "    <tr>\n",
       "      <th>679</th>\n",
       "      <td>april</td>\n",
       "      <td>lt-normal</td>\n",
       "      <td>?</td>\n",
       "      <td>lt-norm</td>\n",
       "      <td>?</td>\n",
       "      <td>diff-lst-year</td>\n",
       "      <td>scattered</td>\n",
       "      <td>?</td>\n",
       "      <td>?</td>\n",
       "      <td>?</td>\n",
       "      <td>...</td>\n",
       "      <td>?</td>\n",
       "      <td>dna</td>\n",
       "      <td>?</td>\n",
       "      <td>?</td>\n",
       "      <td>?</td>\n",
       "      <td>?</td>\n",
       "      <td>?</td>\n",
       "      <td>?</td>\n",
       "      <td>rotted</td>\n",
       "      <td>herbicide-injury</td>\n",
       "    </tr>\n",
       "    <tr>\n",
       "      <th>680</th>\n",
       "      <td>june</td>\n",
       "      <td>lt-normal</td>\n",
       "      <td>?</td>\n",
       "      <td>lt-norm</td>\n",
       "      <td>?</td>\n",
       "      <td>diff-lst-year</td>\n",
       "      <td>scattered</td>\n",
       "      <td>?</td>\n",
       "      <td>?</td>\n",
       "      <td>?</td>\n",
       "      <td>...</td>\n",
       "      <td>?</td>\n",
       "      <td>dna</td>\n",
       "      <td>?</td>\n",
       "      <td>?</td>\n",
       "      <td>?</td>\n",
       "      <td>?</td>\n",
       "      <td>?</td>\n",
       "      <td>?</td>\n",
       "      <td>rotted</td>\n",
       "      <td>herbicide-injury</td>\n",
       "    </tr>\n",
       "    <tr>\n",
       "      <th>681</th>\n",
       "      <td>april</td>\n",
       "      <td>lt-normal</td>\n",
       "      <td>?</td>\n",
       "      <td>lt-norm</td>\n",
       "      <td>?</td>\n",
       "      <td>same-lst-yr</td>\n",
       "      <td>whole-field</td>\n",
       "      <td>?</td>\n",
       "      <td>?</td>\n",
       "      <td>?</td>\n",
       "      <td>...</td>\n",
       "      <td>?</td>\n",
       "      <td>dna</td>\n",
       "      <td>?</td>\n",
       "      <td>?</td>\n",
       "      <td>?</td>\n",
       "      <td>?</td>\n",
       "      <td>?</td>\n",
       "      <td>?</td>\n",
       "      <td>rotted</td>\n",
       "      <td>herbicide-injury</td>\n",
       "    </tr>\n",
       "    <tr>\n",
       "      <th>682</th>\n",
       "      <td>june</td>\n",
       "      <td>lt-normal</td>\n",
       "      <td>?</td>\n",
       "      <td>lt-norm</td>\n",
       "      <td>?</td>\n",
       "      <td>same-lst-yr</td>\n",
       "      <td>whole-field</td>\n",
       "      <td>?</td>\n",
       "      <td>?</td>\n",
       "      <td>?</td>\n",
       "      <td>...</td>\n",
       "      <td>?</td>\n",
       "      <td>dna</td>\n",
       "      <td>?</td>\n",
       "      <td>?</td>\n",
       "      <td>?</td>\n",
       "      <td>?</td>\n",
       "      <td>?</td>\n",
       "      <td>?</td>\n",
       "      <td>rotted</td>\n",
       "      <td>herbicide-injury</td>\n",
       "    </tr>\n",
       "  </tbody>\n",
       "</table>\n",
       "<p>10 rows × 36 columns</p>\n",
       "</div>"
      ],
      "text/plain": [
       "          date plant-stand precip     temp hail      crop-hist area-damaged  \\\n",
       "673       june           ?      ?        ?    ?              ?    low-areas   \n",
       "674       july           ?      ?        ?    ?              ?  upper-areas   \n",
       "675     august           ?      ?        ?    ?              ?  whole-field   \n",
       "676  september           ?      ?        ?    ?              ?    scattered   \n",
       "677    october           ?      ?        ?    ?              ?    low-areas   \n",
       "678      april           ?      ?        ?    ?              ?  upper-areas   \n",
       "679      april   lt-normal      ?  lt-norm    ?  diff-lst-year    scattered   \n",
       "680       june   lt-normal      ?  lt-norm    ?  diff-lst-year    scattered   \n",
       "681      april   lt-normal      ?  lt-norm    ?    same-lst-yr  whole-field   \n",
       "682       june   lt-normal      ?  lt-norm    ?    same-lst-yr  whole-field   \n",
       "\n",
       "    severity seed-tmt germination  ... sclerotia fruit-pods fruit-spots seed  \\\n",
       "673        ?        ?           ?  ...         ?          ?           ?    ?   \n",
       "674        ?        ?           ?  ...         ?          ?           ?    ?   \n",
       "675        ?        ?           ?  ...         ?          ?           ?    ?   \n",
       "676        ?        ?           ?  ...         ?          ?           ?    ?   \n",
       "677        ?        ?           ?  ...         ?          ?           ?    ?   \n",
       "678        ?        ?           ?  ...         ?          ?           ?    ?   \n",
       "679        ?        ?           ?  ...         ?        dna           ?    ?   \n",
       "680        ?        ?           ?  ...         ?        dna           ?    ?   \n",
       "681        ?        ?           ?  ...         ?        dna           ?    ?   \n",
       "682        ?        ?           ?  ...         ?        dna           ?    ?   \n",
       "\n",
       "    mold-growth seed-discolor seed-size shriveling   roots             class  \n",
       "673           ?             ?         ?          ?       ?      2-4-d-injury  \n",
       "674           ?             ?         ?          ?       ?      2-4-d-injury  \n",
       "675           ?             ?         ?          ?       ?      2-4-d-injury  \n",
       "676           ?             ?         ?          ?       ?      2-4-d-injury  \n",
       "677           ?             ?         ?          ?       ?      2-4-d-injury  \n",
       "678           ?             ?         ?          ?       ?      2-4-d-injury  \n",
       "679           ?             ?         ?          ?  rotted  herbicide-injury  \n",
       "680           ?             ?         ?          ?  rotted  herbicide-injury  \n",
       "681           ?             ?         ?          ?  rotted  herbicide-injury  \n",
       "682           ?             ?         ?          ?  rotted  herbicide-injury  \n",
       "\n",
       "[10 rows x 36 columns]"
      ]
     },
     "execution_count": 81,
     "metadata": {},
     "output_type": "execute_result"
    }
   ],
   "source": [
    "base_soybean.tail(10)"
   ]
  },
  {
   "cell_type": "markdown",
   "metadata": {},
   "source": [
    "* No código a seguir, está sendo utilizado o método `info()` no DataFrame `base_soybean`. Este método, pertencente à biblioteca **Pandas**, fornece informações concisas sobre o DataFrame, incluindo o número de entradas não nulas em cada coluna, o tipo de dado e a quantidade total de memória usada. Essa abordagem é útil para uma rápida análise descritiva do conjunto de dados relacionado à soja. Vale ressaltar que o uso de métodos como `info()` é crucial para entender a estrutura e a integridade dos dados, auxiliando em uma análise mais eficiente e na identificação de eventuais lacunas ou inconsistências no conjunto de dados."
   ]
  },
  {
   "cell_type": "code",
   "execution_count": 82,
   "metadata": {},
   "outputs": [
    {
     "name": "stdout",
     "output_type": "stream",
     "text": [
      "<class 'pandas.core.frame.DataFrame'>\n",
      "RangeIndex: 683 entries, 0 to 682\n",
      "Data columns (total 36 columns):\n",
      " #   Column           Non-Null Count  Dtype \n",
      "---  ------           --------------  ----- \n",
      " 0   date             683 non-null    object\n",
      " 1   plant-stand      683 non-null    object\n",
      " 2   precip           683 non-null    object\n",
      " 3   temp             683 non-null    object\n",
      " 4   hail             683 non-null    object\n",
      " 5   crop-hist        683 non-null    object\n",
      " 6   area-damaged     683 non-null    object\n",
      " 7   severity         683 non-null    object\n",
      " 8   seed-tmt         683 non-null    object\n",
      " 9   germination      683 non-null    object\n",
      " 10  plant-growth     683 non-null    object\n",
      " 11  leaves           683 non-null    object\n",
      " 12  leafspots-halo   683 non-null    object\n",
      " 13  leafspots-marg   683 non-null    object\n",
      " 14  leafspot-size    683 non-null    object\n",
      " 15  leaf-shread      683 non-null    object\n",
      " 16  leaf-malf        683 non-null    object\n",
      " 17  leaf-mild        683 non-null    object\n",
      " 18  stem             683 non-null    object\n",
      " 19  lodging          683 non-null    object\n",
      " 20  stem-cankers     683 non-null    object\n",
      " 21  canker-lesion    683 non-null    object\n",
      " 22  fruiting-bodies  683 non-null    object\n",
      " 23  external-decay   683 non-null    object\n",
      " 24  mycelium         683 non-null    object\n",
      " 25  int-discolor     683 non-null    object\n",
      " 26  sclerotia        683 non-null    object\n",
      " 27  fruit-pods       683 non-null    object\n",
      " 28  fruit-spots      683 non-null    object\n",
      " 29  seed             683 non-null    object\n",
      " 30  mold-growth      683 non-null    object\n",
      " 31  seed-discolor    683 non-null    object\n",
      " 32  seed-size        683 non-null    object\n",
      " 33  shriveling       683 non-null    object\n",
      " 34  roots            683 non-null    object\n",
      " 35  class            683 non-null    object\n",
      "dtypes: object(36)\n",
      "memory usage: 192.2+ KB\n"
     ]
    }
   ],
   "source": [
    "base_soybean.info()"
   ]
  },
  {
   "cell_type": "markdown",
   "metadata": {},
   "source": [
    "* No código a seguir, está sendo acessada a propriedade **columns** do DataFrame **base_soybean** em Python. Essa operação é utilizada para listar as colunas presentes no conjunto de dados referente a soja. O uso da propriedade **columns** é comum em análise de dados, pois fornece uma visão rápida e direta das variáveis disponíveis no conjunto de dados. Esta operação é útil para entender a estrutura do DataFrame e facilita a seleção e manipulação posterior de dados específicos. Vale ressaltar que a clareza e simplicidade dessa abordagem são cruciais, seguindo a premissa de priorizar uma linguagem simples e direta."
   ]
  },
  {
   "cell_type": "code",
   "execution_count": 83,
   "metadata": {},
   "outputs": [
    {
     "data": {
      "text/plain": [
       "Index(['date', 'plant-stand', 'precip', 'temp', 'hail', 'crop-hist',\n",
       "       'area-damaged', 'severity', 'seed-tmt', 'germination', 'plant-growth',\n",
       "       'leaves', 'leafspots-halo', 'leafspots-marg', 'leafspot-size',\n",
       "       'leaf-shread', 'leaf-malf', 'leaf-mild', 'stem', 'lodging',\n",
       "       'stem-cankers', 'canker-lesion', 'fruiting-bodies', 'external-decay',\n",
       "       'mycelium', 'int-discolor', 'sclerotia', 'fruit-pods', 'fruit-spots',\n",
       "       'seed', 'mold-growth', 'seed-discolor', 'seed-size', 'shriveling',\n",
       "       'roots', 'class'],\n",
       "      dtype='object')"
      ]
     },
     "execution_count": 83,
     "metadata": {},
     "output_type": "execute_result"
    }
   ],
   "source": [
    "base_soybean.columns"
   ]
  },
  {
   "cell_type": "markdown",
   "metadata": {},
   "source": [
    "* No código a seguir, está sendo utilizado o método `describe()` em um DataFrame chamado `base_soybean`. Este método pertence à biblioteca **pandas** em Python e fornece estatísticas descritivas, como média, desvio padrão, mínimo, máximo, e quartis, sobre os dados contidos no DataFrame. A função `describe()` simplifica a análise exploratória de dados, oferecendo uma visão rápida e abrangente das características numéricas do conjunto de dados. Ao chamar essa função no DataFrame específico, `base_soybean`, obtemos informações estatísticas essenciais que facilitam a compreensão da distribuição e tendências dos dados relacionados à soja. Essa abordagem é valiosa para analistas de BI, como eu, que buscam insights iniciais sobre os conjuntos de dados com os quais estão trabalhando."
   ]
  },
  {
   "cell_type": "code",
   "execution_count": 84,
   "metadata": {},
   "outputs": [
    {
     "data": {
      "text/html": [
       "<div>\n",
       "<style scoped>\n",
       "    .dataframe tbody tr th:only-of-type {\n",
       "        vertical-align: middle;\n",
       "    }\n",
       "\n",
       "    .dataframe tbody tr th {\n",
       "        vertical-align: top;\n",
       "    }\n",
       "\n",
       "    .dataframe thead th {\n",
       "        text-align: right;\n",
       "    }\n",
       "</style>\n",
       "<table border=\"1\" class=\"dataframe\">\n",
       "  <thead>\n",
       "    <tr style=\"text-align: right;\">\n",
       "      <th></th>\n",
       "      <th>date</th>\n",
       "      <th>plant-stand</th>\n",
       "      <th>precip</th>\n",
       "      <th>temp</th>\n",
       "      <th>hail</th>\n",
       "      <th>crop-hist</th>\n",
       "      <th>area-damaged</th>\n",
       "      <th>severity</th>\n",
       "      <th>seed-tmt</th>\n",
       "      <th>germination</th>\n",
       "      <th>...</th>\n",
       "      <th>sclerotia</th>\n",
       "      <th>fruit-pods</th>\n",
       "      <th>fruit-spots</th>\n",
       "      <th>seed</th>\n",
       "      <th>mold-growth</th>\n",
       "      <th>seed-discolor</th>\n",
       "      <th>seed-size</th>\n",
       "      <th>shriveling</th>\n",
       "      <th>roots</th>\n",
       "      <th>class</th>\n",
       "    </tr>\n",
       "  </thead>\n",
       "  <tbody>\n",
       "    <tr>\n",
       "      <th>count</th>\n",
       "      <td>683</td>\n",
       "      <td>683</td>\n",
       "      <td>683</td>\n",
       "      <td>683</td>\n",
       "      <td>683</td>\n",
       "      <td>683</td>\n",
       "      <td>683</td>\n",
       "      <td>683</td>\n",
       "      <td>683</td>\n",
       "      <td>683</td>\n",
       "      <td>...</td>\n",
       "      <td>683</td>\n",
       "      <td>683</td>\n",
       "      <td>683</td>\n",
       "      <td>683</td>\n",
       "      <td>683</td>\n",
       "      <td>683</td>\n",
       "      <td>683</td>\n",
       "      <td>683</td>\n",
       "      <td>683</td>\n",
       "      <td>683</td>\n",
       "    </tr>\n",
       "    <tr>\n",
       "      <th>unique</th>\n",
       "      <td>8</td>\n",
       "      <td>3</td>\n",
       "      <td>4</td>\n",
       "      <td>4</td>\n",
       "      <td>3</td>\n",
       "      <td>5</td>\n",
       "      <td>5</td>\n",
       "      <td>4</td>\n",
       "      <td>4</td>\n",
       "      <td>4</td>\n",
       "      <td>...</td>\n",
       "      <td>3</td>\n",
       "      <td>5</td>\n",
       "      <td>5</td>\n",
       "      <td>3</td>\n",
       "      <td>3</td>\n",
       "      <td>3</td>\n",
       "      <td>3</td>\n",
       "      <td>3</td>\n",
       "      <td>4</td>\n",
       "      <td>19</td>\n",
       "    </tr>\n",
       "    <tr>\n",
       "      <th>top</th>\n",
       "      <td>september</td>\n",
       "      <td>normal</td>\n",
       "      <td>gt-norm</td>\n",
       "      <td>norm</td>\n",
       "      <td>yes</td>\n",
       "      <td>same-lst-two-yrs</td>\n",
       "      <td>low-areas</td>\n",
       "      <td>pot-severe</td>\n",
       "      <td>none</td>\n",
       "      <td>80-89</td>\n",
       "      <td>...</td>\n",
       "      <td>absent</td>\n",
       "      <td>norm</td>\n",
       "      <td>absent</td>\n",
       "      <td>norm</td>\n",
       "      <td>absent</td>\n",
       "      <td>absent</td>\n",
       "      <td>norm</td>\n",
       "      <td>absent</td>\n",
       "      <td>norm</td>\n",
       "      <td>brown-spot</td>\n",
       "    </tr>\n",
       "    <tr>\n",
       "      <th>freq</th>\n",
       "      <td>149</td>\n",
       "      <td>354</td>\n",
       "      <td>459</td>\n",
       "      <td>374</td>\n",
       "      <td>435</td>\n",
       "      <td>219</td>\n",
       "      <td>227</td>\n",
       "      <td>322</td>\n",
       "      <td>305</td>\n",
       "      <td>213</td>\n",
       "      <td>...</td>\n",
       "      <td>625</td>\n",
       "      <td>407</td>\n",
       "      <td>345</td>\n",
       "      <td>476</td>\n",
       "      <td>524</td>\n",
       "      <td>513</td>\n",
       "      <td>532</td>\n",
       "      <td>539</td>\n",
       "      <td>551</td>\n",
       "      <td>92</td>\n",
       "    </tr>\n",
       "  </tbody>\n",
       "</table>\n",
       "<p>4 rows × 36 columns</p>\n",
       "</div>"
      ],
      "text/plain": [
       "             date plant-stand   precip  temp hail         crop-hist  \\\n",
       "count         683         683      683   683  683               683   \n",
       "unique          8           3        4     4    3                 5   \n",
       "top     september      normal  gt-norm  norm  yes  same-lst-two-yrs   \n",
       "freq          149         354      459   374  435               219   \n",
       "\n",
       "       area-damaged    severity seed-tmt germination  ... sclerotia  \\\n",
       "count           683         683      683         683  ...       683   \n",
       "unique            5           4        4           4  ...         3   \n",
       "top       low-areas  pot-severe     none       80-89  ...    absent   \n",
       "freq            227         322      305         213  ...       625   \n",
       "\n",
       "       fruit-pods fruit-spots  seed mold-growth seed-discolor seed-size  \\\n",
       "count         683         683   683         683           683       683   \n",
       "unique          5           5     3           3             3         3   \n",
       "top          norm      absent  norm      absent        absent      norm   \n",
       "freq          407         345   476         524           513       532   \n",
       "\n",
       "       shriveling roots       class  \n",
       "count         683   683         683  \n",
       "unique          3     4          19  \n",
       "top        absent  norm  brown-spot  \n",
       "freq          539   551          92  \n",
       "\n",
       "[4 rows x 36 columns]"
      ]
     },
     "execution_count": 84,
     "metadata": {},
     "output_type": "execute_result"
    }
   ],
   "source": [
    "base_soybean.describe()"
   ]
  },
  {
   "cell_type": "markdown",
   "metadata": {},
   "source": [
    "*  No código a seguir, está sendo utilizado o comando **base_soybean.dtypes** para verificar os tipos de dados das colunas no conjunto de dados referente à soja. Esse comando pertence à linguagem de programação Python e, especificamente, à biblioteca **pandas**. A função **dtypes** é empregada para fornecer informações sobre os tipos de dados presentes em cada coluna da base de dados, permitindo uma análise rápida e eficiente da estrutura do conjunto de dados. Essa abordagem é útil para identificar se os tipos de dados estão corretos, garantindo a consistência e a qualidade dos dados, aspectos cruciais para análises subsequentes no contexto de projetos de Business Intelligence e desenvolvimento Java Backend, áreas em que tenho experiência e especialização."
   ]
  },
  {
   "cell_type": "code",
   "execution_count": 85,
   "metadata": {},
   "outputs": [
    {
     "data": {
      "text/plain": [
       "date               object\n",
       "plant-stand        object\n",
       "precip             object\n",
       "temp               object\n",
       "hail               object\n",
       "crop-hist          object\n",
       "area-damaged       object\n",
       "severity           object\n",
       "seed-tmt           object\n",
       "germination        object\n",
       "plant-growth       object\n",
       "leaves             object\n",
       "leafspots-halo     object\n",
       "leafspots-marg     object\n",
       "leafspot-size      object\n",
       "leaf-shread        object\n",
       "leaf-malf          object\n",
       "leaf-mild          object\n",
       "stem               object\n",
       "lodging            object\n",
       "stem-cankers       object\n",
       "canker-lesion      object\n",
       "fruiting-bodies    object\n",
       "external-decay     object\n",
       "mycelium           object\n",
       "int-discolor       object\n",
       "sclerotia          object\n",
       "fruit-pods         object\n",
       "fruit-spots        object\n",
       "seed               object\n",
       "mold-growth        object\n",
       "seed-discolor      object\n",
       "seed-size          object\n",
       "shriveling         object\n",
       "roots              object\n",
       "class              object\n",
       "dtype: object"
      ]
     },
     "execution_count": 85,
     "metadata": {},
     "output_type": "execute_result"
    }
   ],
   "source": [
    "base_soybean.dtypes"
   ]
  },
  {
   "cell_type": "markdown",
   "metadata": {},
   "source": [
    "* No código a seguir, está sendo utilizado o método **isna()** em um DataFrame chamado **base_soybean**. Este método pertence à biblioteca **pandas** e é empregado para identificar valores ausentes no DataFrame. A função **sum()** é então aplicada para contar o número de valores ausentes em cada coluna. Em termos mais simples, essa linha de código verifica e contabiliza a quantidade de valores nulos em cada coluna do DataFrame **base_soybean**, proporcionando uma visão rápida sobre a presença de dados faltantes e auxiliando na tomada de decisões relacionadas à qualidade dos dados. Essa abordagem eficiente é crucial para garantir a integridade dos dados e contribuir para análises precisas no contexto de projetos de BI e desenvolvimento Java Backend."
   ]
  },
  {
   "cell_type": "code",
   "execution_count": 86,
   "metadata": {},
   "outputs": [
    {
     "data": {
      "text/plain": [
       "date               0\n",
       "plant-stand        0\n",
       "precip             0\n",
       "temp               0\n",
       "hail               0\n",
       "crop-hist          0\n",
       "area-damaged       0\n",
       "severity           0\n",
       "seed-tmt           0\n",
       "germination        0\n",
       "plant-growth       0\n",
       "leaves             0\n",
       "leafspots-halo     0\n",
       "leafspots-marg     0\n",
       "leafspot-size      0\n",
       "leaf-shread        0\n",
       "leaf-malf          0\n",
       "leaf-mild          0\n",
       "stem               0\n",
       "lodging            0\n",
       "stem-cankers       0\n",
       "canker-lesion      0\n",
       "fruiting-bodies    0\n",
       "external-decay     0\n",
       "mycelium           0\n",
       "int-discolor       0\n",
       "sclerotia          0\n",
       "fruit-pods         0\n",
       "fruit-spots        0\n",
       "seed               0\n",
       "mold-growth        0\n",
       "seed-discolor      0\n",
       "seed-size          0\n",
       "shriveling         0\n",
       "roots              0\n",
       "class              0\n",
       "dtype: int64"
      ]
     },
     "execution_count": 86,
     "metadata": {},
     "output_type": "execute_result"
    }
   ],
   "source": [
    "base_soybean.isna().sum()"
   ]
  },
  {
   "cell_type": "markdown",
   "metadata": {},
   "source": [
    "### <font color=orange>__Criando Variável que Contém as Informações da Linha 35__</font>"
   ]
  },
  {
   "cell_type": "markdown",
   "metadata": {},
   "source": [
    "* Nesse código, estamos trabalhando com dados de soja. A linha de código em questão está criando uma variável chamada \"atributos_previsores\" que vai armazenar parte dos dados relacionados à soja. A expressão \"base_soybean.iloc[:, 0:35].values\" significa que estamos pegando as informações das 35 primeiras colunas da base de dados da soja. Esses dados serão usados para fazer previsões ou análises futuras relacionadas à soja. É como se estivéssemos selecionando as características iniciais dos dados da soja para usar em algum tipo de análise ou modelo."
   ]
  },
  {
   "cell_type": "code",
   "execution_count": 94,
   "metadata": {},
   "outputs": [],
   "source": [
    "atributos_previsores = base_soybean.iloc[:, 0:35].values"
   ]
  },
  {
   "cell_type": "markdown",
   "metadata": {},
   "source": [
    "### <font color=orange><strong>Criando Variável que Contém as Respostas</strong></font>"
   ]
  },
  {
   "cell_type": "markdown",
   "metadata": {},
   "source": [
    "Nesse código, estamos criando uma variável chamada \"respostas\" que vai guardar algumas informações. Ela está pegando dados de um conjunto de dados chamado \"base_soybean\" e selecionando apenas uma coluna específica, a coluna número 35. Esses dados selecionados estão sendo armazenados na variável \"respostas\" para serem usados posteriormente em algum tipo de análise ou processamento. É como se estivéssemos colocando em uma caixa as respostas de uma pesquisa que estão na 35ª coluna desse conjunto de dados."
   ]
  },
  {
   "cell_type": "code",
   "execution_count": 102,
   "metadata": {},
   "outputs": [],
   "source": [
    "respostas = base_soybean.iloc[:, 35].values"
   ]
  },
  {
   "cell_type": "markdown",
   "metadata": {},
   "source": [
    "### <font color=orange><strong>Transformando os Dados em Formato legível por Máquinas</strong></font>"
   ]
  },
  {
   "cell_type": "markdown",
   "metadata": {},
   "source": [
    "No código a seguir, está sendo realizado um processo de codificação de variáveis categóricas utilizando a biblioteca **LabelEncoder** do Python. O loop for percorre cada coluna (atributo) no conjunto de dados de previsores, representado por **atributos_previsores**. Dentro do loop, a função **fit_transform** do **label_encoder** é aplicada a cada coluna, atribuindo uma codificação numérica única para cada categoria presente nos dados. Isso é especialmente útil em algoritmos de aprendizado de máquina, pois muitos deles requerem entradas numéricas. O resultado é uma matriz de previsores onde as variáveis categóricas foram convertidas para valores numéricos, facilitando o processamento e a análise subsequente. Este procedimento é essencial para garantir que o modelo possa interpretar corretamente as características do conjunto de dados e realizar previsões precisas."
   ]
  },
  {
   "cell_type": "code",
   "execution_count": 103,
   "metadata": {},
   "outputs": [],
   "source": [
    "label_encoder = LabelEncoder()\n",
    "\n",
    "for coluna in range(35):\n",
    "    atributos_previsores[:, coluna] = label_encoder.fit_transform(atributos_previsores[:, coluna])"
   ]
  },
  {
   "cell_type": "markdown",
   "metadata": {},
   "source": [
    "### <font color=orange><strong>Dividindo o Conjunto de Dados em 2 Partes</strong></font>"
   ]
  },
  {
   "cell_type": "markdown",
   "metadata": {},
   "source": [
    "No código a seguir, está sendo realizado um particionamento dos dados para treinamento e teste em um modelo de aprendizado de máquina usando a linguagem Python. A função **train_test_split** da biblioteca **scikit-learn** é empregada para dividir os conjuntos de atributos previsores (**atributos_previsores**) e respostas (**respostas**) em dados de treinamento e teste. Os parâmetros utilizados na função incluem o tamanho do conjunto de teste, definido como 30% dos dados totais (**test_size=0.3**), e uma semente para garantir a reprodutibilidade dos resultados (**random_state=0**). Os conjuntos resultantes são denominados **X_treinamento**, **X_teste**, **y_treinamento**, e **y_teste**, representando os atributos e respostas de treinamento e teste, respectivamente. Essa técnica é crucial para avaliar a eficácia do modelo, permitindo testar sua generalização para dados não vistos durante o treinamento, contribuindo assim para um desenvolvimento mais robusto e confiável do modelo de aprendizado de máquina."
   ]
  },
  {
   "cell_type": "code",
   "execution_count": 104,
   "metadata": {},
   "outputs": [],
   "source": [
    "X_treinamento, X_teste, y_treinamento, y_teste = train_test_split( atributos_previsores, respostas, test_size=0.3, random_state=0 )"
   ]
  },
  {
   "cell_type": "markdown",
   "metadata": {},
   "source": [
    "### <font color=orange><strong>Criando um Modelo de Machine Learning</strong></font>"
   ]
  },
  {
   "cell_type": "markdown",
   "metadata": {},
   "source": [
    "No código a seguir, está sendo utilizado o algoritmo de **Random Forest** para classificação. A biblioteca central neste trecho é o **scikit-learn**, que disponibiliza o classificador RandomForestClassifier. Aqui, é criada uma instância da classe RandomForestClassifier, especificando o número de árvores na floresta através do parâmetro n_estimators, que foi configurado como 100. Em seguida, o método **fit** é aplicado para treinar o modelo com os conjuntos de dados de treinamento (X_treinamento) e seus rótulos correspondentes (y_treinamento). Esse processo é fundamental para que o modelo aprenda padrões nos dados de treinamento e esteja apto a realizar previsões. Vale ressaltar que o sucesso deste algoritmo reside na combinação e diversificação de múltiplas árvores de decisão, mitigando overfitting e aumentando a robustez do modelo preditivo."
   ]
  },
  {
   "cell_type": "code",
   "execution_count": 105,
   "metadata": {},
   "outputs": [
    {
     "data": {
      "text/html": [
       "<style>#sk-container-id-3 {color: black;background-color: white;}#sk-container-id-3 pre{padding: 0;}#sk-container-id-3 div.sk-toggleable {background-color: white;}#sk-container-id-3 label.sk-toggleable__label {cursor: pointer;display: block;width: 100%;margin-bottom: 0;padding: 0.3em;box-sizing: border-box;text-align: center;}#sk-container-id-3 label.sk-toggleable__label-arrow:before {content: \"▸\";float: left;margin-right: 0.25em;color: #696969;}#sk-container-id-3 label.sk-toggleable__label-arrow:hover:before {color: black;}#sk-container-id-3 div.sk-estimator:hover label.sk-toggleable__label-arrow:before {color: black;}#sk-container-id-3 div.sk-toggleable__content {max-height: 0;max-width: 0;overflow: hidden;text-align: left;background-color: #f0f8ff;}#sk-container-id-3 div.sk-toggleable__content pre {margin: 0.2em;color: black;border-radius: 0.25em;background-color: #f0f8ff;}#sk-container-id-3 input.sk-toggleable__control:checked~div.sk-toggleable__content {max-height: 200px;max-width: 100%;overflow: auto;}#sk-container-id-3 input.sk-toggleable__control:checked~label.sk-toggleable__label-arrow:before {content: \"▾\";}#sk-container-id-3 div.sk-estimator input.sk-toggleable__control:checked~label.sk-toggleable__label {background-color: #d4ebff;}#sk-container-id-3 div.sk-label input.sk-toggleable__control:checked~label.sk-toggleable__label {background-color: #d4ebff;}#sk-container-id-3 input.sk-hidden--visually {border: 0;clip: rect(1px 1px 1px 1px);clip: rect(1px, 1px, 1px, 1px);height: 1px;margin: -1px;overflow: hidden;padding: 0;position: absolute;width: 1px;}#sk-container-id-3 div.sk-estimator {font-family: monospace;background-color: #f0f8ff;border: 1px dotted black;border-radius: 0.25em;box-sizing: border-box;margin-bottom: 0.5em;}#sk-container-id-3 div.sk-estimator:hover {background-color: #d4ebff;}#sk-container-id-3 div.sk-parallel-item::after {content: \"\";width: 100%;border-bottom: 1px solid gray;flex-grow: 1;}#sk-container-id-3 div.sk-label:hover label.sk-toggleable__label {background-color: #d4ebff;}#sk-container-id-3 div.sk-serial::before {content: \"\";position: absolute;border-left: 1px solid gray;box-sizing: border-box;top: 0;bottom: 0;left: 50%;z-index: 0;}#sk-container-id-3 div.sk-serial {display: flex;flex-direction: column;align-items: center;background-color: white;padding-right: 0.2em;padding-left: 0.2em;position: relative;}#sk-container-id-3 div.sk-item {position: relative;z-index: 1;}#sk-container-id-3 div.sk-parallel {display: flex;align-items: stretch;justify-content: center;background-color: white;position: relative;}#sk-container-id-3 div.sk-item::before, #sk-container-id-3 div.sk-parallel-item::before {content: \"\";position: absolute;border-left: 1px solid gray;box-sizing: border-box;top: 0;bottom: 0;left: 50%;z-index: -1;}#sk-container-id-3 div.sk-parallel-item {display: flex;flex-direction: column;z-index: 1;position: relative;background-color: white;}#sk-container-id-3 div.sk-parallel-item:first-child::after {align-self: flex-end;width: 50%;}#sk-container-id-3 div.sk-parallel-item:last-child::after {align-self: flex-start;width: 50%;}#sk-container-id-3 div.sk-parallel-item:only-child::after {width: 0;}#sk-container-id-3 div.sk-dashed-wrapped {border: 1px dashed gray;margin: 0 0.4em 0.5em 0.4em;box-sizing: border-box;padding-bottom: 0.4em;background-color: white;}#sk-container-id-3 div.sk-label label {font-family: monospace;font-weight: bold;display: inline-block;line-height: 1.2em;}#sk-container-id-3 div.sk-label-container {text-align: center;}#sk-container-id-3 div.sk-container {/* jupyter's `normalize.less` sets `[hidden] { display: none; }` but bootstrap.min.css set `[hidden] { display: none !important; }` so we also need the `!important` here to be able to override the default hidden behavior on the sphinx rendered scikit-learn.org. See: https://github.com/scikit-learn/scikit-learn/issues/21755 */display: inline-block !important;position: relative;}#sk-container-id-3 div.sk-text-repr-fallback {display: none;}</style><div id=\"sk-container-id-3\" class=\"sk-top-container\"><div class=\"sk-text-repr-fallback\"><pre>RandomForestClassifier()</pre><b>In a Jupyter environment, please rerun this cell to show the HTML representation or trust the notebook. <br />On GitHub, the HTML representation is unable to render, please try loading this page with nbviewer.org.</b></div><div class=\"sk-container\" hidden><div class=\"sk-item\"><div class=\"sk-estimator sk-toggleable\"><input class=\"sk-toggleable__control sk-hidden--visually\" id=\"sk-estimator-id-3\" type=\"checkbox\" checked><label for=\"sk-estimator-id-3\" class=\"sk-toggleable__label sk-toggleable__label-arrow\">RandomForestClassifier</label><div class=\"sk-toggleable__content\"><pre>RandomForestClassifier()</pre></div></div></div></div></div>"
      ],
      "text/plain": [
       "RandomForestClassifier()"
      ]
     },
     "execution_count": 105,
     "metadata": {},
     "output_type": "execute_result"
    }
   ],
   "source": [
    "floresta = RandomForestClassifier(n_estimators=100)\n",
    "floresta.fit(X_treinamento, y_treinamento)"
   ]
  },
  {
   "cell_type": "markdown",
   "metadata": {},
   "source": [
    "### <font color=orange><strong>Realizando Previsões Utilizando um Determinado Modelo</strong></font>"
   ]
  },
  {
   "cell_type": "markdown",
   "metadata": {},
   "source": [
    "No código a seguir, está sendo realizado um processo de previsão utilizando um modelo de Machine Learning. A variável **resultado_previsoes** armazena as previsões geradas pelo modelo de floresta aleatória (**floresta**), que foi treinado anteriormente com dados de treino (**X_teste**). Posteriormente, essas previsões são exibidas no console por meio da função **print**, destacando as previsões obtidas. Esse tipo de operação é comum em tarefas de aprendizado de máquina, onde o modelo treinado é aplicado a novos dados para fazer previsões com base no padrão aprendido durante o treinamento. O código demonstra a simplicidade dessa etapa de predição, sendo essencial para avaliar o desempenho do modelo em dados não vistos durante o treinamento."
   ]
  },
  {
   "cell_type": "code",
   "execution_count": 106,
   "metadata": {},
   "outputs": [
    {
     "name": "stdout",
     "output_type": "stream",
     "text": [
      "Previsões: ['brown-spot' 'phytophthora-rot' 'herbicide-injury' 'purple-seed-stain'\n",
      " 'cyst-nematode' 'bacterial-blight' 'brown-stem-rot' 'bacterial-pustule'\n",
      " 'brown-spot' 'alternarialeaf-spot' 'charcoal-rot' 'bacterial-blight'\n",
      " 'anthracnose' 'anthracnose' 'alternarialeaf-spot' 'brown-spot'\n",
      " 'alternarialeaf-spot' 'alternarialeaf-spot' 'rhizoctonia-root-rot'\n",
      " 'phytophthora-rot' 'anthracnose' 'brown-stem-rot' 'brown-spot'\n",
      " 'phyllosticta-leaf-spot' 'diaporthe-stem-canker' 'brown-spot'\n",
      " 'anthracnose' 'diaporthe-stem-canker' 'bacterial-pustule'\n",
      " 'phytophthora-rot' 'frog-eye-leaf-spot' 'alternarialeaf-spot'\n",
      " 'phyllosticta-leaf-spot' 'frog-eye-leaf-spot' 'brown-spot'\n",
      " 'bacterial-pustule' 'brown-stem-rot' 'charcoal-rot' 'brown-spot'\n",
      " 'brown-spot' 'brown-stem-rot' 'alternarialeaf-spot' 'phytophthora-rot'\n",
      " 'anthracnose' 'bacterial-blight' '2-4-d-injury' 'alternarialeaf-spot'\n",
      " 'phyllosticta-leaf-spot' 'phyllosticta-leaf-spot' 'alternarialeaf-spot'\n",
      " 'brown-spot' 'brown-stem-rot' 'phytophthora-rot' 'frog-eye-leaf-spot'\n",
      " 'brown-stem-rot' 'frog-eye-leaf-spot' 'frog-eye-leaf-spot'\n",
      " 'diaporthe-stem-canker' 'brown-stem-rot' 'downy-mildew'\n",
      " 'bacterial-pustule' 'downy-mildew' 'alternarialeaf-spot'\n",
      " 'alternarialeaf-spot' 'bacterial-blight' 'anthracnose'\n",
      " 'rhizoctonia-root-rot' 'frog-eye-leaf-spot' 'phytophthora-rot'\n",
      " 'phytophthora-rot' 'cyst-nematode' 'alternarialeaf-spot'\n",
      " 'alternarialeaf-spot' 'brown-spot' 'rhizoctonia-root-rot'\n",
      " 'phytophthora-rot' 'phytophthora-rot' 'frog-eye-leaf-spot'\n",
      " 'frog-eye-leaf-spot' 'diaporthe-stem-canker' 'brown-spot'\n",
      " 'frog-eye-leaf-spot' 'alternarialeaf-spot' 'diaporthe-stem-canker'\n",
      " 'purple-seed-stain' 'phytophthora-rot' 'anthracnose'\n",
      " 'alternarialeaf-spot' 'brown-spot' 'phytophthora-rot' 'charcoal-rot'\n",
      " 'brown-spot' 'diaporthe-stem-canker' 'phytophthora-rot'\n",
      " 'phytophthora-rot' 'phytophthora-rot' 'brown-spot' 'phytophthora-rot'\n",
      " 'downy-mildew' 'alternarialeaf-spot' 'anthracnose' 'alternarialeaf-spot'\n",
      " 'brown-spot' 'alternarialeaf-spot' 'charcoal-rot' 'downy-mildew'\n",
      " 'phytophthora-rot' 'brown-spot' 'brown-spot' 'cyst-nematode'\n",
      " 'anthracnose' 'brown-spot' 'alternarialeaf-spot' 'alternarialeaf-spot'\n",
      " 'charcoal-rot' 'phyllosticta-leaf-spot' 'frog-eye-leaf-spot'\n",
      " 'rhizoctonia-root-rot' 'brown-stem-rot' 'phytophthora-rot'\n",
      " 'phytophthora-rot' 'charcoal-rot' 'frog-eye-leaf-spot' 'phytophthora-rot'\n",
      " '2-4-d-injury' 'phytophthora-rot' 'brown-spot' 'alternarialeaf-spot'\n",
      " 'anthracnose' 'diaporthe-pod-&-stem-blight' 'brown-spot' 'anthracnose'\n",
      " 'rhizoctonia-root-rot' 'brown-spot' 'purple-seed-stain'\n",
      " 'bacterial-pustule' 'brown-stem-rot' 'diaporthe-stem-canker' 'brown-spot'\n",
      " 'frog-eye-leaf-spot' 'brown-stem-rot' 'downy-mildew' 'frog-eye-leaf-spot'\n",
      " 'purple-seed-stain' 'brown-spot' 'frog-eye-leaf-spot'\n",
      " 'alternarialeaf-spot' 'powdery-mildew' 'frog-eye-leaf-spot'\n",
      " 'phyllosticta-leaf-spot' '2-4-d-injury' 'phytophthora-rot'\n",
      " 'frog-eye-leaf-spot' 'phytophthora-rot' 'bacterial-blight'\n",
      " 'bacterial-blight' 'brown-stem-rot' 'bacterial-blight'\n",
      " 'purple-seed-stain' 'herbicide-injury' 'diaporthe-pod-&-stem-blight'\n",
      " 'phyllosticta-leaf-spot' 'brown-spot' 'charcoal-rot' 'bacterial-pustule'\n",
      " 'cyst-nematode' 'brown-spot' 'bacterial-blight' 'charcoal-rot'\n",
      " 'brown-stem-rot' 'powdery-mildew' 'alternarialeaf-spot'\n",
      " 'phytophthora-rot' 'alternarialeaf-spot' 'cyst-nematode'\n",
      " 'phytophthora-rot' 'frog-eye-leaf-spot' 'alternarialeaf-spot'\n",
      " 'frog-eye-leaf-spot' 'anthracnose' 'alternarialeaf-spot' 'charcoal-rot'\n",
      " 'alternarialeaf-spot' 'alternarialeaf-spot' 'diaporthe-stem-canker'\n",
      " 'frog-eye-leaf-spot' 'brown-stem-rot' 'frog-eye-leaf-spot'\n",
      " 'diaporthe-pod-&-stem-blight' 'phytophthora-rot'\n",
      " 'diaporthe-pod-&-stem-blight' 'frog-eye-leaf-spot' 'anthracnose'\n",
      " 'alternarialeaf-spot' 'frog-eye-leaf-spot' 'phytophthora-rot'\n",
      " 'powdery-mildew' 'alternarialeaf-spot' 'herbicide-injury' 'brown-spot'\n",
      " 'anthracnose' 'diaporthe-pod-&-stem-blight' 'purple-seed-stain'\n",
      " 'bacterial-pustule' 'diaporthe-pod-&-stem-blight']\n"
     ]
    }
   ],
   "source": [
    "resultado_previsoes = floresta.predict(X_teste)\n",
    "print(\"Previsões:\", resultado_previsoes)"
   ]
  },
  {
   "cell_type": "markdown",
   "metadata": {},
   "source": [
    "### <font color=orange><strong>Avaliando Modelo de Machine Learning</strong></font>"
   ]
  },
  {
   "cell_type": "markdown",
   "metadata": {},
   "source": [
    "No código a seguir, está sendo realizado o cálculo da **matriz de confusão** para avaliar o desempenho de um modelo de machine learning. A função **confusion_matrix** da biblioteca **sklearn.metrics** é utilizada, recebendo como parâmetros os rótulos reais (**y_teste**) e as previsões do modelo (**resultado_previsoes**). A matriz resultante é então impressa na tela para fornecer uma visão detalhada da performance do modelo. Essa matriz é uma tabela que mostra a quantidade de verdadeiros positivos, verdadeiros negativos, falsos positivos e falsos negativos, permitindo uma análise clara da precisão e sensibilidade do classificador. Este tipo de avaliação é crucial em tarefas de classificação, onde a compreensão do impacto de erros do modelo é essencial para ajustes e otimizações. A utilização de uma biblioteca consolidada como o **scikit-learn** facilita a implementação eficiente dessas métricas, contribuindo para uma análise mais robusta do desempenho do modelo de machine learning em questão."
   ]
  },
  {
   "cell_type": "code",
   "execution_count": 107,
   "metadata": {},
   "outputs": [
    {
     "name": "stdout",
     "output_type": "stream",
     "text": [
      "Matriz de Confusão:\n",
      "------------------------------------------------------------\n",
      "[[ 3  0  0  0  0  0  0  0  0  0  0  0  0  0  0  0  0  0  0]\n",
      " [ 0 26  0  0  0  0  0  0  0  0  0  0  1  0  0  0  0  0  0]\n",
      " [ 0  0 14  0  0  0  0  0  0  0  0  0  0  0  0  0  0  0  0]\n",
      " [ 0  0  0  8  0  0  0  0  0  0  0  0  0  0  0  0  0  0  0]\n",
      " [ 0  0  0  0  7  0  0  0  0  0  0  0  0  0  0  0  0  0  0]\n",
      " [ 0  0  0  0  0 22  0  0  0  0  0  0  0  0  1  0  0  0  0]\n",
      " [ 0  0  0  0  0  0 13  0  0  0  0  0  0  0  0  0  0  0  0]\n",
      " [ 0  0  0  0  0  0  0  9  0  0  0  0  0  0  0  0  0  0  0]\n",
      " [ 0  0  0  0  0  0  0  0  5  0  0  0  0  0  0  0  0  0  0]\n",
      " [ 0  0  0  0  0  0  0  0  0  6  0  0  0  0  0  0  0  0  0]\n",
      " [ 0  0  0  0  0  0  0  0  0  0  8  0  0  0  0  0  0  0  0]\n",
      " [ 0  0  0  0  0  0  0  0  0  0  0  5  0  0  0  0  0  0  0]\n",
      " [ 0  3  0  0  0  2  0  0  0  0  0  0 21  0  1  0  0  0  0]\n",
      " [ 0  0  0  0  0  0  0  0  0  0  0  0  0  3  0  0  0  0  0]\n",
      " [ 0  0  0  0  0  2  0  0  0  0  0  0  0  0  5  0  0  0  0]\n",
      " [ 0  0  0  0  0  0  0  0  0  0  0  0  0  0  0 26  0  0  0]\n",
      " [ 0  0  0  0  0  0  0  0  0  0  0  0  0  0  0  0  3  0  0]\n",
      " [ 0  0  0  0  0  0  0  0  0  0  0  0  0  0  0  0  0  6  0]\n",
      " [ 0  0  0  0  0  0  0  0  0  0  0  0  0  0  0  0  0  0  5]]\n"
     ]
    }
   ],
   "source": [
    "matriz_confusao = confusion_matrix(y_teste, resultado_previsoes)\n",
    "print(\"Matriz de Confusão:\")\n",
    "print('-' * 60)\n",
    "print(matriz_confusao)"
   ]
  },
  {
   "cell_type": "markdown",
   "metadata": {},
   "source": [
    "### <font color=orange><strong>Calculando Taxa de Acerto do Modelo de Machine Learning</strong></font>"
   ]
  },
  {
   "cell_type": "markdown",
   "metadata": {},
   "source": [
    "\n",
    "No código a seguir, está sendo calculada a taxa de acerto de um modelo por meio da função `accuracy_score` da biblioteca scikit-learn em Python. A variável `taxa_acerto` armazena o resultado desse cálculo, que compara as previsões (resultado_previsoes) do modelo com os valores reais (`y_teste`). Em seguida, a taxa de acerto é impressa no console usando a função print, formatando o resultado para exibir a porcentagem com duas casas decimais. Esse trecho de código é útil para avaliar o desempenho de modelos de **machine learning**, fornecendo uma medida quantitativa da precisão das previsões em relação aos dados de teste."
   ]
  },
  {
   "cell_type": "code",
   "execution_count": 109,
   "metadata": {},
   "outputs": [
    {
     "name": "stdout",
     "output_type": "stream",
     "text": [
      "Taxa de acerto: 95.12%\n"
     ]
    }
   ],
   "source": [
    "taxa_acerto = accuracy_score(y_teste, resultado_previsoes)\n",
    "print(\"Taxa de acerto: {:.2%}\".format(taxa_acerto))"
   ]
  },
  {
   "cell_type": "markdown",
   "metadata": {},
   "source": [
    "### <font color=orange><strong>Calculando Taxa de Erro do Modelo de Machine Learning</strong></font>"
   ]
  },
  {
   "cell_type": "markdown",
   "metadata": {},
   "source": [
    "No código a seguir, está sendo calculada a **taxa de erro** em uma aplicação em Python. A variável **taxa_acerto** representa a porcentagem de acertos, e a **taxa_erro** é calculada como a diferença entre 1 e a taxa de acerto. Em seguida, a taxa de erro é formatada para exibição, utilizando a função **print** para mostrar o resultado com precisão de duas casas decimais em formato percentual. Essa abordagem fornece uma visão clara da performance do sistema, expressando a porcentagem de erro de uma maneira facilmente compreensível. Este código é útil em contextos de avaliação de modelos ou sistemas que requerem uma métrica de desempenho, contribuindo para a análise e tomada de decisões estratégicas."
   ]
  },
  {
   "cell_type": "code",
   "execution_count": 110,
   "metadata": {},
   "outputs": [
    {
     "name": "stdout",
     "output_type": "stream",
     "text": [
      "Taxa de erro: 4.88%\n"
     ]
    }
   ],
   "source": [
    "taxa_erro = 1 - taxa_acerto\n",
    "print(\"Taxa de erro: {:.2%}\".format(taxa_erro))"
   ]
  }
 ],
 "metadata": {
  "kernelspec": {
   "display_name": "Python 3",
   "language": "python",
   "name": "python3"
  },
  "language_info": {
   "codemirror_mode": {
    "name": "ipython",
    "version": 3
   },
   "file_extension": ".py",
   "mimetype": "text/x-python",
   "name": "python",
   "nbconvert_exporter": "python",
   "pygments_lexer": "ipython3",
   "version": "3.11.3"
  }
 },
 "nbformat": 4,
 "nbformat_minor": 4
}
