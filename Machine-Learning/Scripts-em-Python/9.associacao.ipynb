{
 "cells": [
  {
   "cell_type": "code",
   "execution_count": 1,
   "metadata": {},
   "outputs": [],
   "source": [
    "# Formação Cientista de Dados - Fernando Amaral e Jones Granatyr\n",
    "# Contribuição: Adriano Santos\n",
    "\n",
    "# Regras de associação"
   ]
  },
  {
   "cell_type": "code",
   "execution_count": 4,
   "metadata": {},
   "outputs": [],
   "source": [
    "# Importação das bibliotecas - Este código em Python importa as bibliotecas \"pandas\" e \"apyori\". O \"pandas\" é usado para manipular e analisar dados tabulares, enquanto \"apyori\" é uma biblioteca que implementa o algoritmo Apriori para mineração de regras de associação em conjuntos de dados. Basicamente, ele ajuda a encontrar padrões e relações entre itens em um conjunto de dados, o que pode ser útil em tarefas como recomendações de produtos com base em compras anteriores.\n",
    "\n",
    "import pandas as pd\n",
    "from apyori import apriori\n"
   ]
  },
  {
   "cell_type": "code",
   "execution_count": null,
   "metadata": {},
   "outputs": [],
   "source": [
    "# Instalando a biblioteca \"apyori\" se precisar. Esse código é uma instrução para instalar uma biblioteca chamada \"apyori\" no Python. Essa biblioteca permite a aplicação de algoritmos de associação, úteis para descobrir padrões em grandes conjuntos de dados. Com ela, é possível analisar, por exemplo, quais produtos costumam ser comprados juntos em uma loja online. A instalação é feita usando o comando \"%pip install apyori\", que baixa e configura a biblioteca para que possa ser usada em programas de Python.\n",
    "\n",
    "%pip install apyori"
   ]
  },
  {
   "cell_type": "code",
   "execution_count": 6,
   "metadata": {},
   "outputs": [
    {
     "data": {
      "text/html": [
       "<div>\n",
       "<style scoped>\n",
       "    .dataframe tbody tr th:only-of-type {\n",
       "        vertical-align: middle;\n",
       "    }\n",
       "\n",
       "    .dataframe tbody tr th {\n",
       "        vertical-align: top;\n",
       "    }\n",
       "\n",
       "    .dataframe thead th {\n",
       "        text-align: right;\n",
       "    }\n",
       "</style>\n",
       "<table border=\"1\" class=\"dataframe\">\n",
       "  <thead>\n",
       "    <tr style=\"text-align: right;\">\n",
       "      <th></th>\n",
       "      <th>0</th>\n",
       "      <th>1</th>\n",
       "      <th>2</th>\n",
       "    </tr>\n",
       "  </thead>\n",
       "  <tbody>\n",
       "    <tr>\n",
       "      <th>0</th>\n",
       "      <td>Cerveja</td>\n",
       "      <td>Pizza</td>\n",
       "      <td>Sorvete</td>\n",
       "    </tr>\n",
       "    <tr>\n",
       "      <th>1</th>\n",
       "      <td>Pizza</td>\n",
       "      <td>Sorvete</td>\n",
       "      <td>NaN</td>\n",
       "    </tr>\n",
       "    <tr>\n",
       "      <th>2</th>\n",
       "      <td>Cerveja</td>\n",
       "      <td>Pizza</td>\n",
       "      <td>NaN</td>\n",
       "    </tr>\n",
       "    <tr>\n",
       "      <th>3</th>\n",
       "      <td>Cerveja</td>\n",
       "      <td>Pizza</td>\n",
       "      <td>Sorvete</td>\n",
       "    </tr>\n",
       "    <tr>\n",
       "      <th>4</th>\n",
       "      <td>Cerveja</td>\n",
       "      <td>Pizza</td>\n",
       "      <td>NaN</td>\n",
       "    </tr>\n",
       "    <tr>\n",
       "      <th>5</th>\n",
       "      <td>Pizza</td>\n",
       "      <td>NaN</td>\n",
       "      <td>NaN</td>\n",
       "    </tr>\n",
       "  </tbody>\n",
       "</table>\n",
       "</div>"
      ],
      "text/plain": [
       "         0        1        2\n",
       "0  Cerveja    Pizza  Sorvete\n",
       "1    Pizza  Sorvete      NaN\n",
       "2  Cerveja    Pizza      NaN\n",
       "3  Cerveja    Pizza  Sorvete\n",
       "4  Cerveja    Pizza      NaN\n",
       "5    Pizza      NaN      NaN"
      ]
     },
     "execution_count": 6,
     "metadata": {},
     "output_type": "execute_result"
    }
   ],
   "source": [
    "# Leitura das trasações - Este código em Python utiliza a biblioteca pandas para ler um arquivo de dados chamado 'transacoes.txt'. Ele carrega esses dados em uma estrutura de tabela chamada DataFrame. O parâmetro 'header = None' indica que não há uma linha de cabeçalho no arquivo. Em seguida, ele simplesmente exibe esses dados na saída. Em resumo, o código lê informações de um arquivo e as apresenta de forma organizada para análise posterior.\n",
    "\n",
    "dados = pd.read_csv('../dados/transacoes.txt', header = None)\n",
    "dados"
   ]
  },
  {
   "cell_type": "code",
   "execution_count": 8,
   "metadata": {},
   "outputs": [
    {
     "data": {
      "text/plain": [
       "[['Cerveja', 'Pizza', 'Sorvete'],\n",
       " ['Pizza', 'Sorvete', 'nan'],\n",
       " ['Cerveja', 'Pizza', 'nan'],\n",
       " ['Cerveja', 'Pizza', 'Sorvete'],\n",
       " ['Cerveja', 'Pizza', 'nan'],\n",
       " ['Pizza', 'nan', 'nan']]"
      ]
     },
     "execution_count": 8,
     "metadata": {},
     "output_type": "execute_result"
    }
   ],
   "source": [
    "# Este código cria uma lista chamada \"transacoes\" e a preenche com informações de uma planilha. Ele itera seis vezes, coletando os dados da planilha e os organizando em grupos de três valores, armazenando-os na lista. O resultado final é uma lista que contém esses grupos de informações.\n",
    "\n",
    "transacoes = []\n",
    "for i in range(0, 6):\n",
    "    transacoes.append([str(dados.values[i, j]) for j in range(0, 3)])\n",
    "transacoes\n"
   ]
  },
  {
   "cell_type": "code",
   "execution_count": 22,
   "metadata": {},
   "outputs": [],
   "source": [
    "# Esse código utiliza uma técnica chamada Apriori para encontrar associações entre itens em um conjunto de transações, como compras. Ele define algumas regras para considerar apenas associações que são frequentes o suficiente (min_support=0.5) e têm uma confiança mínima (min_confidence=0.5). Além disso, ele busca associações com pelo menos dois itens (min_length=2) nas transações fornecidas. Essas regras ajudam a identificar padrões de compra relevantes e confiáveis.\n",
    "\n",
    "regras = apriori(transacoes, min_support=0.5, min_confidence=0.5, min_length=2)\n"
   ]
  },
  {
   "cell_type": "code",
   "execution_count": 23,
   "metadata": {},
   "outputs": [
    {
     "name": "stdout",
     "output_type": "stream",
     "text": [
      "RelationRecord(items=frozenset({'Cerveja'}), support=0.6666666666666666, ordered_statistics=[OrderedStatistic(items_base=frozenset(), items_add=frozenset({'Cerveja'}), confidence=0.6666666666666666, lift=1.0)])\n"
     ]
    },
    {
     "data": {
      "text/plain": [
       "[RelationRecord(items=frozenset({'Cerveja'}), support=0.6666666666666666, ordered_statistics=[OrderedStatistic(items_base=frozenset(), items_add=frozenset({'Cerveja'}), confidence=0.6666666666666666, lift=1.0)]),\n",
       " RelationRecord(items=frozenset({'Pizza'}), support=1.0, ordered_statistics=[OrderedStatistic(items_base=frozenset(), items_add=frozenset({'Pizza'}), confidence=1.0, lift=1.0)]),\n",
       " RelationRecord(items=frozenset({'Sorvete'}), support=0.5, ordered_statistics=[OrderedStatistic(items_base=frozenset(), items_add=frozenset({'Sorvete'}), confidence=0.5, lift=1.0)]),\n",
       " RelationRecord(items=frozenset({'nan'}), support=0.6666666666666666, ordered_statistics=[OrderedStatistic(items_base=frozenset(), items_add=frozenset({'nan'}), confidence=0.6666666666666666, lift=1.0)]),\n",
       " RelationRecord(items=frozenset({'Pizza', 'Cerveja'}), support=0.6666666666666666, ordered_statistics=[OrderedStatistic(items_base=frozenset(), items_add=frozenset({'Pizza', 'Cerveja'}), confidence=0.6666666666666666, lift=1.0), OrderedStatistic(items_base=frozenset({'Cerveja'}), items_add=frozenset({'Pizza'}), confidence=1.0, lift=1.0), OrderedStatistic(items_base=frozenset({'Pizza'}), items_add=frozenset({'Cerveja'}), confidence=0.6666666666666666, lift=1.0)]),\n",
       " RelationRecord(items=frozenset({'Pizza', 'Sorvete'}), support=0.5, ordered_statistics=[OrderedStatistic(items_base=frozenset(), items_add=frozenset({'Pizza', 'Sorvete'}), confidence=0.5, lift=1.0), OrderedStatistic(items_base=frozenset({'Pizza'}), items_add=frozenset({'Sorvete'}), confidence=0.5, lift=1.0), OrderedStatistic(items_base=frozenset({'Sorvete'}), items_add=frozenset({'Pizza'}), confidence=1.0, lift=1.0)]),\n",
       " RelationRecord(items=frozenset({'Pizza', 'nan'}), support=0.6666666666666666, ordered_statistics=[OrderedStatistic(items_base=frozenset(), items_add=frozenset({'Pizza', 'nan'}), confidence=0.6666666666666666, lift=1.0), OrderedStatistic(items_base=frozenset({'Pizza'}), items_add=frozenset({'nan'}), confidence=0.6666666666666666, lift=1.0), OrderedStatistic(items_base=frozenset({'nan'}), items_add=frozenset({'Pizza'}), confidence=1.0, lift=1.0)])]"
      ]
     },
     "execution_count": 23,
     "metadata": {},
     "output_type": "execute_result"
    }
   ],
   "source": [
    "# Criação de nova variável para armazenar somente as regras de associação - Nesse código simples em Python, estamos criando uma lista chamada \"resultados\" que contém os mesmos elementos que a lista chamada \"regras\". Em seguida, imprimimos o primeiro elemento dessa lista \"resultados\" (lembrando que a contagem começa em 0), o que significa que estamos exibindo o primeiro item da lista \"regras\". Por fim, apenas mencionamos a lista \"resultados\" novamente. Basicamente, estamos copiando as regras para outra lista e mostrando a primeira delas.\n",
    "\n",
    "resultados = list(regras)\n",
    "print(resultados[0])\n",
    "resultados"
   ]
  },
  {
   "cell_type": "code",
   "execution_count": 26,
   "metadata": {},
   "outputs": [
    {
     "data": {
      "text/plain": [
       "[[frozenset({'Cerveja'}),\n",
       "  0.6666666666666666,\n",
       "  [OrderedStatistic(items_base=frozenset(), items_add=frozenset({'Cerveja'}), confidence=0.6666666666666666, lift=1.0)]],\n",
       " [frozenset({'Pizza'}),\n",
       "  1.0,\n",
       "  [OrderedStatistic(items_base=frozenset(), items_add=frozenset({'Pizza'}), confidence=1.0, lift=1.0)]],\n",
       " [frozenset({'Sorvete'}),\n",
       "  0.5,\n",
       "  [OrderedStatistic(items_base=frozenset(), items_add=frozenset({'Sorvete'}), confidence=0.5, lift=1.0)]],\n",
       " [frozenset({'nan'}),\n",
       "  0.6666666666666666,\n",
       "  [OrderedStatistic(items_base=frozenset(), items_add=frozenset({'nan'}), confidence=0.6666666666666666, lift=1.0)]],\n",
       " [frozenset({'Cerveja', 'Pizza'}),\n",
       "  0.6666666666666666,\n",
       "  [OrderedStatistic(items_base=frozenset(), items_add=frozenset({'Pizza', 'Cerveja'}), confidence=0.6666666666666666, lift=1.0),\n",
       "   OrderedStatistic(items_base=frozenset({'Cerveja'}), items_add=frozenset({'Pizza'}), confidence=1.0, lift=1.0),\n",
       "   OrderedStatistic(items_base=frozenset({'Pizza'}), items_add=frozenset({'Cerveja'}), confidence=0.6666666666666666, lift=1.0)]],\n",
       " [frozenset({'Pizza', 'Sorvete'}),\n",
       "  0.5,\n",
       "  [OrderedStatistic(items_base=frozenset(), items_add=frozenset({'Pizza', 'Sorvete'}), confidence=0.5, lift=1.0),\n",
       "   OrderedStatistic(items_base=frozenset({'Pizza'}), items_add=frozenset({'Sorvete'}), confidence=0.5, lift=1.0),\n",
       "   OrderedStatistic(items_base=frozenset({'Sorvete'}), items_add=frozenset({'Pizza'}), confidence=1.0, lift=1.0)]],\n",
       " [frozenset({'Pizza', 'nan'}),\n",
       "  0.6666666666666666,\n",
       "  [OrderedStatistic(items_base=frozenset(), items_add=frozenset({'Pizza', 'nan'}), confidence=0.6666666666666666, lift=1.0),\n",
       "   OrderedStatistic(items_base=frozenset({'Pizza'}), items_add=frozenset({'nan'}), confidence=0.6666666666666666, lift=1.0),\n",
       "   OrderedStatistic(items_base=frozenset({'nan'}), items_add=frozenset({'Pizza'}), confidence=1.0, lift=1.0)]]]"
      ]
     },
     "execution_count": 26,
     "metadata": {},
     "output_type": "execute_result"
    }
   ],
   "source": [
    "# Criação de nova variável, percorrendo a variável anterior para uma melhor visualização dos resultados - Este código transforma uma lista chamada 'resultados' em uma nova lista chamada 'resultados2'. A diferença é que 'resultados2' contém listas aninhadas, onde cada elemento da lista original 'resultados' é convertido em uma sublista. Em resumo, ele reorganiza os dados da lista 'resultados' em uma estrutura de lista dentro de lista, mas não realiza nenhuma operação específica com esses dados.\n",
    "\n",
    "resultados2 = [list(x) for x in resultados]\n",
    "resultados2"
   ]
  },
  {
   "cell_type": "code",
   "execution_count": 27,
   "metadata": {},
   "outputs": [
    {
     "data": {
      "text/plain": [
       "[[[frozenset(), frozenset({'Cerveja'}), 0.6666666666666666, 1.0]],\n",
       " [[frozenset(), frozenset({'Pizza'}), 1.0, 1.0]],\n",
       " [[frozenset(), frozenset({'Sorvete'}), 0.5, 1.0]],\n",
       " [[frozenset(), frozenset({'nan'}), 0.6666666666666666, 1.0]],\n",
       " [[frozenset(), frozenset({'Cerveja', 'Pizza'}), 0.6666666666666666, 1.0],\n",
       "  [frozenset({'Cerveja'}), frozenset({'Pizza'}), 1.0, 1.0],\n",
       "  [frozenset({'Pizza'}), frozenset({'Cerveja'}), 0.6666666666666666, 1.0]],\n",
       " [[frozenset(), frozenset({'Pizza', 'Sorvete'}), 0.5, 1.0],\n",
       "  [frozenset({'Pizza'}), frozenset({'Sorvete'}), 0.5, 1.0],\n",
       "  [frozenset({'Sorvete'}), frozenset({'Pizza'}), 1.0, 1.0]],\n",
       " [[frozenset(), frozenset({'Pizza', 'nan'}), 0.6666666666666666, 1.0],\n",
       "  [frozenset({'Pizza'}), frozenset({'nan'}), 0.6666666666666666, 1.0],\n",
       "  [frozenset({'nan'}), frozenset({'Pizza'}), 1.0, 1.0]]]"
      ]
     },
     "execution_count": 27,
     "metadata": {},
     "output_type": "execute_result"
    }
   ],
   "source": [
    "# Criação de outra variável para a visualização das regras ficar mais fácil para o usuário, adicionando as regras encontradas na variável resultados2 - Este código cria uma nova lista chamada \"resultados3\" e preenche-a com informações de uma lista existente chamada \"resultados2\". Ele faz isso percorrendo os elementos de \"resultados2\", pegando os elementos internos (que também são listas) e transformando-os em listas individuais. O resultado final é uma lista \"resultados3\" que contém essas listas individuais.\n",
    "\n",
    "resultados3 = []\n",
    "for j in range(0, 7):\n",
    "    resultados3.append([list(x) for x in resultados2[j][2]])\n",
    "resultados3\n"
   ]
  },
  {
   "cell_type": "code",
   "execution_count": 30,
   "metadata": {},
   "outputs": [
    {
     "name": "stdout",
     "output_type": "stream",
     "text": [
      "                                                 0  \\\n",
      "0         [(), (Cerveja), 0.6666666666666666, 1.0]   \n",
      "1                          [(), (Pizza), 1.0, 1.0]   \n",
      "2                        [(), (Sorvete), 0.5, 1.0]   \n",
      "3             [(), (nan), 0.6666666666666666, 1.0]   \n",
      "4  [(), (Pizza, Cerveja), 0.6666666666666666, 1.0]   \n",
      "5                 [(), (Pizza, Sorvete), 0.5, 1.0]   \n",
      "6      [(), (Pizza, nan), 0.6666666666666666, 1.0]   \n",
      "\n",
      "                                           1  \\\n",
      "0                                       None   \n",
      "1                                       None   \n",
      "2                                       None   \n",
      "3                                       None   \n",
      "4             [(Cerveja), (Pizza), 1.0, 1.0]   \n",
      "5             [(Pizza), (Sorvete), 0.5, 1.0]   \n",
      "6  [(Pizza), (nan), 0.6666666666666666, 1.0]   \n",
      "\n",
      "                                               2  \n",
      "0                                           None  \n",
      "1                                           None  \n",
      "2                                           None  \n",
      "3                                           None  \n",
      "4  [(Pizza), (Cerveja), 0.6666666666666666, 1.0]  \n",
      "5                 [(Sorvete), (Pizza), 1.0, 1.0]  \n",
      "6                     [(nan), (Pizza), 1.0, 1.0]  \n"
     ]
    }
   ],
   "source": [
    "# Este código realiza algumas operações simples em dados. Primeiro, ele cria uma lista vazia chamada \"resultados3\" e, em seguida, preenche essa lista com informações específicas de uma lista chamada \"resultados2\". Essas informações são convertidas em um formato de tabela chamado DataFrame usando uma biblioteca chamada pandas. Por fim, o código exibe essa tabela na tela. Essencialmente, ele transforma dados em um formato mais organizado e legível.\n",
    "\n",
    "resultados3 = []\n",
    "for j in range(0, 7):\n",
    "    resultados3.append([list(x) for x in resultados2[j][2]])\n",
    "\n",
    "# Convertendo a lista em um DataFrame do pandas\n",
    "df = pd.DataFrame(resultados3)\n",
    "\n",
    "# Exibindo o DataFrame\n",
    "print(df)\n"
   ]
  },
  {
   "cell_type": "code",
   "execution_count": 31,
   "metadata": {},
   "outputs": [
    {
     "name": "stdout",
     "output_type": "stream",
     "text": [
      "+-------------------------------------------------------------------------+---------------------------------------------------------------------+-------------------------------------------------------------------------+\n",
      "| [frozenset(), frozenset({'Cerveja'}), 0.6666666666666666, 1.0]          |                                                                     |                                                                         |\n",
      "+-------------------------------------------------------------------------+---------------------------------------------------------------------+-------------------------------------------------------------------------+\n",
      "| [frozenset(), frozenset({'Pizza'}), 1.0, 1.0]                           |                                                                     |                                                                         |\n",
      "+-------------------------------------------------------------------------+---------------------------------------------------------------------+-------------------------------------------------------------------------+\n",
      "| [frozenset(), frozenset({'Sorvete'}), 0.5, 1.0]                         |                                                                     |                                                                         |\n",
      "+-------------------------------------------------------------------------+---------------------------------------------------------------------+-------------------------------------------------------------------------+\n",
      "| [frozenset(), frozenset({'nan'}), 0.6666666666666666, 1.0]              |                                                                     |                                                                         |\n",
      "+-------------------------------------------------------------------------+---------------------------------------------------------------------+-------------------------------------------------------------------------+\n",
      "| [frozenset(), frozenset({'Pizza', 'Cerveja'}), 0.6666666666666666, 1.0] | [frozenset({'Cerveja'}), frozenset({'Pizza'}), 1.0, 1.0]            | [frozenset({'Pizza'}), frozenset({'Cerveja'}), 0.6666666666666666, 1.0] |\n",
      "+-------------------------------------------------------------------------+---------------------------------------------------------------------+-------------------------------------------------------------------------+\n",
      "| [frozenset(), frozenset({'Pizza', 'Sorvete'}), 0.5, 1.0]                | [frozenset({'Pizza'}), frozenset({'Sorvete'}), 0.5, 1.0]            | [frozenset({'Sorvete'}), frozenset({'Pizza'}), 1.0, 1.0]                |\n",
      "+-------------------------------------------------------------------------+---------------------------------------------------------------------+-------------------------------------------------------------------------+\n",
      "| [frozenset(), frozenset({'Pizza', 'nan'}), 0.6666666666666666, 1.0]     | [frozenset({'Pizza'}), frozenset({'nan'}), 0.6666666666666666, 1.0] | [frozenset({'nan'}), frozenset({'Pizza'}), 1.0, 1.0]                    |\n",
      "+-------------------------------------------------------------------------+---------------------------------------------------------------------+-------------------------------------------------------------------------+\n"
     ]
    }
   ],
   "source": [
    "# Este código Python cria uma tabela a partir de uma lista de dados chamada 'resultados2'. Ele percorre essa lista, extrai sub-listas dentro dela e, em seguida, usa a biblioteca 'tabulate' para formatar essas sub-listas como uma tabela, com linhas e colunas, e as exibe no console. É uma maneira de organizar e visualizar informações de forma mais organizada e legível.\n",
    "\n",
    "from tabulate import tabulate\n",
    "\n",
    "resultados3 = []\n",
    "for j in range(0, 7):\n",
    "    resultados3.append([list(x) for x in resultados2[j][2]])\n",
    "\n",
    "# Convertendo a lista em uma tabela com a função tabulate\n",
    "tabela = tabulate(resultados3, tablefmt='grid')\n",
    "\n",
    "# Exibindo a tabela\n",
    "print(tabela)\n"
   ]
  },
  {
   "cell_type": "code",
   "execution_count": null,
   "metadata": {},
   "outputs": [],
   "source": []
  }
 ],
 "metadata": {
  "jupytext": {
   "cell_metadata_filter": "-all",
   "main_language": "python",
   "notebook_metadata_filter": "-all"
  },
  "kernelspec": {
   "display_name": "Python 3",
   "language": "python",
   "name": "python3"
  },
  "language_info": {
   "codemirror_mode": {
    "name": "ipython",
    "version": 3
   },
   "file_extension": ".py",
   "mimetype": "text/x-python",
   "name": "python",
   "nbconvert_exporter": "python",
   "pygments_lexer": "ipython3",
   "version": "3.11.3"
  }
 },
 "nbformat": 4,
 "nbformat_minor": 4
}
