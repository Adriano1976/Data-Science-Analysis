{
 "cells": [
  {
   "cell_type": "code",
   "execution_count": 1,
   "metadata": {},
   "outputs": [],
   "source": [
    "# Formação Cientista de Dados - Fernando Amaral e Jones Granatyr\n",
    "# Colaboração: Adriano Santos\n",
    "\n",
    "# Algoritmo ECLAT"
   ]
  },
  {
   "cell_type": "code",
   "execution_count": 100,
   "metadata": {
    "lines_to_next_cell": 0
   },
   "outputs": [],
   "source": [
    "# Este código Python importa diversas bibliotecas essenciais para operações matemáticas, manipulação de datas e processamento de argumentos de linha de comando. As bibliotecas incluem 'os' e 'sys' para operações do sistema, 'numpy' para cálculos numéricos, 'datetime' para manipulação de datas e horas, 'numpy.linalg' para álgebra linear e 'optparse' e 'argparse' para análise de argumentos de linha de comando. Essas importações fornecem as ferramentas necessárias para realizar uma variedade de tarefas, desde cálculos matemáticos avançados até a gestão de argumentos passados ao script.\n",
    "\n",
    "import os;\n",
    "import sys;\n",
    "import numpy as np;\n",
    "import datetime as dt;\n",
    "from numpy import linalg as LA;\n",
    "import optparse;\n",
    "import argparse;\n",
    "import pandas as pd\n",
    "from pyECLAT import ECLAT\n",
    "\n",
    "# %pip install pyECLAT"
   ]
  },
  {
   "cell_type": "code",
   "execution_count": 102,
   "metadata": {
    "lines_to_next_cell": 0
   },
   "outputs": [],
   "source": [
    "# Variável global\n",
    "# Contendo todos os padrões frequentes com suas tid's\n",
    "F = []\n",
    "\n",
    "# Cálculo de tempo\n",
    "start_time = 0\n",
    "end_time = 0\n",
    "\n",
    "# Classe Pattern (Padrão):\n",
    "class Pattern:\n",
    "    def __init__(self, item, tids):\n",
    "        # Lista de IDs de itens no padrão\n",
    "        self.item_id = item\n",
    "        # tid do padrão\n",
    "        self.tid_list = tids\n",
    "\n",
    "    # Operação de união dos IDs de itens para dois padrões para obter o ID do padrão candidato\n",
    "    def union_id(self, next_node):\n",
    "        t = set(self.item_id)\n",
    "        tt = set(next_node.item_id)\n",
    "        new = t | tt\n",
    "        new_id = list(new)\n",
    "        new_id.sort()\n",
    "        return new_id\n",
    "\n",
    "    # Interseção das tid's de dois padrões para encontrar a tid do padrão candidato\n",
    "    def intersec_tid_list(self, next_node):\n",
    "        t = set(self.tid_list)\n",
    "        tt = set(next_node.tid_list)\n",
    "        new = t & tt\n",
    "        new_list = list(new)\n",
    "        new_list.sort()\n",
    "        return new_list\n",
    "\n",
    "    # Retorna o valor de suporte para o padrão\n",
    "    def getSup(self):\n",
    "        return len(self.tid_list)\n",
    "\n",
    "    # Geração de candidatos e verificação de suporte\n",
    "    def generate_check(self, n, minsup):\n",
    "        # Gerando a lista de tid primeiro\n",
    "        temp_tid_list = self.intersec_tid_list(n)\n",
    "\n",
    "        # Se o suporte para o novo candidato for >= minsup, então gere o ID para esse candidato\n",
    "        if len(temp_tid_list) >= minsup:\n",
    "            temp_id = self.union_id(n)\n",
    "            return (temp_id, temp_tid_list)\n",
    "        else:\n",
    "            return ([], [])\n",
    "\n",
    "    def pattern_print(self):\n",
    "        pattern_ID = str(\"\")\n",
    "        for i in self.item_id:\n",
    "            pattern_ID = pattern_ID + str(i) + ' '\n",
    "        print(pattern_ID + '\\t\\t : ' + str(self.tid_list))\n",
    "\n",
    "# Fim da classe Pattern (Padrão)\n"
   ]
  },
  {
   "cell_type": "code",
   "execution_count": 103,
   "metadata": {
    "lines_to_next_cell": 0
   },
   "outputs": [],
   "source": [
    "# Classe Pattern Store:\n",
    "class PatternStore:\n",
    "    def __init__(self):\n",
    "        self.Pattern_list = []\n",
    "\n",
    "    # Adiciona um grupo inteiro de padrões à lista\n",
    "    def addGroup(self, list_nodes):\n",
    "        for n in list_nodes:\n",
    "            self.Pattern_list.append(n)\n",
    "\n",
    "    # Retorna o i-ésimo padrão da lista, se disponível\n",
    "    def getNode(self, index):\n",
    "        if index < len(self.Pattern_list):\n",
    "            return self.Pattern_list[index]\n",
    "        else:\n",
    "            return []\n",
    "\n",
    "    # Para seguir o método DFS: Função recursiva é usada - para calcular todos os padrões frequentes da lista de padrões frequentes do 1º nível\n",
    "    def Eclat(self, minsup):\n",
    "        for node in self.Pattern_list:\n",
    "            F.append(node)\n",
    "            new_P = PatternStore()\n",
    "            # Como todos os padrões são ordenados inicialmente, obtenha apenas o próximo padrão do atual\n",
    "            index = self.Pattern_list.index(node)\n",
    "            i = index + 1\n",
    "            n = self.getNode(i)\n",
    "\n",
    "            while n:\n",
    "                # Aqui estou realizando 2 etapas juntas: 1- geração de candidatos e 2- verificação de minsup\n",
    "                (temp_id, temp_tid_list) = node.generate_check(n, minsup)\n",
    "                # se temp_id não estiver vazio\n",
    "                if temp_id:\n",
    "                    new_P.Pattern_list.append(Pattern(temp_id, temp_tid_list))\n",
    "                i = i + 1\n",
    "                # obtenha o próximo nó da lista\n",
    "                n = self.getNode(i)\n",
    "            # se houver algum possível padrão filho, vá para o filho primeiro, DFS\n",
    "            if new_P.Pattern_list:\n",
    "                new_P.Eclat(minsup)\n",
    "\n",
    "# Fim da classe PatternStore\n"
   ]
  },
  {
   "cell_type": "code",
   "execution_count": 105,
   "metadata": {
    "lines_to_next_cell": 0
   },
   "outputs": [],
   "source": [
    "class DBReader:\n",
    "\n",
    "    def __init__(self, arquivo_para_ler):\n",
    "        self.file_id = arquivo_para_ler\n",
    "\n",
    "    def lerArquivo(self):\n",
    "        # Armazena cada transação\n",
    "        self.transacoes = []\n",
    "        # Armazena o número de itens em cada transação\n",
    "        self.num_itens = []\n",
    "\n",
    "        for linha in self.file_id:\n",
    "            tupla = linha.split(\" \")\n",
    "            minha_lista = []\n",
    "            self.num_itens.append(tupla[0])\n",
    "\n",
    "            for posicao in range(1, len(tupla)):\n",
    "                minha_lista.append(tupla[posicao])\n",
    "\n",
    "            self.transacoes.append(minha_lista)\n",
    "\n",
    "    # A partir das transações: gera padrões e prepara uma lista\n",
    "    def gerarListaPadroes(self):\n",
    "        # Todos os itens\n",
    "        temp = [item for sublist in self.transacoes for item in sublist]\n",
    "\n",
    "        # Removendo duplicatas\n",
    "        meu_conjunto = set(temp)\n",
    "        self.itens = list(meu_conjunto)\n",
    "\n",
    "        # Colocando em ordem ordenada\n",
    "        self.itens.sort()\n",
    "\n",
    "        # Gerar lista de padrões para o nível 1\n",
    "        self.nivel_1 = []\n",
    "\n",
    "        # Iniciar o cronômetro, pois a geração de candidatos para o nível 1 faz parte do algoritmo Eclat.\n",
    "        start_time = dt.datetime.now()\n",
    "\n",
    "        # Gerar todos os candidatos para o nível 1\n",
    "        for item in self.itens:\n",
    "            item_lista = []\n",
    "            item_lista.append(item)\n",
    "            self.nivel_1.append(Padrao(item_lista, []))\n",
    "\n",
    "        # Gerar lista de tid para cada item no nível 1\n",
    "        i = 0\n",
    "        for transacao in self.transacoes:\n",
    "            i = i + 1\n",
    "            transacao.sort()\n",
    "            for id_item in transacao:\n",
    "                indice = self.itens.index(id_item)\n",
    "                self.nivel_1[indice].lista_tid.append(i)\n",
    "\n",
    "        return start_time\n",
    "\n",
    "    # Retorna padrões frequentes\n",
    "    def obterPadroesFrequentes(self, minsup):\n",
    "        self.P = []\n",
    "        for n in self.nivel_1:\n",
    "            c = int(n.obterSup())\n",
    "            if c >= minsup:\n",
    "                # print c;\n",
    "                self.P.append(n)\n",
    "        return self.P\n",
    "\n",
    "# Fim da classe DBReader\n"
   ]
  },
  {
   "cell_type": "code",
   "execution_count": 123,
   "metadata": {
    "lines_to_next_cell": 0
   },
   "outputs": [],
   "source": [
    "import argparse\n",
    "import os\n",
    "import sys\n",
    "import datetime as dt\n",
    "\n",
    "def main(file, support):\n",
    "\t# Definindo a flag de impressão\n",
    "\tp_flag = 1\n",
    "\n",
    "\t# Configurando o parser de argumentos\n",
    "\tparser = argparse.ArgumentParser()\n",
    "\tparser.add_argument(\"-f\", \"--filename\")\n",
    "\tparser.add_argument(\"-s\", \"--supnum\", type=int)\n",
    "\tparser.add_argument(\"-p\", \"--print_flag\", action=\"store_true\")\n",
    "\targs = parser.parse_args()\n",
    "\t\n",
    "\ttry:\t\n",
    "\t\t# Nome do arquivo\n",
    "\t\tf_name = file\n",
    "\t\tfileToRead = open(f_name)\n",
    "\t\t\n",
    "\t\t# Valor mínimo de suporte\n",
    "\t\tminsup = support\n",
    "\t\t\n",
    "\t\t# Configurando a flag de impressão com base nos argumentos\n",
    "\t\tif args.print_flag:\n",
    "\t\t\tp_flag = 1;\t\n",
    "\texcept(IOError, IndexError):\n",
    "\t\tprint('Nome de arquivo inválido'+os.linesep)\n",
    "\t\tsys.exit(1)\n",
    "\n",
    "\tprint('minsup = '+str(minsup))\n",
    "\n",
    "\t# Criando um objeto DBReader\n",
    "\treader = DBReader(fileToRead)\n",
    "\t\n",
    "\t# Lendo o arquivo\n",
    "\treader.readFile()\n",
    "\t\n",
    "\t# Geração de padrões para o nível 1 - Ele retornará o horário de início da geração de candidatos.\n",
    "\tstart_time = reader.genPatternList()\n",
    "\t\n",
    "\t# Obtendo padrões frequentes de todos os candidatos do nível 1:\n",
    "\tlevel1_P = reader.getFrequent(minsup)\n",
    "\n",
    "\t# Criando um objeto Pattern Store\n",
    "\tPttStr = PatternStore()\n",
    "\t\n",
    "\t# Adicionando padrões frequentes do nível 1\n",
    "\tPttStr.addGroup(level1_P)\n",
    "\n",
    "\t# Algoritmo Eclat\n",
    "\tPttStr.Eclat(minsup)\n",
    "\t\n",
    "\tend_time = dt.datetime.now()\n",
    "\t\n",
    "\t# Calculando o tempo de computação\n",
    "\ttime = end_time - start_time\n",
    "\t\n",
    "\tprint('Tempo de computação = '+ str(time.total_seconds()) + ' segundos')\n",
    "\t\n",
    "\tif p_flag == 1:\n",
    "\t\tprint('Padrão\\t\\t : Lista_de_TID');\t\n",
    "\t\tfor n in F:\n",
    "\t\t\tn.pattern_print()\n",
    "\n",
    "# Fim da função principal\n"
   ]
  },
  {
   "cell_type": "code",
   "execution_count": 125,
   "metadata": {},
   "outputs": [
    {
     "name": "stderr",
     "output_type": "stream",
     "text": [
      "usage: ipykernel_launcher.py [-h] [-f FILENAME] [-s SUPNUM] [-p]\n",
      "ipykernel_launcher.py: error: unrecognized arguments: --ip=127.0.0.1 --stdin=9028 --control=9026 --hb=9025 --Session.signature_scheme=\"hmac-sha256\" --Session.key=b\"cfe8c060-52e2-430e-8824-0adc0e7083e2\" --shell=9027 --transport=\"tcp\" --iopub=9029\n"
     ]
    },
    {
     "ename": "SystemExit",
     "evalue": "2",
     "output_type": "error",
     "traceback": [
      "An exception has occurred, use %tb to see the full traceback.\n",
      "\u001b[1;31mSystemExit\u001b[0m\u001b[1;31m:\u001b[0m 2\n"
     ]
    }
   ],
   "source": [
    "# Geração dos itens frequentes\n",
    "\n",
    "if\t__name__== \"__main__\":\n",
    "\tmain('../dados/transacoes2.txt', 2)\n",
    " "
   ]
  },
  {
   "cell_type": "code",
   "execution_count": 122,
   "metadata": {},
   "outputs": [
    {
     "name": "stderr",
     "output_type": "stream",
     "text": [
      "100%|██████████| 6/6 [00:00<00:00, 2000.62it/s]\n",
      "100%|██████████| 6/6 [00:00<?, ?it/s]\n",
      "100%|██████████| 6/6 [00:00<00:00, 1000.79it/s]\n"
     ]
    },
    {
     "name": "stdout",
     "output_type": "stream",
     "text": [
      "Combination 1 by 1\n"
     ]
    },
    {
     "name": "stderr",
     "output_type": "stream",
     "text": [
      "6it [00:00, 96.83it/s]\n"
     ]
    },
    {
     "name": "stdout",
     "output_type": "stream",
     "text": [
      "Combination 2 by 2\n"
     ]
    },
    {
     "name": "stderr",
     "output_type": "stream",
     "text": [
      "15it [00:00, 130.51it/s]\n"
     ]
    },
    {
     "name": "stdout",
     "output_type": "stream",
     "text": [
      "Combination 3 by 3\n"
     ]
    },
    {
     "name": "stderr",
     "output_type": "stream",
     "text": [
      "20it [00:00, 102.10it/s]\n"
     ]
    },
    {
     "data": {
      "text/plain": [
       "{'4 Cerveja Carvao Pao Maionese': 0.16666666666666666,\n",
       " '1 Cerveja': 0.16666666666666666,\n",
       " '2 Carvao Pao': 0.16666666666666666,\n",
       " '3 Cerveja Carvao Pao': 0.16666666666666666,\n",
       " '1 Carvao': 0.16666666666666666,\n",
       " '3 Cerveja Carvao Maionese': 0.16666666666666666}"
      ]
     },
     "execution_count": 122,
     "metadata": {},
     "output_type": "execute_result"
    }
   ],
   "source": [
    "# Importar a biblioteca pandas\n",
    "import pandas as pd\n",
    "\n",
    "# Carregar os dados do arquivo CSV\n",
    "dados = pd.read_csv('../dados/transacoes2.txt', header=None)\n",
    "\n",
    "# Criar uma instância do ECLAT com os dados carregados\n",
    "eclat_instance = ECLAT(data=dados, verbose=True)\n",
    "\n",
    "# Acessar o DataFrame binário gerado pelo ECLAT\n",
    "eclat_instance.df_bin\n",
    "\n",
    "# Acessar os itens únicos presentes nos dados\n",
    "eclat_instance.uniq_\n",
    "\n",
    "# Executar o ECLAT com os parâmetros desejados\n",
    "get_ECLAT_indexes, get_ECLAT_supports = eclat_instance.fit(\n",
    "    min_support=0.08,\n",
    "    min_combination=1,\n",
    "    max_combination=3,\n",
    "    separator=' & ',\n",
    "    verbose=True\n",
    ")\n",
    "\n",
    "# Obter os índices das combinações frequentes encontradas\n",
    "get_ECLAT_indexes\n",
    "\n",
    "# Obter os suportes das combinações frequentes encontradas\n",
    "get_ECLAT_supports\n"
   ]
  }
 ],
 "metadata": {
  "jupytext": {
   "cell_metadata_filter": "-all",
   "main_language": "python",
   "notebook_metadata_filter": "-all"
  },
  "kernelspec": {
   "display_name": "Python 3",
   "language": "python",
   "name": "python3"
  },
  "language_info": {
   "codemirror_mode": {
    "name": "ipython",
    "version": 3
   },
   "file_extension": ".py",
   "mimetype": "text/x-python",
   "name": "python",
   "nbconvert_exporter": "python",
   "pygments_lexer": "ipython3",
   "version": "3.7.6"
  }
 },
 "nbformat": 4,
 "nbformat_minor": 4
}
