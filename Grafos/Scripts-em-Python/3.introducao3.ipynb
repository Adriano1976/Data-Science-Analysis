{
 "cells": [
  {
   "cell_type": "code",
   "execution_count": 1,
   "metadata": {},
   "outputs": [],
   "source": [
    "# Formação Cientista de Dados - Fernando Amaral e Jones Granatyr\n",
    "# Contribuição: Adriano Santos\n",
    "\n",
    "# Igraph"
   ]
  },
  {
   "cell_type": "markdown",
   "metadata": {},
   "source": [
    "## Importando as Bibliotecas Necessárias"
   ]
  },
  {
   "cell_type": "markdown",
   "metadata": {},
   "source": [
    "O código abaixo é usado para criar e visualizar grafos em Python. Primeiro, ele importa as bibliotecas necessárias, igraph e plot, que são usadas para trabalhar com grafos. Com essas bibliotecas, você pode criar e desenhar grafos de forma simples e eficiente em seu programa."
   ]
  },
  {
   "cell_type": "code",
   "execution_count": 2,
   "metadata": {},
   "outputs": [],
   "source": [
    "# Importação das bibliotecas\n",
    "from igraph import Graph\n",
    "from igraph import plot"
   ]
  },
  {
   "cell_type": "markdown",
   "metadata": {},
   "source": [
    "## Criando Gráfico Representativo por Conexões"
   ]
  },
  {
   "cell_type": "markdown",
   "metadata": {},
   "source": [
    "Nesse código a seguir, estamos criando um gráfico que representa conexões entre dez pontos, chamados de vértices. Esses pontos estão conectados por linhas chamadas de arestas. As conexões são definidas pelas variáveis 'arestas', onde cada par de números representa a ligação entre dois vértices. Além disso, adicionamos dois novos pontos, identificados como \"5\" e \"6\". Cada vértice recebe um rótulo (ou nome) para identificação. Por fim, o código imprime uma matriz que mostra como esses pontos estão interconectados. Isso pode ser útil para visualizar relacionamentos em redes, como em redes sociais ou sistemas complexos."
   ]
  },
  {
   "cell_type": "code",
   "execution_count": 3,
   "metadata": {},
   "outputs": [
    {
     "name": "stdout",
     "output_type": "stream",
     "text": [
      "[[0, 1, 1, 0, 1, 0, 0, 0, 0, 0, 0, 0]\n",
      " [1, 0, 2, 0, 0, 0, 0, 0, 0, 0, 0, 0]\n",
      " [1, 2, 0, 1, 0, 0, 0, 0, 0, 0, 0, 0]\n",
      " [0, 0, 1, 0, 1, 0, 0, 0, 0, 0, 0, 0]\n",
      " [1, 0, 0, 1, 0, 0, 0, 0, 0, 0, 0, 0]\n",
      " [0, 0, 0, 0, 0, 0, 0, 0, 0, 0, 0, 0]\n",
      " [0, 0, 0, 0, 0, 0, 0, 0, 0, 0, 0, 0]\n",
      " [0, 0, 0, 0, 0, 0, 0, 0, 0, 0, 0, 0]\n",
      " [0, 0, 0, 0, 0, 0, 0, 0, 0, 0, 0, 0]\n",
      " [0, 0, 0, 0, 0, 0, 0, 0, 0, 0, 0, 0]\n",
      " [0, 0, 0, 0, 0, 0, 0, 0, 0, 0, 0, 0]\n",
      " [0, 0, 0, 0, 0, 0, 0, 0, 0, 0, 0, 0]]\n"
     ]
    }
   ],
   "source": [
    "# Criamos um novo grafo\n",
    "grafo4 = Graph(directed=False)\n",
    "num_vertices = 10\n",
    "\n",
    "# Adicionamos os vértices\n",
    "grafo4.add_vertices(num_vertices)\n",
    "\n",
    "# Adicionamos as arestas\n",
    "arestas = [(0, 1), (1, 2), (2, 3), (3, 4), (4, 0), (0, 2), (2, 1)]\n",
    "grafo4.add_edges(arestas)\n",
    "\n",
    "# Adicionamos vértices adicionais\n",
    "grafo4.add_vertex(\"5\")\n",
    "grafo4.add_vertex(\"6\")\n",
    "\n",
    "# Definimos rótulos e nomes para os vértices\n",
    "rotulos = ['A', 'B', 'C', 'D', 'E', 'F', 'G']\n",
    "grafo4.vs['label'] = rotulos\n",
    "grafo4.vs['name'] = rotulos\n",
    "\n",
    "# Impressão da matriz de adjacência\n",
    "print(grafo4.get_adjacency())"
   ]
  },
  {
   "cell_type": "markdown",
   "metadata": {},
   "source": [
    "## Obtendo os Vértices Vizinhos"
   ]
  },
  {
   "cell_type": "markdown",
   "metadata": {},
   "source": [
    "Esse código abaixo, serve para obter os vértices vizinhos ao vértice 0 em um grafo chamado \"grafo4\". Ele faz isso usando a função \"get_adjacency()\" para acessar a matriz de adjacência do grafo e, em seguida, especifica o vértice 0 para obter a linha correspondente a esse vértice, o que resulta na lista de seus vértices vizinhos."
   ]
  },
  {
   "cell_type": "code",
   "execution_count": 4,
   "metadata": {},
   "outputs": [
    {
     "data": {
      "text/plain": [
       "[0, 1, 1, 0, 1, 0, 0, 0, 0, 0, 0, 0]"
      ]
     },
     "execution_count": 4,
     "metadata": {},
     "output_type": "execute_result"
    }
   ],
   "source": [
    "# Obter os vértices adjacentes ao vértice 0 no grafo4 de uma linha\n",
    "grafo4.get_adjacency()[0,]"
   ]
  },
  {
   "cell_type": "markdown",
   "metadata": {},
   "source": [
    "## Obtendo as Conexões Entre os Pontos"
   ]
  },
  {
   "cell_type": "markdown",
   "metadata": {},
   "source": [
    "No código fornecido, estamos usando uma estrutura de dados chamada \"grafo\" para obter a conexão entre os pontos que estão na primeira linha e segunda coluna desse grafo. É como verificar se há uma relação entre dois pontos específicos em um mapa. O trecho de código \"grafo4.get_adjacency()[0,1]\" faz essa verificação e retorna a informação sobre a existência ou não de uma conexão entre esses pontos."
   ]
  },
  {
   "cell_type": "code",
   "execution_count": 5,
   "metadata": {},
   "outputs": [
    {
     "data": {
      "text/plain": [
       "1"
      ]
     },
     "execution_count": 5,
     "metadata": {},
     "output_type": "execute_result"
    }
   ],
   "source": [
    "# Obter a aresta entre os vértices na linha 0 e coluna 1 do grafo\n",
    "grafo4.get_adjacency()[0,1]"
   ]
  },
  {
   "cell_type": "markdown",
   "metadata": {},
   "source": [
    "## Percorrendo os Vértices e Exibindo os Rótulos"
   ]
  },
  {
   "cell_type": "markdown",
   "metadata": {},
   "source": [
    "No código a seguir, estamos percorrendo cada vértice em um grafo e exibindo seu nome e rótulo. Isso significa que estamos acessando cada ponto de um diagrama de conexões e mostrando informações como seu nome e uma etiqueta associada a ele. Isso pode ser útil para visualizar e entender a estrutura do grafo."
   ]
  },
  {
   "cell_type": "code",
   "execution_count": 6,
   "metadata": {},
   "outputs": [
    {
     "name": "stdout",
     "output_type": "stream",
     "text": [
      "igraph.Vertex(<igraph.Graph object at 0x000001FE3F1D2C50>, 0, {'name': 'A', 'label': 'A'})\n",
      "igraph.Vertex(<igraph.Graph object at 0x000001FE3F1D2C50>, 1, {'name': 'B', 'label': 'B'})\n",
      "igraph.Vertex(<igraph.Graph object at 0x000001FE3F1D2C50>, 2, {'name': 'C', 'label': 'C'})\n",
      "igraph.Vertex(<igraph.Graph object at 0x000001FE3F1D2C50>, 3, {'name': 'D', 'label': 'D'})\n",
      "igraph.Vertex(<igraph.Graph object at 0x000001FE3F1D2C50>, 4, {'name': 'E', 'label': 'E'})\n",
      "igraph.Vertex(<igraph.Graph object at 0x000001FE3F1D2C50>, 5, {'name': 'F', 'label': 'F'})\n",
      "igraph.Vertex(<igraph.Graph object at 0x000001FE3F1D2C50>, 6, {'name': 'G', 'label': 'G'})\n",
      "igraph.Vertex(<igraph.Graph object at 0x000001FE3F1D2C50>, 7, {'name': 'A', 'label': 'A'})\n",
      "igraph.Vertex(<igraph.Graph object at 0x000001FE3F1D2C50>, 8, {'name': 'B', 'label': 'B'})\n",
      "igraph.Vertex(<igraph.Graph object at 0x000001FE3F1D2C50>, 9, {'name': 'C', 'label': 'C'})\n",
      "igraph.Vertex(<igraph.Graph object at 0x000001FE3F1D2C50>, 10, {'name': 'D', 'label': 'D'})\n",
      "igraph.Vertex(<igraph.Graph object at 0x000001FE3F1D2C50>, 11, {'name': 'E', 'label': 'E'})\n"
     ]
    }
   ],
   "source": [
    "# Iterando sobre cada vértice no grafo e exibindo nome e rótulo\n",
    "for vertice in grafo4.vs:\n",
    "    print(vertice)"
   ]
  },
  {
   "cell_type": "markdown",
   "metadata": {},
   "source": [
    "## Exibindo um Gráfico Representativo"
   ]
  },
  {
   "cell_type": "markdown",
   "metadata": {},
   "source": [
    "No código abaixo, estamos usando uma função chamada \"plot\" para exibir um gráfico representado pelo objeto \"grafo4\" em uma área retangular de 500x500 unidades. Essa função ajuda a visualizar informações de forma gráfica, tornando mais fácil entender as conexões ou dados presentes no grafo. É como desenhar um mapa em um espaço específico para melhor compreensão visual."
   ]
  },
  {
   "cell_type": "code",
   "execution_count": 7,
   "metadata": {},
   "outputs": [
    {
     "data": {
      "image/svg+xml": [
       "<?xml version=\"1.0\" encoding=\"UTF-8\"?>\n",
       "<svg xmlns=\"http://www.w3.org/2000/svg\" xmlns:xlink=\"http://www.w3.org/1999/xlink\" width=\"500\" height=\"500\" viewBox=\"0 0 500 500\">\n",
       "<defs>\n",
       "<g>\n",
       "<g id=\"glyph-0-0\">\n",
       "<path d=\"M -0.0195312 0 L 3.828125 -10.023438 L 5.257812 -10.023438 L 9.359375 0 L 7.847656 0 L 6.679688 -3.035156 L 2.488281 -3.035156 L 1.386719 0 L -0.0195312 0 M 2.871094 -4.117188 L 6.269531 -4.117188 L 5.222656 -6.890625 C 4.902344 -7.734375 4.667969 -8.425781 4.511719 -8.96875 C 4.382812 -8.328125 4.203125 -7.6875 3.972656 -7.054688 Z M 2.871094 -4.117188 \"/>\n",
       "</g>\n",
       "<g id=\"glyph-0-1\">\n",
       "<path d=\"M 1.023438 0 L 1.023438 -10.023438 L 4.785156 -10.023438 C 5.550781 -10.023438 6.164062 -9.921875 6.628906 -9.71875 C 7.089844 -9.515625 7.453125 -9.203125 7.714844 -8.78125 C 7.976562 -8.359375 8.109375 -7.917969 8.109375 -7.457031 C 8.109375 -7.03125 7.992188 -6.625 7.757812 -6.25 C 7.527344 -5.871094 7.175781 -5.5625 6.707031 -5.332031 C 7.3125 -5.15625 7.777344 -4.851562 8.105469 -4.421875 C 8.429688 -3.996094 8.59375 -3.488281 8.59375 -2.90625 C 8.59375 -2.4375 8.492188 -2 8.296875 -1.597656 C 8.097656 -1.191406 7.851562 -0.882812 7.5625 -0.664062 C 7.269531 -0.445312 6.902344 -0.277344 6.464844 -0.167969 C 6.023438 -0.0546875 5.484375 0 4.847656 0 L 1.023438 0 M 2.351562 -5.8125 L 4.519531 -5.8125 C 5.105469 -5.8125 5.527344 -5.847656 5.78125 -5.925781 C 6.121094 -6.027344 6.375 -6.195312 6.546875 -6.425781 C 6.714844 -6.65625 6.800781 -6.949219 6.800781 -7.300781 C 6.800781 -7.632812 6.722656 -7.925781 6.5625 -8.179688 C 6.402344 -8.433594 6.175781 -8.605469 5.878906 -8.699219 C 5.582031 -8.792969 5.074219 -8.839844 4.355469 -8.839844 L 2.351562 -8.839844 L 2.351562 -5.8125 M 2.351562 -1.183594 L 4.847656 -1.183594 C 5.273438 -1.183594 5.574219 -1.199219 5.75 -1.230469 C 6.054688 -1.285156 6.308594 -1.375 6.515625 -1.503906 C 6.71875 -1.632812 6.886719 -1.816406 7.019531 -2.0625 C 7.152344 -2.304688 7.21875 -2.585938 7.21875 -2.90625 C 7.21875 -3.277344 7.125 -3.605469 6.929688 -3.878906 C 6.738281 -4.15625 6.476562 -4.347656 6.136719 -4.460938 C 5.796875 -4.570312 5.308594 -4.628906 4.667969 -4.628906 L 2.351562 -4.628906 Z M 2.351562 -1.183594 \"/>\n",
       "</g>\n",
       "<g id=\"glyph-0-2\">\n",
       "<path d=\"M 8.230469 -3.515625 L 9.554688 -3.179688 C 9.277344 -2.089844 8.777344 -1.257812 8.054688 -0.6875 C 7.332031 -0.113281 6.449219 0.171875 5.40625 0.171875 C 4.328125 0.171875 3.449219 -0.0507812 2.773438 -0.488281 C 2.09375 -0.929688 1.582031 -1.566406 1.226562 -2.398438 C 0.875 -3.234375 0.695312 -4.128906 0.695312 -5.085938 C 0.695312 -6.128906 0.898438 -7.039062 1.296875 -7.816406 C 1.695312 -8.59375 2.261719 -9.183594 2.996094 -9.585938 C 3.734375 -9.992188 4.542969 -10.191406 5.429688 -10.191406 C 6.429688 -10.191406 7.273438 -9.9375 7.957031 -9.425781 C 8.640625 -8.917969 9.117188 -8.199219 9.386719 -7.273438 L 8.078125 -6.964844 C 7.847656 -7.695312 7.511719 -8.226562 7.070312 -8.558594 C 6.625 -8.890625 6.070312 -9.058594 5.398438 -9.058594 C 4.628906 -9.058594 3.988281 -8.875 3.46875 -8.503906 C 2.953125 -8.132812 2.589844 -7.640625 2.378906 -7.015625 C 2.167969 -6.394531 2.0625 -5.753906 2.0625 -5.09375 C 2.0625 -4.242188 2.1875 -3.496094 2.4375 -2.859375 C 2.683594 -2.226562 3.070312 -1.75 3.59375 -1.4375 C 4.121094 -1.121094 4.6875 -0.964844 5.296875 -0.964844 C 6.039062 -0.964844 6.667969 -1.179688 7.183594 -1.605469 C 7.699219 -2.035156 8.046875 -2.671875 8.230469 -3.515625 Z M 8.230469 -3.515625 \"/>\n",
       "</g>\n",
       "<g id=\"glyph-0-3\">\n",
       "<path d=\"M 1.078125 0 L 1.078125 -10.023438 L 4.53125 -10.023438 C 5.3125 -10.023438 5.90625 -9.972656 6.316406 -9.878906 C 6.890625 -9.746094 7.378906 -9.507812 7.785156 -9.160156 C 8.316406 -8.714844 8.710938 -8.144531 8.972656 -7.449219 C 9.234375 -6.753906 9.367188 -5.957031 9.367188 -5.066406 C 9.367188 -4.304688 9.277344 -3.628906 9.097656 -3.042969 C 8.921875 -2.453125 8.691406 -1.96875 8.414062 -1.582031 C 8.136719 -1.199219 7.832031 -0.894531 7.503906 -0.671875 C 7.171875 -0.453125 6.773438 -0.285156 6.304688 -0.171875 C 5.839844 -0.0585938 5.300781 0 4.695312 0 L 1.078125 0 M 2.40625 -1.183594 L 4.546875 -1.183594 C 5.207031 -1.183594 5.726562 -1.242188 6.101562 -1.367188 C 6.476562 -1.492188 6.777344 -1.664062 7 -1.886719 C 7.3125 -2.203125 7.558594 -2.625 7.734375 -3.15625 C 7.910156 -3.6875 8 -4.328125 8 -5.085938 C 8 -6.132812 7.824219 -6.941406 7.480469 -7.503906 C 7.136719 -8.066406 6.71875 -8.441406 6.226562 -8.632812 C 5.871094 -8.769531 5.300781 -8.839844 4.511719 -8.839844 L 2.40625 -8.839844 Z M 2.40625 -1.183594 \"/>\n",
       "</g>\n",
       "<g id=\"glyph-0-4\">\n",
       "<path d=\"M 1.109375 0 L 1.109375 -10.023438 L 8.351562 -10.023438 L 8.351562 -8.839844 L 2.433594 -8.839844 L 2.433594 -5.769531 L 7.976562 -5.769531 L 7.976562 -4.59375 L 2.433594 -4.59375 L 2.433594 -1.183594 L 8.585938 -1.183594 L 8.585938 0 Z M 1.109375 0 \"/>\n",
       "</g>\n",
       "<g id=\"glyph-0-5\">\n",
       "<path d=\"M 1.148438 0 L 1.148438 -10.023438 L 7.910156 -10.023438 L 7.910156 -8.839844 L 2.476562 -8.839844 L 2.476562 -5.734375 L 7.179688 -5.734375 L 7.179688 -4.554688 L 2.476562 -4.554688 L 2.476562 0 Z M 1.148438 0 \"/>\n",
       "</g>\n",
       "<g id=\"glyph-0-6\">\n",
       "<path d=\"M 5.769531 -3.929688 L 5.769531 -5.105469 L 10.015625 -5.113281 L 10.015625 -1.394531 C 9.363281 -0.875 8.691406 -0.484375 8 -0.222656 C 7.304688 0.0390625 6.59375 0.171875 5.867188 0.171875 C 4.882812 0.171875 3.988281 -0.0390625 3.183594 -0.460938 C 2.378906 -0.882812 1.769531 -1.492188 1.359375 -2.289062 C 0.949219 -3.085938 0.746094 -3.976562 0.746094 -4.960938 C 0.746094 -5.9375 0.949219 -6.847656 1.355469 -7.695312 C 1.765625 -8.539062 2.351562 -9.167969 3.117188 -9.578125 C 3.882812 -9.988281 4.765625 -10.191406 5.761719 -10.191406 C 6.488281 -10.191406 7.140625 -10.074219 7.726562 -9.839844 C 8.3125 -9.605469 8.773438 -9.277344 9.105469 -8.859375 C 9.4375 -8.441406 9.691406 -7.894531 9.863281 -7.21875 L 8.667969 -6.890625 C 8.515625 -7.402344 8.332031 -7.800781 8.109375 -8.09375 C 7.882812 -8.386719 7.566406 -8.617188 7.148438 -8.792969 C 6.734375 -8.96875 6.273438 -9.058594 5.769531 -9.058594 C 5.164062 -9.058594 4.640625 -8.964844 4.195312 -8.78125 C 3.753906 -8.597656 3.398438 -8.351562 3.128906 -8.054688 C 2.855469 -7.75 2.644531 -7.421875 2.496094 -7.0625 C 2.238281 -6.441406 2.113281 -5.769531 2.113281 -5.046875 C 2.113281 -4.152344 2.265625 -3.40625 2.574219 -2.804688 C 2.882812 -2.203125 3.328125 -1.753906 3.917969 -1.460938 C 4.503906 -1.171875 5.128906 -1.023438 5.789062 -1.023438 C 6.363281 -1.023438 6.925781 -1.136719 7.472656 -1.355469 C 8.019531 -1.578125 8.433594 -1.8125 8.714844 -2.0625 L 8.714844 -3.929688 Z M 5.769531 -3.929688 \"/>\n",
       "</g>\n",
       "</g>\n",
       "</defs>\n",
       "<rect x=\"-50\" y=\"-50\" width=\"600\" height=\"600\" fill=\"rgb(100%, 100%, 100%)\" fill-opacity=\"1\"/>\n",
       "<path fill=\"none\" stroke-width=\"1\" stroke-linecap=\"butt\" stroke-linejoin=\"miter\" stroke=\"rgb(26.666667%, 26.666667%, 26.666667%)\" stroke-opacity=\"1\" stroke-miterlimit=\"10\" d=\"M 383.804688 224.769531 L 455.164062 160.683594 \"/>\n",
       "<path fill=\"none\" stroke-width=\"1\" stroke-linecap=\"butt\" stroke-linejoin=\"miter\" stroke=\"rgb(26.666667%, 26.666667%, 26.666667%)\" stroke-opacity=\"1\" stroke-miterlimit=\"10\" d=\"M 455.164062 160.683594 C 445.777344 190.445312 454.058594 214 480 231.339844 \"/>\n",
       "<path fill=\"none\" stroke-width=\"1\" stroke-linecap=\"butt\" stroke-linejoin=\"miter\" stroke=\"rgb(26.666667%, 26.666667%, 26.666667%)\" stroke-opacity=\"1\" stroke-miterlimit=\"10\" d=\"M 480 231.339844 L 469.066406 331.777344 \"/>\n",
       "<path fill=\"none\" stroke-width=\"1\" stroke-linecap=\"butt\" stroke-linejoin=\"miter\" stroke=\"rgb(26.666667%, 26.666667%, 26.666667%)\" stroke-opacity=\"1\" stroke-miterlimit=\"10\" d=\"M 469.066406 331.777344 L 368.519531 322.339844 \"/>\n",
       "<path fill=\"none\" stroke-width=\"1\" stroke-linecap=\"butt\" stroke-linejoin=\"miter\" stroke=\"rgb(26.666667%, 26.666667%, 26.666667%)\" stroke-opacity=\"1\" stroke-miterlimit=\"10\" d=\"M 383.804688 224.769531 L 368.519531 322.339844 \"/>\n",
       "<path fill=\"none\" stroke-width=\"1\" stroke-linecap=\"butt\" stroke-linejoin=\"miter\" stroke=\"rgb(26.666667%, 26.666667%, 26.666667%)\" stroke-opacity=\"1\" stroke-miterlimit=\"10\" d=\"M 383.804688 224.769531 L 480 231.339844 \"/>\n",
       "<path fill=\"none\" stroke-width=\"1\" stroke-linecap=\"butt\" stroke-linejoin=\"miter\" stroke=\"rgb(26.666667%, 26.666667%, 26.666667%)\" stroke-opacity=\"1\" stroke-miterlimit=\"10\" d=\"M 455.164062 160.683594 C 481.105469 178.027344 489.386719 201.582031 480 231.339844 \"/>\n",
       "<path fill-rule=\"nonzero\" fill=\"rgb(100%, 0%, 0%)\" fill-opacity=\"1\" stroke-width=\"1\" stroke-linecap=\"butt\" stroke-linejoin=\"miter\" stroke=\"rgb(0%, 0%, 0%)\" stroke-opacity=\"1\" stroke-miterlimit=\"10\" d=\"M 393.804688 224.769531 C 393.804688 230.292969 389.324219 234.769531 383.804688 234.769531 C 378.28125 234.769531 373.804688 230.292969 373.804688 224.769531 C 373.804688 219.246094 378.28125 214.769531 383.804688 214.769531 C 389.324219 214.769531 393.804688 219.246094 393.804688 224.769531 \"/>\n",
       "<path fill-rule=\"nonzero\" fill=\"rgb(100%, 0%, 0%)\" fill-opacity=\"1\" stroke-width=\"1\" stroke-linecap=\"butt\" stroke-linejoin=\"miter\" stroke=\"rgb(0%, 0%, 0%)\" stroke-opacity=\"1\" stroke-miterlimit=\"10\" d=\"M 465.164062 160.683594 C 465.164062 166.207031 460.6875 170.683594 455.164062 170.683594 C 449.640625 170.683594 445.164062 166.207031 445.164062 160.683594 C 445.164062 155.164062 449.640625 150.683594 455.164062 150.683594 C 460.6875 150.683594 465.164062 155.164062 465.164062 160.683594 \"/>\n",
       "<path fill-rule=\"nonzero\" fill=\"rgb(100%, 0%, 0%)\" fill-opacity=\"1\" stroke-width=\"1\" stroke-linecap=\"butt\" stroke-linejoin=\"miter\" stroke=\"rgb(0%, 0%, 0%)\" stroke-opacity=\"1\" stroke-miterlimit=\"10\" d=\"M 490 231.339844 C 490 236.863281 485.523438 241.339844 480 241.339844 C 474.476562 241.339844 470 236.863281 470 231.339844 C 470 225.820312 474.476562 221.339844 480 221.339844 C 485.523438 221.339844 490 225.820312 490 231.339844 \"/>\n",
       "<path fill-rule=\"nonzero\" fill=\"rgb(100%, 0%, 0%)\" fill-opacity=\"1\" stroke-width=\"1\" stroke-linecap=\"butt\" stroke-linejoin=\"miter\" stroke=\"rgb(0%, 0%, 0%)\" stroke-opacity=\"1\" stroke-miterlimit=\"10\" d=\"M 479.066406 331.777344 C 479.066406 337.300781 474.589844 341.777344 469.066406 341.777344 C 463.542969 341.777344 459.066406 337.300781 459.066406 331.777344 C 459.066406 326.253906 463.542969 321.777344 469.066406 321.777344 C 474.589844 321.777344 479.066406 326.253906 479.066406 331.777344 \"/>\n",
       "<path fill-rule=\"nonzero\" fill=\"rgb(100%, 0%, 0%)\" fill-opacity=\"1\" stroke-width=\"1\" stroke-linecap=\"butt\" stroke-linejoin=\"miter\" stroke=\"rgb(0%, 0%, 0%)\" stroke-opacity=\"1\" stroke-miterlimit=\"10\" d=\"M 378.519531 322.339844 C 378.519531 327.863281 374.042969 332.339844 368.519531 332.339844 C 363 332.339844 358.519531 327.863281 358.519531 322.339844 C 358.519531 316.816406 363 312.339844 368.519531 312.339844 C 374.042969 312.339844 378.519531 316.816406 378.519531 322.339844 \"/>\n",
       "<path fill-rule=\"nonzero\" fill=\"rgb(100%, 0%, 0%)\" fill-opacity=\"1\" stroke-width=\"1\" stroke-linecap=\"butt\" stroke-linejoin=\"miter\" stroke=\"rgb(0%, 0%, 0%)\" stroke-opacity=\"1\" stroke-miterlimit=\"10\" d=\"M 316.8125 480 C 316.8125 485.523438 312.332031 490 306.8125 490 C 301.289062 490 296.8125 485.523438 296.8125 480 C 296.8125 474.476562 301.289062 470 306.8125 470 C 312.332031 470 316.8125 474.476562 316.8125 480 \"/>\n",
       "<path fill-rule=\"nonzero\" fill=\"rgb(100%, 0%, 0%)\" fill-opacity=\"1\" stroke-width=\"1\" stroke-linecap=\"butt\" stroke-linejoin=\"miter\" stroke=\"rgb(0%, 0%, 0%)\" stroke-opacity=\"1\" stroke-miterlimit=\"10\" d=\"M 165.40625 434.25 C 165.40625 439.773438 160.929688 444.25 155.40625 444.25 C 149.886719 444.25 145.40625 439.773438 145.40625 434.25 C 145.40625 428.726562 149.886719 424.25 155.40625 424.25 C 160.929688 424.25 165.40625 428.726562 165.40625 434.25 \"/>\n",
       "<path fill-rule=\"nonzero\" fill=\"rgb(100%, 0%, 0%)\" fill-opacity=\"1\" stroke-width=\"1\" stroke-linecap=\"butt\" stroke-linejoin=\"miter\" stroke=\"rgb(0%, 0%, 0%)\" stroke-opacity=\"1\" stroke-miterlimit=\"10\" d=\"M 69.894531 337.53125 C 69.894531 343.054688 65.414062 347.53125 59.894531 347.53125 C 54.371094 347.53125 49.894531 343.054688 49.894531 337.53125 C 49.894531 332.011719 54.371094 327.53125 59.894531 327.53125 C 65.414062 327.53125 69.894531 332.011719 69.894531 337.53125 \"/>\n",
       "<path fill-rule=\"nonzero\" fill=\"rgb(100%, 0%, 0%)\" fill-opacity=\"1\" stroke-width=\"1\" stroke-linecap=\"butt\" stroke-linejoin=\"miter\" stroke=\"rgb(0%, 0%, 0%)\" stroke-opacity=\"1\" stroke-miterlimit=\"10\" d=\"M 333.722656 20 C 333.722656 25.523438 329.246094 30 323.722656 30 C 318.199219 30 313.722656 25.523438 313.722656 20 C 313.722656 14.476562 318.199219 10 323.722656 10 C 329.246094 10 333.722656 14.476562 333.722656 20 \"/>\n",
       "<path fill-rule=\"nonzero\" fill=\"rgb(100%, 0%, 0%)\" fill-opacity=\"1\" stroke-width=\"1\" stroke-linecap=\"butt\" stroke-linejoin=\"miter\" stroke=\"rgb(0%, 0%, 0%)\" stroke-opacity=\"1\" stroke-miterlimit=\"10\" d=\"M 162.386719 42.296875 C 162.386719 47.820312 157.910156 52.296875 152.386719 52.296875 C 146.863281 52.296875 142.386719 47.820312 142.386719 42.296875 C 142.386719 36.773438 146.863281 32.296875 152.386719 32.296875 C 157.910156 32.296875 162.386719 36.773438 162.386719 42.296875 \"/>\n",
       "<path fill-rule=\"nonzero\" fill=\"rgb(100%, 0%, 0%)\" fill-opacity=\"1\" stroke-width=\"1\" stroke-linecap=\"butt\" stroke-linejoin=\"miter\" stroke=\"rgb(0%, 0%, 0%)\" stroke-opacity=\"1\" stroke-miterlimit=\"10\" d=\"M 30 196.421875 C 30 201.945312 25.523438 206.421875 20 206.421875 C 14.476562 206.421875 10 201.945312 10 196.421875 C 10 190.898438 14.476562 186.421875 20 186.421875 C 25.523438 186.421875 30 190.898438 30 196.421875 \"/>\n",
       "<path fill-rule=\"nonzero\" fill=\"rgb(100%, 0%, 0%)\" fill-opacity=\"1\" stroke-width=\"1\" stroke-linecap=\"butt\" stroke-linejoin=\"miter\" stroke=\"rgb(0%, 0%, 0%)\" stroke-opacity=\"1\" stroke-miterlimit=\"10\" d=\"M 171.113281 178.019531 C 171.113281 183.542969 166.636719 188.019531 161.113281 188.019531 C 155.589844 188.019531 151.113281 183.542969 151.113281 178.019531 C 151.113281 172.496094 155.589844 168.019531 161.113281 168.019531 C 166.636719 168.019531 171.113281 172.496094 171.113281 178.019531 \"/>\n",
       "<g fill=\"rgb(0%, 0%, 0%)\" fill-opacity=\"1\">\n",
       "<use xlink:href=\"#glyph-0-0\" x=\"379.132812\" y=\"231.765625\"/>\n",
       "</g>\n",
       "<g fill=\"rgb(0%, 0%, 0%)\" fill-opacity=\"1\">\n",
       "<use xlink:href=\"#glyph-0-1\" x=\"450.355469\" y=\"167.679688\"/>\n",
       "</g>\n",
       "<g fill=\"rgb(0%, 0%, 0%)\" fill-opacity=\"1\">\n",
       "<use xlink:href=\"#glyph-0-2\" x=\"474.875\" y=\"238.421875\"/>\n",
       "</g>\n",
       "<g fill=\"rgb(0%, 0%, 0%)\" fill-opacity=\"1\">\n",
       "<use xlink:href=\"#glyph-0-3\" x=\"463.84375\" y=\"338.769531\"/>\n",
       "</g>\n",
       "<g fill=\"rgb(0%, 0%, 0%)\" fill-opacity=\"1\">\n",
       "<use xlink:href=\"#glyph-0-4\" x=\"363.675781\" y=\"329.335938\"/>\n",
       "</g>\n",
       "<g fill=\"rgb(0%, 0%, 0%)\" fill-opacity=\"1\">\n",
       "<use xlink:href=\"#glyph-0-5\" x=\"302.28125\" y=\"486.992188\"/>\n",
       "</g>\n",
       "<g fill=\"rgb(0%, 0%, 0%)\" fill-opacity=\"1\">\n",
       "<use xlink:href=\"#glyph-0-6\" x=\"150.027344\" y=\"441.328125\"/>\n",
       "</g>\n",
       "<g fill=\"rgb(0%, 0%, 0%)\" fill-opacity=\"1\">\n",
       "<use xlink:href=\"#glyph-0-0\" x=\"55.222656\" y=\"344.527344\"/>\n",
       "</g>\n",
       "<g fill=\"rgb(0%, 0%, 0%)\" fill-opacity=\"1\">\n",
       "<use xlink:href=\"#glyph-0-1\" x=\"318.914062\" y=\"26.992188\"/>\n",
       "</g>\n",
       "<g fill=\"rgb(0%, 0%, 0%)\" fill-opacity=\"1\">\n",
       "<use xlink:href=\"#glyph-0-2\" x=\"147.261719\" y=\"49.378906\"/>\n",
       "</g>\n",
       "<g fill=\"rgb(0%, 0%, 0%)\" fill-opacity=\"1\">\n",
       "<use xlink:href=\"#glyph-0-3\" x=\"14.777344\" y=\"203.414062\"/>\n",
       "</g>\n",
       "<g fill=\"rgb(0%, 0%, 0%)\" fill-opacity=\"1\">\n",
       "<use xlink:href=\"#glyph-0-4\" x=\"156.265625\" y=\"185.011719\"/>\n",
       "</g>\n",
       "</svg>\n"
      ],
      "text/plain": [
       "<igraph.drawing.cairo.plot.CairoPlot at 0x1fe3f218110>"
      ]
     },
     "execution_count": 7,
     "metadata": {
      "image/svg+xml": {
       "isolated": true
      }
     },
     "output_type": "execute_result"
    }
   ],
   "source": [
    "plot(grafo4, bbox=(0, 0, 500, 500))"
   ]
  },
  {
   "cell_type": "markdown",
   "metadata": {},
   "source": [
    "## Criando um Gráfico com Conexões Direcionadas"
   ]
  },
  {
   "cell_type": "markdown",
   "metadata": {},
   "source": [
    "No código abaixo, estamos criando um \"grafo5\" que representa conexões entre pessoas, onde algumas são mais \"pesadas\" do que outras, indicando alguma medida de importância ou influência. As conexões são direcionadas, o que significa que elas têm uma direção específica, como um relacionamento de seguidor e seguido em redes sociais. O código também atribui nomes às pessoas e pesos a cada uma delas, representando talvez a relevância delas na rede. Por fim, o código imprime o grafo para que possamos visualizar essas conexões e informações relacionadas às pessoas envolvidas."
   ]
  },
  {
   "cell_type": "code",
   "execution_count": 8,
   "metadata": {},
   "outputs": [
    {
     "name": "stdout",
     "output_type": "stream",
     "text": [
      "IGRAPH D--- 4 4 --\n",
      "+ attr: label (v), peso (v)\n",
      "+ edges:\n",
      "0->1 2->3 0->2 0->3\n"
     ]
    }
   ],
   "source": [
    "# Crie o grafo com pesos nas relações\n",
    "grafo5 = Graph(edges=[(0, 1), (2, 3), (0, 2), (0, 3)], directed=True)\n",
    "\n",
    "# Defina os rótulos e pesos dos vértices\n",
    "nomes = ['Fernando', 'Pedro', 'Jose', 'Antonio']\n",
    "pesos = [40, 30, 30, 25]\n",
    "\n",
    "grafo5.vs['label'] = nomes\n",
    "grafo5.vs['peso'] = pesos\n",
    "\n",
    "# Imprima o grafo\n",
    "print(grafo5)"
   ]
  },
  {
   "cell_type": "markdown",
   "metadata": {},
   "source": [
    "## Percorrendo os Vértices de um Grafo"
   ]
  },
  {
   "cell_type": "markdown",
   "metadata": {},
   "source": [
    "No código a seguir, estamos percorrendo os vértices de um grafo (que é uma representação de conexões entre elementos) e exibindo os valores de cada vértice. Os vértices podem ser vistos como pontos de dados interconectados, e aqui estamos apenas mostrando esses pontos em Python."
   ]
  },
  {
   "cell_type": "code",
   "execution_count": 9,
   "metadata": {},
   "outputs": [
    {
     "name": "stdout",
     "output_type": "stream",
     "text": [
      "igraph.Vertex(<igraph.Graph object at 0x00000161BB51D050>, 0, {'label': 'Fernando', 'peso': 40})\n",
      "igraph.Vertex(<igraph.Graph object at 0x00000161BB51D050>, 1, {'label': 'Pedro', 'peso': 30})\n",
      "igraph.Vertex(<igraph.Graph object at 0x00000161BB51D050>, 2, {'label': 'Jose', 'peso': 30})\n",
      "igraph.Vertex(<igraph.Graph object at 0x00000161BB51D050>, 3, {'label': 'Antonio', 'peso': 25})\n"
     ]
    }
   ],
   "source": [
    "# Percorrer os vértices para visualizar os pesos\n",
    "for vertice in grafo5.vs:\n",
    "    print(vertice)"
   ]
  },
  {
   "cell_type": "markdown",
   "metadata": {},
   "source": [
    "# Exibindo as Informnações do Primeiro Vértice"
   ]
  },
  {
   "cell_type": "markdown",
   "metadata": {},
   "source": [
    "No código a seguir, exibe o primeiro vértice (um ponto de dados) de um grafo chamado \"grafo5\". Em termos simples, um grafo é uma representação visual de conexões entre pontos, e aqui estamos apenas mostrando o primeiro desses pontos. É como olhar para o primeiro nó em uma rede de pontos interligados."
   ]
  },
  {
   "cell_type": "code",
   "execution_count": 9,
   "metadata": {},
   "outputs": [
    {
     "name": "stdout",
     "output_type": "stream",
     "text": [
      "igraph.Vertex(<igraph.Graph object at 0x000001FE3F273C50>, 0, {'label': 'Fernando', 'peso': 40})\n"
     ]
    }
   ],
   "source": [
    "print(grafo5.vs[0])"
   ]
  },
  {
   "cell_type": "markdown",
   "metadata": {},
   "source": [
    "## Criando um Grafo Representativo Entre Pessoas"
   ]
  },
  {
   "cell_type": "markdown",
   "metadata": {},
   "source": [
    "No código a seguir, estamos criando um grafo que representa relações entre pessoas, onde definimos o tipo de amizade (Amigo ou Inimigo) e atribuímos um peso a cada relação. O grafo é uma representação visual dessas relações, onde cada nó representa uma pessoa e as arestas conectando os nós indicam as relações. O código define que existem dois amigos com peso 1, um inimigo com peso 2 e um amigo com peso 3. O resultado impresso será o grafo que mostra essas relações entre as pessoas."
   ]
  },
  {
   "cell_type": "code",
   "execution_count": 11,
   "metadata": {},
   "outputs": [
    {
     "name": "stdout",
     "output_type": "stream",
     "text": [
      "IGRAPH D-W- 4 4 --\n",
      "+ attr: label (v), peso (v), TipoAmizade (e), weight (e)\n",
      "+ edges:\n",
      "0->1 2->3 0->2 0->3\n"
     ]
    }
   ],
   "source": [
    "# Definindo o tipo de amizade e o peso das relações\n",
    "tipos_amizade = ['Amigo', 'Inimigo', 'Inimigo', 'Amigo']\n",
    "pesos_relacoes = [1, 2, 1, 3]\n",
    "\n",
    "# Criando e configurando o grafo\n",
    "grafo5.es['TipoAmizade'] = tipos_amizade\n",
    "grafo5.es['weight'] = pesos_relacoes\n",
    "\n",
    "# Exibindo o grafo\n",
    "print(grafo5)"
   ]
  },
  {
   "cell_type": "markdown",
   "metadata": {},
   "source": [
    "## Percorrendo os Vértices de um Grafo"
   ]
  },
  {
   "cell_type": "markdown",
   "metadata": {},
   "source": [
    "No código a seguir, estamos percorrendo os \"vértices\" de um grafo, que basicamente são pontos que representam conexões entre pessoas ou coisas. Cada \"aresta\" no grafo5 representa um tipo de amizade. O que o código faz é simplesmente imprimir essas conexões, mostrando quais tipos de amizades existem no grafo. É uma forma de visualizar as relações entre os elementos do grafo."
   ]
  },
  {
   "cell_type": "code",
   "execution_count": 12,
   "metadata": {},
   "outputs": [
    {
     "name": "stdout",
     "output_type": "stream",
     "text": [
      "igraph.Edge(<igraph.Graph object at 0x000001FE3F273C50>, 0, {'TipoAmizade': 'Amigo', 'weight': 1})\n",
      "igraph.Edge(<igraph.Graph object at 0x000001FE3F273C50>, 1, {'TipoAmizade': 'Inimigo', 'weight': 2})\n",
      "igraph.Edge(<igraph.Graph object at 0x000001FE3F273C50>, 2, {'TipoAmizade': 'Inimigo', 'weight': 1})\n",
      "igraph.Edge(<igraph.Graph object at 0x000001FE3F273C50>, 3, {'TipoAmizade': 'Amigo', 'weight': 3})\n"
     ]
    }
   ],
   "source": [
    "# Percorrer os vértices, representando o tipo de amizade\n",
    "for aresta in grafo5.es:\n",
    "    print(aresta)"
   ]
  },
  {
   "cell_type": "markdown",
   "metadata": {},
   "source": [
    "## Solicitando as Propriedades e Valores da 1ª Conexão"
   ]
  },
  {
   "cell_type": "markdown",
   "metadata": {},
   "source": [
    "No código a seguir, está solicitando as propriedades e valores da primeira aresta (conexão) em um grafo chamado grafo5. Ele serve para acessar informações específicas sobre essa conexão, como dados associados a ela, facilitando a análise de redes complexas."
   ]
  },
  {
   "cell_type": "code",
   "execution_count": 14,
   "metadata": {},
   "outputs": [
    {
     "data": {
      "text/plain": [
       "igraph.Edge(<igraph.Graph object at 0x000001FE3F273C50>, 0, {'TipoAmizade': 'Amigo', 'weight': 1})"
      ]
     },
     "execution_count": 14,
     "metadata": {},
     "output_type": "execute_result"
    }
   ],
   "source": [
    "# Obter as propriedades e valores de uma posição no grafo5\n",
    "grafo5.es[0]"
   ]
  },
  {
   "cell_type": "markdown",
   "metadata": {},
   "source": [
    "# Definindo os Diferentes Tipos de Amizade em um Grafo"
   ]
  },
  {
   "cell_type": "markdown",
   "metadata": {},
   "source": [
    "No código a seguir, estamos definindo os diferentes tipos de amizade em um grafo. Em seguida, estamos imprimindo esses tipos de amizade. Isso significa que estamos identificando as diferentes categorias ou níveis de amizade em uma rede social ou gráfico de relacionamentos e exibindo essas categorias para análise."
   ]
  },
  {
   "cell_type": "code",
   "execution_count": 16,
   "metadata": {},
   "outputs": [
    {
     "name": "stdout",
     "output_type": "stream",
     "text": [
      "['Amigo', 'Inimigo', 'Inimigo', 'Amigo']\n"
     ]
    }
   ],
   "source": [
    "# Definição dos tipos de amizade no grafo\n",
    "tipos_amizade = grafo5.es['TipoAmizade']\n",
    "print(tipos_amizade)"
   ]
  },
  {
   "cell_type": "markdown",
   "metadata": {},
   "source": [
    "## Mostrando um Resumo e Conjunto de Informações"
   ]
  },
  {
   "cell_type": "markdown",
   "metadata": {},
   "source": [
    "O código \"print(grafo5)\" serve para mostrar na tela um gráfico ou conjunto de informações chamado de \"grafo5\". É como se fosse uma imagem ou um resumo visual do que está sendo analisado no programa. É útil para visualizar dados de forma fácil e rápida."
   ]
  },
  {
   "cell_type": "code",
   "execution_count": 17,
   "metadata": {},
   "outputs": [
    {
     "name": "stdout",
     "output_type": "stream",
     "text": [
      "IGRAPH D-W- 4 4 --\n",
      "+ attr: label (v), peso (v), TipoAmizade (e), weight (e)\n",
      "+ edges:\n",
      "0->1 2->3 0->2 0->3\n"
     ]
    }
   ],
   "source": [
    "# Exibindo o grafo\n",
    "print(grafo5)"
   ]
  },
  {
   "cell_type": "markdown",
   "metadata": {},
   "source": [
    "## Atualizando as Informações em um Grafo"
   ]
  },
  {
   "cell_type": "markdown",
   "metadata": {},
   "source": [
    "No código a seguir, estamos atualizando as informações em um grafo, que é uma representação visual de conexões entre entidades, como redes sociais. Estamos definindo que as entidades no grafo são do tipo 'Pessoas' e que as conexões entre elas são chamadas de 'Amizades'. Em seguida, o código imprime o grafo atualizado e o exibe como um gráfico visual. Isso pode ser útil para entender e visualizar as relações entre pessoas em uma rede social, por exemplo."
   ]
  },
  {
   "cell_type": "code",
   "execution_count": 22,
   "metadata": {},
   "outputs": [
    {
     "name": "stdout",
     "output_type": "stream",
     "text": [
      "IGRAPH DNWT 4 4 --\n",
      "+ attr: label (v), name (v), nome (v), peso (v), tipo (v), type (v),\n",
      "  TipoAmizade (e), weight (e)\n",
      "+ edges (vertex names):\n",
      "Amizades->Amizades, Amizades->Amizades, Amizades->Amizades, Amizades->Amizades\n"
     ]
    },
    {
     "data": {
      "image/svg+xml": [
       "<?xml version=\"1.0\" encoding=\"UTF-8\"?>\n",
       "<svg xmlns=\"http://www.w3.org/2000/svg\" xmlns:xlink=\"http://www.w3.org/1999/xlink\" width=\"400\" height=\"400\" viewBox=\"0 0 400 400\">\n",
       "<defs>\n",
       "<g>\n",
       "<g id=\"glyph-0-0\">\n",
       "<path d=\"M 1.148438 0 L 1.148438 -10.023438 L 7.910156 -10.023438 L 7.910156 -8.839844 L 2.476562 -8.839844 L 2.476562 -5.734375 L 7.179688 -5.734375 L 7.179688 -4.554688 L 2.476562 -4.554688 L 2.476562 0 Z M 1.148438 0 \"/>\n",
       "</g>\n",
       "<g id=\"glyph-0-1\">\n",
       "<path d=\"M 5.890625 -2.335938 L 7.164062 -2.179688 C 6.964844 -1.4375 6.59375 -0.859375 6.050781 -0.453125 C 5.507812 -0.0429688 4.816406 0.164062 3.972656 0.164062 C 2.910156 0.164062 2.066406 -0.164062 1.445312 -0.816406 C 0.824219 -1.472656 0.511719 -2.386719 0.511719 -3.570312 C 0.511719 -4.789062 0.828125 -5.738281 1.457031 -6.414062 C 2.085938 -7.085938 2.902344 -7.421875 3.902344 -7.421875 C 4.875 -7.421875 5.667969 -7.09375 6.28125 -6.433594 C 6.898438 -5.773438 7.203125 -4.84375 7.203125 -3.644531 C 7.203125 -3.570312 7.203125 -3.460938 7.199219 -3.316406 L 1.785156 -3.316406 C 1.828125 -2.519531 2.054688 -1.90625 2.460938 -1.484375 C 2.867188 -1.058594 3.371094 -0.847656 3.976562 -0.847656 C 4.429688 -0.847656 4.816406 -0.964844 5.132812 -1.203125 C 5.453125 -1.441406 5.707031 -1.820312 5.890625 -2.335938 M 1.851562 -4.328125 L 5.90625 -4.328125 C 5.851562 -4.9375 5.695312 -5.394531 5.441406 -5.703125 C 5.050781 -6.175781 4.542969 -6.414062 3.917969 -6.414062 C 3.351562 -6.414062 2.875 -6.222656 2.492188 -5.84375 C 2.105469 -5.464844 1.894531 -4.960938 1.851562 -4.328125 Z M 1.851562 -4.328125 \"/>\n",
       "</g>\n",
       "<g id=\"glyph-0-2\">\n",
       "<path d=\"M 0.910156 0 L 0.910156 -7.257812 L 2.015625 -7.257812 L 2.015625 -6.160156 C 2.300781 -6.675781 2.558594 -7.015625 2.800781 -7.179688 C 3.039062 -7.34375 3.300781 -7.421875 3.589844 -7.421875 C 4.003906 -7.421875 4.425781 -7.292969 4.851562 -7.027344 L 4.429688 -5.886719 C 4.128906 -6.0625 3.828125 -6.152344 3.527344 -6.152344 C 3.257812 -6.152344 3.015625 -6.070312 2.804688 -5.910156 C 2.589844 -5.746094 2.4375 -5.523438 2.34375 -5.234375 C 2.207031 -4.796875 2.140625 -4.320312 2.140625 -3.800781 L 2.140625 0 Z M 0.910156 0 \"/>\n",
       "</g>\n",
       "<g id=\"glyph-0-3\">\n",
       "<path d=\"M 0.921875 0 L 0.921875 -7.257812 L 2.03125 -7.257812 L 2.03125 -6.226562 C 2.5625 -7.023438 3.332031 -7.421875 4.339844 -7.421875 C 4.777344 -7.421875 5.179688 -7.34375 5.546875 -7.1875 C 5.914062 -7.03125 6.1875 -6.824219 6.371094 -6.570312 C 6.554688 -6.3125 6.679688 -6.011719 6.753906 -5.660156 C 6.800781 -5.433594 6.820312 -5.035156 6.820312 -4.464844 L 6.820312 0 L 5.59375 0 L 5.59375 -4.414062 C 5.59375 -4.917969 5.542969 -5.292969 5.449219 -5.539062 C 5.351562 -5.789062 5.183594 -5.988281 4.9375 -6.136719 C 4.695312 -6.285156 4.410156 -6.355469 4.082031 -6.359375 C 3.558594 -6.355469 3.105469 -6.191406 2.722656 -5.859375 C 2.34375 -5.527344 2.152344 -4.894531 2.152344 -3.964844 L 2.152344 0 Z M 0.921875 0 \"/>\n",
       "</g>\n",
       "<g id=\"glyph-0-4\">\n",
       "<path d=\"M 5.660156 -0.894531 C 5.203125 -0.507812 4.765625 -0.234375 4.34375 -0.0742188 C 3.921875 0.0859375 3.46875 0.164062 2.988281 0.164062 C 2.191406 0.164062 1.578125 -0.03125 1.148438 -0.421875 C 0.71875 -0.808594 0.507812 -1.308594 0.507812 -1.914062 C 0.507812 -2.269531 0.585938 -2.59375 0.75 -2.886719 C 0.910156 -3.183594 1.121094 -3.417969 1.382812 -3.59375 C 1.644531 -3.773438 1.941406 -3.90625 2.269531 -4 C 2.511719 -4.0625 2.875 -4.125 3.363281 -4.183594 C 4.355469 -4.300781 5.089844 -4.445312 5.558594 -4.609375 C 5.5625 -4.777344 5.5625 -4.882812 5.5625 -4.929688 C 5.5625 -5.429688 5.449219 -5.78125 5.214844 -5.988281 C 4.902344 -6.265625 4.433594 -6.40625 3.8125 -6.40625 C 3.234375 -6.40625 2.808594 -6.304688 2.53125 -6.101562 C 2.257812 -5.898438 2.054688 -5.539062 1.921875 -5.023438 L 0.71875 -5.1875 C 0.828125 -5.703125 1.007812 -6.121094 1.257812 -6.4375 C 1.507812 -6.753906 1.871094 -6.996094 2.34375 -7.167969 C 2.820312 -7.339844 3.367188 -7.421875 3.992188 -7.421875 C 4.613281 -7.421875 5.117188 -7.351562 5.503906 -7.203125 C 5.890625 -7.058594 6.175781 -6.875 6.359375 -6.65625 C 6.539062 -6.433594 6.667969 -6.15625 6.742188 -5.816406 C 6.78125 -5.609375 6.800781 -5.230469 6.800781 -4.683594 L 6.800781 -3.042969 C 6.800781 -1.898438 6.828125 -1.175781 6.878906 -0.871094 C 6.933594 -0.570312 7.035156 -0.277344 7.191406 0 L 5.90625 0 C 5.777344 -0.253906 5.695312 -0.554688 5.660156 -0.894531 M 5.558594 -3.644531 C 5.109375 -3.460938 4.441406 -3.304688 3.546875 -3.179688 C 3.042969 -3.105469 2.683594 -3.023438 2.476562 -2.933594 C 2.265625 -2.839844 2.101562 -2.707031 1.988281 -2.53125 C 1.875 -2.355469 1.820312 -2.164062 1.820312 -1.949219 C 1.820312 -1.621094 1.941406 -1.347656 2.191406 -1.128906 C 2.4375 -0.910156 2.804688 -0.800781 3.28125 -0.800781 C 3.753906 -0.800781 4.175781 -0.902344 4.546875 -1.109375 C 4.914062 -1.316406 5.1875 -1.601562 5.359375 -1.960938 C 5.492188 -2.238281 5.558594 -2.648438 5.558594 -3.191406 Z M 5.558594 -3.644531 \"/>\n",
       "</g>\n",
       "<g id=\"glyph-0-5\">\n",
       "<path d=\"M 5.632812 0 L 5.632812 -0.914062 C 5.171875 -0.195312 4.496094 0.164062 3.601562 0.164062 C 3.023438 0.164062 2.492188 0.00390625 2.007812 -0.3125 C 1.519531 -0.632812 1.144531 -1.078125 0.878906 -1.652344 C 0.613281 -2.222656 0.476562 -2.878906 0.476562 -3.625 C 0.476562 -4.347656 0.597656 -5.003906 0.839844 -5.59375 C 1.082031 -6.183594 1.445312 -6.636719 1.929688 -6.953125 C 2.410156 -7.265625 2.949219 -7.421875 3.546875 -7.421875 C 3.984375 -7.421875 4.375 -7.332031 4.71875 -7.148438 C 5.058594 -6.960938 5.335938 -6.722656 5.550781 -6.425781 L 5.550781 -10.023438 L 6.773438 -10.023438 L 6.773438 0 L 5.632812 0 M 1.742188 -3.625 C 1.742188 -2.695312 1.9375 -2 2.332031 -1.539062 C 2.722656 -1.078125 3.1875 -0.847656 3.71875 -0.847656 C 4.257812 -0.847656 4.714844 -1.066406 5.089844 -1.507812 C 5.464844 -1.945312 5.652344 -2.617188 5.652344 -3.519531 C 5.652344 -4.515625 5.460938 -5.242188 5.078125 -5.707031 C 4.695312 -6.171875 4.226562 -6.40625 3.664062 -6.40625 C 3.117188 -6.40625 2.660156 -6.183594 2.292969 -5.734375 C 1.925781 -5.289062 1.742188 -4.585938 1.742188 -3.625 Z M 1.742188 -3.625 \"/>\n",
       "</g>\n",
       "<g id=\"glyph-0-6\">\n",
       "<path d=\"M 0.464844 -3.628906 C 0.464844 -4.972656 0.839844 -5.96875 1.585938 -6.617188 C 2.210938 -7.15625 2.972656 -7.421875 3.867188 -7.421875 C 4.867188 -7.421875 5.683594 -7.097656 6.316406 -6.441406 C 6.949219 -5.789062 7.265625 -4.886719 7.265625 -3.734375 C 7.265625 -2.796875 7.125 -2.0625 6.847656 -1.527344 C 6.566406 -0.992188 6.15625 -0.578125 5.621094 -0.28125 C 5.085938 0.015625 4.503906 0.164062 3.867188 0.164062 C 2.851562 0.164062 2.03125 -0.160156 1.40625 -0.8125 C 0.777344 -1.464844 0.464844 -2.402344 0.464844 -3.628906 M 1.730469 -3.628906 C 1.730469 -2.699219 1.933594 -2.003906 2.335938 -1.542969 C 2.742188 -1.078125 3.253906 -0.847656 3.867188 -0.847656 C 4.480469 -0.847656 4.988281 -1.078125 5.394531 -1.546875 C 5.800781 -2.007812 6 -2.71875 6 -3.671875 C 6 -4.570312 5.796875 -5.25 5.390625 -5.710938 C 4.980469 -6.175781 4.476562 -6.40625 3.867188 -6.40625 C 3.253906 -6.40625 2.742188 -6.175781 2.335938 -5.714844 C 1.933594 -5.253906 1.730469 -4.558594 1.730469 -3.628906 Z M 1.730469 -3.628906 \"/>\n",
       "</g>\n",
       "<g id=\"glyph-0-7\">\n",
       "<path d=\"M 1.078125 0 L 1.078125 -10.023438 L 4.859375 -10.023438 C 5.527344 -10.023438 6.035156 -9.988281 6.382812 -9.925781 C 6.875 -9.84375 7.289062 -9.6875 7.621094 -9.457031 C 7.953125 -9.226562 8.222656 -8.90625 8.425781 -8.492188 C 8.628906 -8.074219 8.730469 -7.621094 8.730469 -7.125 C 8.730469 -6.269531 8.457031 -5.550781 7.914062 -4.960938 C 7.375 -4.371094 6.394531 -4.074219 4.976562 -4.074219 L 2.40625 -4.074219 L 2.40625 0 L 1.078125 0 M 2.40625 -5.257812 L 4.996094 -5.257812 C 5.855469 -5.257812 6.460938 -5.417969 6.820312 -5.734375 C 7.183594 -6.054688 7.363281 -6.503906 7.363281 -7.082031 C 7.363281 -7.5 7.257812 -7.859375 7.042969 -8.160156 C 6.832031 -8.457031 6.554688 -8.65625 6.207031 -8.75 C 5.984375 -8.808594 5.570312 -8.839844 4.96875 -8.839844 L 2.40625 -8.839844 Z M 2.40625 -5.257812 \"/>\n",
       "</g>\n",
       "<g id=\"glyph-0-8\">\n",
       "<path d=\"M 0.402344 -2.84375 L 1.601562 -3.007812 C 1.632812 -2.242188 1.773438 -1.71875 2.03125 -1.4375 C 2.285156 -1.152344 2.640625 -1.011719 3.089844 -1.011719 C 3.421875 -1.011719 3.710938 -1.089844 3.953125 -1.242188 C 4.191406 -1.394531 4.359375 -1.601562 4.449219 -1.863281 C 4.542969 -2.125 4.585938 -2.542969 4.585938 -3.117188 L 4.585938 -10.023438 L 5.914062 -10.023438 L 5.914062 -3.191406 C 5.914062 -2.355469 5.8125 -1.703125 5.609375 -1.242188 C 5.40625 -0.785156 5.085938 -0.433594 4.644531 -0.191406 C 4.207031 0.0507812 3.6875 0.171875 3.097656 0.171875 C 2.21875 0.171875 1.542969 -0.0820312 1.078125 -0.585938 C 0.609375 -1.09375 0.386719 -1.84375 0.402344 -2.84375 Z M 0.402344 -2.84375 \"/>\n",
       "</g>\n",
       "<g id=\"glyph-0-9\">\n",
       "<path d=\"M 0.429688 -2.167969 L 1.648438 -2.359375 C 1.714844 -1.871094 1.90625 -1.496094 2.21875 -1.238281 C 2.53125 -0.976562 2.964844 -0.847656 3.527344 -0.847656 C 4.09375 -0.847656 4.511719 -0.960938 4.785156 -1.191406 C 5.058594 -1.421875 5.195312 -1.691406 5.195312 -2.003906 C 5.195312 -2.28125 5.074219 -2.5 4.832031 -2.660156 C 4.664062 -2.769531 4.246094 -2.90625 3.574219 -3.078125 C 2.671875 -3.304688 2.046875 -3.5 1.699219 -3.667969 C 1.351562 -3.832031 1.085938 -4.0625 0.90625 -4.359375 C 0.726562 -4.652344 0.636719 -4.976562 0.636719 -5.332031 C 0.636719 -5.65625 0.710938 -5.957031 0.859375 -6.230469 C 1.007812 -6.507812 1.207031 -6.734375 1.460938 -6.917969 C 1.65625 -7.058594 1.914062 -7.179688 2.246094 -7.277344 C 2.574219 -7.375 2.929688 -7.421875 3.308594 -7.421875 C 3.878906 -7.421875 4.378906 -7.34375 4.808594 -7.179688 C 5.238281 -7.015625 5.558594 -6.792969 5.761719 -6.511719 C 5.96875 -6.230469 6.109375 -5.855469 6.1875 -5.386719 L 4.984375 -5.222656 C 4.929688 -5.597656 4.769531 -5.886719 4.507812 -6.097656 C 4.246094 -6.308594 3.875 -6.414062 3.398438 -6.414062 C 2.832031 -6.414062 2.429688 -6.320312 2.1875 -6.132812 C 1.945312 -5.945312 1.824219 -5.726562 1.824219 -5.476562 C 1.824219 -5.316406 1.875 -5.171875 1.976562 -5.046875 C 2.074219 -4.914062 2.234375 -4.804688 2.445312 -4.71875 C 2.570312 -4.671875 2.933594 -4.566406 3.535156 -4.402344 C 4.40625 -4.171875 5.011719 -3.980469 5.355469 -3.832031 C 5.699219 -3.683594 5.96875 -3.46875 6.164062 -3.1875 C 6.363281 -2.902344 6.460938 -2.550781 6.460938 -2.132812 C 6.460938 -1.722656 6.339844 -1.335938 6.101562 -0.972656 C 5.863281 -0.613281 5.515625 -0.332031 5.066406 -0.132812 C 4.613281 0.0664062 4.105469 0.164062 3.535156 0.164062 C 2.589844 0.164062 1.871094 -0.03125 1.378906 -0.421875 C 0.882812 -0.816406 0.566406 -1.398438 0.429688 -2.167969 Z M 0.429688 -2.167969 \"/>\n",
       "</g>\n",
       "<g id=\"glyph-0-10\">\n",
       "<path d=\"M -0.0195312 0 L 3.828125 -10.023438 L 5.257812 -10.023438 L 9.359375 0 L 7.847656 0 L 6.679688 -3.035156 L 2.488281 -3.035156 L 1.386719 0 L -0.0195312 0 M 2.871094 -4.117188 L 6.269531 -4.117188 L 5.222656 -6.890625 C 4.902344 -7.734375 4.667969 -8.425781 4.511719 -8.96875 C 4.382812 -8.328125 4.203125 -7.6875 3.972656 -7.054688 Z M 2.871094 -4.117188 \"/>\n",
       "</g>\n",
       "<g id=\"glyph-0-11\">\n",
       "<path d=\"M 3.609375 -1.101562 L 3.789062 -0.015625 C 3.441406 0.0585938 3.132812 0.09375 2.859375 0.09375 C 2.410156 0.09375 2.0625 0.0234375 1.820312 -0.117188 C 1.570312 -0.257812 1.398438 -0.441406 1.296875 -0.671875 C 1.199219 -0.902344 1.148438 -1.386719 1.148438 -2.125 L 1.148438 -6.304688 L 0.246094 -6.304688 L 0.246094 -7.257812 L 1.148438 -7.257812 L 1.148438 -9.058594 L 2.371094 -9.796875 L 2.371094 -7.257812 L 3.609375 -7.257812 L 3.609375 -6.304688 L 2.371094 -6.304688 L 2.371094 -2.058594 C 2.371094 -1.707031 2.394531 -1.480469 2.4375 -1.382812 C 2.480469 -1.28125 2.550781 -1.199219 2.648438 -1.140625 C 2.746094 -1.082031 2.886719 -1.054688 3.070312 -1.054688 C 3.207031 -1.054688 3.386719 -1.070312 3.609375 -1.101562 Z M 3.609375 -1.101562 \"/>\n",
       "</g>\n",
       "<g id=\"glyph-0-12\">\n",
       "<path d=\"M 0.929688 -8.605469 L 0.929688 -10.023438 L 2.160156 -10.023438 L 2.160156 -8.605469 L 0.929688 -8.605469 M 0.929688 0 L 0.929688 -7.257812 L 2.160156 -7.257812 L 2.160156 0 Z M 0.929688 0 \"/>\n",
       "</g>\n",
       "</g>\n",
       "</defs>\n",
       "<rect x=\"-40\" y=\"-40\" width=\"480\" height=\"480\" fill=\"rgb(100%, 100%, 100%)\" fill-opacity=\"1\"/>\n",
       "<path fill=\"none\" stroke-width=\"1\" stroke-linecap=\"butt\" stroke-linejoin=\"miter\" stroke=\"rgb(26.666667%, 26.666667%, 26.666667%)\" stroke-opacity=\"1\" stroke-miterlimit=\"10\" d=\"M 253.371094 203.34375 L 366.210938 39.964844 \"/>\n",
       "<path fill-rule=\"nonzero\" fill=\"rgb(26.666667%, 26.666667%, 26.666667%)\" fill-opacity=\"1\" d=\"M 374.316406 28.226562 L 370.023438 42.601562 L 362.394531 37.332031 L 374.316406 28.226562 \"/>\n",
       "<path fill=\"none\" stroke-width=\"1\" stroke-linecap=\"butt\" stroke-linejoin=\"miter\" stroke=\"rgb(26.666667%, 26.666667%, 26.666667%)\" stroke-opacity=\"1\" stroke-miterlimit=\"10\" d=\"M 20 328.164062 L 254.730469 375.230469 \"/>\n",
       "<path fill-rule=\"nonzero\" fill=\"rgb(26.666667%, 26.666667%, 26.666667%)\" fill-opacity=\"1\" d=\"M 268.71875 378.035156 L 253.820312 379.773438 L 255.644531 370.683594 L 268.71875 378.035156 \"/>\n",
       "<path fill=\"none\" stroke-width=\"1\" stroke-linecap=\"butt\" stroke-linejoin=\"miter\" stroke=\"rgb(26.666667%, 26.666667%, 26.666667%)\" stroke-opacity=\"1\" stroke-miterlimit=\"10\" d=\"M 253.371094 203.34375 L 41.398438 316.71875 \"/>\n",
       "<path fill-rule=\"nonzero\" fill=\"rgb(26.666667%, 26.666667%, 26.666667%)\" fill-opacity=\"1\" d=\"M 28.816406 323.449219 L 39.210938 312.632812 L 43.582031 320.808594 L 28.816406 323.449219 \"/>\n",
       "<path fill=\"none\" stroke-width=\"1\" stroke-linecap=\"butt\" stroke-linejoin=\"miter\" stroke=\"rgb(26.666667%, 26.666667%, 26.666667%)\" stroke-opacity=\"1\" stroke-miterlimit=\"10\" d=\"M 253.371094 203.34375 L 275.105469 355.976562 \"/>\n",
       "<path fill-rule=\"nonzero\" fill=\"rgb(26.666667%, 26.666667%, 26.666667%)\" fill-opacity=\"1\" d=\"M 277.113281 370.101562 L 270.515625 356.628906 L 279.691406 355.324219 L 277.113281 370.101562 \"/>\n",
       "<path fill-rule=\"nonzero\" fill=\"rgb(100%, 0%, 0%)\" fill-opacity=\"1\" stroke-width=\"1\" stroke-linecap=\"butt\" stroke-linejoin=\"miter\" stroke=\"rgb(0%, 0%, 0%)\" stroke-opacity=\"1\" stroke-miterlimit=\"10\" d=\"M 263.371094 203.34375 C 263.371094 208.867188 258.894531 213.34375 253.371094 213.34375 C 247.847656 213.34375 243.371094 208.867188 243.371094 203.34375 C 243.371094 197.820312 247.847656 193.34375 253.371094 193.34375 C 258.894531 193.34375 263.371094 197.820312 263.371094 203.34375 \"/>\n",
       "<path fill-rule=\"nonzero\" fill=\"rgb(100%, 0%, 0%)\" fill-opacity=\"1\" stroke-width=\"1\" stroke-linecap=\"butt\" stroke-linejoin=\"miter\" stroke=\"rgb(0%, 0%, 0%)\" stroke-opacity=\"1\" stroke-miterlimit=\"10\" d=\"M 390 20 C 390 25.523438 385.523438 30 380 30 C 374.476562 30 370 25.523438 370 20 C 370 14.476562 374.476562 10 380 10 C 385.523438 10 390 14.476562 390 20 \"/>\n",
       "<path fill-rule=\"nonzero\" fill=\"rgb(100%, 0%, 0%)\" fill-opacity=\"1\" stroke-width=\"1\" stroke-linecap=\"butt\" stroke-linejoin=\"miter\" stroke=\"rgb(0%, 0%, 0%)\" stroke-opacity=\"1\" stroke-miterlimit=\"10\" d=\"M 30 328.164062 C 30 333.6875 25.523438 338.164062 20 338.164062 C 14.476562 338.164062 10 333.6875 10 328.164062 C 10 322.640625 14.476562 318.164062 20 318.164062 C 25.523438 318.164062 30 322.640625 30 328.164062 \"/>\n",
       "<path fill-rule=\"nonzero\" fill=\"rgb(100%, 0%, 0%)\" fill-opacity=\"1\" stroke-width=\"1\" stroke-linecap=\"butt\" stroke-linejoin=\"miter\" stroke=\"rgb(0%, 0%, 0%)\" stroke-opacity=\"1\" stroke-miterlimit=\"10\" d=\"M 288.523438 380 C 288.523438 385.523438 284.046875 390 278.523438 390 C 273 390 268.523438 385.523438 268.523438 380 C 268.523438 374.476562 273 370 278.523438 370 C 284.046875 370 288.523438 374.476562 288.523438 380 \"/>\n",
       "<g fill=\"rgb(0%, 0%, 0%)\" fill-opacity=\"1\">\n",
       "<use xlink:href=\"#glyph-0-0\" x=\"223.089844\" y=\"210.339844\"/>\n",
       "<use xlink:href=\"#glyph-0-1\" x=\"231.641602\" y=\"210.339844\"/>\n",
       "<use xlink:href=\"#glyph-0-2\" x=\"239.427734\" y=\"210.339844\"/>\n",
       "<use xlink:href=\"#glyph-0-3\" x=\"244.089844\" y=\"210.339844\"/>\n",
       "<use xlink:href=\"#glyph-0-4\" x=\"251.875977\" y=\"210.339844\"/>\n",
       "<use xlink:href=\"#glyph-0-3\" x=\"259.662109\" y=\"210.339844\"/>\n",
       "<use xlink:href=\"#glyph-0-5\" x=\"267.448242\" y=\"210.339844\"/>\n",
       "<use xlink:href=\"#glyph-0-6\" x=\"275.234375\" y=\"210.339844\"/>\n",
       "</g>\n",
       "<g fill=\"rgb(0%, 0%, 0%)\" fill-opacity=\"1\">\n",
       "<use xlink:href=\"#glyph-0-7\" x=\"361.039062\" y=\"26.992188\"/>\n",
       "<use xlink:href=\"#glyph-0-1\" x=\"370.376953\" y=\"26.992188\"/>\n",
       "<use xlink:href=\"#glyph-0-5\" x=\"378.163086\" y=\"26.992188\"/>\n",
       "<use xlink:href=\"#glyph-0-2\" x=\"385.949219\" y=\"26.992188\"/>\n",
       "<use xlink:href=\"#glyph-0-6\" x=\"390.611328\" y=\"26.992188\"/>\n",
       "</g>\n",
       "<g fill=\"rgb(0%, 0%, 0%)\" fill-opacity=\"1\">\n",
       "<use xlink:href=\"#glyph-0-8\" x=\"5.316406\" y=\"335.160156\"/>\n",
       "<use xlink:href=\"#glyph-0-6\" x=\"12.316406\" y=\"335.160156\"/>\n",
       "<use xlink:href=\"#glyph-0-9\" x=\"20.102539\" y=\"335.160156\"/>\n",
       "<use xlink:href=\"#glyph-0-1\" x=\"27.102539\" y=\"335.160156\"/>\n",
       "</g>\n",
       "<g fill=\"rgb(0%, 0%, 0%)\" fill-opacity=\"1\">\n",
       "<use xlink:href=\"#glyph-0-10\" x=\"255.054688\" y=\"386.992188\"/>\n",
       "<use xlink:href=\"#glyph-0-3\" x=\"264.392578\" y=\"386.992188\"/>\n",
       "<use xlink:href=\"#glyph-0-11\" x=\"272.178711\" y=\"386.992188\"/>\n",
       "<use xlink:href=\"#glyph-0-6\" x=\"276.068359\" y=\"386.992188\"/>\n",
       "<use xlink:href=\"#glyph-0-3\" x=\"283.854492\" y=\"386.992188\"/>\n",
       "<use xlink:href=\"#glyph-0-12\" x=\"291.640625\" y=\"386.992188\"/>\n",
       "<use xlink:href=\"#glyph-0-6\" x=\"294.750977\" y=\"386.992188\"/>\n",
       "</g>\n",
       "</svg>\n"
      ],
      "text/plain": [
       "<igraph.drawing.cairo.plot.CairoPlot at 0x1fe3f2d7e10>"
      ]
     },
     "execution_count": 22,
     "metadata": {
      "image/svg+xml": {
       "isolated": true
      }
     },
     "output_type": "execute_result"
    }
   ],
   "source": [
    "# Atualização dos tipos das relações em grafos existentes\n",
    "grafo5.vs['tipo'] = 'Pessoas'\n",
    "grafo5.vs['nome'] = 'Amizades'\n",
    "print(grafo5)\n",
    "plot(grafo5, bbox=(0, 0, 400, 400))"
   ]
  },
  {
   "cell_type": "code",
   "execution_count": null,
   "metadata": {},
   "outputs": [],
   "source": []
  }
 ],
 "metadata": {
  "jupytext": {
   "cell_metadata_filter": "-all",
   "main_language": "python",
   "notebook_metadata_filter": "-all"
  },
  "kernelspec": {
   "display_name": "Python 3",
   "language": "python",
   "name": "python3"
  },
  "language_info": {
   "codemirror_mode": {
    "name": "ipython",
    "version": 3
   },
   "file_extension": ".py",
   "mimetype": "text/x-python",
   "name": "python",
   "nbconvert_exporter": "python",
   "pygments_lexer": "ipython3",
   "version": "3.11.3"
  }
 },
 "nbformat": 4,
 "nbformat_minor": 4
}
