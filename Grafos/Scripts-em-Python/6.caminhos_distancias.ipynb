{
 "cells": [
  {
   "cell_type": "code",
   "execution_count": 1,
   "metadata": {},
   "outputs": [],
   "source": [
    "# Formação Cientista de Dados - Fernando Amaral e Jones Granatyr\n",
    "# Colaboração: Adriano Santos\n",
    "\n",
    "# Igraph"
   ]
  },
  {
   "cell_type": "markdown",
   "metadata": {},
   "source": [
    "### Importação das bibliotecas mais importantes"
   ]
  },
  {
   "cell_type": "markdown",
   "metadata": {},
   "source": [
    "Esse código a seguir, cria e visualiza um gráfico usando a biblioteca igraph. Ele importa as ferramentas necessárias, cria um objeto de gráfico e, em seguida, exibe esse gráfico. O igraph é uma ferramenta poderosa para representar e analisar dados de rede, tornando a visualização de relacionamentos entre elementos mais fácil para análise."
   ]
  },
  {
   "cell_type": "code",
   "execution_count": 2,
   "metadata": {},
   "outputs": [],
   "source": [
    "\n",
    "from igraph import Graph\n",
    "from igraph import plot"
   ]
  },
  {
   "cell_type": "markdown",
   "metadata": {},
   "source": [
    "### Criando Modelo Simplificado de Sistema"
   ]
  },
  {
   "cell_type": "markdown",
   "metadata": {},
   "source": [
    "Nesse código, estamos criando um modelo simplificado de um sistema que representa conexões entre elementos. O \"grafo\" é como um mapa que mostra como diferentes pontos (identificados por letras de A a H) estão conectados. As linhas entre eles (as \"arestas\") têm valores associados (os \"pesos\"), que indicam o custo ou a distância entre esses pontos. Por exemplo, a aresta entre A e C tem peso 2. Esse tipo de representação pode ser usado em muitas aplicações, como planejamento de rotas em mapas, redes sociais, entre outros."
   ]
  },
  {
   "cell_type": "code",
   "execution_count": 9,
   "metadata": {},
   "outputs": [
    {
     "name": "stdout",
     "output_type": "stream",
     "text": [
      "IGRAPH D-W- 8 9 --\n",
      "+ attr: label (v), weight (e)\n",
      "+ edges:\n",
      "0->2 0->1 1->4 1->5 2->3 6->7 3->7 4->7 5->6\n"
     ]
    }
   ],
   "source": [
    "\n",
    "grafo = Graph(edges=[(0, 2), (0, 1), (1, 4), (1, 5), (2, 3), (6, 7), (3, 7), (4, 7), (5, 6)], directed=True)\n",
    "grafo.vs['label'] = ['A', 'B', 'C', 'D', 'E', 'F', 'G', 'H']\n",
    "grafo.es['weight'] = [2, 1, 2, 1, 2, 1, 3, 1]\n",
    "\n",
    "print(grafo)"
   ]
  },
  {
   "cell_type": "markdown",
   "metadata": {},
   "source": [
    "### Visualização do grafo com os pesos"
   ]
  },
  {
   "cell_type": "markdown",
   "metadata": {},
   "source": [
    " Esse código cria uma visualização de um gráfico com pesos, onde os pesos são valores associados às arestas do gráfico. A função \"plot\" é usada para desenhar o gráfico em uma área de 500x500 pixels, e os rótulos das arestas são definidos com base nos pesos das arestas. Isso ajuda a mostrar visualmente como as conexões no gráfico são influenciadas pelos valores dos pesos."
   ]
  },
  {
   "cell_type": "code",
   "execution_count": 16,
   "metadata": {},
   "outputs": [
    {
     "data": {
      "image/svg+xml": [
       "<?xml version=\"1.0\" encoding=\"UTF-8\"?>\n",
       "<svg xmlns=\"http://www.w3.org/2000/svg\" xmlns:xlink=\"http://www.w3.org/1999/xlink\" width=\"500\" height=\"500\" viewBox=\"0 0 500 500\">\n",
       "<defs>\n",
       "<g>\n",
       "<g id=\"glyph-0-0\">\n",
       "<path d=\"M -0.0195312 0 L 3.828125 -10.023438 L 5.257812 -10.023438 L 9.359375 0 L 7.847656 0 L 6.679688 -3.035156 L 2.488281 -3.035156 L 1.386719 0 L -0.0195312 0 M 2.871094 -4.117188 L 6.269531 -4.117188 L 5.222656 -6.890625 C 4.902344 -7.734375 4.667969 -8.425781 4.511719 -8.96875 C 4.382812 -8.328125 4.203125 -7.6875 3.972656 -7.054688 Z M 2.871094 -4.117188 \"/>\n",
       "</g>\n",
       "<g id=\"glyph-0-1\">\n",
       "<path d=\"M 1.023438 0 L 1.023438 -10.023438 L 4.785156 -10.023438 C 5.550781 -10.023438 6.164062 -9.921875 6.628906 -9.71875 C 7.089844 -9.515625 7.453125 -9.203125 7.714844 -8.78125 C 7.976562 -8.359375 8.109375 -7.917969 8.109375 -7.457031 C 8.109375 -7.03125 7.992188 -6.625 7.757812 -6.25 C 7.527344 -5.871094 7.175781 -5.5625 6.707031 -5.332031 C 7.3125 -5.15625 7.777344 -4.851562 8.105469 -4.421875 C 8.429688 -3.996094 8.59375 -3.488281 8.59375 -2.90625 C 8.59375 -2.4375 8.492188 -2 8.296875 -1.597656 C 8.097656 -1.191406 7.851562 -0.882812 7.5625 -0.664062 C 7.269531 -0.445312 6.902344 -0.277344 6.464844 -0.167969 C 6.023438 -0.0546875 5.484375 0 4.847656 0 L 1.023438 0 M 2.351562 -5.8125 L 4.519531 -5.8125 C 5.105469 -5.8125 5.527344 -5.847656 5.78125 -5.925781 C 6.121094 -6.027344 6.375 -6.195312 6.546875 -6.425781 C 6.714844 -6.65625 6.800781 -6.949219 6.800781 -7.300781 C 6.800781 -7.632812 6.722656 -7.925781 6.5625 -8.179688 C 6.402344 -8.433594 6.175781 -8.605469 5.878906 -8.699219 C 5.582031 -8.792969 5.074219 -8.839844 4.355469 -8.839844 L 2.351562 -8.839844 L 2.351562 -5.8125 M 2.351562 -1.183594 L 4.847656 -1.183594 C 5.273438 -1.183594 5.574219 -1.199219 5.75 -1.230469 C 6.054688 -1.285156 6.308594 -1.375 6.515625 -1.503906 C 6.71875 -1.632812 6.886719 -1.816406 7.019531 -2.0625 C 7.152344 -2.304688 7.21875 -2.585938 7.21875 -2.90625 C 7.21875 -3.277344 7.125 -3.605469 6.929688 -3.878906 C 6.738281 -4.15625 6.476562 -4.347656 6.136719 -4.460938 C 5.796875 -4.570312 5.308594 -4.628906 4.667969 -4.628906 L 2.351562 -4.628906 Z M 2.351562 -1.183594 \"/>\n",
       "</g>\n",
       "<g id=\"glyph-0-2\">\n",
       "<path d=\"M 8.230469 -3.515625 L 9.554688 -3.179688 C 9.277344 -2.089844 8.777344 -1.257812 8.054688 -0.6875 C 7.332031 -0.113281 6.449219 0.171875 5.40625 0.171875 C 4.328125 0.171875 3.449219 -0.0507812 2.773438 -0.488281 C 2.09375 -0.929688 1.582031 -1.566406 1.226562 -2.398438 C 0.875 -3.234375 0.695312 -4.128906 0.695312 -5.085938 C 0.695312 -6.128906 0.898438 -7.039062 1.296875 -7.816406 C 1.695312 -8.59375 2.261719 -9.183594 2.996094 -9.585938 C 3.734375 -9.992188 4.542969 -10.191406 5.429688 -10.191406 C 6.429688 -10.191406 7.273438 -9.9375 7.957031 -9.425781 C 8.640625 -8.917969 9.117188 -8.199219 9.386719 -7.273438 L 8.078125 -6.964844 C 7.847656 -7.695312 7.511719 -8.226562 7.070312 -8.558594 C 6.625 -8.890625 6.070312 -9.058594 5.398438 -9.058594 C 4.628906 -9.058594 3.988281 -8.875 3.46875 -8.503906 C 2.953125 -8.132812 2.589844 -7.640625 2.378906 -7.015625 C 2.167969 -6.394531 2.0625 -5.753906 2.0625 -5.09375 C 2.0625 -4.242188 2.1875 -3.496094 2.4375 -2.859375 C 2.683594 -2.226562 3.070312 -1.75 3.59375 -1.4375 C 4.121094 -1.121094 4.6875 -0.964844 5.296875 -0.964844 C 6.039062 -0.964844 6.667969 -1.179688 7.183594 -1.605469 C 7.699219 -2.035156 8.046875 -2.671875 8.230469 -3.515625 Z M 8.230469 -3.515625 \"/>\n",
       "</g>\n",
       "<g id=\"glyph-0-3\">\n",
       "<path d=\"M 1.078125 0 L 1.078125 -10.023438 L 4.53125 -10.023438 C 5.3125 -10.023438 5.90625 -9.972656 6.316406 -9.878906 C 6.890625 -9.746094 7.378906 -9.507812 7.785156 -9.160156 C 8.316406 -8.714844 8.710938 -8.144531 8.972656 -7.449219 C 9.234375 -6.753906 9.367188 -5.957031 9.367188 -5.066406 C 9.367188 -4.304688 9.277344 -3.628906 9.097656 -3.042969 C 8.921875 -2.453125 8.691406 -1.96875 8.414062 -1.582031 C 8.136719 -1.199219 7.832031 -0.894531 7.503906 -0.671875 C 7.171875 -0.453125 6.773438 -0.285156 6.304688 -0.171875 C 5.839844 -0.0585938 5.300781 0 4.695312 0 L 1.078125 0 M 2.40625 -1.183594 L 4.546875 -1.183594 C 5.207031 -1.183594 5.726562 -1.242188 6.101562 -1.367188 C 6.476562 -1.492188 6.777344 -1.664062 7 -1.886719 C 7.3125 -2.203125 7.558594 -2.625 7.734375 -3.15625 C 7.910156 -3.6875 8 -4.328125 8 -5.085938 C 8 -6.132812 7.824219 -6.941406 7.480469 -7.503906 C 7.136719 -8.066406 6.71875 -8.441406 6.226562 -8.632812 C 5.871094 -8.769531 5.300781 -8.839844 4.511719 -8.839844 L 2.40625 -8.839844 Z M 2.40625 -1.183594 \"/>\n",
       "</g>\n",
       "<g id=\"glyph-0-4\">\n",
       "<path d=\"M 1.109375 0 L 1.109375 -10.023438 L 8.351562 -10.023438 L 8.351562 -8.839844 L 2.433594 -8.839844 L 2.433594 -5.769531 L 7.976562 -5.769531 L 7.976562 -4.59375 L 2.433594 -4.59375 L 2.433594 -1.183594 L 8.585938 -1.183594 L 8.585938 0 Z M 1.109375 0 \"/>\n",
       "</g>\n",
       "<g id=\"glyph-0-5\">\n",
       "<path d=\"M 1.148438 0 L 1.148438 -10.023438 L 7.910156 -10.023438 L 7.910156 -8.839844 L 2.476562 -8.839844 L 2.476562 -5.734375 L 7.179688 -5.734375 L 7.179688 -4.554688 L 2.476562 -4.554688 L 2.476562 0 Z M 1.148438 0 \"/>\n",
       "</g>\n",
       "<g id=\"glyph-0-6\">\n",
       "<path d=\"M 5.769531 -3.929688 L 5.769531 -5.105469 L 10.015625 -5.113281 L 10.015625 -1.394531 C 9.363281 -0.875 8.691406 -0.484375 8 -0.222656 C 7.304688 0.0390625 6.59375 0.171875 5.867188 0.171875 C 4.882812 0.171875 3.988281 -0.0390625 3.183594 -0.460938 C 2.378906 -0.882812 1.769531 -1.492188 1.359375 -2.289062 C 0.949219 -3.085938 0.746094 -3.976562 0.746094 -4.960938 C 0.746094 -5.9375 0.949219 -6.847656 1.355469 -7.695312 C 1.765625 -8.539062 2.351562 -9.167969 3.117188 -9.578125 C 3.882812 -9.988281 4.765625 -10.191406 5.761719 -10.191406 C 6.488281 -10.191406 7.140625 -10.074219 7.726562 -9.839844 C 8.3125 -9.605469 8.773438 -9.277344 9.105469 -8.859375 C 9.4375 -8.441406 9.691406 -7.894531 9.863281 -7.21875 L 8.667969 -6.890625 C 8.515625 -7.402344 8.332031 -7.800781 8.109375 -8.09375 C 7.882812 -8.386719 7.566406 -8.617188 7.148438 -8.792969 C 6.734375 -8.96875 6.273438 -9.058594 5.769531 -9.058594 C 5.164062 -9.058594 4.640625 -8.964844 4.195312 -8.78125 C 3.753906 -8.597656 3.398438 -8.351562 3.128906 -8.054688 C 2.855469 -7.75 2.644531 -7.421875 2.496094 -7.0625 C 2.238281 -6.441406 2.113281 -5.769531 2.113281 -5.046875 C 2.113281 -4.152344 2.265625 -3.40625 2.574219 -2.804688 C 2.882812 -2.203125 3.328125 -1.753906 3.917969 -1.460938 C 4.503906 -1.171875 5.128906 -1.023438 5.789062 -1.023438 C 6.363281 -1.023438 6.925781 -1.136719 7.472656 -1.355469 C 8.019531 -1.578125 8.433594 -1.8125 8.714844 -2.0625 L 8.714844 -3.929688 Z M 5.769531 -3.929688 \"/>\n",
       "</g>\n",
       "<g id=\"glyph-0-7\">\n",
       "<path d=\"M 1.121094 0 L 1.121094 -10.023438 L 2.445312 -10.023438 L 2.445312 -5.90625 L 7.65625 -5.90625 L 7.65625 -10.023438 L 8.984375 -10.023438 L 8.984375 0 L 7.65625 0 L 7.65625 -4.722656 L 2.445312 -4.722656 L 2.445312 0 Z M 1.121094 0 \"/>\n",
       "</g>\n",
       "<g id=\"glyph-1-0\">\n",
       "<path d=\"M 6.039062 -1.015625 L 6.039062 0 L 0.363281 0 C 0.355469 -0.253906 0.394531 -0.5 0.484375 -0.734375 C 0.628906 -1.117188 0.863281 -1.5 1.179688 -1.875 C 1.5 -2.25 1.957031 -2.683594 2.5625 -3.175781 C 3.492188 -3.941406 4.125 -4.546875 4.453125 -4.996094 C 4.78125 -5.441406 4.945312 -5.867188 4.945312 -6.265625 C 4.945312 -6.679688 4.796875 -7.035156 4.496094 -7.320312 C 4.199219 -7.609375 3.808594 -7.75 3.328125 -7.75 C 2.820312 -7.75 2.414062 -7.601562 2.109375 -7.296875 C 1.804688 -6.992188 1.648438 -6.570312 1.648438 -6.03125 L 0.5625 -6.140625 C 0.636719 -6.949219 0.917969 -7.566406 1.398438 -7.988281 C 1.882812 -8.414062 2.535156 -8.625 3.351562 -8.625 C 4.175781 -8.625 4.828125 -8.398438 5.308594 -7.9375 C 5.789062 -7.484375 6.03125 -6.914062 6.03125 -6.242188 C 6.03125 -5.894531 5.957031 -5.558594 5.820312 -5.226562 C 5.675781 -4.894531 5.445312 -4.542969 5.117188 -4.179688 C 4.792969 -3.808594 4.25 -3.304688 3.492188 -2.664062 C 2.859375 -2.132812 2.453125 -1.773438 2.273438 -1.585938 C 2.09375 -1.394531 1.945312 -1.203125 1.828125 -1.015625 Z M 6.039062 -1.015625 \"/>\n",
       "</g>\n",
       "<g id=\"glyph-1-1\">\n",
       "<path d=\"M 4.46875 0 L 3.414062 0 L 3.414062 -6.71875 C 3.160156 -6.476562 2.828125 -6.234375 2.417969 -5.992188 C 2.003906 -5.75 1.632812 -5.570312 1.304688 -5.449219 L 1.304688 -6.46875 C 1.894531 -6.746094 2.410156 -7.082031 2.851562 -7.476562 C 3.292969 -7.871094 3.605469 -8.253906 3.789062 -8.625 L 4.46875 -8.625 Z M 4.46875 0 \"/>\n",
       "</g>\n",
       "<g id=\"glyph-1-2\">\n",
       "<path d=\"M 0.503906 -2.265625 L 1.558594 -2.40625 C 1.679688 -1.8125 1.886719 -1.378906 2.175781 -1.117188 C 2.46875 -0.851562 2.820312 -0.71875 3.242188 -0.71875 C 3.734375 -0.71875 4.15625 -0.890625 4.496094 -1.234375 C 4.839844 -1.578125 5.007812 -2.003906 5.007812 -2.515625 C 5.007812 -2.996094 4.851562 -3.398438 4.535156 -3.710938 C 4.21875 -4.027344 3.816406 -4.183594 3.328125 -4.183594 C 3.128906 -4.183594 2.878906 -4.144531 2.585938 -4.066406 L 2.703125 -4.992188 C 2.773438 -4.984375 2.828125 -4.980469 2.871094 -4.980469 C 3.320312 -4.980469 3.722656 -5.097656 4.085938 -5.332031 C 4.441406 -5.566406 4.621094 -5.925781 4.625 -6.414062 C 4.621094 -6.804688 4.492188 -7.121094 4.230469 -7.375 C 3.96875 -7.628906 3.628906 -7.757812 3.21875 -7.757812 C 2.804688 -7.757812 2.464844 -7.628906 2.191406 -7.371094 C 1.917969 -7.113281 1.742188 -6.726562 1.664062 -6.210938 L 0.609375 -6.398438 C 0.738281 -7.105469 1.03125 -7.652344 1.488281 -8.042969 C 1.945312 -8.429688 2.515625 -8.625 3.195312 -8.625 C 3.664062 -8.625 4.09375 -8.523438 4.488281 -8.324219 C 4.882812 -8.121094 5.183594 -7.847656 5.394531 -7.5 C 5.601562 -7.152344 5.707031 -6.78125 5.707031 -6.390625 C 5.707031 -6.019531 5.609375 -5.683594 5.40625 -5.378906 C 5.210938 -5.074219 4.914062 -4.832031 4.523438 -4.652344 C 5.03125 -4.535156 5.425781 -4.292969 5.707031 -3.921875 C 5.988281 -3.554688 6.128906 -3.089844 6.128906 -2.539062 C 6.128906 -1.789062 5.855469 -1.152344 5.308594 -0.628906 C 4.761719 -0.109375 4.070312 0.152344 3.234375 0.152344 C 2.480469 0.152344 1.855469 -0.0742188 1.355469 -0.523438 C 0.859375 -0.96875 0.574219 -1.554688 0.503906 -2.265625 Z M 0.503906 -2.265625 \"/>\n",
       "</g>\n",
       "</g>\n",
       "</defs>\n",
       "<rect x=\"-50\" y=\"-50\" width=\"600\" height=\"600\" fill=\"rgb(100%, 100%, 100%)\" fill-opacity=\"1\"/>\n",
       "<path fill=\"none\" stroke-width=\"1\" stroke-linecap=\"butt\" stroke-linejoin=\"miter\" stroke=\"rgb(26.666667%, 26.666667%, 26.666667%)\" stroke-opacity=\"1\" stroke-miterlimit=\"10\" d=\"M 358.433594 480 L 466.097656 325.996094 \"/>\n",
       "<path fill-rule=\"nonzero\" fill=\"rgb(26.666667%, 26.666667%, 26.666667%)\" fill-opacity=\"1\" d=\"M 474.269531 314.304688 L 469.894531 328.652344 L 462.296875 323.339844 L 474.269531 314.304688 \"/>\n",
       "<path fill=\"none\" stroke-width=\"1\" stroke-linecap=\"butt\" stroke-linejoin=\"miter\" stroke=\"rgb(26.666667%, 26.666667%, 26.666667%)\" stroke-opacity=\"1\" stroke-miterlimit=\"10\" d=\"M 358.433594 480 L 198.1875 430.894531 \"/>\n",
       "<path fill-rule=\"nonzero\" fill=\"rgb(26.666667%, 26.666667%, 26.666667%)\" fill-opacity=\"1\" d=\"M 184.546875 426.714844 L 199.546875 426.460938 L 196.828125 435.324219 L 184.546875 426.714844 \"/>\n",
       "<path fill=\"none\" stroke-width=\"1\" stroke-linecap=\"butt\" stroke-linejoin=\"miter\" stroke=\"rgb(26.666667%, 26.666667%, 26.666667%)\" stroke-opacity=\"1\" stroke-miterlimit=\"10\" d=\"M 174.984375 423.78125 L 195.28125 244.148438 \"/>\n",
       "<path fill-rule=\"nonzero\" fill=\"rgb(26.666667%, 26.666667%, 26.666667%)\" fill-opacity=\"1\" d=\"M 196.882812 229.972656 L 199.886719 244.667969 L 190.675781 243.628906 L 196.882812 229.972656 \"/>\n",
       "<path fill=\"none\" stroke-width=\"1\" stroke-linecap=\"butt\" stroke-linejoin=\"miter\" stroke=\"rgb(26.666667%, 26.666667%, 26.666667%)\" stroke-opacity=\"1\" stroke-miterlimit=\"10\" d=\"M 174.984375 423.78125 L 38.339844 305.417969 \"/>\n",
       "<path fill-rule=\"nonzero\" fill=\"rgb(26.666667%, 26.666667%, 26.666667%)\" fill-opacity=\"1\" d=\"M 27.558594 296.078125 L 41.375 301.914062 L 35.304688 308.921875 L 27.558594 296.078125 \"/>\n",
       "<path fill=\"none\" stroke-width=\"1\" stroke-linecap=\"butt\" stroke-linejoin=\"miter\" stroke=\"rgb(26.666667%, 26.666667%, 26.666667%)\" stroke-opacity=\"1\" stroke-miterlimit=\"10\" d=\"M 480 306.109375 L 423.503906 99.269531 \"/>\n",
       "<path fill-rule=\"nonzero\" fill=\"rgb(26.666667%, 26.666667%, 26.666667%)\" fill-opacity=\"1\" d=\"M 419.742188 85.507812 L 427.972656 98.046875 L 419.03125 100.488281 L 419.742188 85.507812 \"/>\n",
       "<path fill=\"none\" stroke-width=\"1\" stroke-linecap=\"butt\" stroke-linejoin=\"miter\" stroke=\"rgb(26.666667%, 26.666667%, 26.666667%)\" stroke-opacity=\"1\" stroke-miterlimit=\"10\" d=\"M 54.324219 52.515625 L 209.746094 24.328125 \"/>\n",
       "<path fill-rule=\"nonzero\" fill=\"rgb(26.666667%, 26.666667%, 26.666667%)\" fill-opacity=\"1\" d=\"M 223.78125 21.785156 L 210.574219 28.890625 L 208.917969 19.769531 L 223.78125 21.785156 \"/>\n",
       "<path fill=\"none\" stroke-width=\"1\" stroke-linecap=\"butt\" stroke-linejoin=\"miter\" stroke=\"rgb(26.666667%, 26.666667%, 26.666667%)\" stroke-opacity=\"1\" stroke-miterlimit=\"10\" d=\"M 417.109375 75.859375 L 256.835938 27.066406 \"/>\n",
       "<path fill-rule=\"nonzero\" fill=\"rgb(26.666667%, 26.666667%, 26.666667%)\" fill-opacity=\"1\" d=\"M 243.1875 22.914062 L 258.1875 22.632812 L 255.484375 31.5 L 243.1875 22.914062 \"/>\n",
       "<path fill=\"none\" stroke-width=\"1\" stroke-linecap=\"butt\" stroke-linejoin=\"miter\" stroke=\"rgb(26.666667%, 26.666667%, 26.666667%)\" stroke-opacity=\"1\" stroke-miterlimit=\"10\" d=\"M 198.003906 220.035156 L 229.367188 43.890625 \"/>\n",
       "<path fill-rule=\"nonzero\" fill=\"rgb(26.666667%, 26.666667%, 26.666667%)\" fill-opacity=\"1\" d=\"M 231.871094 29.84375 L 233.933594 44.703125 L 224.804688 43.078125 L 231.871094 29.84375 \"/>\n",
       "<path fill=\"none\" stroke-width=\"1\" stroke-linecap=\"butt\" stroke-linejoin=\"miter\" stroke=\"rgb(26.666667%, 26.666667%, 26.666667%)\" stroke-opacity=\"1\" stroke-miterlimit=\"10\" d=\"M 20 289.527344 L 50.847656 76.53125 \"/>\n",
       "<path fill-rule=\"nonzero\" fill=\"rgb(26.666667%, 26.666667%, 26.666667%)\" fill-opacity=\"1\" d=\"M 52.890625 62.414062 L 55.433594 77.195312 L 46.257812 75.867188 L 52.890625 62.414062 \"/>\n",
       "<path fill-rule=\"nonzero\" fill=\"rgb(100%, 0%, 0%)\" fill-opacity=\"1\" stroke-width=\"1\" stroke-linecap=\"butt\" stroke-linejoin=\"miter\" stroke=\"rgb(0%, 0%, 0%)\" stroke-opacity=\"1\" stroke-miterlimit=\"10\" d=\"M 368.433594 480 C 368.433594 485.523438 363.957031 490 358.433594 490 C 352.910156 490 348.433594 485.523438 348.433594 480 C 348.433594 474.476562 352.910156 470 358.433594 470 C 363.957031 470 368.433594 474.476562 368.433594 480 \"/>\n",
       "<path fill-rule=\"nonzero\" fill=\"rgb(100%, 0%, 0%)\" fill-opacity=\"1\" stroke-width=\"1\" stroke-linecap=\"butt\" stroke-linejoin=\"miter\" stroke=\"rgb(0%, 0%, 0%)\" stroke-opacity=\"1\" stroke-miterlimit=\"10\" d=\"M 184.984375 423.78125 C 184.984375 429.304688 180.507812 433.78125 174.984375 433.78125 C 169.464844 433.78125 164.984375 429.304688 164.984375 423.78125 C 164.984375 418.261719 169.464844 413.78125 174.984375 413.78125 C 180.507812 413.78125 184.984375 418.261719 184.984375 423.78125 \"/>\n",
       "<path fill-rule=\"nonzero\" fill=\"rgb(100%, 0%, 0%)\" fill-opacity=\"1\" stroke-width=\"1\" stroke-linecap=\"butt\" stroke-linejoin=\"miter\" stroke=\"rgb(0%, 0%, 0%)\" stroke-opacity=\"1\" stroke-miterlimit=\"10\" d=\"M 490 306.109375 C 490 311.632812 485.523438 316.109375 480 316.109375 C 474.476562 316.109375 470 311.632812 470 306.109375 C 470 300.585938 474.476562 296.109375 480 296.109375 C 485.523438 296.109375 490 300.585938 490 306.109375 \"/>\n",
       "<path fill-rule=\"nonzero\" fill=\"rgb(100%, 0%, 0%)\" fill-opacity=\"1\" stroke-width=\"1\" stroke-linecap=\"butt\" stroke-linejoin=\"miter\" stroke=\"rgb(0%, 0%, 0%)\" stroke-opacity=\"1\" stroke-miterlimit=\"10\" d=\"M 427.109375 75.859375 C 427.109375 81.382812 422.632812 85.859375 417.109375 85.859375 C 411.585938 85.859375 407.109375 81.382812 407.109375 75.859375 C 407.109375 70.335938 411.585938 65.859375 417.109375 65.859375 C 422.632812 65.859375 427.109375 70.335938 427.109375 75.859375 \"/>\n",
       "<path fill-rule=\"nonzero\" fill=\"rgb(100%, 0%, 0%)\" fill-opacity=\"1\" stroke-width=\"1\" stroke-linecap=\"butt\" stroke-linejoin=\"miter\" stroke=\"rgb(0%, 0%, 0%)\" stroke-opacity=\"1\" stroke-miterlimit=\"10\" d=\"M 208.003906 220.035156 C 208.003906 225.558594 203.527344 230.035156 198.003906 230.035156 C 192.480469 230.035156 188.003906 225.558594 188.003906 220.035156 C 188.003906 214.511719 192.480469 210.035156 198.003906 210.035156 C 203.527344 210.035156 208.003906 214.511719 208.003906 220.035156 \"/>\n",
       "<path fill-rule=\"nonzero\" fill=\"rgb(100%, 0%, 0%)\" fill-opacity=\"1\" stroke-width=\"1\" stroke-linecap=\"butt\" stroke-linejoin=\"miter\" stroke=\"rgb(0%, 0%, 0%)\" stroke-opacity=\"1\" stroke-miterlimit=\"10\" d=\"M 30 289.527344 C 30 295.050781 25.523438 299.527344 20 299.527344 C 14.476562 299.527344 10 295.050781 10 289.527344 C 10 284.007812 14.476562 279.527344 20 279.527344 C 25.523438 279.527344 30 284.007812 30 289.527344 \"/>\n",
       "<path fill-rule=\"nonzero\" fill=\"rgb(100%, 0%, 0%)\" fill-opacity=\"1\" stroke-width=\"1\" stroke-linecap=\"butt\" stroke-linejoin=\"miter\" stroke=\"rgb(0%, 0%, 0%)\" stroke-opacity=\"1\" stroke-miterlimit=\"10\" d=\"M 64.324219 52.515625 C 64.324219 58.039062 59.847656 62.515625 54.324219 62.515625 C 48.800781 62.515625 44.324219 58.039062 44.324219 52.515625 C 44.324219 46.992188 48.800781 42.515625 54.324219 42.515625 C 59.847656 42.515625 64.324219 46.992188 64.324219 52.515625 \"/>\n",
       "<path fill-rule=\"nonzero\" fill=\"rgb(100%, 0%, 0%)\" fill-opacity=\"1\" stroke-width=\"1\" stroke-linecap=\"butt\" stroke-linejoin=\"miter\" stroke=\"rgb(0%, 0%, 0%)\" stroke-opacity=\"1\" stroke-miterlimit=\"10\" d=\"M 243.621094 20 C 243.621094 25.523438 239.144531 30 233.621094 30 C 228.097656 30 223.621094 25.523438 223.621094 20 C 223.621094 14.476562 228.097656 10 233.621094 10 C 239.144531 10 243.621094 14.476562 243.621094 20 \"/>\n",
       "<g fill=\"rgb(0%, 0%, 0%)\" fill-opacity=\"1\">\n",
       "<use xlink:href=\"#glyph-0-0\" x=\"353.765625\" y=\"486.992188\"/>\n",
       "</g>\n",
       "<g fill=\"rgb(0%, 0%, 0%)\" fill-opacity=\"1\">\n",
       "<use xlink:href=\"#glyph-0-1\" x=\"170.175781\" y=\"430.777344\"/>\n",
       "</g>\n",
       "<g fill=\"rgb(0%, 0%, 0%)\" fill-opacity=\"1\">\n",
       "<use xlink:href=\"#glyph-0-2\" x=\"474.875\" y=\"313.1875\"/>\n",
       "</g>\n",
       "<g fill=\"rgb(0%, 0%, 0%)\" fill-opacity=\"1\">\n",
       "<use xlink:href=\"#glyph-0-3\" x=\"411.886719\" y=\"82.855469\"/>\n",
       "</g>\n",
       "<g fill=\"rgb(0%, 0%, 0%)\" fill-opacity=\"1\">\n",
       "<use xlink:href=\"#glyph-0-4\" x=\"193.15625\" y=\"227.03125\"/>\n",
       "</g>\n",
       "<g fill=\"rgb(0%, 0%, 0%)\" fill-opacity=\"1\">\n",
       "<use xlink:href=\"#glyph-0-5\" x=\"15.472656\" y=\"296.523438\"/>\n",
       "</g>\n",
       "<g fill=\"rgb(0%, 0%, 0%)\" fill-opacity=\"1\">\n",
       "<use xlink:href=\"#glyph-0-6\" x=\"48.945312\" y=\"59.597656\"/>\n",
       "</g>\n",
       "<g fill=\"rgb(0%, 0%, 0%)\" fill-opacity=\"1\">\n",
       "<use xlink:href=\"#glyph-0-7\" x=\"228.570312\" y=\"26.992188\"/>\n",
       "</g>\n",
       "<g fill=\"rgb(0%, 0%, 0%)\" fill-opacity=\"1\">\n",
       "<use xlink:href=\"#glyph-1-0\" x=\"412.175781\" y=\"401.539062\"/>\n",
       "</g>\n",
       "<g fill=\"rgb(0%, 0%, 0%)\" fill-opacity=\"1\">\n",
       "<use xlink:href=\"#glyph-1-1\" x=\"261.238281\" y=\"465.691406\"/>\n",
       "</g>\n",
       "<g fill=\"rgb(0%, 0%, 0%)\" fill-opacity=\"1\">\n",
       "<use xlink:href=\"#glyph-1-0\" x=\"179.453125\" y=\"330.394531\"/>\n",
       "</g>\n",
       "<g fill=\"rgb(0%, 0%, 0%)\" fill-opacity=\"1\">\n",
       "<use xlink:href=\"#glyph-1-1\" x=\"92.023438\" y=\"370.453125\"/>\n",
       "</g>\n",
       "<g fill=\"rgb(0%, 0%, 0%)\" fill-opacity=\"1\">\n",
       "<use xlink:href=\"#glyph-1-0\" x=\"441.511719\" y=\"199.472656\"/>\n",
       "</g>\n",
       "<g fill=\"rgb(0%, 0%, 0%)\" fill-opacity=\"1\">\n",
       "<use xlink:href=\"#glyph-1-1\" x=\"138.503906\" y=\"34.621094\"/>\n",
       "</g>\n",
       "<g fill=\"rgb(0%, 0%, 0%)\" fill-opacity=\"1\">\n",
       "<use xlink:href=\"#glyph-1-2\" x=\"318.234375\" y=\"61.730469\"/>\n",
       "</g>\n",
       "<g fill=\"rgb(0%, 0%, 0%)\" fill-opacity=\"1\">\n",
       "<use xlink:href=\"#glyph-1-1\" x=\"210.34375\" y=\"128.503906\"/>\n",
       "</g>\n",
       "<g fill=\"rgb(0%, 0%, 0%)\" fill-opacity=\"1\">\n",
       "<use xlink:href=\"#glyph-1-0\" x=\"30.121094\" y=\"179.507812\"/>\n",
       "</g>\n",
       "</svg>\n"
      ],
      "text/plain": [
       "<igraph.drawing.cairo.plot.CairoPlot at 0x256e56aa110>"
      ]
     },
     "execution_count": 16,
     "metadata": {
      "image/svg+xml": {
       "isolated": true
      }
     },
     "output_type": "execute_result"
    }
   ],
   "source": [
    "\n",
    "plot(grafo, bbox=(0, 0, 500, 500), edge_label=grafo.es['weight'])"
   ]
  },
  {
   "cell_type": "markdown",
   "metadata": {},
   "source": [
    "### Encontrar o caminho entre os vértices A - H"
   ]
  },
  {
   "cell_type": "markdown",
   "metadata": {},
   "source": [
    "Esse código tem como objetivo encontrar o caminho mais curto entre dois pontos, representados pelos vértices A e H, em um grafo. Primeiro, ele utiliza uma função chamada \"get_shortest_paths\" para calcular esse caminho e armazená-lo na variável \"vertice_path\". Em seguida, ele percorre os vértices desse caminho e exibe os rótulos associados a cada vértice, mostrando assim a sequência de pontos que compõem o caminho mais curto entre A e H no grafo."
   ]
  },
  {
   "cell_type": "code",
   "execution_count": 17,
   "metadata": {},
   "outputs": [
    {
     "name": "stdout",
     "output_type": "stream",
     "text": [
      "A\n",
      "B\n",
      "E\n",
      "H\n"
     ]
    }
   ],
   "source": [
    "\n",
    "vertice_path = grafo.get_shortest_paths(0, 7, output='vpath')\n",
    "\n",
    "for vertice in vertice_path[0]:\n",
    "    print(grafo.vs[vertice]['label'])"
   ]
  },
  {
   "cell_type": "markdown",
   "metadata": {},
   "source": [
    "### Encontrar os caminhos mais curtos entre 0 e 7 no grafo"
   ]
  },
  {
   "cell_type": "markdown",
   "metadata": {},
   "source": [
    "Nesse código, estamos buscando os caminhos mais curtos em um grafo entre os vértices 0 e 7. O resultado, armazenado na variável \"edge_path\", são as arestas que compõem esses caminhos. Essa informação é útil para navegação ou otimização em redes, como em sistemas de transporte, onde queremos encontrar o caminho mais eficiente entre dois pontos. O código imprime essas arestas para visualização."
   ]
  },
  {
   "cell_type": "code",
   "execution_count": 20,
   "metadata": {},
   "outputs": [
    {
     "name": "stdout",
     "output_type": "stream",
     "text": [
      "[[1, 2, 7]]\n"
     ]
    }
   ],
   "source": [
    "\n",
    "edge_path = grafo.get_shortest_paths(0,7, output = 'epath')\n",
    "\n",
    "print(edge_path)"
   ]
  },
  {
   "cell_type": "markdown",
   "metadata": {},
   "source": [
    "### Mostrar o caminho e a somatória dos pesos"
   ]
  },
  {
   "cell_type": "markdown",
   "metadata": {},
   "source": [
    "Neste código, estamos calculando a distância total ao longo de um caminho específico em um grafo. Primeiro, identificamos os vértices nesse caminho e armazenamos seus IDs em \"edge_path_id\". Em seguida, percorremos todas as arestas do grafo e somamos os pesos (ou distâncias) das arestas que fazem parte desse caminho. O resultado final, armazenado em \"distances_between_vertices\", representa a distância total percorrida ao longo desse caminho no grafo."
   ]
  },
  {
   "cell_type": "code",
   "execution_count": 25,
   "metadata": {},
   "outputs": [
    {
     "name": "stdout",
     "output_type": "stream",
     "text": [
      "4\n"
     ]
    }
   ],
   "source": [
    "\n",
    "edge_path_id = [n for n in edge_path[0]]\n",
    "\n",
    "distances_between_vertices = 0\n",
    "for e in grafo.es:\n",
    "    if e.index in edge_path_id:\n",
    "        distances_between_vertices += grafo.es[e.index]['weight']\n",
    "\n",
    "print(distances_between_vertices)"
   ]
  },
  {
   "cell_type": "code",
   "execution_count": null,
   "metadata": {},
   "outputs": [],
   "source": []
  }
 ],
 "metadata": {
  "jupytext": {
   "cell_metadata_filter": "-all",
   "main_language": "python",
   "notebook_metadata_filter": "-all"
  },
  "kernelspec": {
   "display_name": "Python 3",
   "language": "python",
   "name": "python3"
  },
  "language_info": {
   "codemirror_mode": {
    "name": "ipython",
    "version": 3
   },
   "file_extension": ".py",
   "mimetype": "text/x-python",
   "name": "python",
   "nbconvert_exporter": "python",
   "pygments_lexer": "ipython3",
   "version": "3.11.3"
  }
 },
 "nbformat": 4,
 "nbformat_minor": 4
}
