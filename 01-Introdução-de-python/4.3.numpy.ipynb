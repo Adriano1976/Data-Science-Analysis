{
 "cells": [
  {
   "cell_type": "markdown",
   "metadata": {
    "id": "zB7-Ba0_l9Qb"
   },
   "source": [
    "# Formação Cientista de Dados\n",
    "Prof. Fernando Amaral\n",
    "\n",
    "numpy"
   ]
  },
  {
   "cell_type": "code",
   "execution_count": 1,
   "metadata": {
    "id": "OI04MPtZjwn4"
   },
   "outputs": [],
   "source": [
    "# Este código importa a biblioteca NumPy e a renomeia como \"np\".\n",
    "\n",
    "import numpy as np"
   ]
  },
  {
   "cell_type": "code",
   "execution_count": 2,
   "metadata": {
    "colab": {
     "base_uri": "https://localhost:8080/"
    },
    "id": "ZhUgy5a5j7zR",
    "outputId": "bfecc80c-6149-4352-eb87-229a7d3b30d1"
   },
   "outputs": [
    {
     "name": "stdout",
     "output_type": "stream",
     "text": [
      "[12 34 26 18 10]\n",
      "<class 'numpy.ndarray'>\n"
     ]
    }
   ],
   "source": [
    "# Cria uma matriz unidimensional (mt)\n",
    "# O código cria uma matriz de números e a exibe, mostrando o tipo de dado utilizado.\n",
    "\n",
    "mt = np.array([12,34,26,18,10])\n",
    "print(mt)\n",
    "print(type(mt))"
   ]
  },
  {
   "cell_type": "code",
   "execution_count": 3,
   "metadata": {
    "colab": {
     "base_uri": "https://localhost:8080/"
    },
    "id": "YL92103Mj9dS",
    "outputId": "141a6936-28ed-4570-9fe4-5c478693f7a0"
   },
   "outputs": [
    {
     "name": "stdout",
     "output_type": "stream",
     "text": [
      "[1. 2. 3.]\n",
      "<class 'numpy.ndarray'>\n",
      "[1 2 3]\n",
      "<class 'numpy.ndarray'>\n"
     ]
    }
   ],
   "source": [
    "# Criar o array com um tipo específico.\n",
    "# Este código cria dois arrays numéricos usando a biblioteca NumPy: um array de números reais \n",
    "# (floats de 64 bits) e um array de números inteiros (inteiros de 32 bits), demonstrando o uso \n",
    "# de tipos de dados específicos em arrays.\n",
    "\n",
    "mtfloat = np.array([1, 2, 3], dtype = np.float64)\n",
    "print(mtfloat)\n",
    "print(type(mtfloat))\n",
    "mtint = np.array([1, 2, 3], dtype = np.int32)\n",
    "print(mtint)\n",
    "print(type(mtint))"
   ]
  },
  {
   "cell_type": "code",
   "execution_count": 10,
   "metadata": {
    "colab": {
     "base_uri": "https://localhost:8080/"
    },
    "id": "bZGaK3KGkQCK",
    "outputId": "5fd0e0c3-a72b-420b-840b-d14eb83065cc"
   },
   "outputs": [
    {
     "name": "stdout",
     "output_type": "stream",
     "text": [
      "[ 1.4       3.6      -5.1       9.42      4.999999]\n",
      "[ 1  3 -5  9  4]\n"
     ]
    }
   ],
   "source": [
    "# Mudar o tipo do array.\n",
    "# Este código cria um array de números reais, mostra os números originais e, \n",
    "# em seguida, converte esses números em números inteiros, exibindo a versão \n",
    "# truncada dos números inteiros resultantes.\n",
    "\n",
    "mtnew = np.array([1.4, 3.6, -5.1, 9.42, 4.999999])\n",
    "print(mtnew)\n",
    "\n",
    "# quando transformamos de float para int os valores são truncados.\n",
    "\n",
    "mtnewint = mtnew.astype(np.int32)\n",
    "print(mtnewint)"
   ]
  },
  {
   "cell_type": "code",
   "execution_count": 5,
   "metadata": {
    "colab": {
     "base_uri": "https://localhost:8080/"
    },
    "id": "GPkQHO_AkVf6",
    "outputId": "5b8234a0-b5d1-4111-8168-8ef63a3e99b6"
   },
   "outputs": [
    {
     "name": "stdout",
     "output_type": "stream",
     "text": [
      "[1 2 3 4]\n",
      "[1. 2. 3. 4.]\n"
     ]
    }
   ],
   "source": [
    "# Podemos fazer o inverso também.\n",
    "# Este código cria uma matriz de números inteiros de 1 a 4, mostra essa matriz e, \n",
    "# em seguida, converte essa matriz para números de ponto flutuante e a mostra novamente.\n",
    "\n",
    "mt5 = np.array([1, 2, 3, 4])\n",
    "print(mt5)\n",
    "mt6 = mt5.astype(float)\n",
    "print(mt6)"
   ]
  },
  {
   "cell_type": "code",
   "execution_count": 6,
   "metadata": {
    "colab": {
     "base_uri": "https://localhost:8080/"
    },
    "id": "MKnSocy2kZ5S",
    "outputId": "1b8e72e8-24d0-498a-b141-ea520ad6afff"
   },
   "outputs": [
    {
     "name": "stdout",
     "output_type": "stream",
     "text": [
      "[[ 7  2 23]\n",
      " [12 27  4]\n",
      " [ 5 34 23]]\n"
     ]
    }
   ],
   "source": [
    "# Mais de uma dimensão\n",
    "# O código cria uma matriz de duas dimensões (3x3) usando a biblioteca NumPy e imprime a matriz.\n",
    "\n",
    "mt7 = np.array([[7,2,23],[12,27,4],[5,34,23]])\n",
    "print(mt7)"
   ]
  },
  {
   "cell_type": "code",
   "execution_count": 11,
   "metadata": {
    "colab": {
     "base_uri": "https://localhost:8080/"
    },
    "id": "nX-pK2Bikjzi",
    "outputId": "c7041699-f3b3-464c-b02e-055c0ace266b"
   },
   "outputs": [
    {
     "name": "stdout",
     "output_type": "stream",
     "text": [
      "[[ 1193320256         595]\n",
      " [          0           0]\n",
      " [     131074 -2147483648]]\n",
      "-------\n",
      "[[0. 0. 0.]\n",
      " [0. 0. 0.]\n",
      " [0. 0. 0.]\n",
      " [0. 0. 0.]]\n",
      "-------\n",
      "[[1. 1. 1. 1. 1. 1. 1.]\n",
      " [1. 1. 1. 1. 1. 1. 1.]\n",
      " [1. 1. 1. 1. 1. 1. 1.]\n",
      " [1. 1. 1. 1. 1. 1. 1.]\n",
      " [1. 1. 1. 1. 1. 1. 1.]]\n",
      "-------\n",
      "[[1. 0. 0. 0. 0.]\n",
      " [0. 1. 0. 0. 0.]\n",
      " [0. 0. 1. 0. 0.]\n",
      " [0. 0. 0. 1. 0.]\n",
      " [0. 0. 0. 0. 1.]]\n"
     ]
    }
   ],
   "source": [
    "# Criar arrays vazios tipificados.\n",
    "# Empty significa que não são inicializados, não que são vazios.\n",
    "# Este código utiliza a biblioteca NumPy para criar e imprimir diferentes tipos de matrizes: \n",
    "# um array vazio de números inteiros, uma matriz de zeros, uma matriz de uns e uma matriz \n",
    "# diagonal com uns na diagonal principal e zeros nas outras posições.\n",
    "\n",
    "vazio = np.empty([3,2], dtype = int)\n",
    "print(vazio)\n",
    "print(\"-------\")\n",
    "\n",
    "# cria uma matriz 4x3 com valores zero.\n",
    "\n",
    "zeros = np.zeros([4,3])\n",
    "print(zeros)\n",
    "print(\"-------\")\n",
    "\n",
    "# com valores igual a um.\n",
    "\n",
    "um = np.ones([5,7])\n",
    "print(um)\n",
    "print(\"-------\")\n",
    "\n",
    "# cria matriz quadrada com diagonal principal com valores 1 e os outros valores zero.\n",
    "\n",
    "diagonal = np.eye(5)\n",
    "print(diagonal)\n"
   ]
  },
  {
   "cell_type": "code",
   "execution_count": 12,
   "metadata": {
    "colab": {
     "base_uri": "https://localhost:8080/"
    },
    "id": "lTw3VGFIknOZ",
    "outputId": "7cf3c959-20d5-47dd-dfea-b991d6314d48"
   },
   "outputs": [
    {
     "name": "stdout",
     "output_type": "stream",
     "text": [
      "[0.27855999 0.04362713 0.7398121  0.4075575  0.78012055]\n",
      "-------\n",
      "[-0.39532205  0.43076078 -0.21325318 -0.09915622 -0.25962057]\n",
      "-------\n",
      "[[2.77806413 6.0971635  5.58049    3.01495045]\n",
      " [8.55169549 9.1307168  2.47005877 5.41416424]\n",
      " [2.95372996 5.97114243 1.85456088 4.62827322]]\n",
      "-------\n",
      "[  0.49368893  -9.83978585   7.93369054 -16.40972013  -4.33359426\n",
      "  11.30881126  -5.88750584  11.35642795  -6.35827058  21.75426067]\n"
     ]
    }
   ],
   "source": [
    "# Este código gera e exibe diferentes conjuntos de números aleatórios: \n",
    "# - O primeiro contém valores entre zero e um.\n",
    "# - O segundo contém valores aleatórios seguindo uma distribuição normal (que pode incluir números negativos).\n",
    "#-  O terceiro é uma matriz 3x4 de valores aleatórios multiplicados por 10.\n",
    "# - O quarto é um conjunto de 10 valores aleatórios seguindo uma distribuição normal multiplicados por 10.\n",
    "\n",
    "# Valores aleatórios entre zero e um.\n",
    "ale = np.random.random((5))\n",
    "print(ale)\n",
    "print(\"-------\")\n",
    "\n",
    "# Valores aleatórios distr. normal contendo negativos.\n",
    "ale2= np.random.randn((5))\n",
    "print(ale2)\n",
    "print(\"-------\")\n",
    "\n",
    "# Valores aleatórios 3 x 4.\n",
    "ale3 = (10*np.random.random((3,4)))\n",
    "print(ale3)\n",
    "print(\"-------\")\n",
    "\n",
    "# Valores aleatórios 3 x 4.\n",
    "ale4 = (10*np.random.randn((10)))\n",
    "print(ale4)"
   ]
  },
  {
   "cell_type": "code",
   "execution_count": 13,
   "metadata": {
    "colab": {
     "base_uri": "https://localhost:8080/"
    },
    "id": "EVoyOEg1knRl",
    "outputId": "2b693841-1dde-4e53-f379-f812933bff4f"
   },
   "outputs": [
    {
     "name": "stdout",
     "output_type": "stream",
     "text": [
      "[0.51182162 0.9504637  0.14415961]\n",
      "[[8 9 2 3]\n",
      " [8 4 2 8]\n",
      " [2 4 6 5]]\n"
     ]
    }
   ],
   "source": [
    "# Este código utiliza a biblioteca NumPy para gerar números aleatórios, permitindo controlar \n",
    "# a aleatoriedade usando uma semente específica e criando tanto números decimais quanto inteiros aleatórios.\n",
    "\n",
    "# Gera números decimais\n",
    "gnr = np.random.default_rng(1)\n",
    "ale5 = gnr.random(3)\n",
    "print (ale5)\n",
    "\n",
    "# Gera números inteiros\n",
    "ale6 = gnr.integers(10, size=(3, 4))\n",
    "print(ale6)"
   ]
  },
  {
   "cell_type": "code",
   "execution_count": 6,
   "metadata": {
    "colab": {
     "base_uri": "https://localhost:8080/"
    },
    "id": "AQc45hmnknUQ",
    "outputId": "4e640c49-d5f4-4a7d-b928-02601cb4dbda"
   },
   "outputs": [
    {
     "name": "stdout",
     "output_type": "stream",
     "text": [
      "[11 12 13 14 15 16 17 12 13 11 18 19 20]\n",
      "[11 12 13 14 15 16 17 18 19 20]\n"
     ]
    }
   ],
   "source": [
    "# unique remove repetições.\n",
    "# Este código utiliza a biblioteca NumPy para remover os elementos repetidos do array 'j' \n",
    "# e depois imprime o array sem repetições.\n",
    "\n",
    "j = np.array([11, 12, 13, 14, 15, 16, 17, 12, 13, 11, 18, 19, 20])\n",
    "print(j)\n",
    "j = np.unique(j)\n",
    "print(j)"
   ]
  },
  {
   "cell_type": "code",
   "execution_count": 14,
   "metadata": {
    "colab": {
     "base_uri": "https://localhost:8080/"
    },
    "id": "_P2gyfhIknW3",
    "outputId": "32a3e5f8-790f-4871-ccb2-afd1b8237853"
   },
   "outputs": [
    {
     "name": "stdout",
     "output_type": "stream",
     "text": [
      "[[17 22 43]\n",
      " [27 25 14]\n",
      " [15 24 32]]\n",
      "22\n",
      "(3, 3)\n"
     ]
    }
   ],
   "source": [
    "# Este código cria uma matriz 3x3 chamada \"k\", mostra essa matriz, \n",
    "# exibe um elemento específico dela e imprime as dimensões da matriz.\n",
    "\n",
    "k = np.array([[17,22,43],[27,25,14],[15,24,32]])\n",
    "print(k)\n",
    "print(k[0][1])\n",
    "print(k.shape)"
   ]
  },
  {
   "cell_type": "code",
   "execution_count": 15,
   "metadata": {
    "colab": {
     "base_uri": "https://localhost:8080/"
    },
    "id": "j8aXkWLTknZs",
    "outputId": "cf98845c-c800-4408-f2c3-06994cd22731"
   },
   "outputs": [
    {
     "name": "stdout",
     "output_type": "stream",
     "text": [
      "43\n",
      "14\n",
      "219\n",
      "24.333333333333332\n",
      "8.615231988880057\n"
     ]
    }
   ],
   "source": [
    "# Funções Matemáticas - Esse código calcula e imprime o valor máximo, mínimo, soma, média e \n",
    "#desvio padrão dos valores em uma matriz chamada 'k'.\n",
    "\n",
    "# Mostra o maior valor da matriz k\n",
    "print(k.max())\n",
    "\n",
    "# Mostra o menor valor da matriz k\n",
    "print(k.min())\n",
    "\n",
    "# Mostra a soma dos valores da matriz k\n",
    "print((k.sum()))\n",
    "\n",
    "# Mostra o valor da média dos valores da matriz k\n",
    "print(k.mean())\n",
    "\n",
    "# Mostra o valor do desvio padrão (standard deviation) dos valores da matiz k\n",
    "print(k.std())"
   ]
  },
  {
   "cell_type": "code",
   "execution_count": 16,
   "metadata": {
    "colab": {
     "base_uri": "https://localhost:8080/"
    },
    "id": "VABu58pJkncJ",
    "outputId": "d4b51209-0531-4001-9fa5-4892946695d2"
   },
   "outputs": [
    {
     "name": "stdout",
     "output_type": "stream",
     "text": [
      "[1. 2. 3. 4. 5. 6.]\n",
      "\n",
      "[2.71828183e+00 5.45981500e+01 8.10308393e+03 8.88611052e+06\n",
      " 7.20048993e+10 4.31123155e+15]\n"
     ]
    }
   ],
   "source": [
    "# Funções universais, aplicadas a todos os elementos - Este código utiliza a biblioteca numpy para \n",
    "# calcular e mostrar a raiz quadrada e o valor exponencial de cada elemento presente no array 'k1'.\n",
    "\n",
    "# Mostra o valor da raiz quadrada de todos elementos\n",
    "k1 = np.array([1, 4, 9, 16, 25, 36])\n",
    "print(np.sqrt(k1))\n",
    "print()\n",
    "\n",
    "# Mostra o valor do exponencial de todos elementos\n",
    "print(np.exp(k1))"
   ]
  },
  {
   "cell_type": "code",
   "execution_count": 17,
   "metadata": {
    "colab": {
     "base_uri": "https://localhost:8080/"
    },
    "id": "1tG2157eknfR",
    "outputId": "cb644ca0-5bf1-413e-d43b-84b36ab5a9b3"
   },
   "outputs": [
    {
     "name": "stdout",
     "output_type": "stream",
     "text": [
      "2\n",
      "-------\n",
      "[1 2]\n",
      "-------\n",
      "[ 2  3  4  5  6  7  8  9 10 11 12 13]\n",
      "-------\n",
      "[11 12 13]\n"
     ]
    }
   ],
   "source": [
    "# Extração de elementos - Esse código cria um array de números de 1 a 13 e depois imprime \n",
    "# diferentes partes desse array, incluindo um elemento específico, um subarray dos primeiros \n",
    "# dois elementos, um subarray a partir da segunda posição até o final e um subarray dos três últimos elementos.\n",
    "\n",
    "m = np.array([1, 2, 3, 4, 5, 6, 7, 8, 9, 10, 11, 12, 13])\n",
    "\n",
    "# Mostra o elemento da posição 2.\n",
    "print(m[1])\n",
    "print(\"-------\")\n",
    "\n",
    "# Mostra o array criado a partir da posição 0, dois elementos.\n",
    "print(m[0:2])\n",
    "print(\"-------\")\n",
    "\n",
    "# Mostra o array criado a partir da 2a posição até todo o restante do array.\n",
    "print(m[1:])\n",
    "print(\"-------\")\n",
    "\n",
    "# Mostra o array criado a partir da antepenúltima posição até o final.\n",
    "print(m[-3:])"
   ]
  },
  {
   "cell_type": "code",
   "execution_count": 18,
   "metadata": {
    "colab": {
     "base_uri": "https://localhost:8080/"
    },
    "id": "ADaB3vqBlOIZ",
    "outputId": "2fb2b003-ad6d-4d38-c314-eb12b2b34caf"
   },
   "outputs": [
    {
     "name": "stdout",
     "output_type": "stream",
     "text": [
      "[[4 5]\n",
      " [6 1]\n",
      " [7 4]]\n",
      "-----------\n",
      "[4 5]\n",
      "-----------\n",
      "[6 1]\n",
      "-----------\n",
      "[7 4]\n",
      "-----------\n",
      "[4 6 7]\n",
      "-----------\n",
      "[5 1 4]\n"
     ]
    }
   ],
   "source": [
    "# Este código utiliza a biblioteca NumPy para criar uma matriz de números, em seguida, \n",
    "# extrai e imprime diferentes partes dessa matriz, incluindo a primeira linha, todas as \n",
    "# linhas, primeira coluna e segunda coluna.\n",
    "\n",
    "# Extração de linhas e colunas.\n",
    "l = np.array([[4, 5], [6, 1], [7, 4]])\n",
    "print(l)\n",
    "print(\"-----------\")\n",
    "\n",
    "# Primeira linha, todas as colunas.\n",
    "l_linha_1 = l[0, :]\n",
    "print(l_linha_1)\n",
    "print(\"-----------\")\n",
    "\n",
    "# Segunda linha.\n",
    "l_linha_2 = l[1, :]\n",
    "print(l_linha_2)\n",
    "print(\"-----------\")\n",
    "\n",
    "# Terceira linha.\n",
    "l_linha_3 = l[2, :]\n",
    "print(l_linha_3)\n",
    "print(\"-----------\")\n",
    "\n",
    "# Todas as linhas, primeira coluna.\n",
    "l_coluna_1 = l[:, 0]\n",
    "print(l_coluna_1)\n",
    "print(\"-----------\")\n",
    "\n",
    "# Todas as linhas, segunda coluna.\n",
    "l_coluna_2 = l[:, 1]\n",
    "print(l_coluna_2)"
   ]
  },
  {
   "cell_type": "code",
   "execution_count": 19,
   "metadata": {
    "colab": {
     "base_uri": "https://localhost:8080/"
    },
    "id": "cO6JDvu7lOLp",
    "outputId": "876aa155-8ae6-42fd-c5ef-79d00a5268e7"
   },
   "outputs": [
    {
     "name": "stdout",
     "output_type": "stream",
     "text": [
      "[[2 3]\n",
      " [4 5]]\n",
      "-----------\n",
      "[[1 2]\n",
      " [3 4]]\n",
      "-----------\n",
      "[[3 3]\n",
      " [5 5]\n",
      " [7 7]]\n"
     ]
    }
   ],
   "source": [
    "# Este código realiza operações com matrizes: primeiro, ele adiciona e multiplica duas \n",
    "# matrizes \"n\" e \"o\", depois imprime os resultados; em seguida, ele adiciona a matriz \"q\" à \n",
    "# matriz \"p\" e imprime o resultado dessa adição.\n",
    "\n",
    "# Adição e multiplicação de matrizes.\n",
    "n = np.array([[1, 2], [3, 4]])\n",
    "o = np.array([[1, 1], [1, 1]])\n",
    "\n",
    "# Adição entre duas matrizes.\n",
    "res1 = n + o\n",
    "print(res1)\n",
    "print(\"-----------\")\n",
    "\n",
    "# Multiplicação entre 2 matrizes.\n",
    "res2 = n * o\n",
    "print(res2)\n",
    "print(\"-----------\")\n",
    "\n",
    "# Adição entre duas matrizes durante a impressão.\n",
    "p = np.array([[1, 2], [3, 4], [5, 6]])\n",
    "q = np.array([[2, 1]])\n",
    "print(p + q)"
   ]
  },
  {
   "cell_type": "code",
   "execution_count": 21,
   "metadata": {
    "colab": {
     "base_uri": "https://localhost:8080/"
    },
    "id": "urJQ-BtKlOOT",
    "outputId": "38e7443a-9b44-4ba7-b0a2-a84101aa50e3"
   },
   "outputs": [
    {
     "name": "stdout",
     "output_type": "stream",
     "text": [
      "[[ 0  1  2  3  4]\n",
      " [ 5  6  7  8  9]\n",
      " [10 11 12 13 14]]\n",
      "-----------------\n",
      "[[ 0  5 10]\n",
      " [ 1  6 11]\n",
      " [ 2  7 12]\n",
      " [ 3  8 13]\n",
      " [ 4  9 14]]\n"
     ]
    }
   ],
   "source": [
    "# Transposição, rearranja um conjunto de 15 elementos de 0 a 14 .\n",
    "# O código cria uma matriz 3x5 com números de 0 a 14, mostra a matriz original e, em seguida, \n",
    "# mostra a matriz transposta (linhas e colunas trocadas).\n",
    "\n",
    "# Mostra 3 linhas e 5 colunas.\n",
    "f = np.arange(15).reshape((3, 5))\n",
    "\n",
    "# Mostra a matrizes transposta entre linha e coluna\n",
    "print(f)\n",
    "print(\"-----------------\")\n",
    "s = f.T\n",
    "print(s)"
   ]
  },
  {
   "cell_type": "code",
   "execution_count": 23,
   "metadata": {
    "colab": {
     "base_uri": "https://localhost:8080/"
    },
    "id": "6v0SlBz4lORB",
    "outputId": "00eda794-b183-40cd-e875-9c925cc734d4"
   },
   "outputs": [
    {
     "name": "stdout",
     "output_type": "stream",
     "text": [
      "[[ 0  1  2  3  4]\n",
      " [ 5  6  7  8  9]\n",
      " [10 11 12 13 14]]\n",
      "---------------------\n",
      "[[ 0  5 10]\n",
      " [ 1  6 11]\n",
      " [ 2  7 12]\n",
      " [ 3  8 13]\n",
      " [ 4  9 14]]\n"
     ]
    }
   ],
   "source": [
    "# O código cria uma matriz 3x5 usando numpy, depois mostra a matriz original e sua transposta.\n",
    "\n",
    "# Outra forma de fazer com o mesmo resultado.\n",
    "r = np.arange(15).reshape((3, 5))\n",
    "print(r)\n",
    "print(\"---------------------\")\n",
    "\n",
    "# Rearranja um conjunto de 15 elementos e mostra a matrizes transposta entre linha e coluna.\n",
    "s = r.transpose((1,0))\n",
    "print(s)\n"
   ]
  },
  {
   "cell_type": "code",
   "execution_count": 24,
   "metadata": {
    "colab": {
     "base_uri": "https://localhost:8080/"
    },
    "id": "6RcwvarDlv8i",
    "outputId": "c2738f2f-7c74-4d30-c88d-55bebcde48ec"
   },
   "outputs": [
    {
     "name": "stdout",
     "output_type": "stream",
     "text": [
      "[[-0.36540208  0.40183553  0.590876    0.35236738]\n",
      " [ 0.09628865 -1.15452083 -1.15158663 -2.87953221]\n",
      " [-0.79949553  1.2760657  -0.70011352  1.09644254]\n",
      " [-0.47181098  1.6143356  -0.63418684 -1.41299392]]\n",
      "------------------------------------------------------\n",
      "[[False  True  True  True]\n",
      " [ True False False False]\n",
      " [False  True False  True]\n",
      " [False  True False False]]\n",
      "------------------------------------------------------\n",
      "[[-1  1  1  1]\n",
      " [ 1 -1 -1 -1]\n",
      " [-1  1 -1  1]\n",
      " [-1  1 -1 -1]]\n"
     ]
    }
   ],
   "source": [
    "# Expressões lógicas - Este código cria e manipula matrizes usando expressões lógicas: \n",
    "# ele gera uma matriz de números aleatórios, cria uma matriz booleana com base nessa matriz \n",
    "# original e, em seguida, cria uma matriz onde os valores positivos da matriz booleana são \n",
    "# substituídos por 1 e os valores negativos são substituídos por -1.\n",
    "\n",
    "# Criando matriz com valores aleatórios positivos e negativos\n",
    "v = np.random.randn(4, 4)\n",
    "print(v)\n",
    "print(\"------------------------------------------------------\")\n",
    "\n",
    "# Criando matriz com valores booleanos baseado no array v\n",
    "x = (v > 0)\n",
    "print(x)\n",
    "print(\"------------------------------------------------------\")\n",
    "\n",
    "# Criando matriz com valores -1 e 1 baseado nos valores do array x\n",
    "z = np.where(x > 0, 1, -1)\n",
    "print(z)\n"
   ]
  }
 ],
 "metadata": {
  "colab": {
   "name": "numpy.ipynb",
   "provenance": []
  },
  "kernelspec": {
   "display_name": "Python 3",
   "language": "python",
   "name": "python3"
  },
  "language_info": {
   "codemirror_mode": {
    "name": "ipython",
    "version": 3
   },
   "file_extension": ".py",
   "mimetype": "text/x-python",
   "name": "python",
   "nbconvert_exporter": "python",
   "pygments_lexer": "ipython3",
   "version": "3.11.3"
  }
 },
 "nbformat": 4,
 "nbformat_minor": 4
}
