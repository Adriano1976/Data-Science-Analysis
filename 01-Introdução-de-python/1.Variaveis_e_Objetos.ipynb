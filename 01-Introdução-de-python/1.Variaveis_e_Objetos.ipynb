{
 "cells": [
  {
   "cell_type": "markdown",
   "metadata": {},
   "source": [
    "# Formação Cientista de Dados - Prof. Fernando Amaral\n",
    "Variáveis e Objetos"
   ]
  },
  {
   "cell_type": "code",
   "execution_count": 3,
   "metadata": {},
   "outputs": [
    {
     "name": "stdout",
     "output_type": "stream",
     "text": [
      "1\n",
      "3.13\n",
      "Python\n",
      "False\n"
     ]
    }
   ],
   "source": [
    "# Cria variável do tipo inteiro\n",
    "x = 1\n",
    "print(x)\n",
    "\n",
    "# Cria variável do tipo float\n",
    "y = 3.13\n",
    "print(y)\n",
    "\n",
    "# Cria variável do tipo string\n",
    "m = \"Python\"\n",
    "m = 'Python'\n",
    "print(m)\n",
    "\n",
    "# Cria variável do tipo lógica\n",
    "w = True  \n",
    "y = False\n",
    "print(y)"
   ]
  },
  {
   "cell_type": "code",
   "execution_count": 4,
   "metadata": {},
   "outputs": [
    {
     "name": "stdout",
     "output_type": "stream",
     "text": [
      "30.0\n"
     ]
    }
   ],
   "source": [
    "# Esse código é uma calculadora que soma 10 com 20, multiplica o resultado por 100 e \n",
    "# divide por 100, então imprime o valor final.\n",
    "\n",
    "x = 10\n",
    "y = 20\n",
    "z = 100\n",
    "w = (x + y) * z / 100\n",
    "print(w)"
   ]
  },
  {
   "cell_type": "code",
   "execution_count": 5,
   "metadata": {},
   "outputs": [
    {
     "name": "stdout",
     "output_type": "stream",
     "text": [
      "Este texto será impresso no console\n",
      "10\n",
      "Texto e duas variáveis:  10 ,  100\n"
     ]
    }
   ],
   "source": [
    "# Este código exibe mensagens de texto no console, incluindo o valor de duas variáveis, \"x\" e \"z\".\n",
    "\n",
    "print(\"Este texto será impresso no console\")\n",
    "print(x)\n",
    "print(\"Texto e duas variáveis: \", x ,\", \", z)"
   ]
  },
  {
   "cell_type": "code",
   "execution_count": 6,
   "metadata": {},
   "outputs": [
    {
     "name": "stdout",
     "output_type": "stream",
     "text": [
      "<class 'int'>\n",
      "<class 'str'>\n"
     ]
    }
   ],
   "source": [
    "# Verificar tipo - Esse código imprime o tipo (classe) das variáveis \"x\" e \"m\".\n",
    "\n",
    "print(type(x))\n",
    "print(type(m))"
   ]
  },
  {
   "cell_type": "code",
   "execution_count": 9,
   "metadata": {},
   "outputs": [
    {
     "name": "stdout",
     "output_type": "stream",
     "text": [
      "Informe o valor: \n",
      "<class 'str'>\n"
     ]
    }
   ],
   "source": [
    "# Este código pede ao usuário para inserir um valor, armazena o valor como uma sequência \n",
    "# de caracteres (string) e, em seguida, exibe o tipo desse valor (string).\n",
    "\n",
    "# Entrada de dados\n",
    "print(\"Informe o valor: \")\n",
    "i = input()\n",
    "\n",
    "# Mostra tipo string\n",
    "print(type(i))"
   ]
  },
  {
   "cell_type": "code",
   "execution_count": 10,
   "metadata": {},
   "outputs": [
    {
     "name": "stdout",
     "output_type": "stream",
     "text": [
      "Informe o valor: \n"
     ]
    }
   ],
   "source": [
    "# Este código solicita que o usuário insira um valor e armazena esse valor na variável \"i\".\n",
    "\n",
    "# Entrada de valor com msg separada e junto\n",
    "print(\"Informe o valor: \")\n",
    "i = input()\n",
    "# ou\n",
    "i = input(\"Informe o valor: \")"
   ]
  },
  {
   "cell_type": "code",
   "execution_count": 12,
   "metadata": {},
   "outputs": [
    {
     "name": "stdout",
     "output_type": "stream",
     "text": [
      "<class 'str'>\n",
      "<class 'int'>\n"
     ]
    }
   ],
   "source": [
    "# Este código pede ao usuário um valor, verifica o tipo original desse valor (que é uma string), \n",
    "# converte-o para um número inteiro e, em seguida, exibe o tipo após a conversão (que será um inteiro).\n",
    "\n",
    "# Conversão de valores para inteiro.\n",
    "var = input(\"Informe o valor: \")\n",
    "print(type(var))\n",
    "var = int(var)\n",
    "print(type(var))"
   ]
  },
  {
   "cell_type": "code",
   "execution_count": 15,
   "metadata": {},
   "outputs": [
    {
     "name": "stdout",
     "output_type": "stream",
     "text": [
      "<class 'str'>\n",
      "<class 'float'>\n"
     ]
    }
   ],
   "source": [
    "# Este código solicita ao usuário um valor, verifica e imprime o tipo desse valor como \n",
    "# inicialmente sendo uma string e, em seguida, converte-o para um número decimal (float) \n",
    "# e imprime novamente o tipo resultante.\n",
    "\n",
    "# Conversão de valores para float\n",
    "var = input(\"Informe o valor: \")\n",
    "print(type(var))\n",
    "var = float(var)\n",
    "print(type(var))"
   ]
  },
  {
   "cell_type": "code",
   "execution_count": 16,
   "metadata": {},
   "outputs": [],
   "source": [
    "# Este código define a variável X com o valor 10, utilizando comentários para explicar o processo.\n",
    "\n",
    "# Este texto é um comentário\n",
    "X = 10  # a partir daqui é um comentário"
   ]
  },
  {
   "cell_type": "code",
   "execution_count": null,
   "metadata": {},
   "outputs": [],
   "source": []
  }
 ],
 "metadata": {
  "kernelspec": {
   "display_name": "Python 3",
   "language": "python",
   "name": "python3"
  },
  "language_info": {
   "codemirror_mode": {
    "name": "ipython",
    "version": 3
   },
   "file_extension": ".py",
   "mimetype": "text/x-python",
   "name": "python",
   "nbconvert_exporter": "python",
   "pygments_lexer": "ipython3",
   "version": "3.11.3"
  }
 },
 "nbformat": 4,
 "nbformat_minor": 4
}
