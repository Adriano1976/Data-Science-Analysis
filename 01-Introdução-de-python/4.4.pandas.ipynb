{
 "cells": [
  {
   "cell_type": "markdown",
   "metadata": {
    "id": "sYSUpqL-9WKY"
   },
   "source": [
    "# Formação Cientista de Dados\n",
    "\n",
    "Pandas\n",
    "\n",
    "Prof. Fernando Amaral"
   ]
  },
  {
   "cell_type": "code",
   "execution_count": null,
   "metadata": {
    "id": "hbrk7fkw9Yzj"
   },
   "outputs": [],
   "source": [
    "# O código importa a biblioteca Pandas com um apelido \"pd\" para facilitar \n",
    "# o uso e manipulação de dados tabulares em Python.\n",
    "\n",
    "import pandas as pd"
   ]
  },
  {
   "cell_type": "code",
   "execution_count": null,
   "metadata": {
    "id": "XbpyywLT9Y26"
   },
   "outputs": [],
   "source": [
    "# Carrega arquivo para dataframe Pandas.\n",
    "# O código carrega o arquivo \"Credit.csv\" em um DataFrame do Pandas e verifica o número \n",
    "# de linhas e colunas no DataFrame resultante.\n",
    "\n",
    "dados = pd.read_csv(\"..\\dados\\Credit.csv\") \n",
    "dados.shape"
   ]
  },
  {
   "cell_type": "code",
   "execution_count": null,
   "metadata": {
    "id": "xIILAe8iAwaG"
   },
   "outputs": [],
   "source": [
    "# Resumo estatístico de colunas numéricas:\n",
    "# count: Número de valores não nulos na coluna.\n",
    "# mean: Média dos valores na coluna.\n",
    "# std: Desvio padrão dos valores na coluna.\n",
    "# min: Valor mínimo na coluna.\n",
    "# 25%, 50%, 75%: Quartis (percentis) correspondentes a 25%, 50% (mediana) e 75% dos valores na coluna.\n",
    "\n",
    "dados.describe()"
   ]
  },
  {
   "cell_type": "code",
   "execution_count": 30,
   "metadata": {
    "id": "l1jeBCwxA8PW"
   },
   "outputs": [
    {
     "data": {
      "text/html": [
       "<div>\n",
       "<style scoped>\n",
       "    .dataframe tbody tr th:only-of-type {\n",
       "        vertical-align: middle;\n",
       "    }\n",
       "\n",
       "    .dataframe tbody tr th {\n",
       "        vertical-align: top;\n",
       "    }\n",
       "\n",
       "    .dataframe thead th {\n",
       "        text-align: right;\n",
       "    }\n",
       "</style>\n",
       "<table border=\"1\" class=\"dataframe\">\n",
       "  <thead>\n",
       "    <tr style=\"text-align: right;\">\n",
       "      <th></th>\n",
       "      <th>duration</th>\n",
       "      <th>credit_history</th>\n",
       "      <th>purpose</th>\n",
       "      <th>credit_amount</th>\n",
       "      <th>savings_status</th>\n",
       "      <th>employment</th>\n",
       "      <th>installment_commitment</th>\n",
       "      <th>personal_status</th>\n",
       "      <th>other_parties</th>\n",
       "      <th>residence_since</th>\n",
       "      <th>property_magnitude</th>\n",
       "      <th>age</th>\n",
       "      <th>other_payment_plans</th>\n",
       "      <th>housing</th>\n",
       "      <th>existing_credits</th>\n",
       "      <th>job</th>\n",
       "      <th>num_dependents</th>\n",
       "      <th>own_telephone</th>\n",
       "      <th>foreign_worker</th>\n",
       "      <th>class</th>\n",
       "    </tr>\n",
       "  </thead>\n",
       "  <tbody>\n",
       "    <tr>\n",
       "      <th>0</th>\n",
       "      <td>6</td>\n",
       "      <td>'critical/other existing credit'</td>\n",
       "      <td>radio/tv</td>\n",
       "      <td>1169</td>\n",
       "      <td>'no known savings'</td>\n",
       "      <td>&gt;=7</td>\n",
       "      <td>4</td>\n",
       "      <td>'male single'</td>\n",
       "      <td>none</td>\n",
       "      <td>4</td>\n",
       "      <td>'real estate'</td>\n",
       "      <td>67</td>\n",
       "      <td>none</td>\n",
       "      <td>own</td>\n",
       "      <td>2</td>\n",
       "      <td>skilled</td>\n",
       "      <td>1</td>\n",
       "      <td>yes</td>\n",
       "      <td>yes</td>\n",
       "      <td>good</td>\n",
       "    </tr>\n",
       "    <tr>\n",
       "      <th>1</th>\n",
       "      <td>48</td>\n",
       "      <td>'existing paid'</td>\n",
       "      <td>radio/tv</td>\n",
       "      <td>5951</td>\n",
       "      <td>&lt;100</td>\n",
       "      <td>1&lt;=X&lt;4</td>\n",
       "      <td>2</td>\n",
       "      <td>'female div/dep/mar'</td>\n",
       "      <td>none</td>\n",
       "      <td>2</td>\n",
       "      <td>'real estate'</td>\n",
       "      <td>22</td>\n",
       "      <td>none</td>\n",
       "      <td>own</td>\n",
       "      <td>1</td>\n",
       "      <td>skilled</td>\n",
       "      <td>1</td>\n",
       "      <td>none</td>\n",
       "      <td>yes</td>\n",
       "      <td>bad</td>\n",
       "    </tr>\n",
       "    <tr>\n",
       "      <th>2</th>\n",
       "      <td>12</td>\n",
       "      <td>'critical/other existing credit'</td>\n",
       "      <td>education</td>\n",
       "      <td>2096</td>\n",
       "      <td>&lt;100</td>\n",
       "      <td>4&lt;=X&lt;7</td>\n",
       "      <td>2</td>\n",
       "      <td>'male single'</td>\n",
       "      <td>none</td>\n",
       "      <td>3</td>\n",
       "      <td>'real estate'</td>\n",
       "      <td>49</td>\n",
       "      <td>none</td>\n",
       "      <td>own</td>\n",
       "      <td>1</td>\n",
       "      <td>'unskilled resident'</td>\n",
       "      <td>2</td>\n",
       "      <td>none</td>\n",
       "      <td>yes</td>\n",
       "      <td>good</td>\n",
       "    </tr>\n",
       "    <tr>\n",
       "      <th>3</th>\n",
       "      <td>42</td>\n",
       "      <td>'existing paid'</td>\n",
       "      <td>furniture/equipment</td>\n",
       "      <td>7882</td>\n",
       "      <td>&lt;100</td>\n",
       "      <td>4&lt;=X&lt;7</td>\n",
       "      <td>2</td>\n",
       "      <td>'male single'</td>\n",
       "      <td>guarantor</td>\n",
       "      <td>4</td>\n",
       "      <td>'life insurance'</td>\n",
       "      <td>45</td>\n",
       "      <td>none</td>\n",
       "      <td>'for free'</td>\n",
       "      <td>1</td>\n",
       "      <td>skilled</td>\n",
       "      <td>2</td>\n",
       "      <td>none</td>\n",
       "      <td>yes</td>\n",
       "      <td>good</td>\n",
       "    </tr>\n",
       "    <tr>\n",
       "      <th>4</th>\n",
       "      <td>24</td>\n",
       "      <td>'delayed previously'</td>\n",
       "      <td>'new car'</td>\n",
       "      <td>4870</td>\n",
       "      <td>&lt;100</td>\n",
       "      <td>1&lt;=X&lt;4</td>\n",
       "      <td>3</td>\n",
       "      <td>'male single'</td>\n",
       "      <td>none</td>\n",
       "      <td>4</td>\n",
       "      <td>'no known property'</td>\n",
       "      <td>53</td>\n",
       "      <td>none</td>\n",
       "      <td>'for free'</td>\n",
       "      <td>2</td>\n",
       "      <td>skilled</td>\n",
       "      <td>2</td>\n",
       "      <td>none</td>\n",
       "      <td>yes</td>\n",
       "      <td>bad</td>\n",
       "    </tr>\n",
       "  </tbody>\n",
       "</table>\n",
       "</div>"
      ],
      "text/plain": [
       "   duration                    credit_history              purpose  \\\n",
       "0         6  'critical/other existing credit'             radio/tv   \n",
       "1        48                   'existing paid'             radio/tv   \n",
       "2        12  'critical/other existing credit'            education   \n",
       "3        42                   'existing paid'  furniture/equipment   \n",
       "4        24              'delayed previously'            'new car'   \n",
       "\n",
       "   credit_amount      savings_status employment  installment_commitment  \\\n",
       "0           1169  'no known savings'        >=7                       4   \n",
       "1           5951                <100     1<=X<4                       2   \n",
       "2           2096                <100     4<=X<7                       2   \n",
       "3           7882                <100     4<=X<7                       2   \n",
       "4           4870                <100     1<=X<4                       3   \n",
       "\n",
       "        personal_status other_parties  residence_since   property_magnitude  \\\n",
       "0         'male single'          none                4        'real estate'   \n",
       "1  'female div/dep/mar'          none                2        'real estate'   \n",
       "2         'male single'          none                3        'real estate'   \n",
       "3         'male single'     guarantor                4     'life insurance'   \n",
       "4         'male single'          none                4  'no known property'   \n",
       "\n",
       "   age other_payment_plans     housing  existing_credits  \\\n",
       "0   67                none         own                 2   \n",
       "1   22                none         own                 1   \n",
       "2   49                none         own                 1   \n",
       "3   45                none  'for free'                 1   \n",
       "4   53                none  'for free'                 2   \n",
       "\n",
       "                    job  num_dependents own_telephone foreign_worker class  \n",
       "0               skilled               1           yes            yes  good  \n",
       "1               skilled               1          none            yes   bad  \n",
       "2  'unskilled resident'               2          none            yes  good  \n",
       "3               skilled               2          none            yes  good  \n",
       "4               skilled               2          none            yes   bad  "
      ]
     },
     "execution_count": 30,
     "metadata": {},
     "output_type": "execute_result"
    }
   ],
   "source": [
    "# Primeiros registros.\n",
    "# Esse código exibe as primeiras linhas dos dados no DataFrame.\n",
    "\n",
    "dados.head()"
   ]
  },
  {
   "cell_type": "code",
   "execution_count": 31,
   "metadata": {
    "id": "YwBTbeE_B23c"
   },
   "outputs": [
    {
     "data": {
      "text/html": [
       "<div>\n",
       "<style scoped>\n",
       "    .dataframe tbody tr th:only-of-type {\n",
       "        vertical-align: middle;\n",
       "    }\n",
       "\n",
       "    .dataframe tbody tr th {\n",
       "        vertical-align: top;\n",
       "    }\n",
       "\n",
       "    .dataframe thead th {\n",
       "        text-align: right;\n",
       "    }\n",
       "</style>\n",
       "<table border=\"1\" class=\"dataframe\">\n",
       "  <thead>\n",
       "    <tr style=\"text-align: right;\">\n",
       "      <th></th>\n",
       "      <th>duration</th>\n",
       "      <th>credit_history</th>\n",
       "      <th>purpose</th>\n",
       "      <th>credit_amount</th>\n",
       "      <th>savings_status</th>\n",
       "      <th>employment</th>\n",
       "      <th>installment_commitment</th>\n",
       "      <th>personal_status</th>\n",
       "      <th>other_parties</th>\n",
       "      <th>residence_since</th>\n",
       "      <th>property_magnitude</th>\n",
       "      <th>age</th>\n",
       "      <th>other_payment_plans</th>\n",
       "      <th>housing</th>\n",
       "      <th>existing_credits</th>\n",
       "      <th>job</th>\n",
       "      <th>num_dependents</th>\n",
       "      <th>own_telephone</th>\n",
       "      <th>foreign_worker</th>\n",
       "      <th>class</th>\n",
       "    </tr>\n",
       "  </thead>\n",
       "  <tbody>\n",
       "    <tr>\n",
       "      <th>998</th>\n",
       "      <td>45</td>\n",
       "      <td>'existing paid'</td>\n",
       "      <td>radio/tv</td>\n",
       "      <td>1845</td>\n",
       "      <td>&lt;100</td>\n",
       "      <td>1&lt;=X&lt;4</td>\n",
       "      <td>4</td>\n",
       "      <td>'male single'</td>\n",
       "      <td>none</td>\n",
       "      <td>4</td>\n",
       "      <td>'no known property'</td>\n",
       "      <td>23</td>\n",
       "      <td>none</td>\n",
       "      <td>'for free'</td>\n",
       "      <td>1</td>\n",
       "      <td>skilled</td>\n",
       "      <td>1</td>\n",
       "      <td>yes</td>\n",
       "      <td>yes</td>\n",
       "      <td>bad</td>\n",
       "    </tr>\n",
       "    <tr>\n",
       "      <th>999</th>\n",
       "      <td>45</td>\n",
       "      <td>'critical/other existing credit'</td>\n",
       "      <td>'used car'</td>\n",
       "      <td>4576</td>\n",
       "      <td>100&lt;=X&lt;500</td>\n",
       "      <td>unemployed</td>\n",
       "      <td>3</td>\n",
       "      <td>'male single'</td>\n",
       "      <td>none</td>\n",
       "      <td>4</td>\n",
       "      <td>car</td>\n",
       "      <td>27</td>\n",
       "      <td>none</td>\n",
       "      <td>own</td>\n",
       "      <td>1</td>\n",
       "      <td>skilled</td>\n",
       "      <td>1</td>\n",
       "      <td>none</td>\n",
       "      <td>yes</td>\n",
       "      <td>good</td>\n",
       "    </tr>\n",
       "  </tbody>\n",
       "</table>\n",
       "</div>"
      ],
      "text/plain": [
       "     duration                    credit_history     purpose  credit_amount  \\\n",
       "998        45                   'existing paid'    radio/tv           1845   \n",
       "999        45  'critical/other existing credit'  'used car'           4576   \n",
       "\n",
       "    savings_status  employment  installment_commitment personal_status  \\\n",
       "998           <100      1<=X<4                       4   'male single'   \n",
       "999     100<=X<500  unemployed                       3   'male single'   \n",
       "\n",
       "    other_parties  residence_since   property_magnitude  age  \\\n",
       "998          none                4  'no known property'   23   \n",
       "999          none                4                  car   27   \n",
       "\n",
       "    other_payment_plans     housing  existing_credits      job  \\\n",
       "998                none  'for free'                 1  skilled   \n",
       "999                none         own                 1  skilled   \n",
       "\n",
       "     num_dependents own_telephone foreign_worker class  \n",
       "998               1           yes            yes   bad  \n",
       "999               1          none            yes  good  "
      ]
     },
     "execution_count": 31,
     "metadata": {},
     "output_type": "execute_result"
    }
   ],
   "source": [
    "# Últimos registros, com parâmetros.\n",
    "# Esse código mostra os dois últimos registros no conjunto de dados \"dados\".\n",
    "\n",
    "dados.tail(2)"
   ]
  },
  {
   "cell_type": "code",
   "execution_count": 32,
   "metadata": {
    "id": "p97-dKeb9Y5i"
   },
   "outputs": [
    {
     "data": {
      "text/html": [
       "<div>\n",
       "<style scoped>\n",
       "    .dataframe tbody tr th:only-of-type {\n",
       "        vertical-align: middle;\n",
       "    }\n",
       "\n",
       "    .dataframe tbody tr th {\n",
       "        vertical-align: top;\n",
       "    }\n",
       "\n",
       "    .dataframe thead th {\n",
       "        text-align: right;\n",
       "    }\n",
       "</style>\n",
       "<table border=\"1\" class=\"dataframe\">\n",
       "  <thead>\n",
       "    <tr style=\"text-align: right;\">\n",
       "      <th></th>\n",
       "      <th>duration</th>\n",
       "    </tr>\n",
       "  </thead>\n",
       "  <tbody>\n",
       "    <tr>\n",
       "      <th>0</th>\n",
       "      <td>6</td>\n",
       "    </tr>\n",
       "    <tr>\n",
       "      <th>1</th>\n",
       "      <td>48</td>\n",
       "    </tr>\n",
       "    <tr>\n",
       "      <th>2</th>\n",
       "      <td>12</td>\n",
       "    </tr>\n",
       "    <tr>\n",
       "      <th>3</th>\n",
       "      <td>42</td>\n",
       "    </tr>\n",
       "    <tr>\n",
       "      <th>4</th>\n",
       "      <td>24</td>\n",
       "    </tr>\n",
       "    <tr>\n",
       "      <th>...</th>\n",
       "      <td>...</td>\n",
       "    </tr>\n",
       "    <tr>\n",
       "      <th>995</th>\n",
       "      <td>12</td>\n",
       "    </tr>\n",
       "    <tr>\n",
       "      <th>996</th>\n",
       "      <td>30</td>\n",
       "    </tr>\n",
       "    <tr>\n",
       "      <th>997</th>\n",
       "      <td>12</td>\n",
       "    </tr>\n",
       "    <tr>\n",
       "      <th>998</th>\n",
       "      <td>45</td>\n",
       "    </tr>\n",
       "    <tr>\n",
       "      <th>999</th>\n",
       "      <td>45</td>\n",
       "    </tr>\n",
       "  </tbody>\n",
       "</table>\n",
       "<p>1000 rows × 1 columns</p>\n",
       "</div>"
      ],
      "text/plain": [
       "     duration\n",
       "0           6\n",
       "1          48\n",
       "2          12\n",
       "3          42\n",
       "4          24\n",
       "..        ...\n",
       "995        12\n",
       "996        30\n",
       "997        12\n",
       "998        45\n",
       "999        45\n",
       "\n",
       "[1000 rows x 1 columns]"
      ]
     },
     "execution_count": 32,
     "metadata": {},
     "output_type": "execute_result"
    }
   ],
   "source": [
    "# Filtra por nome da coluna.\n",
    "# O código filtra e seleciona a coluna \"duration\" dos dados.\n",
    "\n",
    "dados[[\"duration\"]] "
   ]
  },
  {
   "cell_type": "code",
   "execution_count": null,
   "metadata": {
    "id": "V1X4VldnCXdV"
   },
   "outputs": [],
   "source": [
    "# Filtrar linhas por indice\n",
    "# O código está filtrando e exibindo as linhas do DataFrame com índices de 1 a 3.\n",
    "\n",
    "dados.loc[1:3]"
   ]
  },
  {
   "cell_type": "code",
   "execution_count": null,
   "metadata": {
    "id": "HQwYtnPrDC_Y"
   },
   "outputs": [],
   "source": [
    "# O código seleciona as linhas de índice 1 e 3 do DataFrame \"dados\".\n",
    "\n",
    "dados.loc[[1,3]]"
   ]
  },
  {
   "cell_type": "code",
   "execution_count": null,
   "metadata": {
    "id": "U7PnlC849Y8b"
   },
   "outputs": [],
   "source": [
    "# Filtro\n",
    "# Esse código seleciona as linhas em que a coluna 'purpose' tem o valor \"radio/tv\".\n",
    "\n",
    "dados.loc[dados['purpose'] == \"radio/tv\"]"
   ]
  },
  {
   "cell_type": "code",
   "execution_count": null,
   "metadata": {
    "id": "_FxSXUQW4eEq"
   },
   "outputs": [],
   "source": [
    "# Outra condição\n",
    "# Esse código filtra linhas do DataFrame \"dados\" onde o valor na coluna \"credit_amount\" deve ser maior que 18000.\n",
    "\n",
    "dados.loc[dados['credit_amount'] >  18000]"
   ]
  },
  {
   "cell_type": "code",
   "execution_count": null,
   "metadata": {
    "id": "AuPDpjl34pvs"
   },
   "outputs": [],
   "source": [
    "# Atribuimos resultado a variável, criando outro df.\n",
    "# Nesse código, estamos criando um novo DataFrame chamado \"credito2\" que contém apenas as linhas do \n",
    "# DataFrame original \"dados\" onde o valor na coluna 'credit_amount' é maior que 18000, e em seguida, \n",
    "# imprimindo esse novo DataFrame.\n",
    "\n",
    "credito2 = dados.loc[dados['credit_amount'] >  18000]\n",
    "print(credito2)"
   ]
  },
  {
   "cell_type": "code",
   "execution_count": null,
   "metadata": {
    "id": "8A6mGAhM9Y_b"
   },
   "outputs": [],
   "source": [
    "# Definimos só algumas colunas.\n",
    "# Este código seleciona apenas as colunas 'checking_status' e 'duration' dos dados onde o valor \n",
    "# de 'credit_amount' é maior que 18000 e, em seguida, imprime essas seleções.\n",
    "\n",
    "credito3 = dados[['checking_status','duration']].loc[dados['credit_amount'] >  18000]\n",
    "print(credito3)"
   ]
  },
  {
   "cell_type": "code",
   "execution_count": null,
   "metadata": {
    "id": "5j6ddo_29ZE8"
   },
   "outputs": [],
   "source": [
    "# Séries, única coluna.\n",
    "# Pode ser criada a partir de listas, array do numpy ou coluna de data frame.\n",
    "# O código cria uma série (uma sequência de dados) usando números e, em seguida, imprime essa série.\n",
    "\n",
    "s1 = pd.Series([2,5,3,34,54,23,1,16])\n",
    "print(s1)"
   ]
  },
  {
   "cell_type": "code",
   "execution_count": null,
   "metadata": {
    "id": "BTa8lcsh59Zy"
   },
   "outputs": [],
   "source": [
    "# Serie a partir de um array do numpy.\n",
    "# O código cria uma série usando um array do NumPy e, em seguida, exibe essa série.\n",
    "\n",
    "import numpy as np\n",
    "array1 = np.array([2,5,3,34,54,23,1,16])\n",
    "s2 = pd.Series(array1)\n",
    "print(s2)"
   ]
  },
  {
   "cell_type": "code",
   "execution_count": null,
   "metadata": {
    "id": "BZBumFfl9zG1"
   },
   "outputs": [],
   "source": [
    "# Series a partir de um dataframe (s3).\n",
    "# O código cria uma série chamada \"s3\" a partir da coluna \"purpose\" de um dataframe \n",
    "# chamado \"dados\" e, em seguida, imprime a série e o tipo dela.\n",
    "\n",
    "s3 = dados['purpose']\n",
    "print(s3)\n",
    "type(s3)"
   ]
  },
  {
   "cell_type": "code",
   "execution_count": null,
   "metadata": {
    "id": "LWTSgc8O6dUU"
   },
   "outputs": [],
   "source": [
    "# Note a diferença, temos um data frame (d4).\n",
    "# Nesse código, está sendo criado um novo DataFrame chamado \"d4\" contendo apenas a coluna \n",
    "# \"purpose\" do DataFrame original \"dados\", e em seguida, é verificado o tipo de \"d4\".\n",
    "\n",
    "d4= dados[['purpose']]\n",
    "type(d4)"
   ]
  },
  {
   "cell_type": "code",
   "execution_count": null,
   "metadata": {
    "id": "jfOrPZYM9zJz"
   },
   "outputs": [],
   "source": [
    "# Renomear\n",
    "# O código renomeia as colunas \"duration\" para \"duração\" e \"purpose\" para \"propósito\" no DataFrame chamado \"dados\".\n",
    "\n",
    "dados.rename(columns={\"duration\":\"duração\",\"purpose\":\"propósito\"})"
   ]
  },
  {
   "cell_type": "code",
   "execution_count": null,
   "metadata": {
    "id": "aWOAK3Vc7Ud0"
   },
   "outputs": [],
   "source": [
    "# Porém a alteração não é persistida.\n",
    "# O código exibe a primeira linha dos dados, mas as alterações não são salvas.\n",
    "\n",
    "dados.head(1)"
   ]
  },
  {
   "cell_type": "code",
   "execution_count": null,
   "metadata": {
    "id": "zYosuOaX7C1t"
   },
   "outputs": [],
   "source": [
    "# Para persistir.\n",
    "# O código renomeia as colunas \"duration\" para \"duração\" e \"purpose\" para \"propósito\" no DataFrame chamado \"dados\".\n",
    "\n",
    "dados.rename(columns={\"duration\":\"duração\",\"purpose\":\"propósito\"},inplace=True)"
   ]
  },
  {
   "cell_type": "code",
   "execution_count": null,
   "metadata": {
    "id": "bxx_vnJV77FG"
   },
   "outputs": [],
   "source": [
    "# Exibe a primeira linha dos dados.\n",
    "\n",
    "dados.head(1)"
   ]
  },
  {
   "cell_type": "code",
   "execution_count": null,
   "metadata": {
    "id": "UU6BISHF9zMl"
   },
   "outputs": [],
   "source": [
    "# Excluir coluna.\n",
    "# Este código exclui a coluna 'checking_status' do DataFrame 'dados' e imprime o DataFrame resultante.\n",
    "\n",
    "dados.drop('checking_status',axis=1,inplace=True)\n",
    "print(dados)"
   ]
  },
  {
   "cell_type": "code",
   "execution_count": null,
   "metadata": {
    "id": "4yPH--D08Ors"
   },
   "outputs": [],
   "source": [
    "# Exibe a primeira linha dos dados.\n",
    "\n",
    "dados.head(1)"
   ]
  },
  {
   "cell_type": "code",
   "execution_count": null,
   "metadata": {
    "id": "u404kOYD9zPU"
   },
   "outputs": [],
   "source": [
    "# Verificar dados nulos.\n",
    "# O código verifica se há valores nulos nos dados (DataFrame).\n",
    "\n",
    "dados.isnull()"
   ]
  },
  {
   "cell_type": "code",
   "execution_count": null,
   "metadata": {
    "id": "gZ3ZXl818bu9"
   },
   "outputs": [],
   "source": [
    "# Verificar dados nulos.\n",
    "# O código verifica quantos valores nulos existem em cada coluna do DataFrame \"dados\".\n",
    "\n",
    "dados.isnull().sum()"
   ]
  },
  {
   "cell_type": "code",
   "execution_count": null,
   "metadata": {
    "id": "cRf4E7VH8nGM"
   },
   "outputs": [],
   "source": [
    "# Retirar colunas com NaN.\n",
    "# O código remove colunas com valores NaN do DataFrame.\n",
    "\n",
    "dados.dropna()"
   ]
  },
  {
   "cell_type": "code",
   "execution_count": null,
   "metadata": {
    "id": "tGnKKpLS9zSj"
   },
   "outputs": [],
   "source": [
    "# Preencher dados faltantes.\n",
    "# O código preenche valores faltantes na coluna \"duração\" do DataFrame com o valor 0.\n",
    "\n",
    "dados['duração'].fillna(0,inplace = True)"
   ]
  },
  {
   "cell_type": "code",
   "execution_count": 28,
   "metadata": {
    "id": "N1QVSODR9ZHz"
   },
   "outputs": [
    {
     "data": {
      "text/html": [
       "<div>\n",
       "<style scoped>\n",
       "    .dataframe tbody tr th:only-of-type {\n",
       "        vertical-align: middle;\n",
       "    }\n",
       "\n",
       "    .dataframe tbody tr th {\n",
       "        vertical-align: top;\n",
       "    }\n",
       "\n",
       "    .dataframe thead th {\n",
       "        text-align: right;\n",
       "    }\n",
       "</style>\n",
       "<table border=\"1\" class=\"dataframe\">\n",
       "  <thead>\n",
       "    <tr style=\"text-align: right;\">\n",
       "      <th></th>\n",
       "      <th>duration</th>\n",
       "      <th>credit_history</th>\n",
       "      <th>purpose</th>\n",
       "      <th>credit_amount</th>\n",
       "      <th>savings_status</th>\n",
       "    </tr>\n",
       "  </thead>\n",
       "  <tbody>\n",
       "    <tr>\n",
       "      <th>0</th>\n",
       "      <td>6</td>\n",
       "      <td>'critical/other existing credit'</td>\n",
       "      <td>radio/tv</td>\n",
       "      <td>1169</td>\n",
       "      <td>'no known savings'</td>\n",
       "    </tr>\n",
       "    <tr>\n",
       "      <th>1</th>\n",
       "      <td>48</td>\n",
       "      <td>'existing paid'</td>\n",
       "      <td>radio/tv</td>\n",
       "      <td>5951</td>\n",
       "      <td>&lt;100</td>\n",
       "    </tr>\n",
       "    <tr>\n",
       "      <th>2</th>\n",
       "      <td>12</td>\n",
       "      <td>'critical/other existing credit'</td>\n",
       "      <td>education</td>\n",
       "      <td>2096</td>\n",
       "      <td>&lt;100</td>\n",
       "    </tr>\n",
       "  </tbody>\n",
       "</table>\n",
       "</div>"
      ],
      "text/plain": [
       "   duration                    credit_history    purpose  credit_amount  \\\n",
       "0         6  'critical/other existing credit'   radio/tv           1169   \n",
       "1        48                   'existing paid'   radio/tv           5951   \n",
       "2        12  'critical/other existing credit'  education           2096   \n",
       "\n",
       "       savings_status  \n",
       "0  'no known savings'  \n",
       "1                <100  \n",
       "2                <100  "
      ]
     },
     "execution_count": 28,
     "metadata": {},
     "output_type": "execute_result"
    }
   ],
   "source": [
    "# O código seleciona uma parte específica (0 a 2 linhas e 0 a 4 colunas) dos dados usando \n",
    "# o método \"iloc\" de um DataFrame.\n",
    "\n",
    "dados.iloc[0:3,0:5]"
   ]
  },
  {
   "cell_type": "code",
   "execution_count": 29,
   "metadata": {
    "id": "PysAnk2_9Y5H"
   },
   "outputs": [
    {
     "data": {
      "text/html": [
       "<div>\n",
       "<style scoped>\n",
       "    .dataframe tbody tr th:only-of-type {\n",
       "        vertical-align: middle;\n",
       "    }\n",
       "\n",
       "    .dataframe tbody tr th {\n",
       "        vertical-align: top;\n",
       "    }\n",
       "\n",
       "    .dataframe thead th {\n",
       "        text-align: right;\n",
       "    }\n",
       "</style>\n",
       "<table border=\"1\" class=\"dataframe\">\n",
       "  <thead>\n",
       "    <tr style=\"text-align: right;\">\n",
       "      <th></th>\n",
       "      <th>duration</th>\n",
       "      <th>credit_history</th>\n",
       "      <th>purpose</th>\n",
       "      <th>credit_amount</th>\n",
       "      <th>savings_status</th>\n",
       "    </tr>\n",
       "  </thead>\n",
       "  <tbody>\n",
       "    <tr>\n",
       "      <th>0</th>\n",
       "      <td>6</td>\n",
       "      <td>'critical/other existing credit'</td>\n",
       "      <td>radio/tv</td>\n",
       "      <td>1169</td>\n",
       "      <td>'no known savings'</td>\n",
       "    </tr>\n",
       "    <tr>\n",
       "      <th>1</th>\n",
       "      <td>48</td>\n",
       "      <td>'existing paid'</td>\n",
       "      <td>radio/tv</td>\n",
       "      <td>5951</td>\n",
       "      <td>&lt;100</td>\n",
       "    </tr>\n",
       "    <tr>\n",
       "      <th>2</th>\n",
       "      <td>12</td>\n",
       "      <td>'critical/other existing credit'</td>\n",
       "      <td>education</td>\n",
       "      <td>2096</td>\n",
       "      <td>&lt;100</td>\n",
       "    </tr>\n",
       "    <tr>\n",
       "      <th>3</th>\n",
       "      <td>42</td>\n",
       "      <td>'existing paid'</td>\n",
       "      <td>furniture/equipment</td>\n",
       "      <td>7882</td>\n",
       "      <td>&lt;100</td>\n",
       "    </tr>\n",
       "    <tr>\n",
       "      <th>7</th>\n",
       "      <td>36</td>\n",
       "      <td>'existing paid'</td>\n",
       "      <td>'used car'</td>\n",
       "      <td>6948</td>\n",
       "      <td>&lt;100</td>\n",
       "    </tr>\n",
       "  </tbody>\n",
       "</table>\n",
       "</div>"
      ],
      "text/plain": [
       "   duration                    credit_history              purpose  \\\n",
       "0         6  'critical/other existing credit'             radio/tv   \n",
       "1        48                   'existing paid'             radio/tv   \n",
       "2        12  'critical/other existing credit'            education   \n",
       "3        42                   'existing paid'  furniture/equipment   \n",
       "7        36                   'existing paid'           'used car'   \n",
       "\n",
       "   credit_amount      savings_status  \n",
       "0           1169  'no known savings'  \n",
       "1           5951                <100  \n",
       "2           2096                <100  \n",
       "3           7882                <100  \n",
       "7           6948                <100  "
      ]
     },
     "execution_count": 29,
     "metadata": {},
     "output_type": "execute_result"
    }
   ],
   "source": [
    "# O código seleciona linhas 0, 1, 2, 3 e 7 e colunas de 0 a 4 do DataFrame \"dados\".\n",
    "\n",
    "dados.iloc[[0,1,2,3,7],0:5]"
   ]
  },
  {
   "cell_type": "code",
   "execution_count": null,
   "metadata": {},
   "outputs": [],
   "source": []
  }
 ],
 "metadata": {
  "colab": {
   "collapsed_sections": [],
   "name": "pandas.ipynb",
   "provenance": []
  },
  "kernelspec": {
   "display_name": "Python 3",
   "language": "python",
   "name": "python3"
  },
  "language_info": {
   "codemirror_mode": {
    "name": "ipython",
    "version": 3
   },
   "file_extension": ".py",
   "mimetype": "text/x-python",
   "name": "python",
   "nbconvert_exporter": "python",
   "pygments_lexer": "ipython3",
   "version": "3.11.3"
  }
 },
 "nbformat": 4,
 "nbformat_minor": 4
}
