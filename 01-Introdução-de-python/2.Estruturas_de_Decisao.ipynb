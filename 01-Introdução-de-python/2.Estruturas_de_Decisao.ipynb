{
 "cells": [
  {
   "cell_type": "markdown",
   "metadata": {},
   "source": [
    "# Formação Cientista de Dados - Prof. Fernando Amaral\n",
    "Estruturas de Decisão"
   ]
  },
  {
   "cell_type": "code",
   "execution_count": 1,
   "metadata": {},
   "outputs": [
    {
     "name": "stdout",
     "output_type": "stream",
     "text": [
      "Aprovado\n",
      "Parabéns!\n"
     ]
    }
   ],
   "source": [
    "# Esse código verifica se a nota é igual ou maior que 7 e imprimirá \"Aprovado\" e \"Parabéns!\", \n",
    "# mas caso seja contrário, imprimirá \"Reprovado\".\n",
    "\n",
    "nota = 7\n",
    "if nota >= 7:\n",
    "\tprint(\"Aprovado\")\n",
    "\tprint(\"Parabéns!\")\n",
    "else:\n",
    "\tprint(\"Reprovado\")"
   ]
  },
  {
   "cell_type": "code",
   "execution_count": 2,
   "metadata": {},
   "outputs": [
    {
     "name": "stdout",
     "output_type": "stream",
     "text": [
      "Reprovado\n"
     ]
    }
   ],
   "source": [
    "# Este código verifica o valor da variável 'nota' e imprime \"Aprovado\" \n",
    "# se a nota for maior ou igual a 7, caso contrário, imprime \"Reprovado\".\n",
    "\n",
    "nota = 5\n",
    "if nota >= 7:\n",
    "\tprint(\"Aprovado\")\n",
    "else:\n",
    "\tprint(\"Reprovado\")"
   ]
  },
  {
   "cell_type": "code",
   "execution_count": 3,
   "metadata": {},
   "outputs": [
    {
     "name": "stdout",
     "output_type": "stream",
     "text": [
      "Aprovado\n"
     ]
    }
   ],
   "source": [
    "# Testar com 4,5 e 7 - O código verifica a nota dada e imprime \"Reprovado\" se for 4 ou menos, \n",
    "# \"Recuperação\" se for maior que 4 e menor ou igual a 6, e \"Aprovado\" se for maior que 6.\n",
    "\n",
    "nota = 7\n",
    "if nota <= 4:\n",
    "\tprint(\"Reprovado\")\n",
    "elif nota > 4 and nota <=6:\n",
    "\tprint(\"Recuperação\")\n",
    "else:\n",
    "\tprint(\"Aprovado\")\n"
   ]
  },
  {
   "cell_type": "code",
   "execution_count": null,
   "metadata": {},
   "outputs": [],
   "source": []
  }
 ],
 "metadata": {
  "kernelspec": {
   "display_name": "Python 3",
   "language": "python",
   "name": "python3"
  },
  "language_info": {
   "codemirror_mode": {
    "name": "ipython",
    "version": 3
   },
   "file_extension": ".py",
   "mimetype": "text/x-python",
   "name": "python",
   "nbconvert_exporter": "python",
   "pygments_lexer": "ipython3",
   "version": "3.11.3"
  }
 },
 "nbformat": 4,
 "nbformat_minor": 4
}
