{
 "cells": [
  {
   "cell_type": "code",
   "execution_count": 1,
   "metadata": {},
   "outputs": [],
   "source": [
    "# Formação Cientista de Dados - Fernando Amaral e Jones Granatyr\n",
    "# Medidas de centralidade e variabilidade"
   ]
  },
  {
   "cell_type": "code",
   "execution_count": 2,
   "metadata": {},
   "outputs": [],
   "source": [
    "# Importação das bibliotecas: scipy para gerar estatísticas mais detalhadas - Este código está importando dois módulos: numpy e stats do pacote scipy. O módulo numpy é usado para trabalhar com arrays multidimensionais e funções matemáticas de alto nível. O módulo stats do pacote scipy fornece funções para cálculos estatísticos. Esses módulos são comumente usados em análise de dados e ciência de dados.\n",
    "\n",
    "import numpy as np\n",
    "from scipy import stats"
   ]
  },
  {
   "cell_type": "code",
   "execution_count": 3,
   "metadata": {},
   "outputs": [
    {
     "data": {
      "text/plain": [
       "181111.11111111112"
      ]
     },
     "execution_count": 3,
     "metadata": {},
     "output_type": "execute_result"
    }
   ],
   "source": [
    "# Criação da variável com os dados dos jogadores, visualização da mediana e média - O código apresentado cria uma lista chamada \"jogadores\" com os salários de diferentes jogadores de futebol. Em seguida, utiliza a biblioteca numpy (np) para calcular a média dos salários dessa lista. A média dos salários dos jogadores é o valor retornado pela função \"np.mean(jogadores)\".\n",
    "\n",
    "jogadores = [40000, 18000, 12000, 250000, 30000, 140000, 300000, 40000, 800000]\n",
    "np.mean(jogadores)"
   ]
  },
  {
   "cell_type": "code",
   "execution_count": 4,
   "metadata": {},
   "outputs": [
    {
     "data": {
      "text/plain": [
       "40000.0"
      ]
     },
     "execution_count": 4,
     "metadata": {},
     "output_type": "execute_result"
    }
   ],
   "source": [
    "# O código \"np.median(jogadores)\" calcula a mediana de um conjunto de dados representado pela variável \"jogadores\" utilizando a biblioteca NumPy em Python. A mediana é o valor que divide os dados em duas metades iguais quando eles estão ordenados, sendo uma medida de tendência central.\n",
    "\n",
    "np.median(jogadores)"
   ]
  },
  {
   "cell_type": "code",
   "execution_count": 5,
   "metadata": {},
   "outputs": [
    {
     "data": {
      "text/plain": [
       "array([ 12000.,  30000.,  40000., 250000., 800000.])"
      ]
     },
     "execution_count": 5,
     "metadata": {},
     "output_type": "execute_result"
    }
   ],
   "source": [
    "# Esse código calcula os quartis de um conjunto de dados representado pela variável 'jogadores' utilizando a biblioteca NumPy. Os quartis são os valores que dividem os dados em quatro partes iguais: o primeiro quartil (25%), a mediana (50%), o terceiro quartil (75%) e o valor máximo (100%). O resultado são os valores desses quartis armazenados na variável 'quartis'.\n",
    "\n",
    "quartis = np.quantile(jogadores, [0, 0.25, 0.5, 0.75, 1])\n",
    "quartis"
   ]
  },
  {
   "cell_type": "code",
   "execution_count": 6,
   "metadata": {},
   "outputs": [
    {
     "data": {
      "text/plain": [
       "255307.87514511007"
      ]
     },
     "execution_count": 6,
     "metadata": {},
     "output_type": "execute_result"
    }
   ],
   "source": [
    " # O código `np.std(jogadores, ddof=1)` calcula o desvio padrão de um conjunto de dados representado pela variável 'jogadores'. O argumento 'ddof' define o grau de liberdade e é configurado como 1, o que indica que estamos calculando o desvio padrão amostral, considerando que os dados são uma amostra de uma população maior. Esse código é usado para medir a dispersão dos dados em torno da média.\n",
    "\n",
    "np.std(jogadores, ddof = 1)"
   ]
  },
  {
   "cell_type": "code",
   "execution_count": 7,
   "metadata": {},
   "outputs": [
    {
     "data": {
      "text/plain": [
       "DescribeResult(nobs=9, minmax=(12000, 800000), mean=181111.11111111112, variance=65182111111.11111, skewness=1.758635899846188, kurtosis=1.9572075427527729)"
      ]
     },
     "execution_count": 7,
     "metadata": {},
     "output_type": "execute_result"
    }
   ],
   "source": [
    "# Visualização de estatísticas mais detalhadas usando a biblioteca scipy - O código \"stats.describe(jogadores)\" realiza uma análise estatística resumida do conjunto de dados chamado \"jogadores\", fornecendo informações como média, desvio padrão, valores mínimo e máximo, quartis e contagem de dados em cinco frases ou menos.\n",
    "\n",
    "stats.describe(jogadores)"
   ]
  },
  {
   "cell_type": "code",
   "execution_count": null,
   "metadata": {},
   "outputs": [],
   "source": []
  }
 ],
 "metadata": {
  "jupytext": {
   "cell_metadata_filter": "-all",
   "main_language": "python",
   "notebook_metadata_filter": "-all"
  },
  "kernelspec": {
   "display_name": "Python 3",
   "language": "python",
   "name": "python3"
  },
  "language_info": {
   "codemirror_mode": {
    "name": "ipython",
    "version": 3
   },
   "file_extension": ".py",
   "mimetype": "text/x-python",
   "name": "python",
   "nbconvert_exporter": "python",
   "pygments_lexer": "ipython3",
   "version": "3.11.3"
  }
 },
 "nbformat": 4,
 "nbformat_minor": 4
}
