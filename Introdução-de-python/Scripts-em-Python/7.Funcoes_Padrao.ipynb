{
 "cells": [
  {
   "cell_type": "markdown",
   "metadata": {},
   "source": [
    "# Formação Cientista de Dados - Prof. Fernando Amaral\n",
    "Funções Padrão"
   ]
  },
  {
   "cell_type": "code",
   "execution_count": 1,
   "metadata": {},
   "outputs": [
    {
     "name": "stdout",
     "output_type": "stream",
     "text": [
      "200\n",
      "Maior valor:  45\n",
      "Menor valor:  1\n",
      "Soma:  108\n",
      "Arredondamento:  2.35\n"
     ]
    }
   ],
   "source": [
    "# Funções internas - O código utiliza funções internas do Python para calcular o valor absoluto, \n",
    "# encontrar o maior e o menor valor em uma lista, calcular a soma dos elementos da lista e fazer \n",
    "# o arredondamento de um número decimal.\n",
    "\n",
    "print(abs(-200))\n",
    "lst = [1,2,30,30,45]\n",
    "print(\"Maior valor: \", max(lst))\n",
    "print(\"Menor valor: \", min(lst))\n",
    "print(\"Soma: \", sum(lst))\n",
    "print(\"Arredondamento: \", round(2.34567,2))"
   ]
  },
  {
   "cell_type": "code",
   "execution_count": 2,
   "metadata": {},
   "outputs": [
    {
     "name": "stdout",
     "output_type": "stream",
     "text": [
      "Média:  21.6\n",
      "Mediana:  30\n",
      "Moda:  30\n"
     ]
    }
   ],
   "source": [
    "# statistica - Este código calcula e imprime a média, mediana e moda de uma lista de \n",
    "# números usando a biblioteca \"statistics\".\n",
    "\n",
    "from statistics import *\n",
    "print(\"Média: \", mean(lst))\n",
    "print(\"Mediana: \", median(lst))\n",
    "print(\"Moda: \", mode(lst))"
   ]
  },
  {
   "cell_type": "code",
   "execution_count": 3,
   "metadata": {},
   "outputs": [
    {
     "name": "stdout",
     "output_type": "stream",
     "text": [
      "Desvio padrão:  19.346834366376324\n"
     ]
    }
   ],
   "source": [
    "# Desvio padrão da amostra - Este código calcula e exibe o desvio padrão da \n",
    "# amostra de números contida na lista \"lst\".\n",
    "\n",
    "print(\"Desvio padrão: \", stdev(lst))"
   ]
  },
  {
   "cell_type": "code",
   "execution_count": 4,
   "metadata": {},
   "outputs": [
    {
     "name": "stdout",
     "output_type": "stream",
     "text": [
      "Variância:  374.3\n"
     ]
    }
   ],
   "source": [
    "# Variancia da amostra - Este código calcula e imprime a variância de uma lista de números, \n",
    "# considerando-a como uma amostra.\n",
    "\n",
    "print(\"Variância: \", variance(lst))"
   ]
  },
  {
   "cell_type": "code",
   "execution_count": 6,
   "metadata": {},
   "outputs": [
    {
     "name": "stdout",
     "output_type": "stream",
     "text": [
      "<class 'numpy.ndarray'>\n",
      "\n",
      "[[0.94386914 0.05229224 0.84023344 0.46986026 0.19573719 0.56338563\n",
      "  0.34228048 0.00962674]\n",
      " [0.78437773 0.28099569 0.28986154 0.60574485 0.03533644 0.89385578\n",
      "  0.2355782  0.87919665]\n",
      " [0.50791579 0.57143407 0.38018478 0.84500515 0.46258625 0.19328587\n",
      "  0.96480173 0.19037152]\n",
      " [0.39644818 0.21578695 0.32322003 0.73824756 0.5963601  0.23738391\n",
      "  0.2183145  0.8930533 ]\n",
      " [0.7148724  0.88170186 0.42214327 0.30087677 0.51343499 0.12032478\n",
      "  0.79290354 0.29410689]\n",
      " [0.774631   0.30275809 0.81622727 0.76754867 0.55108507 0.42782913\n",
      "  0.23447516 0.50024451]\n",
      " [0.50264557 0.0154517  0.39128537 0.64872871 0.40385412 0.63962934\n",
      "  0.57247639 0.13481541]\n",
      " [0.85082272 0.72179784 0.55967417 0.96854483 0.61184652 0.3019724\n",
      "  0.35439695 0.00652435]]\n"
     ]
    }
   ],
   "source": [
    "# Este código cria uma matriz 8x8 de números aleatórios usando a biblioteca numpy e \n",
    "# a função random, e depois imprime o tipo da matriz e a própria matriz.\n",
    "\n",
    "from numpy import *\n",
    "a = random.random((8,8))\n",
    "print(type(a))\n",
    "print()\n",
    "print(a)"
   ]
  },
  {
   "cell_type": "code",
   "execution_count": null,
   "metadata": {},
   "outputs": [],
   "source": []
  }
 ],
 "metadata": {
  "kernelspec": {
   "display_name": "Python 3",
   "language": "python",
   "name": "python3"
  },
  "language_info": {
   "codemirror_mode": {
    "name": "ipython",
    "version": 3
   },
   "file_extension": ".py",
   "mimetype": "text/x-python",
   "name": "python",
   "nbconvert_exporter": "python",
   "pygments_lexer": "ipython3",
   "version": "3.11.3"
  }
 },
 "nbformat": 4,
 "nbformat_minor": 4
}
