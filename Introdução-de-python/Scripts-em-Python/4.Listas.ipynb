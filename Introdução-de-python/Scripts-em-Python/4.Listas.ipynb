{
 "cells": [
  {
   "cell_type": "markdown",
   "metadata": {},
   "source": [
    "# Formação Cientista de Dados - Prof. Fernando Amaral\n",
    "Listas"
   ]
  },
  {
   "cell_type": "code",
   "execution_count": 6,
   "metadata": {},
   "outputs": [
    {
     "name": "stdout",
     "output_type": "stream",
     "text": [
      "[1, 2, 3, 4, 5]\n"
     ]
    }
   ],
   "source": [
    "# Esse código cria uma lista de números de 1 a 5 e, em seguida, a exibe na tela usando o comando print().\n",
    "\n",
    "# Formas de criar listas\n",
    "lst = [1,2,3,4,5]\n",
    "print(lst)"
   ]
  },
  {
   "cell_type": "code",
   "execution_count": 7,
   "metadata": {},
   "outputs": [
    {
     "name": "stdout",
     "output_type": "stream",
     "text": [
      "[1, 2, 3, '4', True]\n"
     ]
    }
   ],
   "source": [
    "# Este código cria uma lista chamada \"lst2\" que contém diferentes tipos de elementos, \n",
    "# como números, texto e valores booleanos, e em seguida imprime essa lista.\n",
    "\n",
    "lst2 = [1,2,3,\"4\",True]\n",
    "print(lst2)"
   ]
  },
  {
   "cell_type": "code",
   "execution_count": 9,
   "metadata": {},
   "outputs": [
    {
     "name": "stdout",
     "output_type": "stream",
     "text": [
      "[12, [1, 2, 3, 4, 5], 'a']\n"
     ]
    }
   ],
   "source": [
    "# O código cria uma lista chamada lst3 que contém três elementos: o número 12, \n",
    "# outra lista com números de 1 a 5, e a letra \"a\", e depois imprime essa lista.\n",
    "\n",
    "lst3 = [12,[1,2,3,4,5],\"a\"]\n",
    "print(lst3)"
   ]
  },
  {
   "cell_type": "code",
   "execution_count": 10,
   "metadata": {},
   "outputs": [
    {
     "name": "stdout",
     "output_type": "stream",
     "text": [
      "[0, 1, 2, 3, 4, 5, 6, 7, 8, 9]\n"
     ]
    }
   ],
   "source": [
    "# Este código cria uma lista de números de 0 a 9 usando a função \"range\" e, em seguida, \n",
    "# converte essa lista em uma lista convencional, exibindo-a através do comando \"print\".\n",
    "\n",
    "lst4 = list(range(0,10))\n",
    "print(lst4)"
   ]
  },
  {
   "cell_type": "code",
   "execution_count": 11,
   "metadata": {},
   "outputs": [
    {
     "name": "stdout",
     "output_type": "stream",
     "text": [
      "5\n"
     ]
    }
   ],
   "source": [
    "# O código mostra o comprimento (número de elementos) de uma lista chamada \"lst\" e imprime esse valor na saída.\n",
    "\n",
    "print(len(lst))"
   ]
  },
  {
   "cell_type": "code",
   "execution_count": 12,
   "metadata": {},
   "outputs": [
    {
     "name": "stdout",
     "output_type": "stream",
     "text": [
      "1\n",
      "[1, 2, 3, 4, 5]\n",
      "[4, 2, 3, 4, 5]\n"
     ]
    }
   ],
   "source": [
    "# Este código em Python realiza as seguintes ações:\n",
    "# 1. Imprime o primeiro elemento da lista \"lst\".\n",
    "# 2. Imprime a lista que está na posição 1 da lista \"lst3\".\n",
    "# 3. Altera o valor do primeiro elemento da lista \"lst\" para 4 e, em seguida, imprime a lista atualizada.\n",
    "# Em resumo, o código mostra como acessar, imprimir e modificar elementos em listas do Python.\n",
    "\n",
    "# Acessando elemento\n",
    "print(lst[0])\n",
    "\n",
    "# Posiçõo 1 é uma lista\n",
    "print(lst3[1])\n",
    "\n",
    "# Alterando posição\n",
    "lst[0] = 4\n",
    "print(lst)"
   ]
  },
  {
   "cell_type": "code",
   "execution_count": 13,
   "metadata": {},
   "outputs": [
    {
     "name": "stdout",
     "output_type": "stream",
     "text": [
      "1\n",
      "2\n",
      "3\n",
      "4\n",
      "5\n",
      "6\n",
      "7\n",
      "8\n",
      "9\n",
      "10\n"
     ]
    }
   ],
   "source": [
    "# Esse código itera sobre os elementos da lista \"lst4\" e imprime cada elemento somado a 1, \n",
    "# em linhas separadas. Ele utiliza um loop \"for\" para percorrer a lista e, em cada iteração, \n",
    "# adiciona 1 ao elemento atual e o imprime.\n",
    "\n",
    "# Percorrendo lista\n",
    "for n in range(0, len(lst4)):\n",
    "    print(lst4[n] + 1)"
   ]
  },
  {
   "cell_type": "code",
   "execution_count": null,
   "metadata": {},
   "outputs": [],
   "source": []
  }
 ],
 "metadata": {
  "kernelspec": {
   "display_name": "Python 3",
   "language": "python",
   "name": "python3"
  },
  "language_info": {
   "codemirror_mode": {
    "name": "ipython",
    "version": 3
   },
   "file_extension": ".py",
   "mimetype": "text/x-python",
   "name": "python",
   "nbconvert_exporter": "python",
   "pygments_lexer": "ipython3",
   "version": "3.11.3"
  }
 },
 "nbformat": 4,
 "nbformat_minor": 4
}
