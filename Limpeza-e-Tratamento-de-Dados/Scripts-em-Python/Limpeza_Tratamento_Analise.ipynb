{
 "cells": [
  {
   "cell_type": "markdown",
   "metadata": {},
   "source": [
    "Formação Cientista de Dados - Fernando Amaral e Jones Granatyr\n",
    "\n",
    "Colaboração: Adriano Santos\n",
    "\n",
    "## <font color='orange'>Limpeza e Tratamento de Dados</font>"
   ]
  },
  {
   "cell_type": "markdown",
   "metadata": {},
   "source": [
    "Esse código Python importa 3 bibliotecas: pandas para manipulação e análise de dados; seaborn para visualização de dados e criação de gráficos; e statistics para funções estatísticas. Em seguida, ele abrevia os nomes das bibliotecas como pd, srn e sts para facilitar a escrita do código posterior que provavelmente envolveria operações com dados usando DataFrames do pandas, visualizações com o seaborn e cálculos estatísticos com o módulo statistics."
   ]
  },
  {
   "cell_type": "code",
   "execution_count": 1,
   "metadata": {},
   "outputs": [],
   "source": [
    "import pandas as pd\n",
    "import seaborn as srn\n",
    "import statistics  as sts"
   ]
  },
  {
   "cell_type": "markdown",
   "metadata": {},
   "source": [
    "Neste código em Python, estou utilizando a biblioteca pandas para importar dados de um arquivo CSV chamado \"tempo.csv\", onde o parâmetro \"sep\" indica que o separador entre as colunas é ponto e vírgula. Em seguida, uso o método \"head()\" para visualizar as primeiras linhas do dataset, proporcionando uma rápida inspeção nas primeiras entradas e facilitando a compreensão da estrutura e conteúdo dos dados. Essa abordagem inicial é fundamental para análises subsequentes."
   ]
  },
  {
   "cell_type": "code",
   "execution_count": 10,
   "metadata": {},
   "outputs": [
    {
     "data": {
      "text/html": [
       "<div>\n",
       "<style scoped>\n",
       "    .dataframe tbody tr th:only-of-type {\n",
       "        vertical-align: middle;\n",
       "    }\n",
       "\n",
       "    .dataframe tbody tr th {\n",
       "        vertical-align: top;\n",
       "    }\n",
       "\n",
       "    .dataframe thead th {\n",
       "        text-align: right;\n",
       "    }\n",
       "</style>\n",
       "<table border=\"1\" class=\"dataframe\">\n",
       "  <thead>\n",
       "    <tr style=\"text-align: right;\">\n",
       "      <th></th>\n",
       "      <th>Aparencia</th>\n",
       "      <th>Temperatura</th>\n",
       "      <th>Umidade</th>\n",
       "      <th>Vento</th>\n",
       "      <th>Jogar</th>\n",
       "    </tr>\n",
       "  </thead>\n",
       "  <tbody>\n",
       "    <tr>\n",
       "      <th>0</th>\n",
       "      <td>sol</td>\n",
       "      <td>85</td>\n",
       "      <td>85.0</td>\n",
       "      <td>FALSO</td>\n",
       "      <td>nao</td>\n",
       "    </tr>\n",
       "    <tr>\n",
       "      <th>1</th>\n",
       "      <td>sol</td>\n",
       "      <td>80</td>\n",
       "      <td>90.0</td>\n",
       "      <td>VERDADEIRO</td>\n",
       "      <td>nao</td>\n",
       "    </tr>\n",
       "    <tr>\n",
       "      <th>2</th>\n",
       "      <td>nublado</td>\n",
       "      <td>83</td>\n",
       "      <td>86.0</td>\n",
       "      <td>FALSO</td>\n",
       "      <td>sim</td>\n",
       "    </tr>\n",
       "    <tr>\n",
       "      <th>3</th>\n",
       "      <td>chuva</td>\n",
       "      <td>70</td>\n",
       "      <td>NaN</td>\n",
       "      <td>FALSO</td>\n",
       "      <td>sim</td>\n",
       "    </tr>\n",
       "    <tr>\n",
       "      <th>4</th>\n",
       "      <td>chuva</td>\n",
       "      <td>68</td>\n",
       "      <td>80.0</td>\n",
       "      <td>FALSO</td>\n",
       "      <td>sim</td>\n",
       "    </tr>\n",
       "  </tbody>\n",
       "</table>\n",
       "</div>"
      ],
      "text/plain": [
       "  Aparencia  Temperatura  Umidade       Vento Jogar\n",
       "0       sol           85     85.0       FALSO   nao\n",
       "1       sol           80     90.0  VERDADEIRO   nao\n",
       "2   nublado           83     86.0       FALSO   sim\n",
       "3     chuva           70      NaN       FALSO   sim\n",
       "4     chuva           68     80.0       FALSO   sim"
      ]
     },
     "execution_count": 10,
     "metadata": {},
     "output_type": "execute_result"
    }
   ],
   "source": [
    "dataset = pd.read_csv(\"tempo.csv\", sep=\";\")\n",
    "dataset.head()"
   ]
  },
  {
   "cell_type": "markdown",
   "metadata": {},
   "source": [
    "No código Python fornecido, estamos explorando dados categóricos relacionados à variável 'Aparencia'. Utilizamos o método 'groupby' para agrupar os dados com base nos diferentes valores dessa variável e, em seguida, aplicamos a função 'size()' para contar a ocorrência de cada categoria. O resultado, armazenado na variável 'agrupado', é impresso para visualização. Esse código é útil para analisar a distribuição e a frequência das categorias na variável 'Aparencia' no conjunto de dados."
   ]
  },
  {
   "cell_type": "code",
   "execution_count": 5,
   "metadata": {},
   "outputs": [
    {
     "name": "stdout",
     "output_type": "stream",
     "text": [
      "Aparencia\n",
      "chuva      5\n",
      "menos      1\n",
      "nublado    3\n",
      "sol        5\n",
      "dtype: int64\n"
     ]
    }
   ],
   "source": [
    "agrupado = dataset.groupby(['Aparencia']).size()\n",
    "print(agrupado)"
   ]
  },
  {
   "cell_type": "markdown",
   "metadata": {},
   "source": [
    "No comando apresentado, \"agrupado.plot.bar(color='gray')\", estamos utilizando a biblioteca pandas para visualizar dados agrupados em um gráfico de barras. O método \"plot.bar()\" cria o gráfico, e a opção \"color='gray'\" define a cor das barras como cinza. Esse código é útil para representar visualmente informações agrupadas de forma clara e concisa, sendo uma abordagem eficaz na análise de dados utilizando Python."
   ]
  },
  {
   "cell_type": "code",
   "execution_count": 6,
   "metadata": {},
   "outputs": [
    {
     "data": {
      "text/plain": [
       "<Axes: xlabel='Aparencia'>"
      ]
     },
     "execution_count": 6,
     "metadata": {},
     "output_type": "execute_result"
    },
    {
     "data": {
      "image/png": "[encoded data removed]",
      "text/plain": [
       "<Figure size 640x480 with 1 Axes>"
      ]
     },
     "metadata": {},
     "output_type": "display_data"
    }
   ],
   "source": [
    "agrupado.plot.bar(color = 'gray')"
   ]
  },
  {
   "cell_type": "markdown",
   "metadata": {},
   "source": [
    "No código Python fornecido, a variável 'agrupado' utiliza o método 'groupby' para agrupar os dados do dataset pela coluna 'Vento' e, em seguida, a função 'size()' é aplicada para contar o número de ocorrências em cada grupo. O resultado é uma representação da distribuição da variável 'Vento' no dataset, exibindo a quantidade de registros associados a cada categoria. A variável 'agrupado' contém essas informações agrupadas."
   ]
  },
  {
   "cell_type": "code",
   "execution_count": 7,
   "metadata": {},
   "outputs": [
    {
     "data": {
      "text/plain": [
       "Vento\n",
       "FALSO         7\n",
       "VERDADEIRO    6\n",
       "dtype: int64"
      ]
     },
     "execution_count": 7,
     "metadata": {},
     "output_type": "execute_result"
    }
   ],
   "source": [
    "agrupado = dataset.groupby(['Vento']).size()\n",
    "agrupado"
   ]
  },
  {
   "cell_type": "markdown",
   "metadata": {},
   "source": [
    "No trecho de código Python fornecido, a função `plot.bar` é aplicada ao objeto previamente agrupado. A opção `color='gray'` configura a cor das barras do gráfico como cinza. Essa linha de código está visualmente representando os dados agrupados por meio de um gráfico de barras, onde a cor cinza é utilizada para destacar as barras. Essa abordagem concisa e direta oferece uma representação gráfica simples e eficaz dos dados em questão."
   ]
  },
  {
   "cell_type": "code",
   "execution_count": 6,
   "metadata": {},
   "outputs": [
    {
     "data": {
      "text/plain": [
       "<Axes: xlabel='Vento'>"
      ]
     },
     "execution_count": 6,
     "metadata": {},
     "output_type": "execute_result"
    },
    {
     "data": {
      "image/png": "[encoded data removed]",
      "text/plain": [
       "<Figure size 640x480 with 1 Axes>"
      ]
     },
     "metadata": {},
     "output_type": "display_data"
    }
   ],
   "source": [
    "agrupado.plot.bar(color = 'gray')"
   ]
  },
  {
   "cell_type": "markdown",
   "metadata": {},
   "source": [
    "No código Python fornecido, está sendo utilizado o método `groupby` para agrupar os dados do dataset pela coluna 'Jogar'. Em seguida, a função `size()` é aplicada para contar a quantidade de ocorrências em cada grupo. O resultado é armazenado na variável 'agrupado'. Essa abordagem é útil para análise estatística, permitindo avaliar a distribuição de dados relacionados à variável 'Jogar' no conjunto de dados."
   ]
  },
  {
   "cell_type": "code",
   "execution_count": 8,
   "metadata": {},
   "outputs": [
    {
     "data": {
      "text/plain": [
       "Jogar\n",
       "nao    5\n",
       "sim    9\n",
       "dtype: int64"
      ]
     },
     "execution_count": 8,
     "metadata": {},
     "output_type": "execute_result"
    }
   ],
   "source": [
    "agrupado = dataset.groupby(['Jogar']).size()\n",
    "agrupado"
   ]
  },
  {
   "cell_type": "markdown",
   "metadata": {},
   "source": [
    "No código Python fornecido, a função `plot.bar` é utilizada para criar um gráfico de barras a partir do DataFrame ou conjunto de dados agrupados previamente. O parâmetro `color` foi configurado como 'gray', o que significa que as barras terão uma coloração cinza. Essa visualização é eficaz para representar dados categóricos de forma clara e direta, sendo uma escolha comum na análise de dados exploratória."
   ]
  },
  {
   "cell_type": "code",
   "execution_count": 8,
   "metadata": {},
   "outputs": [
    {
     "data": {
      "text/plain": [
       "<Axes: xlabel='Jogar'>"
      ]
     },
     "execution_count": 8,
     "metadata": {},
     "output_type": "execute_result"
    },
    {
     "data": {
      "image/png": "[encoded data removed]",
      "text/plain": [
       "<Figure size 640x480 with 1 Axes>"
      ]
     },
     "metadata": {},
     "output_type": "display_data"
    }
   ],
   "source": [
    "agrupado.plot.bar(color = 'gray')"
   ]
  },
  {
   "cell_type": "markdown",
   "metadata": {},
   "source": [
    "No código Python fornecido, está sendo realizada uma exploração estatística das colunas numéricas do conjunto de dados. Especificamente, a análise se concentra na coluna 'Temperatura'. A função 'describe()' é empregada para gerar estatísticas descritivas, como média, desvio padrão, mínimo, máximo e quartis. Essas informações oferecem uma visão resumida das características centrais da variável 'Temperatura', facilitando a compreensão de sua distribuição e tendências no conjunto de dados."
   ]
  },
  {
   "cell_type": "code",
   "execution_count": 11,
   "metadata": {},
   "outputs": [
    {
     "data": {
      "text/plain": [
       "count      14.000000\n",
       "mean      155.571429\n",
       "std       306.433759\n",
       "min        64.000000\n",
       "25%        69.250000\n",
       "50%        73.500000\n",
       "75%        80.750000\n",
       "max      1220.000000\n",
       "Name: Temperatura, dtype: float64"
      ]
     },
     "execution_count": 11,
     "metadata": {},
     "output_type": "execute_result"
    }
   ],
   "source": [
    "dataset['Temperatura'].describe()"
   ]
  },
  {
   "cell_type": "markdown",
   "metadata": {},
   "source": [
    "No código Python fornecido, está sendo criado um boxplot para visualizar a distribuição da variável 'Temperatura' no conjunto de dados. A função `srn.boxplot()` é utilizada, onde `srn` provavelmente refere-se à biblioteca Seaborn. A variável `dataset['Temperatura']` representa a coluna de temperatura nos dados. O gráfico gerado é um boxplot, que exibe a mediana, quartis e possíveis outliers na distribuição da temperatura. A função `set_title('Temperatura')` adiciona um título ao gráfico indicando que a análise é relacionada à temperatura. Essa visualização é valiosa para compreender a dispersão e tendência central da temperatura no conjunto de dados."
   ]
  },
  {
   "cell_type": "code",
   "execution_count": 12,
   "metadata": {},
   "outputs": [
    {
     "data": {
      "text/plain": [
       "Text(0.5, 1.0, 'Temperatura')"
      ]
     },
     "execution_count": 12,
     "metadata": {},
     "output_type": "execute_result"
    },
    {
     "data": {
      "image/png": "[encoded data removed]",
      "text/plain": [
       "<Figure size 640x480 with 1 Axes>"
      ]
     },
     "metadata": {},
     "output_type": "display_data"
    }
   ],
   "source": [
    "srn.boxplot(dataset['Temperatura']).set_title('Temperatura')"
   ]
  },
  {
   "cell_type": "markdown",
   "metadata": {},
   "source": [
    "No código Python fornecido, está sendo utilizado o método histplot da biblioteca Seaborn para criar um histograma da variável 'Temperatura' presente no conjunto de dados (dataset). Em seguida, a função set_title é utilizada para atribuir um título ao gráfico, que, neste caso, é 'Temperatura'. Esse código simplificado proporciona uma visualização rápida da distribuição da temperatura no conjunto de dados, sendo uma abordagem eficaz para análise exploratória de dados."
   ]
  },
  {
   "cell_type": "code",
   "execution_count": 16,
   "metadata": {},
   "outputs": [
    {
     "data": {
      "text/plain": [
       "Text(0.5, 1.0, 'Temperatura')"
      ]
     },
     "execution_count": 16,
     "metadata": {},
     "output_type": "execute_result"
    },
    {
     "data": {
      "image/png": "[encoded data removed]",
      "text/plain": [
       "<Figure size 640x480 with 1 Axes>"
      ]
     },
     "metadata": {},
     "output_type": "display_data"
    }
   ],
   "source": [
    "srn.histplot(dataset['Temperatura']).set_title('Temperatura')"
   ]
  },
  {
   "cell_type": "markdown",
   "metadata": {},
   "source": [
    "No trecho de código em Python apresentado, está sendo utilizado o DataFrame 'dataset', e a função 'describe()' é aplicada à coluna 'Umidade'. Esse método fornece estatísticas descritivas, como média, desvio padrão, mínimo, 25º percentil, mediana, 75º percentil e máximo, permitindo uma rápida compreensão da distribuição e variabilidade dos dados relacionados à umidade no conjunto de dados. Essa abordagem é valiosa para uma análise inicial e identificação de padrões nessa variável específica."
   ]
  },
  {
   "cell_type": "code",
   "execution_count": 18,
   "metadata": {},
   "outputs": [
    {
     "data": {
      "text/plain": [
       "count     13.000000\n",
       "mean      89.769231\n",
       "std       34.540203\n",
       "min       65.000000\n",
       "25%       70.000000\n",
       "50%       85.000000\n",
       "75%       90.000000\n",
       "max      200.000000\n",
       "Name: Umidade, dtype: float64"
      ]
     },
     "execution_count": 18,
     "metadata": {},
     "output_type": "execute_result"
    }
   ],
   "source": [
    "dataset['Umidade'].describe()"
   ]
  },
  {
   "cell_type": "markdown",
   "metadata": {},
   "source": [
    "No código Python fornecido, está sendo criado um boxplot para visualizar a distribuição da variável 'Umidade' no conjunto de dados especificado. A função `boxplot` da biblioteca Seaborn é utilizada para gerar o gráfico estatístico, e em seguida, é chamado o método `set_title` para adicionar o título 'Umidade' ao gráfico. Esse tipo de visualização é útil para identificar a dispersão e tendências centrais da variável em questão, sendo uma ferramenta comum em análise exploratória de dados."
   ]
  },
  {
   "cell_type": "code",
   "execution_count": 19,
   "metadata": {},
   "outputs": [
    {
     "data": {
      "text/plain": [
       "Text(0.5, 1.0, 'Umidade')"
      ]
     },
     "execution_count": 19,
     "metadata": {},
     "output_type": "execute_result"
    },
    {
     "data": {
      "image/png": "[encoded data removed]",
      "text/plain": [
       "<Figure size 640x480 with 1 Axes>"
      ]
     },
     "metadata": {},
     "output_type": "display_data"
    }
   ],
   "source": [
    "srn.boxplot(dataset['Umidade']).set_title('Umidade')"
   ]
  },
  {
   "cell_type": "markdown",
   "metadata": {},
   "source": [
    "No código Python fornecido, está sendo utilizado o método `histplot` da biblioteca Seaborn para criar um gráfico de histograma da variável 'Umidade' presente no conjunto de dados (dataset). Em seguida, a função `set_title` é aplicada para adicionar um título ao gráfico, que provavelmente será relacionado à umidade. Essa abordagem simplificada é eficiente para visualizar a distribuição da variável 'Umidade' de forma gráfica, facilitando a análise exploratória de dados."
   ]
  },
  {
   "cell_type": "code",
   "execution_count": 22,
   "metadata": {},
   "outputs": [
    {
     "data": {
      "text/plain": [
       "Text(0.5, 1.0, 'Umidade')"
      ]
     },
     "execution_count": 22,
     "metadata": {},
     "output_type": "execute_result"
    },
    {
     "data": {
      "image/png": "[encoded data removed]",
      "text/plain": [
       "<Figure size 640x480 with 1 Axes>"
      ]
     },
     "metadata": {},
     "output_type": "display_data"
    }
   ],
   "source": [
    "srn.histplot(dataset['Umidade']).set_title('Umidade')"
   ]
  },
  {
   "cell_type": "markdown",
   "metadata": {},
   "source": [
    "No código Python fornecido, estamos utilizando a função `isnull()` do pandas para identificar valores nulos no conjunto de dados (dataset). Em seguida, a função `sum()` é aplicada para contar a quantidade de valores nulos em cada coluna. Essa abordagem é útil para avaliar a presença de dados ausentes em diferentes variáveis, sendo uma etapa crucial na preparação e limpeza de dados, permitindo que decisões informadas sejam tomadas em relação ao tratamento desses valores faltantes. Essa análise é fundamental para garantir a qualidade e confiabilidade dos dados utilizados em análises subsequentes."
   ]
  },
  {
   "cell_type": "code",
   "execution_count": 25,
   "metadata": {},
   "outputs": [
    {
     "data": {
      "text/plain": [
       "Aparencia      0\n",
       "Temperatura    0\n",
       "Umidade        1\n",
       "Vento          1\n",
       "Jogar          0\n",
       "dtype: int64"
      ]
     },
     "execution_count": 25,
     "metadata": {},
     "output_type": "execute_result"
    }
   ],
   "source": [
    "dataset.isnull().sum()"
   ]
  },
  {
   "cell_type": "markdown",
   "metadata": {},
   "source": [
    "No código Python fornecido, está sendo utilizado o método `groupby` do pandas para agrupar os dados do dataset pela coluna 'Aparencia'. Em seguida, a função `size()` é aplicada para contar o número de ocorrências em cada grupo. O resultado é uma visualização do número de instâncias para cada categoria de 'Aparencia', proporcionando uma rápida compreensão da distribuição desses valores no conjunto de dados. Essa abordagem é eficiente para analisar a frequência de diferentes aparências no dataset, facilitando a identificação de padrões ou irregularidades."
   ]
  },
  {
   "cell_type": "code",
   "execution_count": 26,
   "metadata": {},
   "outputs": [
    {
     "data": {
      "text/plain": [
       "Aparencia\n",
       "chuva      5\n",
       "menos      1\n",
       "nublado    3\n",
       "sol        5\n",
       "dtype: int64"
      ]
     },
     "execution_count": 26,
     "metadata": {},
     "output_type": "execute_result"
    }
   ],
   "source": [
    "agrupado = dataset.groupby(['Aparencia']).size()\n",
    "agrupado"
   ]
  },
  {
   "cell_type": "markdown",
   "metadata": {},
   "source": [
    "Neste trecho de código em Python, a função `loc` é utilizada para localizar as instâncias no DataFrame onde a coluna 'Aparencia' é igual a 'menos', e em seguida, substitui esses valores por \"Sol\". Posteriormente, o código agrupa o DataFrame pela coluna 'Aparencia' e utiliza a função `size()` para contar o número de ocorrências em cada grupo. O resultado final é a visualização do agrupamento, mostrando a distribuição da variável 'Aparencia' após a substituição."
   ]
  },
  {
   "cell_type": "code",
   "execution_count": 28,
   "metadata": {},
   "outputs": [
    {
     "data": {
      "text/plain": [
       "Aparencia\n",
       "Sol        1\n",
       "chuva      5\n",
       "nublado    3\n",
       "sol        5\n",
       "dtype: int64"
      ]
     },
     "execution_count": 28,
     "metadata": {},
     "output_type": "execute_result"
    }
   ],
   "source": [
    "dataset.loc[dataset['Aparencia'] ==  'menos', 'Aparencia'] = \"Sol\"\n",
    "agrupado = dataset.groupby(['Aparencia']).size()\n",
    "agrupado"
   ]
  },
  {
   "cell_type": "markdown",
   "metadata": {},
   "source": [
    "O código em Python realiza uma análise estatística da coluna 'Temperatura' do conjunto de dados (dataset), exibindo estatísticas descritivas, como média, desvio padrão, mínimo, máximo, e quartis. A função describe() fornece uma visão geral concisa das características centrais da distribuição da temperatura, identificando possíveis valores fora do domínio normal. Essa análise é fundamental para compreender a variação e a validade dos dados de temperatura no conjunto, sendo uma prática comum em projetos de análise de dados e business intelligence."
   ]
  },
  {
   "cell_type": "code",
   "execution_count": 30,
   "metadata": {},
   "outputs": [
    {
     "data": {
      "text/plain": [
       "count      14.000000\n",
       "mean      155.571429\n",
       "std       306.433759\n",
       "min        64.000000\n",
       "25%        69.250000\n",
       "50%        73.500000\n",
       "75%        80.750000\n",
       "max      1220.000000\n",
       "Name: Temperatura, dtype: float64"
      ]
     },
     "execution_count": 30,
     "metadata": {},
     "output_type": "execute_result"
    }
   ],
   "source": [
    "dataset['Temperatura'].describe()"
   ]
  },
  {
   "cell_type": "markdown",
   "metadata": {},
   "source": [
    "No trecho de código Python fornecido, estamos utilizando a biblioteca Pandas para visualizar as linhas do conjunto de dados ('dataset') em que a coluna 'Temperatura' apresenta valores abaixo de -130 ou acima de 130. Essa operação de filtragem permite identificar e analisar dados que estão fora do intervalo esperado para a temperatura, facilitando a detecção de anomalias ou erros nos dados relacionados a essa variável específica."
   ]
  },
  {
   "cell_type": "code",
   "execution_count": 31,
   "metadata": {},
   "outputs": [
    {
     "data": {
      "text/html": [
       "<div>\n",
       "<style scoped>\n",
       "    .dataframe tbody tr th:only-of-type {\n",
       "        vertical-align: middle;\n",
       "    }\n",
       "\n",
       "    .dataframe tbody tr th {\n",
       "        vertical-align: top;\n",
       "    }\n",
       "\n",
       "    .dataframe thead th {\n",
       "        text-align: right;\n",
       "    }\n",
       "</style>\n",
       "<table border=\"1\" class=\"dataframe\">\n",
       "  <thead>\n",
       "    <tr style=\"text-align: right;\">\n",
       "      <th></th>\n",
       "      <th>Aparencia</th>\n",
       "      <th>Temperatura</th>\n",
       "      <th>Umidade</th>\n",
       "      <th>Vento</th>\n",
       "      <th>Jogar</th>\n",
       "    </tr>\n",
       "  </thead>\n",
       "  <tbody>\n",
       "    <tr>\n",
       "      <th>7</th>\n",
       "      <td>sol</td>\n",
       "      <td>1220</td>\n",
       "      <td>95.0</td>\n",
       "      <td>FALSO</td>\n",
       "      <td>nao</td>\n",
       "    </tr>\n",
       "  </tbody>\n",
       "</table>\n",
       "</div>"
      ],
      "text/plain": [
       "  Aparencia  Temperatura  Umidade  Vento Jogar\n",
       "7       sol         1220     95.0  FALSO   nao"
      ]
     },
     "execution_count": 31,
     "metadata": {},
     "output_type": "execute_result"
    }
   ],
   "source": [
    "dataset.loc[(dataset['Temperatura'] <  -130 )  | ( dataset['Temperatura'] >  130) ]"
   ]
  },
  {
   "cell_type": "markdown",
   "metadata": {},
   "source": [
    "No código Python fornecido, o objetivo é calcular a mediana da variável 'Temperatura' em um conjunto de dados representado pela variável 'dataset'. A função 'sts.median' da biblioteca estatística é utilizada para realizar esse cálculo. O resultado, representado pela variável 'mediana', é então retornado. Em resumo, esse trecho de código é utilizado para encontrar a mediana da temperatura no conjunto de dados fornecido."
   ]
  },
  {
   "cell_type": "code",
   "execution_count": 32,
   "metadata": {},
   "outputs": [
    {
     "data": {
      "text/plain": [
       "73.5"
      ]
     },
     "execution_count": 32,
     "metadata": {},
     "output_type": "execute_result"
    }
   ],
   "source": [
    "mediana = sts.median(dataset['Temperatura'])\n",
    "mediana"
   ]
  },
  {
   "cell_type": "markdown",
   "metadata": {},
   "source": [
    "No código Python fornecido, a linha em questão realiza uma substituição nos valores da coluna 'Temperatura' do dataset. Condições lógicas são aplicadas para identificar valores extremos, abaixo de -130 ou acima de 130, indicando possíveis erros de medição. Esses valores são então substituídos pela mediana da coluna, provavelmente como uma estratégia para corrigir outliers e garantir dados mais consistentes. Essa abordagem contribui para a integridade dos dados, essencial para análises precisas em projetos de BI."
   ]
  },
  {
   "cell_type": "code",
   "execution_count": 33,
   "metadata": {},
   "outputs": [],
   "source": [
    "dataset.loc[(dataset['Temperatura'] <  -130 )  | ( dataset['Temperatura'] >  130), 'Temperatura'] = mediana"
   ]
  },
  {
   "cell_type": "markdown",
   "metadata": {},
   "source": [
    "No código Python fornecido, estamos utilizando o método `loc` para localizar as linhas no conjunto de dados onde a coluna 'Temperatura' apresenta valores abaixo de -130 ou acima de 130. Essa operação visa identificar idades que estão fora do domínio desejado, ajudando a filtrar e analisar dados específicos relacionados à temperatura."
   ]
  },
  {
   "cell_type": "code",
   "execution_count": 35,
   "metadata": {},
   "outputs": [
    {
     "data": {
      "text/html": [
       "<div>\n",
       "<style scoped>\n",
       "    .dataframe tbody tr th:only-of-type {\n",
       "        vertical-align: middle;\n",
       "    }\n",
       "\n",
       "    .dataframe tbody tr th {\n",
       "        vertical-align: top;\n",
       "    }\n",
       "\n",
       "    .dataframe thead th {\n",
       "        text-align: right;\n",
       "    }\n",
       "</style>\n",
       "<table border=\"1\" class=\"dataframe\">\n",
       "  <thead>\n",
       "    <tr style=\"text-align: right;\">\n",
       "      <th></th>\n",
       "      <th>Aparencia</th>\n",
       "      <th>Temperatura</th>\n",
       "      <th>Umidade</th>\n",
       "      <th>Vento</th>\n",
       "      <th>Jogar</th>\n",
       "    </tr>\n",
       "  </thead>\n",
       "  <tbody>\n",
       "  </tbody>\n",
       "</table>\n",
       "</div>"
      ],
      "text/plain": [
       "Empty DataFrame\n",
       "Columns: [Aparencia, Temperatura, Umidade, Vento, Jogar]\n",
       "Index: []"
      ]
     },
     "execution_count": 35,
     "metadata": {},
     "output_type": "execute_result"
    }
   ],
   "source": [
    "dataset.loc[(dataset['Temperatura'] <  -130 )  | ( dataset['Temperatura'] >  130) ]"
   ]
  },
  {
   "cell_type": "markdown",
   "metadata": {},
   "source": [
    "No código Python fornecido, está sendo utilizado o método `groupby` do pandas para agrupar os dados do dataset pela coluna 'Umidade'. Em seguida, a função `size()` é aplicada para contar o número de ocorrências em cada grupo. O resultado é uma série que representa a contagem de registros para cada valor único de umidade no conjunto de dados. Esse código é útil para analisar a distribuição da umidade e identificar padrões ou tendências associadas a diferentes níveis de umidade no dataset."
   ]
  },
  {
   "cell_type": "code",
   "execution_count": 37,
   "metadata": {},
   "outputs": [
    {
     "data": {
      "text/plain": [
       "Umidade\n",
       "65.0     1\n",
       "70.0     3\n",
       "75.0     1\n",
       "80.0     1\n",
       "85.0     1\n",
       "86.0     1\n",
       "90.0     2\n",
       "91.0     1\n",
       "95.0     1\n",
       "200.0    1\n",
       "dtype: int64"
      ]
     },
     "execution_count": 37,
     "metadata": {},
     "output_type": "execute_result"
    }
   ],
   "source": [
    "agrupado = dataset.groupby(['Umidade']).size()\n",
    "agrupado"
   ]
  },
  {
   "cell_type": "markdown",
   "metadata": {},
   "source": [
    "No código Python fornecido, está sendo calculado o número total de valores ausentes (NaN) na coluna 'Umidade' do conjunto de dados (dataset). A expressão `dataset['Umidade'].isnull().sum()` utiliza o método `isnull()` para identificar os valores nulos na referida coluna e, em seguida, o método `sum()` conta a quantidade total desses valores ausentes. Essa linha de código é útil para avaliar a integridade dos dados, fornecendo a contagem exata de registros de umidade que estão faltando no conjunto de dados."
   ]
  },
  {
   "cell_type": "code",
   "execution_count": 39,
   "metadata": {},
   "outputs": [
    {
     "data": {
      "text/plain": [
       "1"
      ]
     },
     "execution_count": 39,
     "metadata": {},
     "output_type": "execute_result"
    }
   ],
   "source": [
    "dataset['Umidade'].isnull().sum()"
   ]
  },
  {
   "cell_type": "markdown",
   "metadata": {},
   "source": [
    "No código Python fornecido, o objetivo é calcular a mediana da coluna 'Umidade' do conjunto de dados (dataset). Utilizando a biblioteca statistics (sts), a função median é aplicada à coluna especificada, resultando no valor da mediana. Esse valor é então armazenado na variável 'mediana'. Em resumo, o código realiza uma operação simples de estatística, obtendo a mediana da umidade presente no conjunto de dados."
   ]
  },
  {
   "cell_type": "code",
   "execution_count": 25,
   "metadata": {},
   "outputs": [
    {
     "data": {
      "text/plain": [
       "85.5"
      ]
     },
     "execution_count": 25,
     "metadata": {},
     "output_type": "execute_result"
    }
   ],
   "source": [
    "mediana = sts.median(dataset['Umidade'])\n",
    "mediana"
   ]
  },
  {
   "cell_type": "markdown",
   "metadata": {},
   "source": [
    "Neste trecho de código em Python, a função fillna() é utilizada para preencher os valores ausentes na coluna 'Umidade' do conjunto de dados (dataset). O método recebe a mediana como argumento, que é então atribuída aos NAs da coluna, substituindo os valores faltantes. O parâmetro inplace=True indica que a alteração deve ser feita diretamente no conjunto de dados, sem a necessidade de atribuir o resultado a uma nova variável. Isso contribui para a simplicidade e eficiência na manipulação dos dados."
   ]
  },
  {
   "cell_type": "code",
   "execution_count": 40,
   "metadata": {},
   "outputs": [],
   "source": [
    "dataset['Umidade'].fillna(mediana, inplace=True)"
   ]
  },
  {
   "cell_type": "markdown",
   "metadata": {},
   "source": [
    "O código Python apresenta uma operação para contar a quantidade de valores nulos na coluna 'Umidade' de um conjunto de dados (dataset). A função `isnull()` identifica os valores nulos na mencionada coluna, e `sum()` então contabiliza a quantidade total desses valores ausentes. Essa expressão é útil para avaliar a integridade dos dados e pode ser parte de procedimentos de limpeza ou análise em projetos de Business Intelligence."
   ]
  },
  {
   "cell_type": "code",
   "execution_count": 41,
   "metadata": {},
   "outputs": [
    {
     "data": {
      "text/plain": [
       "0"
      ]
     },
     "execution_count": 41,
     "metadata": {},
     "output_type": "execute_result"
    }
   ],
   "source": [
    "dataset['Umidade'].isnull().sum()"
   ]
  },
  {
   "cell_type": "markdown",
   "metadata": {},
   "source": [
    "Esse trecho de código em Python realiza uma filtragem em um conjunto de dados ('dataset') para visualizar registros cujo valor da coluna 'Umidade' está abaixo de 0 ou acima de 100. A função `loc` é utilizada para localizar as linhas que atendem a essa condição específica, oferecendo uma visão segmentada do conjunto de dados com base nos limites estabelecidos para a variável 'Umidade'. Essa abordagem é útil para identificar e analisar outliers ou dados inconsistentes relacionados à umidade."
   ]
  },
  {
   "cell_type": "code",
   "execution_count": 43,
   "metadata": {},
   "outputs": [
    {
     "data": {
      "text/html": [
       "<div>\n",
       "<style scoped>\n",
       "    .dataframe tbody tr th:only-of-type {\n",
       "        vertical-align: middle;\n",
       "    }\n",
       "\n",
       "    .dataframe tbody tr th {\n",
       "        vertical-align: top;\n",
       "    }\n",
       "\n",
       "    .dataframe thead th {\n",
       "        text-align: right;\n",
       "    }\n",
       "</style>\n",
       "<table border=\"1\" class=\"dataframe\">\n",
       "  <thead>\n",
       "    <tr style=\"text-align: right;\">\n",
       "      <th></th>\n",
       "      <th>Aparencia</th>\n",
       "      <th>Temperatura</th>\n",
       "      <th>Umidade</th>\n",
       "      <th>Vento</th>\n",
       "      <th>Jogar</th>\n",
       "    </tr>\n",
       "  </thead>\n",
       "  <tbody>\n",
       "    <tr>\n",
       "      <th>9</th>\n",
       "      <td>chuva</td>\n",
       "      <td>75.0</td>\n",
       "      <td>200.0</td>\n",
       "      <td>NaN</td>\n",
       "      <td>sim</td>\n",
       "    </tr>\n",
       "  </tbody>\n",
       "</table>\n",
       "</div>"
      ],
      "text/plain": [
       "  Aparencia  Temperatura  Umidade Vento Jogar\n",
       "9     chuva         75.0    200.0   NaN   sim"
      ]
     },
     "execution_count": 43,
     "metadata": {},
     "output_type": "execute_result"
    }
   ],
   "source": [
    "dataset.loc[(dataset['Umidade'] <  0 )  | ( dataset['Umidade'] >  100) ]"
   ]
  },
  {
   "cell_type": "code",
   "execution_count": 44,
   "metadata": {},
   "outputs": [],
   "source": [
    "#atualiza comm mediana\n",
    "dataset.loc[(dataset['Umidade'] <  0 )  | ( dataset['Umidade'] >  100), 'Umidade'] = mediana"
   ]
  },
  {
   "cell_type": "code",
   "execution_count": 45,
   "metadata": {},
   "outputs": [
    {
     "data": {
      "text/html": [
       "<div>\n",
       "<style scoped>\n",
       "    .dataframe tbody tr th:only-of-type {\n",
       "        vertical-align: middle;\n",
       "    }\n",
       "\n",
       "    .dataframe tbody tr th {\n",
       "        vertical-align: top;\n",
       "    }\n",
       "\n",
       "    .dataframe thead th {\n",
       "        text-align: right;\n",
       "    }\n",
       "</style>\n",
       "<table border=\"1\" class=\"dataframe\">\n",
       "  <thead>\n",
       "    <tr style=\"text-align: right;\">\n",
       "      <th></th>\n",
       "      <th>Aparencia</th>\n",
       "      <th>Temperatura</th>\n",
       "      <th>Umidade</th>\n",
       "      <th>Vento</th>\n",
       "      <th>Jogar</th>\n",
       "    </tr>\n",
       "  </thead>\n",
       "  <tbody>\n",
       "  </tbody>\n",
       "</table>\n",
       "</div>"
      ],
      "text/plain": [
       "Empty DataFrame\n",
       "Columns: [Aparencia, Temperatura, Umidade, Vento, Jogar]\n",
       "Index: []"
      ]
     },
     "execution_count": 45,
     "metadata": {},
     "output_type": "execute_result"
    }
   ],
   "source": [
    "#visuliza novamente\n",
    "dataset.loc[(dataset['Umidade'] <  0 )  | ( dataset['Umidade'] >  100) ]"
   ]
  },
  {
   "cell_type": "code",
   "execution_count": 31,
   "metadata": {},
   "outputs": [
    {
     "data": {
      "text/plain": [
       "Vento\n",
       "FALSO         7\n",
       "VERDADEIRO    6\n",
       "dtype: int64"
      ]
     },
     "execution_count": 31,
     "metadata": {},
     "output_type": "execute_result"
    }
   ],
   "source": [
    "#Vemtos\n",
    "agrupado = dataset.groupby(['Vento']).size()\n",
    "agrupado"
   ]
  },
  {
   "cell_type": "code",
   "execution_count": 32,
   "metadata": {},
   "outputs": [
    {
     "data": {
      "text/plain": [
       "1"
      ]
     },
     "execution_count": 32,
     "metadata": {},
     "output_type": "execute_result"
    }
   ],
   "source": [
    "#total de Nas\n",
    "dataset['Vento'].isnull().sum()"
   ]
  },
  {
   "cell_type": "code",
   "execution_count": 33,
   "metadata": {},
   "outputs": [],
   "source": [
    "#preenche NAs\n",
    "dataset['Vento'].fillna('FALSO', inplace=True)"
   ]
  },
  {
   "cell_type": "code",
   "execution_count": 34,
   "metadata": {},
   "outputs": [
    {
     "data": {
      "text/plain": [
       "0"
      ]
     },
     "execution_count": 34,
     "metadata": {},
     "output_type": "execute_result"
    }
   ],
   "source": [
    "#total de Nas\n",
    "dataset['Vento'].isnull().sum()"
   ]
  }
 ],
 "metadata": {
  "kernelspec": {
   "display_name": "Python 3",
   "language": "python",
   "name": "python3"
  },
  "language_info": {
   "codemirror_mode": {
    "name": "ipython",
    "version": 3
   },
   "file_extension": ".py",
   "mimetype": "text/x-python",
   "name": "python",
   "nbconvert_exporter": "python",
   "pygments_lexer": "ipython3",
   "version": "3.11.3"
  }
 },
 "nbformat": 4,
 "nbformat_minor": 4
}
