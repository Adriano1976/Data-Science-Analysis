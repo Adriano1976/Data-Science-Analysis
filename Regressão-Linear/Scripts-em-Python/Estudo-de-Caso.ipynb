{
 "cells": [
  {
   "cell_type": "code",
   "execution_count": 1,
   "metadata": {},
   "outputs": [],
   "source": [
    "# Formação Cientista de Dados - Fernando Amaral, Jones Granatyr e Adriano Santos\n",
    "# Regressão Linear, Faça você mesmo\n",
    "\n",
    "# FraAnual: Taxa Anual\n",
    "# CusInic: Investimento Inicial\n",
    "\n",
    "# Criar um modelo de regressão linear para prever qual será o Investimento inicial necessário de uma franquia a partir da Taxa Anual cobrado pelo franqueador."
   ]
  },
  {
   "cell_type": "code",
   "execution_count": 2,
   "metadata": {},
   "outputs": [],
   "source": [
    "# Importação das bibliotecas, sklearn para criar o modelo de regressão e yellowbrick para visualização de residuais - Esse código em Python importa as bibliotecas pandas, numpy, matplotlib.pyplot e LinearRegression do scikit-learn. Ele é comumente usado para realizar análises de regressão linear. A biblioteca pandas é usada para manipular dados, numpy para operações numéricas, matplotlib.pyplot para plotar gráficos e LinearRegression para criar modelos de regressão linear. Essas ferramentas são cruciais para análise de dados e modelagem estatística em Python, facilitando a compreensão e visualização de relacionamentos lineares entre variáveis.\n",
    "\n",
    "import pandas as pd\n",
    "import numpy as np\n",
    "import matplotlib.pyplot as plt\n",
    "from sklearn.linear_model import LinearRegression"
   ]
  },
  {
   "cell_type": "code",
   "execution_count": 3,
   "metadata": {},
   "outputs": [
    {
     "data": {
      "text/plain": [
       "(36, 2)"
      ]
     },
     "execution_count": 3,
     "metadata": {},
     "output_type": "execute_result"
    }
   ],
   "source": [
    "# Carregamento da base de dados e exclusão da primeira coluna - Neste código, realizo a leitura de um arquivo CSV chamado 'slr12.csv' localizado no diretório '../dados/' usando a biblioteca pandas (pd), com ';' como separador. Em seguida, utilizo 'base.shape' para obter as dimensões do DataFrame resultante, ou seja, o número de linhas e colunas da tabela, que é uma informação útil para análises posteriores.\n",
    "\n",
    "base = pd.read_csv('../dados/slr12.csv', sep=';')\n",
    "base.shape"
   ]
  },
  {
   "cell_type": "code",
   "execution_count": 4,
   "metadata": {},
   "outputs": [
    {
     "data": {
      "text/html": [
       "<div>\n",
       "<style scoped>\n",
       "    .dataframe tbody tr th:only-of-type {\n",
       "        vertical-align: middle;\n",
       "    }\n",
       "\n",
       "    .dataframe tbody tr th {\n",
       "        vertical-align: top;\n",
       "    }\n",
       "\n",
       "    .dataframe thead th {\n",
       "        text-align: right;\n",
       "    }\n",
       "</style>\n",
       "<table border=\"1\" class=\"dataframe\">\n",
       "  <thead>\n",
       "    <tr style=\"text-align: right;\">\n",
       "      <th></th>\n",
       "      <th>FrqAnual</th>\n",
       "      <th>CusInic</th>\n",
       "    </tr>\n",
       "  </thead>\n",
       "  <tbody>\n",
       "    <tr>\n",
       "      <th>0</th>\n",
       "      <td>1000</td>\n",
       "      <td>1050</td>\n",
       "    </tr>\n",
       "    <tr>\n",
       "      <th>1</th>\n",
       "      <td>1125</td>\n",
       "      <td>1150</td>\n",
       "    </tr>\n",
       "    <tr>\n",
       "      <th>2</th>\n",
       "      <td>1087</td>\n",
       "      <td>1213</td>\n",
       "    </tr>\n",
       "    <tr>\n",
       "      <th>3</th>\n",
       "      <td>1070</td>\n",
       "      <td>1275</td>\n",
       "    </tr>\n",
       "    <tr>\n",
       "      <th>4</th>\n",
       "      <td>1100</td>\n",
       "      <td>1300</td>\n",
       "    </tr>\n",
       "  </tbody>\n",
       "</table>\n",
       "</div>"
      ],
      "text/plain": [
       "   FrqAnual  CusInic\n",
       "0      1000     1050\n",
       "1      1125     1150\n",
       "2      1087     1213\n",
       "3      1070     1275\n",
       "4      1100     1300"
      ]
     },
     "execution_count": 4,
     "metadata": {},
     "output_type": "execute_result"
    }
   ],
   "source": [
    "# O código \"base.head()\" é uma instrução em Python utilizada para exibir as primeiras linhas de um conjunto de dados, como um DataFrame do Pandas. Ela retorna por padrão as cinco primeiras linhas, oferecendo uma visão rápida das informações contidas no conjunto de dados. É uma ferramenta útil para verificar a estrutura e os dados iniciais de um arquivo, facilitando a análise exploratória e a compreensão do conteúdo do dataset.\n",
    "\n",
    "base.head()"
   ]
  },
  {
   "cell_type": "code",
   "execution_count": 5,
   "metadata": {},
   "outputs": [
    {
     "data": {
      "text/plain": [
       "array([1000, 1125, 1087, 1070, 1100, 1150, 1250, 1150, 1100, 1350, 1275,\n",
       "       1375, 1175, 1200, 1175, 1300, 1260, 1330, 1325, 1200, 1225, 1090,\n",
       "       1075, 1080, 1080, 1180, 1225, 1175, 1250, 1250,  750, 1125,  700,\n",
       "        900,  900,  850], dtype=int64)"
      ]
     },
     "execution_count": 5,
     "metadata": {},
     "output_type": "execute_result"
    }
   ],
   "source": [
    "# Neste código, estamos usando a biblioteca pandas em Python para extrair dados de um DataFrame chamado 'base'. As duas primeiras linhas separam as colunas 0 e 1 desse DataFrame, armazenando-as nas variáveis 'X' e 'y', respectivamente. Em seguida, a última linha exibe o conteúdo da variável 'X', que contém os valores da coluna 0 da base de dados. Isso é útil para análise e processamento posterior desses dados.\n",
    "\n",
    "X = base.iloc[:, 0].values\n",
    "y = base.iloc[:, 1].values\n",
    "X"
   ]
  },
  {
   "cell_type": "code",
   "execution_count": 6,
   "metadata": {},
   "outputs": [
    {
     "data": {
      "text/plain": [
       "array([[1.        , 0.47700725],\n",
       "       [0.47700725, 1.        ]])"
      ]
     },
     "execution_count": 6,
     "metadata": {},
     "output_type": "execute_result"
    }
   ],
   "source": [
    "# O código calcula a matriz de correlação entre as variáveis X e y usando a função np.corrcoef do NumPy. Essa matriz fornece informações sobre a relação linear entre as duas variáveis, com valores variando de -1 a 1. Um valor próximo de 1 indica uma correlação positiva forte, enquanto um valor próximo de -1 indica uma correlação negativa forte. Se a correlação estiver próxima de 0, as variáveis são pouco correlacionadas. O resultado é a matriz de correlação que pode ser usada para análise estatística das relações entre X e y.\n",
    "\n",
    "correlacao = np.corrcoef(X, y)\n",
    "correlacao"
   ]
  },
  {
   "cell_type": "code",
   "execution_count": 7,
   "metadata": {},
   "outputs": [
    {
     "data": {
      "text/html": [
       "<style>#sk-container-id-1 {color: black;background-color: white;}#sk-container-id-1 pre{padding: 0;}#sk-container-id-1 div.sk-toggleable {background-color: white;}#sk-container-id-1 label.sk-toggleable__label {cursor: pointer;display: block;width: 100%;margin-bottom: 0;padding: 0.3em;box-sizing: border-box;text-align: center;}#sk-container-id-1 label.sk-toggleable__label-arrow:before {content: \"▸\";float: left;margin-right: 0.25em;color: #696969;}#sk-container-id-1 label.sk-toggleable__label-arrow:hover:before {color: black;}#sk-container-id-1 div.sk-estimator:hover label.sk-toggleable__label-arrow:before {color: black;}#sk-container-id-1 div.sk-toggleable__content {max-height: 0;max-width: 0;overflow: hidden;text-align: left;background-color: #f0f8ff;}#sk-container-id-1 div.sk-toggleable__content pre {margin: 0.2em;color: black;border-radius: 0.25em;background-color: #f0f8ff;}#sk-container-id-1 input.sk-toggleable__control:checked~div.sk-toggleable__content {max-height: 200px;max-width: 100%;overflow: auto;}#sk-container-id-1 input.sk-toggleable__control:checked~label.sk-toggleable__label-arrow:before {content: \"▾\";}#sk-container-id-1 div.sk-estimator input.sk-toggleable__control:checked~label.sk-toggleable__label {background-color: #d4ebff;}#sk-container-id-1 div.sk-label input.sk-toggleable__control:checked~label.sk-toggleable__label {background-color: #d4ebff;}#sk-container-id-1 input.sk-hidden--visually {border: 0;clip: rect(1px 1px 1px 1px);clip: rect(1px, 1px, 1px, 1px);height: 1px;margin: -1px;overflow: hidden;padding: 0;position: absolute;width: 1px;}#sk-container-id-1 div.sk-estimator {font-family: monospace;background-color: #f0f8ff;border: 1px dotted black;border-radius: 0.25em;box-sizing: border-box;margin-bottom: 0.5em;}#sk-container-id-1 div.sk-estimator:hover {background-color: #d4ebff;}#sk-container-id-1 div.sk-parallel-item::after {content: \"\";width: 100%;border-bottom: 1px solid gray;flex-grow: 1;}#sk-container-id-1 div.sk-label:hover label.sk-toggleable__label {background-color: #d4ebff;}#sk-container-id-1 div.sk-serial::before {content: \"\";position: absolute;border-left: 1px solid gray;box-sizing: border-box;top: 0;bottom: 0;left: 50%;z-index: 0;}#sk-container-id-1 div.sk-serial {display: flex;flex-direction: column;align-items: center;background-color: white;padding-right: 0.2em;padding-left: 0.2em;position: relative;}#sk-container-id-1 div.sk-item {position: relative;z-index: 1;}#sk-container-id-1 div.sk-parallel {display: flex;align-items: stretch;justify-content: center;background-color: white;position: relative;}#sk-container-id-1 div.sk-item::before, #sk-container-id-1 div.sk-parallel-item::before {content: \"\";position: absolute;border-left: 1px solid gray;box-sizing: border-box;top: 0;bottom: 0;left: 50%;z-index: -1;}#sk-container-id-1 div.sk-parallel-item {display: flex;flex-direction: column;z-index: 1;position: relative;background-color: white;}#sk-container-id-1 div.sk-parallel-item:first-child::after {align-self: flex-end;width: 50%;}#sk-container-id-1 div.sk-parallel-item:last-child::after {align-self: flex-start;width: 50%;}#sk-container-id-1 div.sk-parallel-item:only-child::after {width: 0;}#sk-container-id-1 div.sk-dashed-wrapped {border: 1px dashed gray;margin: 0 0.4em 0.5em 0.4em;box-sizing: border-box;padding-bottom: 0.4em;background-color: white;}#sk-container-id-1 div.sk-label label {font-family: monospace;font-weight: bold;display: inline-block;line-height: 1.2em;}#sk-container-id-1 div.sk-label-container {text-align: center;}#sk-container-id-1 div.sk-container {/* jupyter's `normalize.less` sets `[hidden] { display: none; }` but bootstrap.min.css set `[hidden] { display: none !important; }` so we also need the `!important` here to be able to override the default hidden behavior on the sphinx rendered scikit-learn.org. See: https://github.com/scikit-learn/scikit-learn/issues/21755 */display: inline-block !important;position: relative;}#sk-container-id-1 div.sk-text-repr-fallback {display: none;}</style><div id=\"sk-container-id-1\" class=\"sk-top-container\"><div class=\"sk-text-repr-fallback\"><pre>LinearRegression()</pre><b>In a Jupyter environment, please rerun this cell to show the HTML representation or trust the notebook. <br />On GitHub, the HTML representation is unable to render, please try loading this page with nbviewer.org.</b></div><div class=\"sk-container\" hidden><div class=\"sk-item\"><div class=\"sk-estimator sk-toggleable\"><input class=\"sk-toggleable__control sk-hidden--visually\" id=\"sk-estimator-id-1\" type=\"checkbox\" checked><label for=\"sk-estimator-id-1\" class=\"sk-toggleable__label sk-toggleable__label-arrow\">LinearRegression</label><div class=\"sk-toggleable__content\"><pre>LinearRegression()</pre></div></div></div></div></div>"
      ],
      "text/plain": [
       "LinearRegression()"
      ]
     },
     "execution_count": 7,
     "metadata": {},
     "output_type": "execute_result"
    }
   ],
   "source": [
    "# No código fornecido, primeiro, é feita uma modificação no formato da matriz 'X' com o uso do método 'reshape', adicionando uma coluna a mais, geralmente usado para compatibilidade em alguns modelos de machine learning. Em seguida, é criado um modelo de regressão linear com 'modelo = LinearRegression()' e, por meio do método 'fit', o modelo é treinado com os dados de 'X' e 'y', onde 'X' são as features e 'y' são os valores alvo. Isso permite que o modelo aprenda a relação entre 'X' e 'y' para realizar previsões futuras.\n",
    "\n",
    "X = X.reshape(-1, 1) \n",
    "modelo = LinearRegression()\n",
    "modelo.fit(X, y)"
   ]
  },
  {
   "cell_type": "code",
   "execution_count": 8,
   "metadata": {},
   "outputs": [
    {
     "data": {
      "text/plain": [
       "[<matplotlib.lines.Line2D at 0x243152b33d0>]"
      ]
     },
     "execution_count": 8,
     "metadata": {},
     "output_type": "execute_result"
    },
    {
     "data": {
      "image/png": "[encoded data removed]",
      "text/plain": [
       "<Figure size 640x480 with 1 Axes>"
      ]
     },
     "metadata": {},
     "output_type": "display_data"
    }
   ],
   "source": [
    "# Geração do gráfico com os pontos reais e as previsões - No código fornecido, estamos usando a biblioteca Matplotlib em Python para criar um gráfico de dispersão (scatter plot) dos dados contidos nas variáveis X e y, onde X representa os valores de entrada e y os valores de saída. Em seguida, traçamos uma linha vermelha (color = 'red') no gráfico, que representa as previsões do nosso modelo, calculadas usando o método `predict(X)`. Esse código visualiza a relação entre os dados reais e as previsões do modelo em um gráfico simples e eficaz.\n",
    "\n",
    "plt.scatter(X, y)\n",
    "plt.plot(X, modelo.predict(X), color = 'red')"
   ]
  },
  {
   "cell_type": "markdown",
   "metadata": {},
   "source": [
    "- A imagem acima é um gráfico de dispersão que mostra a relação entre os dados reais e as previsões feitas pelo modelo. \n",
    "- O gráfico tem pontos azuis representando os dados reais e uma linha vermelha representando as previsões feitas pelo modelo. \n",
    "- O eixo x varia de 700 a 1400 e o eixo y varia de 1100 a 1800. \n",
    "- Os pontos azuis estão espalhados ao redor da linha vermelha, indicando que as previsões feitas pelo modelo não são perfeitas, mas estão próximas dos dados reais. \n",
    "- A linha vermelha tem uma inclinação positiva, indicando que as previsões feitas pelo modelo estão positivamente correlacionadas com os dados reais. "
   ]
  },
  {
   "cell_type": "code",
   "execution_count": 25,
   "metadata": {},
   "outputs": [
    {
     "data": {
      "text/plain": [
       "array([1352.70953897])"
      ]
     },
     "execution_count": 25,
     "metadata": {},
     "output_type": "execute_result"
    }
   ],
   "source": [
    "# Valor anual da franquina - O código em questão define o valor anual da franquia como 1300 e, em seguida, utiliza um modelo de previsão (provavelmente de machine learning) para fazer uma previsão com base nesse valor. O modelo é alimentado com o valor da franquia e retorna uma previsão relacionada a esse valor. Este código é bastante conciso, envolvendo uma única variável e uma única chamada à função de previsão do modelo.\n",
    "\n",
    "valor =  1300\n",
    "valor_previsto = modelo.predict([[valor]])\n",
    "valor_previsto"
   ]
  },
  {
   "cell_type": "code",
   "execution_count": 26,
   "metadata": {},
   "outputs": [
    {
     "data": {
      "text/plain": [
       "'Valor previsto: R$ 1,352.71'"
      ]
     },
     "execution_count": 26,
     "metadata": {},
     "output_type": "execute_result"
    }
   ],
   "source": [
    "# Esse código em Python cria uma string formatada que exibe o valor previsto com formatação monetária brasileira, incluindo o símbolo de real (R$), separadores de milhares e duas casas decimais. O valor previsto é obtido do objeto `valor_previsto` e é inserido na string formatada usando a função `format()`. Em seguida, a string formatada é impressa, exibindo o valor previsto de forma clara e organizada.\n",
    "\n",
    "valor_previsto_formatado = \"Valor previsto: R$ {:,.2f}\".format(valor_previsto.item())\n",
    "valor_previsto_formatado"
   ]
  },
  {
   "cell_type": "markdown",
   "metadata": {},
   "source": [
    "Portanto, podemos concluir que se o modelo for capaz de prever com precisão os valores do conjunto de teste, ele pode ser usado para prever o Investimento inicial necessário de novas franquias.\n",
    "\n",
    "### Aqui estão alguns exemplos de como esse modelo pode ser usado:\n",
    "\n",
    "- Um investidor pode usar o modelo para estimar o custo de abrir uma franquia antes de fazer um investimento.\n",
    "- Um franqueador pode usar o modelo para comparar o custo de abertura de uma franquia com o potencial de receita.\n",
    "- Um consultor pode usar o modelo para ajudar um empreendedor a decidir se uma franquia é um bom investimento.\n",
    "\n",
    "### Aqui estão algumas limitações do modelo:\n",
    "\n",
    "- O modelo só é tão bom quanto os dados em que foi treinado. Se os dados não forem representativos da população de franquias, o modelo pode não ser preciso.\n",
    "- O modelo só pode prever o Investimento inicial necessário em média. O valor real pode variar de acordo com fatores específicos da franquia.\n",
    "- Apesar dessas limitações, o modelo de regressão linear pode ser uma ferramenta útil para prever o Investimento inicial necessário de uma franquia."
   ]
  }
 ],
 "metadata": {
  "kernelspec": {
   "display_name": "Python 3",
   "language": "python",
   "name": "python3"
  },
  "language_info": {
   "codemirror_mode": {
    "name": "ipython",
    "version": 3
   },
   "file_extension": ".py",
   "mimetype": "text/x-python",
   "name": "python",
   "nbconvert_exporter": "python",
   "pygments_lexer": "ipython3",
   "version": "3.11.3"
  }
 },
 "nbformat": 4,
 "nbformat_minor": 4
}
