{
 "cells": [
  {
   "cell_type": "markdown",
   "metadata": {},
   "source": [
    "## <font color='yellow'>Fundamentos de Linguagem Python Para Análise de Dados e Data Science</font>\n",
    "\n",
    "## <font color='yellow'>Machine Learning com Scikit-Learn</font>\n",
    "\n",
    "Problema de Negócio:\n",
    "\n",
    "### Usando dados históricos é possível prever o salário de alguém com base no tempo dedicado aos estudos em horas por mês?"
   ]
  },
  {
   "cell_type": "markdown",
   "metadata": {},
   "source": [
    "### <font color=orange>Verificar a Versão da Linguagem Python</font>"
   ]
  },
  {
   "cell_type": "markdown",
   "metadata": {},
   "source": [
    "Esse código Python exibe a versão da linguagem Python que está sendo usada no ambiente do Jupyter Notebook. Ele importa a função `python_version` do módulo `platform` e, em seguida, imprime a versão do Python. Isso é útil para verificar a versão da linguagem e garantir que seu código seja compatível com essa versão específica."
   ]
  },
  {
   "cell_type": "code",
   "execution_count": 1,
   "metadata": {},
   "outputs": [
    {
     "name": "stdout",
     "output_type": "stream",
     "text": [
      "Versão da Linguagem Python Usada Neste Jupyter Notebook: 3.11.3\n"
     ]
    }
   ],
   "source": [
    "from platform import python_version\n",
    "print('Versão da Linguagem Python Usada Neste Jupyter Notebook:', python_version())"
   ]
  },
  {
   "cell_type": "markdown",
   "metadata": {},
   "source": [
    "### <font color=orange>Efetuar a Importação das Bibliotecas Importantes</font>"
   ]
  },
  {
   "cell_type": "markdown",
   "metadata": {},
   "source": [
    "Esse código em Python importa bibliotecas essenciais para análise de dados e modelagem preditiva. \"numpy\" e \"pandas\" são usados para manipulação de dados. \"matplotlib\" e \"seaborn\" ajudam na visualização de gráficos. Em seguida, \"sklearn\" traz as funções necessárias para criar um modelo de regressão linear, enquanto \"train_test_split\" é usado para dividir os dados em conjuntos de treinamento e teste. Em resumo, o código prepara o ambiente para análise de dados e construção de um modelo de regressão linear."
   ]
  },
  {
   "cell_type": "code",
   "execution_count": 2,
   "metadata": {},
   "outputs": [],
   "source": [
    "import numpy as np\n",
    "import pandas as pd\n",
    "import matplotlib.pyplot as plt\n",
    "import seaborn as sns\n",
    "from sklearn.linear_model import LinearRegression\n",
    "from sklearn.model_selection import train_test_split"
   ]
  },
  {
   "cell_type": "markdown",
   "metadata": {},
   "source": [
    "### <font color=orange>Efetuar o carregamento do conjunto de dados</font>"
   ]
  },
  {
   "cell_type": "markdown",
   "metadata": {},
   "source": [
    "Nesse código Python, começamos carregando um conjunto de dados a partir de um arquivo CSV usando a biblioteca pandas e o armazenamos no DataFrame 'df'. Em seguida, usamos o método 'head(10)' para exibir as 10 primeiras linhas desse conjunto de dados, o que permite uma visualização rápida dos dados iniciais para entender sua estrutura e conteúdo."
   ]
  },
  {
   "cell_type": "code",
   "execution_count": 3,
   "metadata": {},
   "outputs": [
    {
     "data": {
      "text/html": [
       "<div>\n",
       "<style scoped>\n",
       "    .dataframe tbody tr th:only-of-type {\n",
       "        vertical-align: middle;\n",
       "    }\n",
       "\n",
       "    .dataframe tbody tr th {\n",
       "        vertical-align: top;\n",
       "    }\n",
       "\n",
       "    .dataframe thead th {\n",
       "        text-align: right;\n",
       "    }\n",
       "</style>\n",
       "<table border=\"1\" class=\"dataframe\">\n",
       "  <thead>\n",
       "    <tr style=\"text-align: right;\">\n",
       "      <th></th>\n",
       "      <th>horas_estudo_mes</th>\n",
       "      <th>salario</th>\n",
       "    </tr>\n",
       "  </thead>\n",
       "  <tbody>\n",
       "    <tr>\n",
       "      <th>0</th>\n",
       "      <td>57.0</td>\n",
       "      <td>6813.0</td>\n",
       "    </tr>\n",
       "    <tr>\n",
       "      <th>1</th>\n",
       "      <td>48.0</td>\n",
       "      <td>6855.0</td>\n",
       "    </tr>\n",
       "    <tr>\n",
       "      <th>2</th>\n",
       "      <td>60.0</td>\n",
       "      <td>5801.0</td>\n",
       "    </tr>\n",
       "    <tr>\n",
       "      <th>3</th>\n",
       "      <td>73.0</td>\n",
       "      <td>7431.0</td>\n",
       "    </tr>\n",
       "    <tr>\n",
       "      <th>4</th>\n",
       "      <td>46.0</td>\n",
       "      <td>5475.0</td>\n",
       "    </tr>\n",
       "    <tr>\n",
       "      <th>5</th>\n",
       "      <td>46.0</td>\n",
       "      <td>5556.0</td>\n",
       "    </tr>\n",
       "    <tr>\n",
       "      <th>6</th>\n",
       "      <td>74.0</td>\n",
       "      <td>6904.0</td>\n",
       "    </tr>\n",
       "    <tr>\n",
       "      <th>7</th>\n",
       "      <td>62.0</td>\n",
       "      <td>6168.0</td>\n",
       "    </tr>\n",
       "    <tr>\n",
       "      <th>8</th>\n",
       "      <td>43.0</td>\n",
       "      <td>5674.0</td>\n",
       "    </tr>\n",
       "    <tr>\n",
       "      <th>9</th>\n",
       "      <td>58.0</td>\n",
       "      <td>5985.0</td>\n",
       "    </tr>\n",
       "  </tbody>\n",
       "</table>\n",
       "</div>"
      ],
      "text/plain": [
       "   horas_estudo_mes  salario\n",
       "0              57.0   6813.0\n",
       "1              48.0   6855.0\n",
       "2              60.0   5801.0\n",
       "3              73.0   7431.0\n",
       "4              46.0   5475.0\n",
       "5              46.0   5556.0\n",
       "6              74.0   6904.0\n",
       "7              62.0   6168.0\n",
       "8              43.0   5674.0\n",
       "9              58.0   5985.0"
      ]
     },
     "execution_count": 3,
     "metadata": {},
     "output_type": "execute_result"
    }
   ],
   "source": [
    "df = pd.read_csv('datasetSL.csv')\n",
    "df.head(10)"
   ]
  },
  {
   "cell_type": "markdown",
   "metadata": {},
   "source": [
    "### <font color=orange>Verificar o número de linhas e colunas do DataFrame<font/>"
   ]
  },
  {
   "cell_type": "markdown",
   "metadata": {},
   "source": [
    "Esse código em Python simplesmente verifica a forma de um DataFrame, ou seja, ele retorna uma tupla contendo o número de linhas e colunas no DataFrame. Isso é útil para ter uma visão rápida da estrutura dos dados que você está manipulando, permitindo verificar a dimensão do DataFrame. Por exemplo, se a saída for (500, 2), isso significa que o DataFrame tem 500 linhas e 2 colunas. É uma operação básica de inspeção de dados em análise de dados e manipulação de DataFrames com bibliotecas como o pandas."
   ]
  },
  {
   "cell_type": "code",
   "execution_count": 4,
   "metadata": {},
   "outputs": [
    {
     "data": {
      "text/plain": [
       "(500, 2)"
      ]
     },
     "execution_count": 4,
     "metadata": {},
     "output_type": "execute_result"
    }
   ],
   "source": [
    "df.shape"
   ]
  },
  {
   "cell_type": "markdown",
   "metadata": {},
   "source": [
    "### <font color=orange>Realizar a consulta das colunas do DataFrame<font/>"
   ]
  },
  {
   "cell_type": "markdown",
   "metadata": {},
   "source": [
    "Esse código Python realiza uma simples operação de consulta nas colunas de um DataFrame, que é uma estrutura de dados tabular amplamente usada em análise de dados. Ele exibe o resultado, mostrando as colunas presentes no DataFrame, o que é útil para identificar quais variáveis estão disponíveis para análise e manipulação nos dados contidos no DataFrame."
   ]
  },
  {
   "cell_type": "code",
   "execution_count": 5,
   "metadata": {},
   "outputs": [
    {
     "data": {
      "text/plain": [
       "Index(['horas_estudo_mes', 'salario'], dtype='object')"
      ]
     },
     "execution_count": 5,
     "metadata": {},
     "output_type": "execute_result"
    }
   ],
   "source": [
    "df.columns"
   ]
  },
  {
   "cell_type": "markdown",
   "metadata": {},
   "source": [
    "### <font color=orange>Exibir das informações do DataFrame</font>"
   ]
  },
  {
   "cell_type": "markdown",
   "metadata": {},
   "source": [
    "O código em Python \"df.info()\" é usado para exibir informações detalhadas sobre um DataFrame, que é uma estrutura de dados do pandas. Ele fornece informações como o `número de linhas e colunas, a quantidade de memória usada, os tipos de dados das colunas e a contagem de valores não nulos em cada coluna`. Isso é útil para entender a composição e a qualidade dos dados contidos no DataFrame, o que facilita a análise e o processamento posterior dos dados."
   ]
  },
  {
   "cell_type": "code",
   "execution_count": 6,
   "metadata": {},
   "outputs": [
    {
     "name": "stdout",
     "output_type": "stream",
     "text": [
      "<class 'pandas.core.frame.DataFrame'>\n",
      "RangeIndex: 500 entries, 0 to 499\n",
      "Data columns (total 2 columns):\n",
      " #   Column            Non-Null Count  Dtype  \n",
      "---  ------            --------------  -----  \n",
      " 0   horas_estudo_mes  500 non-null    float64\n",
      " 1   salario           500 non-null    float64\n",
      "dtypes: float64(2)\n",
      "memory usage: 7.9 KB\n"
     ]
    }
   ],
   "source": [
    "df.info()"
   ]
  },
  {
   "cell_type": "markdown",
   "metadata": {},
   "source": [
    "## <font color=yellow>Análise Exploratória - Resumo Estatístico</font>"
   ]
  },
  {
   "cell_type": "markdown",
   "metadata": {},
   "source": [
    "### <font color=orange>Verificar se há valores ausentes</font>"
   ]
  },
  {
   "cell_type": "markdown",
   "metadata": {},
   "source": [
    "Esse código Python verifica a presença de valores ausentes em um DataFrame chamado 'df'. A função 'isnull()' cria uma matriz booleana, onde cada elemento indica se o valor correspondente no DataFrame é nulo (True) ou não (False). Em seguida, 'sum()' é aplicado para contar quantos valores nulos existem em cada coluna do DataFrame. O resultado é uma série que mostra a contagem de valores nulos em cada coluna do DataFrame, o que é útil para identificar áreas com dados faltantes."
   ]
  },
  {
   "cell_type": "code",
   "execution_count": 7,
   "metadata": {},
   "outputs": [
    {
     "data": {
      "text/plain": [
       "horas_estudo_mes    0\n",
       "salario             0\n",
       "dtype: int64"
      ]
     },
     "execution_count": 7,
     "metadata": {},
     "output_type": "execute_result"
    }
   ],
   "source": [
    "df.isnull().sum()"
   ]
  },
  {
   "cell_type": "markdown",
   "metadata": {},
   "source": [
    "### <font color=orange>Calcular a matriz de correlação</font>"
   ]
  },
  {
   "cell_type": "markdown",
   "metadata": {},
   "source": [
    "Esse código Python realiza o cálculo da matriz de correlação a partir de um DataFrame chamado 'df'. Essa matriz fornece informações sobre como as variáveis no DataFrame estão relacionadas umas com as outras, medindo a força e a direção das relações. Essas informações são úteis para identificar associações entre os dados, o que é fundamental em análises estatísticas e de dados, auxiliando na tomada de decisões e na seleção de variáveis relevantes em projetos de análise de dados e machine learning."
   ]
  },
  {
   "cell_type": "code",
   "execution_count": 8,
   "metadata": {},
   "outputs": [
    {
     "data": {
      "text/html": [
       "<div>\n",
       "<style scoped>\n",
       "    .dataframe tbody tr th:only-of-type {\n",
       "        vertical-align: middle;\n",
       "    }\n",
       "\n",
       "    .dataframe tbody tr th {\n",
       "        vertical-align: top;\n",
       "    }\n",
       "\n",
       "    .dataframe thead th {\n",
       "        text-align: right;\n",
       "    }\n",
       "</style>\n",
       "<table border=\"1\" class=\"dataframe\">\n",
       "  <thead>\n",
       "    <tr style=\"text-align: right;\">\n",
       "      <th></th>\n",
       "      <th>horas_estudo_mes</th>\n",
       "      <th>salario</th>\n",
       "    </tr>\n",
       "  </thead>\n",
       "  <tbody>\n",
       "    <tr>\n",
       "      <th>horas_estudo_mes</th>\n",
       "      <td>1.000000</td>\n",
       "      <td>0.818576</td>\n",
       "    </tr>\n",
       "    <tr>\n",
       "      <th>salario</th>\n",
       "      <td>0.818576</td>\n",
       "      <td>1.000000</td>\n",
       "    </tr>\n",
       "  </tbody>\n",
       "</table>\n",
       "</div>"
      ],
      "text/plain": [
       "                  horas_estudo_mes   salario\n",
       "horas_estudo_mes          1.000000  0.818576\n",
       "salario                   0.818576  1.000000"
      ]
     },
     "execution_count": 8,
     "metadata": {},
     "output_type": "execute_result"
    }
   ],
   "source": [
    "df.corr()"
   ]
  },
  {
   "cell_type": "markdown",
   "metadata": {},
   "source": [
    "### <font color=orange>Verificar o resumo estatístico do conjunto de dados</font>"
   ]
  },
  {
   "cell_type": "markdown",
   "metadata": {},
   "source": [
    "Esse código Python realiza uma operação simples, exibindo um resumo estatístico de um conjunto de dados representado pelo DataFrame \"df\". O método \"describe()\" fornece informações estatísticas, como média, desvio padrão, valores mínimo e máximo, quartis e contagem de dados para as colunas numéricas do DataFrame, o que é útil para uma rápida análise do conjunto de dados."
   ]
  },
  {
   "cell_type": "code",
   "execution_count": 9,
   "metadata": {},
   "outputs": [
    {
     "data": {
      "text/html": [
       "<div>\n",
       "<style scoped>\n",
       "    .dataframe tbody tr th:only-of-type {\n",
       "        vertical-align: middle;\n",
       "    }\n",
       "\n",
       "    .dataframe tbody tr th {\n",
       "        vertical-align: top;\n",
       "    }\n",
       "\n",
       "    .dataframe thead th {\n",
       "        text-align: right;\n",
       "    }\n",
       "</style>\n",
       "<table border=\"1\" class=\"dataframe\">\n",
       "  <thead>\n",
       "    <tr style=\"text-align: right;\">\n",
       "      <th></th>\n",
       "      <th>horas_estudo_mes</th>\n",
       "      <th>salario</th>\n",
       "    </tr>\n",
       "  </thead>\n",
       "  <tbody>\n",
       "    <tr>\n",
       "      <th>count</th>\n",
       "      <td>500.000000</td>\n",
       "      <td>500.000000</td>\n",
       "    </tr>\n",
       "    <tr>\n",
       "      <th>mean</th>\n",
       "      <td>50.060000</td>\n",
       "      <td>6018.930000</td>\n",
       "    </tr>\n",
       "    <tr>\n",
       "      <th>std</th>\n",
       "      <td>14.659406</td>\n",
       "      <td>848.697853</td>\n",
       "    </tr>\n",
       "    <tr>\n",
       "      <th>min</th>\n",
       "      <td>1.000000</td>\n",
       "      <td>3664.000000</td>\n",
       "    </tr>\n",
       "    <tr>\n",
       "      <th>25%</th>\n",
       "      <td>39.750000</td>\n",
       "      <td>5473.000000</td>\n",
       "    </tr>\n",
       "    <tr>\n",
       "      <th>50%</th>\n",
       "      <td>50.000000</td>\n",
       "      <td>6013.500000</td>\n",
       "    </tr>\n",
       "    <tr>\n",
       "      <th>75%</th>\n",
       "      <td>60.000000</td>\n",
       "      <td>6542.000000</td>\n",
       "    </tr>\n",
       "    <tr>\n",
       "      <th>max</th>\n",
       "      <td>100.000000</td>\n",
       "      <td>9348.000000</td>\n",
       "    </tr>\n",
       "  </tbody>\n",
       "</table>\n",
       "</div>"
      ],
      "text/plain": [
       "       horas_estudo_mes      salario\n",
       "count        500.000000   500.000000\n",
       "mean          50.060000  6018.930000\n",
       "std           14.659406   848.697853\n",
       "min            1.000000  3664.000000\n",
       "25%           39.750000  5473.000000\n",
       "50%           50.000000  6013.500000\n",
       "75%           60.000000  6542.000000\n",
       "max          100.000000  9348.000000"
      ]
     },
     "execution_count": 9,
     "metadata": {},
     "output_type": "execute_result"
    }
   ],
   "source": [
    "df.describe()"
   ]
  },
  {
   "cell_type": "markdown",
   "metadata": {},
   "source": [
    "### <font color=orange>Verificar o resumo e descrição arredondada do DataFrame</font>"
   ]
  },
  {
   "cell_type": "markdown",
   "metadata": {},
   "source": [
    "O código Python realiza a ação de arredondar os valores estatísticos descritivos de um DataFrame chamado 'df' para duas casas decimais. Isso é frequentemente útil para melhorar a legibilidade das estatísticas resumidas, como média, desvio padrão, mínimo, máximo, entre outros, tornando-os mais concisos e fáceis de compreender em análises de dados."
   ]
  },
  {
   "cell_type": "code",
   "execution_count": 10,
   "metadata": {},
   "outputs": [
    {
     "data": {
      "text/html": [
       "<div>\n",
       "<style scoped>\n",
       "    .dataframe tbody tr th:only-of-type {\n",
       "        vertical-align: middle;\n",
       "    }\n",
       "\n",
       "    .dataframe tbody tr th {\n",
       "        vertical-align: top;\n",
       "    }\n",
       "\n",
       "    .dataframe thead th {\n",
       "        text-align: right;\n",
       "    }\n",
       "</style>\n",
       "<table border=\"1\" class=\"dataframe\">\n",
       "  <thead>\n",
       "    <tr style=\"text-align: right;\">\n",
       "      <th></th>\n",
       "      <th>horas_estudo_mes</th>\n",
       "      <th>salario</th>\n",
       "    </tr>\n",
       "  </thead>\n",
       "  <tbody>\n",
       "    <tr>\n",
       "      <th>count</th>\n",
       "      <td>500.00</td>\n",
       "      <td>500.00</td>\n",
       "    </tr>\n",
       "    <tr>\n",
       "      <th>mean</th>\n",
       "      <td>50.06</td>\n",
       "      <td>6018.93</td>\n",
       "    </tr>\n",
       "    <tr>\n",
       "      <th>std</th>\n",
       "      <td>14.66</td>\n",
       "      <td>848.70</td>\n",
       "    </tr>\n",
       "    <tr>\n",
       "      <th>min</th>\n",
       "      <td>1.00</td>\n",
       "      <td>3664.00</td>\n",
       "    </tr>\n",
       "    <tr>\n",
       "      <th>25%</th>\n",
       "      <td>39.75</td>\n",
       "      <td>5473.00</td>\n",
       "    </tr>\n",
       "    <tr>\n",
       "      <th>50%</th>\n",
       "      <td>50.00</td>\n",
       "      <td>6013.50</td>\n",
       "    </tr>\n",
       "    <tr>\n",
       "      <th>75%</th>\n",
       "      <td>60.00</td>\n",
       "      <td>6542.00</td>\n",
       "    </tr>\n",
       "    <tr>\n",
       "      <th>max</th>\n",
       "      <td>100.00</td>\n",
       "      <td>9348.00</td>\n",
       "    </tr>\n",
       "  </tbody>\n",
       "</table>\n",
       "</div>"
      ],
      "text/plain": [
       "       horas_estudo_mes  salario\n",
       "count            500.00   500.00\n",
       "mean              50.06  6018.93\n",
       "std               14.66   848.70\n",
       "min                1.00  3664.00\n",
       "25%               39.75  5473.00\n",
       "50%               50.00  6013.50\n",
       "75%               60.00  6542.00\n",
       "max              100.00  9348.00"
      ]
     },
     "execution_count": 10,
     "metadata": {},
     "output_type": "execute_result"
    }
   ],
   "source": [
    "round(df.describe(), 2)"
   ]
  },
  {
   "cell_type": "markdown",
   "metadata": {},
   "source": [
    "### <font color=orange>Verificar o resumo estatístico da variável alvo</font>"
   ]
  },
  {
   "cell_type": "markdown",
   "metadata": {},
   "source": [
    "Nesse código Python, estamos analisando a variável \"horas_estudo_mes\" de um DataFrame chamado \"df\". A função \"describe()\" é usada para gerar um resumo estatístico, incluindo estatísticas como média, desvio padrão, valores mínimo e máximo, quartis, e contagem de dados. O resultado é arredondado para duas casas decimais com o \"round()\" para facilitar a leitura e a compreensão das estatísticas da variável \"horas_estudo_mes\"."
   ]
  },
  {
   "cell_type": "code",
   "execution_count": 11,
   "metadata": {},
   "outputs": [
    {
     "data": {
      "text/plain": [
       "count    500.00\n",
       "mean      50.06\n",
       "std       14.66\n",
       "min        1.00\n",
       "25%       39.75\n",
       "50%       50.00\n",
       "75%       60.00\n",
       "max      100.00\n",
       "Name: horas_estudo_mes, dtype: float64"
      ]
     },
     "execution_count": 11,
     "metadata": {},
     "output_type": "execute_result"
    }
   ],
   "source": [
    "round(df[\"horas_estudo_mes\"].describe(), 2)"
   ]
  },
  {
   "cell_type": "markdown",
   "metadata": {},
   "source": [
    "### <font color=orange>Criar um Histograma da variável alvo</font>"
   ]
  },
  {
   "cell_type": "markdown",
   "metadata": {},
   "source": [
    "O código Python apresenta a criação de um histograma da variável preditora \"horas_estudo_mes\" de um DataFrame chamado \"df\". Ele utiliza a biblioteca Seaborn para gerar o gráfico, com uma linha de densidade (kde = True) mostrando a distribuição dos dados. O título do gráfico é \"Histograma da Variável Preditora\", o eixo y representa o \"Salário\" e o eixo x representa \"Horas de Estudo por Mês\". Esse gráfico ajuda a visualizar a relação entre as horas de estudo mensais e os salários no conjunto de dados."
   ]
  },
  {
   "cell_type": "code",
   "execution_count": 12,
   "metadata": {},
   "outputs": [
    {
     "data": {
      "text/plain": [
       "[Text(0.5, 1.0, 'Histograma da Variável Preditora'),\n",
       " Text(0, 0.5, 'Salário'),\n",
       " Text(0.5, 0, 'Horas de Estudo por Mês')]"
      ]
     },
     "execution_count": 12,
     "metadata": {},
     "output_type": "execute_result"
    },
    {
     "data": {
      "image/png": "[encoded data removed]",
      "text/plain": [
       "<Figure size 640x480 with 1 Axes>"
      ]
     },
     "metadata": {},
     "output_type": "display_data"
    }
   ],
   "source": [
    "sns.histplot(data = df, x = \"horas_estudo_mes\", kde = True).set(title='Histograma da Variável Preditora', ylabel='Salário', xlabel='Horas de Estudo por Mês')"
   ]
  },
  {
   "cell_type": "markdown",
   "metadata": {},
   "source": [
    "## <font color=yellow>Preparação dos dados para um modelo de regressão linear</font>"
   ]
  },
  {
   "cell_type": "markdown",
   "metadata": {},
   "source": [
    "### <font color=orange>Preparar a variável de entrada X</font>"
   ]
  },
  {
   "cell_type": "markdown",
   "metadata": {},
   "source": [
    "Nesse código Python, estamos preparando a variável de entrada 'X' para um modelo de regressão linear. A variável 'X' é criada a partir de um array numpy, que contém os valores da coluna 'horas_estudo_mes' de um DataFrame chamado 'df'. Essa variável 'X' representará as horas de estudo por mês, que serão usadas como dados de entrada no modelo de regressão linear para prever uma variável de saída com base nesses valores."
   ]
  },
  {
   "cell_type": "code",
   "execution_count": 13,
   "metadata": {},
   "outputs": [],
   "source": [
    "X = np.array(df['horas_estudo_mes'])"
   ]
  },
  {
   "cell_type": "markdown",
   "metadata": {},
   "source": [
    "### <font color=orange>Realizar o ajuste do shape de X</font>"
   ]
  },
  {
   "cell_type": "markdown",
   "metadata": {},
   "source": [
    "Nesse código Python, estamos usando a função \"reshape\" para ajustar a forma do array X, que é comumente utilizado em tarefas de machine learning. O argumento \"-1\" indica que o número de linhas deve ser inferido automaticamente, enquanto \"1\" especifica que cada elemento do array deve ser organizado em uma única coluna. Isso é útil quando precisamos adaptar a estrutura dos dados, muitas vezes necessária antes de alimentar um modelo de regressão linear com os dados, para que ele possa funcionar corretamente."
   ]
  },
  {
   "cell_type": "code",
   "execution_count": 14,
   "metadata": {},
   "outputs": [],
   "source": [
    "X = X.reshape(-1, 1)"
   ]
  },
  {
   "cell_type": "markdown",
   "metadata": {},
   "source": [
    "### <font color=orange>Realizar a preparação da variável de destino</font>"
   ]
  },
  {
   "cell_type": "markdown",
   "metadata": {},
   "source": [
    "Neste código Python, está sendo preparada a variável de destino \"y\" a partir de um DataFrame \"df\". A variável \"y\" será usada para armazenar os salários de um conjunto de dados, possivelmente para uma análise de regressão ou modelagem. A coluna 'salario' do DataFrame \"df\" é selecionada e atribuída a \"y\" para posterior análise estatística ou modelagem de dados."
   ]
  },
  {
   "cell_type": "code",
   "execution_count": 15,
   "metadata": {},
   "outputs": [],
   "source": [
    "\n",
    "y = df['salario']"
   ]
  },
  {
   "cell_type": "markdown",
   "metadata": {},
   "source": [
    "### <font color=orange>Elaborar um gráfico de dispersão que mostre a relação entre duas variáveis, X e Y<font>"
   ]
  },
  {
   "cell_type": "markdown",
   "metadata": {},
   "source": [
    "Nesse código Python, estamos criando um gráfico de dispersão que mostra a relação entre duas variáveis, X e y, representando horas de estudo e salário, respectivamente. Usamos a biblioteca Matplotlib para plotar o gráfico, definimos a cor e rótulos para os dados reais históricos, configuramos os rótulos dos eixos X e Y como \"Horas de Estudo\" e \"Salário\" e adicionamos uma legenda. O comando plt.show() exibe o gráfico na tela. Essa visualização ajuda a entender como as horas de estudo se relacionam com o salário, fornecendo uma representação gráfica dos dados."
   ]
  },
  {
   "cell_type": "code",
   "execution_count": 16,
   "metadata": {},
   "outputs": [
    {
     "data": {
      "image/png": "[encoded data removed]",
      "text/plain": [
       "<Figure size 640x480 with 1 Axes>"
      ]
     },
     "metadata": {},
     "output_type": "display_data"
    }
   ],
   "source": [
    "plt.scatter(X, y, color = \"blue\", label = \"Dados Reais Históricos\")\n",
    "plt.title(\"Gráfico de dispersão entre duas variáveis\")\n",
    "plt.xlabel(\"Horas de Estudo\")\n",
    "plt.ylabel(\"Salário\")\n",
    "plt.legend()\n",
    "plt.show()"
   ]
  },
  {
   "cell_type": "markdown",
   "metadata": {},
   "source": [
    "### <font color=orange>Dividir os dados em conjuntos de treinamento e teste</font>"
   ]
  },
  {
   "cell_type": "markdown",
   "metadata": {},
   "source": [
    "Neste código em Python, estamos dividindo nosso conjunto de dados em conjuntos de treinamento (X_train e y_train) e teste (X_test e y_test) usando a função `train_test_split` do scikit-learn. A divisão é feita de forma que 20% dos dados sejam alocados para o conjunto de teste, enquanto 80% são reservados para o conjunto de treinamento. Além disso, o parâmetro `random_state` é definido como 42 para garantir a reprodutibilidade dos resultados, garantindo que a mesma divisão seja obtida em diferentes execuções. Isso é comumente usado ao trabalhar com modelos de aprendizado de máquina para avaliar o desempenho do modelo em dados não vistos."
   ]
  },
  {
   "cell_type": "code",
   "execution_count": 17,
   "metadata": {},
   "outputs": [],
   "source": [
    "\n",
    "X_train, X_test, y_train, y_test = train_test_split(X, y, test_size=0.2, random_state=42)"
   ]
  },
  {
   "cell_type": "markdown",
   "metadata": {},
   "source": [
    "### <font color=orange>Verificar a forma (shape) do conjunto de treinamento `X_train`</font>"
   ]
  },
  {
   "cell_type": "markdown",
   "metadata": {},
   "source": [
    "No código fornecido, estamos verificando a forma (shape) do conjunto de treinamento X_train. Isso é útil para entender a dimensão dos dados que estamos trabalhando. O comando \"X_train.shape\" retorna duas informações: o número de linhas (amostras) e o número de colunas (características) no conjunto de treinamento X_train. Isso é essencial para garantir que nossos dados estejam formatados corretamente antes de prosseguir com análises ou modelos de machine learning."
   ]
  },
  {
   "cell_type": "code",
   "execution_count": 18,
   "metadata": {},
   "outputs": [
    {
     "data": {
      "text/plain": [
       "(400, 1)"
      ]
     },
     "execution_count": 18,
     "metadata": {},
     "output_type": "execute_result"
    }
   ],
   "source": [
    "X_train.shape"
   ]
  },
  {
   "cell_type": "markdown",
   "metadata": {},
   "source": [
    "### <font color=orange>Verificar a forma (shape) do conjunto de teste `X_test`</font>"
   ]
  },
  {
   "cell_type": "markdown",
   "metadata": {},
   "source": [
    "No código fornecido, estamos avaliando a forma (shape) do conjunto de teste X_test, o que nos permite conhecer a quantidade de linhas e colunas presentes nesse conjunto. Essa informação é fundamental para garantir que o modelo de machine learning esteja sendo aplicado corretamente, pois o número de recursos (colunas) deve coincidir com as expectativas do modelo. Essa verificação ajuda a evitar erros durante a execução de algoritmos de aprendizado de máquina, garantindo que os dados de teste estejam no formato esperado."
   ]
  },
  {
   "cell_type": "code",
   "execution_count": 19,
   "metadata": {},
   "outputs": [
    {
     "data": {
      "text/plain": [
       "(100, 1)"
      ]
     },
     "execution_count": 19,
     "metadata": {},
     "output_type": "execute_result"
    }
   ],
   "source": [
    "X_test.shape"
   ]
  },
  {
   "cell_type": "markdown",
   "metadata": {},
   "source": [
    "### <font color=orange>Verificar a forma (shape) do conjunto de treinamento `Y_train`</font>"
   ]
  },
  {
   "cell_type": "markdown",
   "metadata": {},
   "source": [
    "No código apresentado, estamos verificando a forma (shape) do conjunto de treinamento Y_train, que geralmente é usado em tarefas de aprendizado de máquina. O comando \"y_train.shape\" retorna as dimensões desse conjunto, ou seja, a quantidade de linhas e colunas, o que é útil para compreender a estrutura dos dados e pode ser crucial na preparação e análise de conjuntos de treinamento em um projeto de machine learning."
   ]
  },
  {
   "cell_type": "code",
   "execution_count": 20,
   "metadata": {},
   "outputs": [
    {
     "data": {
      "text/plain": [
       "(400,)"
      ]
     },
     "execution_count": 20,
     "metadata": {},
     "output_type": "execute_result"
    }
   ],
   "source": [
    "y_train.shape"
   ]
  },
  {
   "cell_type": "markdown",
   "metadata": {},
   "source": [
    "### <font color=orange>Verificar a forma (shape) do conjunto de teste `y_test`</font>"
   ]
  },
  {
   "cell_type": "markdown",
   "metadata": {},
   "source": [
    "O código Python exibe o formato (shape) do conjunto de teste `y_test`, ou seja, o número de elementos nas dimensões do array `y_test`. Isso é útil para verificar as dimensões desse conjunto e garantir que corresponda ao formato esperado para posterior análise ou modelagem de dados. O comando `y_test.shape` retorna um par de números que representam o número de linhas (amostras) e o número de colunas (características) presentes em `y_test`."
   ]
  },
  {
   "cell_type": "code",
   "execution_count": 21,
   "metadata": {},
   "outputs": [
    {
     "data": {
      "text/plain": [
       "(100,)"
      ]
     },
     "execution_count": 21,
     "metadata": {},
     "output_type": "execute_result"
    }
   ],
   "source": [
    "y_test.shape"
   ]
  },
  {
   "cell_type": "markdown",
   "metadata": {},
   "source": [
    "## <font color=yellow>Modelagem Preditiva (Machine Learning)</font>\n",
    "\n",
    "https://scikit-learn.org/stable/modules/generated/sklearn.linear_model.LinearRegression.html"
   ]
  },
  {
   "cell_type": "markdown",
   "metadata": {},
   "source": [
    "### <font color=orange>Efetuar a criação do modelo de Regressão Linear</font>"
   ]
  },
  {
   "cell_type": "markdown",
   "metadata": {},
   "source": [
    "Nesse código em Python, está sendo criado um modelo de regressão linear. A variável 'modelo' foi definida como uma instância da classe LinearRegression do módulo sklearn.linear_model. Esse modelo será usado para realizar análises de regressão linear, um método estatístico que visa encontrar a relação linear entre variáveis independentes e dependentes, o que é útil para previsões em diversas aplicações, como análise de dados e machine learning."
   ]
  },
  {
   "cell_type": "code",
   "execution_count": 22,
   "metadata": {},
   "outputs": [],
   "source": [
    "modelo = LinearRegression()"
   ]
  },
  {
   "cell_type": "markdown",
   "metadata": {},
   "source": [
    "### <font color=orange>Iniciar o treinamento do modelo</font>"
   ]
  },
  {
   "cell_type": "markdown",
   "metadata": {},
   "source": [
    "Nesse código Python, estamos iniciando o treinamento de um modelo. O objeto \"modelo\" representa um modelo de machine learning previamente configurado, e \"fit\" é o método utilizado para treinar o modelo. Os argumentos \"X_train\" e \"y_train\" representam os dados de treinamento, onde \"X_train\" contém as características (features) do conjunto de treinamento e \"y_train\" contém as saídas (rótulos) correspondentes. Ao chamar esse método, o modelo aprenderá a relação entre as características e as saídas, permitindo que seja usado posteriormente para fazer previsões."
   ]
  },
  {
   "cell_type": "code",
   "execution_count": 24,
   "metadata": {},
   "outputs": [
    {
     "data": {
      "text/html": [
       "<style>#sk-container-id-2 {color: black;background-color: white;}#sk-container-id-2 pre{padding: 0;}#sk-container-id-2 div.sk-toggleable {background-color: white;}#sk-container-id-2 label.sk-toggleable__label {cursor: pointer;display: block;width: 100%;margin-bottom: 0;padding: 0.3em;box-sizing: border-box;text-align: center;}#sk-container-id-2 label.sk-toggleable__label-arrow:before {content: \"▸\";float: left;margin-right: 0.25em;color: #696969;}#sk-container-id-2 label.sk-toggleable__label-arrow:hover:before {color: black;}#sk-container-id-2 div.sk-estimator:hover label.sk-toggleable__label-arrow:before {color: black;}#sk-container-id-2 div.sk-toggleable__content {max-height: 0;max-width: 0;overflow: hidden;text-align: left;background-color: #f0f8ff;}#sk-container-id-2 div.sk-toggleable__content pre {margin: 0.2em;color: black;border-radius: 0.25em;background-color: #f0f8ff;}#sk-container-id-2 input.sk-toggleable__control:checked~div.sk-toggleable__content {max-height: 200px;max-width: 100%;overflow: auto;}#sk-container-id-2 input.sk-toggleable__control:checked~label.sk-toggleable__label-arrow:before {content: \"▾\";}#sk-container-id-2 div.sk-estimator input.sk-toggleable__control:checked~label.sk-toggleable__label {background-color: #d4ebff;}#sk-container-id-2 div.sk-label input.sk-toggleable__control:checked~label.sk-toggleable__label {background-color: #d4ebff;}#sk-container-id-2 input.sk-hidden--visually {border: 0;clip: rect(1px 1px 1px 1px);clip: rect(1px, 1px, 1px, 1px);height: 1px;margin: -1px;overflow: hidden;padding: 0;position: absolute;width: 1px;}#sk-container-id-2 div.sk-estimator {font-family: monospace;background-color: #f0f8ff;border: 1px dotted black;border-radius: 0.25em;box-sizing: border-box;margin-bottom: 0.5em;}#sk-container-id-2 div.sk-estimator:hover {background-color: #d4ebff;}#sk-container-id-2 div.sk-parallel-item::after {content: \"\";width: 100%;border-bottom: 1px solid gray;flex-grow: 1;}#sk-container-id-2 div.sk-label:hover label.sk-toggleable__label {background-color: #d4ebff;}#sk-container-id-2 div.sk-serial::before {content: \"\";position: absolute;border-left: 1px solid gray;box-sizing: border-box;top: 0;bottom: 0;left: 50%;z-index: 0;}#sk-container-id-2 div.sk-serial {display: flex;flex-direction: column;align-items: center;background-color: white;padding-right: 0.2em;padding-left: 0.2em;position: relative;}#sk-container-id-2 div.sk-item {position: relative;z-index: 1;}#sk-container-id-2 div.sk-parallel {display: flex;align-items: stretch;justify-content: center;background-color: white;position: relative;}#sk-container-id-2 div.sk-item::before, #sk-container-id-2 div.sk-parallel-item::before {content: \"\";position: absolute;border-left: 1px solid gray;box-sizing: border-box;top: 0;bottom: 0;left: 50%;z-index: -1;}#sk-container-id-2 div.sk-parallel-item {display: flex;flex-direction: column;z-index: 1;position: relative;background-color: white;}#sk-container-id-2 div.sk-parallel-item:first-child::after {align-self: flex-end;width: 50%;}#sk-container-id-2 div.sk-parallel-item:last-child::after {align-self: flex-start;width: 50%;}#sk-container-id-2 div.sk-parallel-item:only-child::after {width: 0;}#sk-container-id-2 div.sk-dashed-wrapped {border: 1px dashed gray;margin: 0 0.4em 0.5em 0.4em;box-sizing: border-box;padding-bottom: 0.4em;background-color: white;}#sk-container-id-2 div.sk-label label {font-family: monospace;font-weight: bold;display: inline-block;line-height: 1.2em;}#sk-container-id-2 div.sk-label-container {text-align: center;}#sk-container-id-2 div.sk-container {/* jupyter's `normalize.less` sets `[hidden] { display: none; }` but bootstrap.min.css set `[hidden] { display: none !important; }` so we also need the `!important` here to be able to override the default hidden behavior on the sphinx rendered scikit-learn.org. See: https://github.com/scikit-learn/scikit-learn/issues/21755 */display: inline-block !important;position: relative;}#sk-container-id-2 div.sk-text-repr-fallback {display: none;}</style><div id=\"sk-container-id-2\" class=\"sk-top-container\"><div class=\"sk-text-repr-fallback\"><pre>LinearRegression()</pre><b>In a Jupyter environment, please rerun this cell to show the HTML representation or trust the notebook. <br />On GitHub, the HTML representation is unable to render, please try loading this page with nbviewer.org.</b></div><div class=\"sk-container\" hidden><div class=\"sk-item\"><div class=\"sk-estimator sk-toggleable\"><input class=\"sk-toggleable__control sk-hidden--visually\" id=\"sk-estimator-id-2\" type=\"checkbox\" checked><label for=\"sk-estimator-id-2\" class=\"sk-toggleable__label sk-toggleable__label-arrow\">LinearRegression</label><div class=\"sk-toggleable__content\"><pre>LinearRegression()</pre></div></div></div></div></div>"
      ],
      "text/plain": [
       "LinearRegression()"
      ]
     },
     "execution_count": 24,
     "metadata": {},
     "output_type": "execute_result"
    }
   ],
   "source": [
    "modelo.fit(X_train, y_train)"
   ]
  },
  {
   "cell_type": "markdown",
   "metadata": {},
   "source": [
    "### <font color=orange>Visualizar a reta de regressão linear (previsões) e dos dados reais usados no treinamento<font>"
   ]
  },
  {
   "cell_type": "markdown",
   "metadata": {},
   "source": [
    "Nesse código em Python, estamos visualizando uma reta de regressão linear juntamente com os dados reais usados no treinamento de um modelo. Primeiro, definimos o tamanho da figura e um título para o gráfico. Em seguida, criamos um gráfico de dispersão (scatter plot) em azul representando os \"Dados Reais Históricos\" com as horas de estudo no eixo x e o salário no eixo y. A seguir, traçamos a reta de regressão em vermelho, que são as previsões do modelo de regressão linear para os mesmos pontos de dados. O eixo x representa as horas de estudo, o eixo y representa o salário. A legenda é adicionada para diferenciar os dados reais da reta de regressão. Finalmente, exibimos o gráfico. Essa visualização é útil para avaliar o desempenho do modelo de regressão na previsão dos salários com base nas horas de estudo."
   ]
  },
  {
   "cell_type": "code",
   "execution_count": 29,
   "metadata": {},
   "outputs": [
    {
     "data": {
      "image/png": "[encoded data removed]",
      "text/plain": [
       "<Figure size 1200x800 with 1 Axes>"
      ]
     },
     "metadata": {},
     "output_type": "display_data"
    }
   ],
   "source": [
    "plt.subplots(figsize=(12, 8))\n",
    "plt.title(\" Visualização da reta de regressão linear (previsões)\\n\")\n",
    "plt.scatter(X, y, color = \"blue\", label = \"Dados Reais Históricos\")\n",
    "plt.plot(X, modelo.predict(X), color = \"red\", label = \"Reta de Regressão com as Previsões do Modelo\")\n",
    "plt.xlabel(\"Horas de Estudo\")\n",
    "plt.ylabel(\"Salário\")\n",
    "plt.legend()\n",
    "plt.show()"
   ]
  },
  {
   "cell_type": "markdown",
   "metadata": {},
   "source": [
    "### <font color=orange>Análise e comentário sobre o Gráfico Linear</font>"
   ]
  },
  {
   "cell_type": "markdown",
   "metadata": {},
   "source": [
    "A imagem mostra um gráfico de dispersão com uma linha de regressão linear que mostra a relação entre o número de horas de estudo e o salário. O gráfico de dispersão mostra que, de forma geral, quanto mais horas uma pessoa estuda, maior é seu salário. A linha de regressão confirma essa tendência, indicando que, para cada hora extra de estudo, o salário médio aumenta em aproximadamente R$ 100.\n",
    "\n",
    "Os pontos em destaque na imagem são:\n",
    "\n",
    "* O ponto no canto superior direito do gráfico representa uma pessoa que estudou 100 horas e tem um salário de R$ 9.000. Esse ponto está acima da linha de regressão, indicando que essa pessoa ganha mais do que o esperado para o número de horas que estudou.\n",
    "* O ponto no canto inferior esquerdo do gráfico representa uma pessoa que estudou 20 horas e tem um salário de R$ 4.000. Esse ponto está abaixo da linha de regressão, indicando que essa pessoa ganha menos do que o esperado para o número de horas que estudou.\n",
    "\n",
    "Podemos aprender da imagem que, em geral, quanto mais horas uma pessoa estuda, maior é seu salário. No entanto, existem exceções a essa regra. Algumas pessoas podem ganhar mais do que o esperado para o número de horas que estudaram, enquanto outras podem ganhar menos.\n",
    "\n",
    "A imagem também nos mostra que o estudo é um fator importante para o sucesso profissional. Quanto mais horas uma pessoa estuda, maiores são suas chances de conseguir um emprego bem remunerado.\n",
    "\n",
    "Aqui estão algumas dicas para aumentar seu salário com o estudo:\n",
    "\n",
    "* Foque em estudar matérias relevantes para sua carreira.\n",
    "* Participe de atividades extracurriculares relacionadas à sua área de estudo.\n",
    "* Faça estágios e trabalhos voluntários.\n",
    "* Construa uma rede de contatos profissionais.\n",
    "\n",
    "Em conclusão, a imagem mostra que o estudo é um fator importante para o sucesso profissional. No entanto, é importante lembrar que o estudo não é a única variável que determina o salário. Outros fatores, como a qualidade do ensino, as habilidades naturais do indivíduo e a sorte, também podem influenciar o salário."
   ]
  },
  {
   "cell_type": "markdown",
   "metadata": {},
   "source": [
    "### <font color=orange>Avaliar o modelo nos dados de teste</font>"
   ]
  },
  {
   "cell_type": "markdown",
   "metadata": {},
   "source": [
    "No código Python fornecido, o objetivo é avaliar um modelo. Ele calcula o coeficiente de determinação R^2 (R ao quadrado) para medir o quão bem o modelo se ajusta aos dados de teste. O resultado é impresso com duas casas decimais, fornecendo uma medida da qualidade do modelo em relação aos dados de teste, onde um valor mais próximo de 1 indica um ajuste melhor."
   ]
  },
  {
   "cell_type": "code",
   "execution_count": 30,
   "metadata": {},
   "outputs": [
    {
     "name": "stdout",
     "output_type": "stream",
     "text": [
      "Coeficiente R^2: 0.59\n"
     ]
    }
   ],
   "source": [
    "score = modelo.score(X_test, y_test)\n",
    "print(f\"Coeficiente R^2: {score:.2f}\")"
   ]
  },
  {
   "cell_type": "markdown",
   "metadata": {},
   "source": [
    "### <font color=orange>Calcular o Intercepto do Modelo - parâmetro w0</font>"
   ]
  },
  {
   "cell_type": "markdown",
   "metadata": {},
   "source": [
    "No código Python apresentado, estamos acessando o objeto 'modelo' e solicitando o valor do intercepto, que corresponde ao parâmetro 'w0' em um modelo de regressão linear. Esse valor representa o ponto onde a linha de regressão cruza o eixo vertical (eixo Y) quando todos os outros atributos são iguais a zero. Essa informação é útil para entender a interseção do modelo com o eixo Y, o que é importante na interpretação de modelos de regressão."
   ]
  },
  {
   "cell_type": "code",
   "execution_count": 34,
   "metadata": {},
   "outputs": [
    {
     "data": {
      "text/plain": [
       "3596.7837243727527"
      ]
     },
     "execution_count": 34,
     "metadata": {},
     "output_type": "execute_result"
    }
   ],
   "source": [
    "modelo.intercept_"
   ]
  },
  {
   "cell_type": "markdown",
   "metadata": {},
   "source": [
    "### <font color=orange>Calcular o Coeficiente Angular - parâmetro w1</font>"
   ]
  },
  {
   "cell_type": "markdown",
   "metadata": {},
   "source": [
    "O código Python em questão está relacionado à avaliação de um modelo de regressão. No trecho apresentado, ele retorna o valor do coeficiente angular (parâmetro w1) do modelo. Esse coeficiente representa a inclinação da reta de regressão, ou seja, a relação entre a variável de entrada (X) e a variável de saída (y). Ao chamar \"modelo.coef_,\" obtemos o valor desse coeficiente, que é essencial para entender como as variáveis de entrada afetam a variável de saída no contexto do modelo de regressão."
   ]
  },
  {
   "cell_type": "code",
   "execution_count": 37,
   "metadata": {},
   "outputs": [
    {
     "data": {
      "text/plain": [
       "array([48.18185277])"
      ]
     },
     "execution_count": 37,
     "metadata": {},
     "output_type": "execute_result"
    }
   ],
   "source": [
    "modelo.coef_"
   ]
  },
  {
   "cell_type": "markdown",
   "metadata": {},
   "source": [
    "## <font color=yellow>Implantação do Modelo</font>\n",
    "\n",
    "Vamos utilizar o modelo para fazer previsões de salário com base nas horas de estudo."
   ]
  },
  {
   "cell_type": "markdown",
   "metadata": {},
   "source": [
    "### <font color=orange>Definir um novo valor para horas de estudo e realizar previsões usando o modelo treinado</font>"
   ]
  },
  {
   "cell_type": "markdown",
   "metadata": {},
   "source": [
    "No código acima, estamos usando um modelo treinado para fazer uma previsão do salário com base em um novo valor de horas de estudo, que é definido como x horas. O modelo usa a entrada das horas de estudo para calcular o salário previsto. Em seguida, formatamos a saída para mostrar o resultado de forma legível, exibindo o número de horas de estudo e o salário previsto com formatação monetária, proporcionando ao usuário uma estimativa do salário esperado se estudar cerca de x horas por mês."
   ]
  },
  {
   "cell_type": "code",
   "execution_count": 65,
   "metadata": {},
   "outputs": [
    {
     "name": "stdout",
     "output_type": "stream",
     "text": [
      "Se você estudar cerca de 44 horas por mês, seu salário pode ser igual a $ 5,716.79\n"
     ]
    }
   ],
   "source": [
    "# Define um novo valor para horas de estudo\n",
    "new_study_hours = np.array([[44]])\n",
    "\n",
    "# Realiza a previsão usando o modelo treinado\n",
    "expected_salary = modelo.predict(new_study_hours)\n",
    "\n",
    "# Formata a saída\n",
    "formatted_hours = new_study_hours[0][0]\n",
    "formatted_salary = '$ {:,.2f}'.format(expected_salary[0])\n",
    "\n",
    "print(f\"Se você estudar cerca de {formatted_hours} horas por mês, seu salário pode ser igual a {formatted_salary}\")"
   ]
  },
  {
   "cell_type": "markdown",
   "metadata": {},
   "source": [
    "### <font color=orange>Calcular o salário previsto com base nos coeficientes aprendidos pelo modelo</font>"
   ]
  },
  {
   "cell_type": "markdown",
   "metadata": {},
   "source": [
    "Esse código Python calcula o salário previsto com base em um modelo de regressão linear. Ele utiliza os coeficientes aprendidos pelo modelo, que são o coeficiente de interceptação (modelo.intercept_) e os coeficientes dos recursos (modelo.coef_). Em seguida, multiplica o número de horas de estudo (new_study_hours) pelo coeficiente correspondente e adiciona o coeficiente de interceptação para obter o salário previsto. A formatação é aplicada para exibir o resultado como um valor monetário formatado, e o resultado é impresso na tela."
   ]
  },
  {
   "cell_type": "code",
   "execution_count": 66,
   "metadata": {},
   "outputs": [
    {
     "name": "stdout",
     "output_type": "stream",
     "text": [
      "Salário previsto: $ 5,716.79\n"
     ]
    }
   ],
   "source": [
    "salary = modelo.intercept_ + (modelo.coef_ * new_study_hours)\n",
    "\n",
    "formatted_salary = '$ {:,.2f}'.format(expected_salary[0])\n",
    "print(f\"Salário previsto: {formatted_salary}\")"
   ]
  }
 ],
 "metadata": {
  "kernelspec": {
   "display_name": "base",
   "language": "python",
   "name": "python3"
  },
  "language_info": {
   "codemirror_mode": {
    "name": "ipython",
    "version": 3
   },
   "file_extension": ".py",
   "mimetype": "text/x-python",
   "name": "python",
   "nbconvert_exporter": "python",
   "pygments_lexer": "ipython3",
   "version": "3.11.3"
  }
 },
 "nbformat": 4,
 "nbformat_minor": 2
}
