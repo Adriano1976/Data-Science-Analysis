{
 "cells": [
  {
   "cell_type": "markdown",
   "metadata": {},
   "source": [
    "## <font color='yellow'>Fundamentos de Linguagem Python Para Análise de Dados e Data Science</font>\n",
    "\n",
    "## <font color='yellow'>Análise Estatística com Statsmodels</font>\n",
    "\n",
    "Problema de Negócio:\n",
    "\n",
    "### Existe alguma relação entre a área de imóveis (em metros quadrados) e o valor do aluguel em uma determinada cidade? Caso exista relação, como podemos mensurá-la?"
   ]
  },
  {
   "cell_type": "markdown",
   "metadata": {},
   "source": [
    "### <font color=orange>Verificar a Versão da Linguagem Python</font>"
   ]
  },
  {
   "cell_type": "markdown",
   "metadata": {},
   "source": [
    "Esse código Python exibe a versão da linguagem Python que está sendo usada no ambiente do Jupyter Notebook. Ele importa a função `python_version` do módulo `platform` e, em seguida, imprime a versão do Python. Isso é útil para verificar a versão da linguagem e garantir que seu código seja compatível com essa versão específica."
   ]
  },
  {
   "cell_type": "code",
   "execution_count": 2,
   "metadata": {},
   "outputs": [
    {
     "name": "stdout",
     "output_type": "stream",
     "text": [
      "Versão da Linguagem Python Usada Neste Jupyter Notebook: 3.11.3\n"
     ]
    }
   ],
   "source": [
    "\n",
    "from platform import python_version\n",
    "print('Versão da Linguagem Python Usada Neste Jupyter Notebook:', python_version())"
   ]
  },
  {
   "cell_type": "markdown",
   "metadata": {},
   "source": [
    "### <font color=orange>Evetuar a Importação das Bibliotecas Importantes</font>"
   ]
  },
  {
   "cell_type": "markdown",
   "metadata": {},
   "source": [
    "O código Python apresentado realiza quatro importações de bibliotecas amplamente utilizadas em análise de dados e visualização. Primeiramente, importa a biblioteca \"pandas\" com o apelido \"pd,\" que é essencial para a manipulação de dados tabulares. Em seguida, importa as bibliotecas \"matplotlib.pyplot\" e \"seaborn\" para a geração de gráficos e visualizações. Por fim, importa a biblioteca \"statsmodels.api\" como \"sm,\" que é comumente usada para realizar análises estatísticas e modelagem. Essas importações são o primeiro passo ao iniciar uma análise de dados com Python."
   ]
  },
  {
   "cell_type": "code",
   "execution_count": 3,
   "metadata": {},
   "outputs": [],
   "source": [
    "\n",
    "import pandas as pd\n",
    "import matplotlib.pyplot as plt\n",
    "import seaborn as sns\n",
    "import statsmodels.api as sm"
   ]
  },
  {
   "cell_type": "markdown",
   "metadata": {},
   "source": [
    "### <font color=orange>Efetuar o carregamento do conjunto de dados</font>"
   ]
  },
  {
   "cell_type": "markdown",
   "metadata": {},
   "source": [
    "Esse código em Python é utilizado para carregar um conjunto de dados a partir de um arquivo CSV e exibir as 10 primeiras linhas desse conjunto. Primeiro, ele importa a biblioteca pandas para manipulação de dados. Em seguida, o arquivo 'dataset.csv' é lido e os dados são armazenados no DataFrame 'df'. Por fim, a função 'head(10)' é usada para mostrar as 10 primeiras linhas desse DataFrame, permitindo uma rápida visualização dos dados no início do arquivo."
   ]
  },
  {
   "cell_type": "code",
   "execution_count": 4,
   "metadata": {},
   "outputs": [
    {
     "data": {
      "text/html": [
       "<div>\n",
       "<style scoped>\n",
       "    .dataframe tbody tr th:only-of-type {\n",
       "        vertical-align: middle;\n",
       "    }\n",
       "\n",
       "    .dataframe tbody tr th {\n",
       "        vertical-align: top;\n",
       "    }\n",
       "\n",
       "    .dataframe thead th {\n",
       "        text-align: right;\n",
       "    }\n",
       "</style>\n",
       "<table border=\"1\" class=\"dataframe\">\n",
       "  <thead>\n",
       "    <tr style=\"text-align: right;\">\n",
       "      <th></th>\n",
       "      <th>valor_aluguel</th>\n",
       "      <th>area_m2</th>\n",
       "      <th>ano_construcao</th>\n",
       "      <th>codigo_localidade</th>\n",
       "      <th>numero_banheiros</th>\n",
       "      <th>numero_cozinhas</th>\n",
       "      <th>codigo_bairro</th>\n",
       "    </tr>\n",
       "  </thead>\n",
       "  <tbody>\n",
       "    <tr>\n",
       "      <th>0</th>\n",
       "      <td>120.97436</td>\n",
       "      <td>35</td>\n",
       "      <td>1939</td>\n",
       "      <td>1</td>\n",
       "      <td>0</td>\n",
       "      <td>0</td>\n",
       "      <td>1112</td>\n",
       "    </tr>\n",
       "    <tr>\n",
       "      <th>1</th>\n",
       "      <td>436.97433</td>\n",
       "      <td>104</td>\n",
       "      <td>1939</td>\n",
       "      <td>1</td>\n",
       "      <td>1</td>\n",
       "      <td>0</td>\n",
       "      <td>1112</td>\n",
       "    </tr>\n",
       "    <tr>\n",
       "      <th>2</th>\n",
       "      <td>355.74360</td>\n",
       "      <td>29</td>\n",
       "      <td>1971</td>\n",
       "      <td>2</td>\n",
       "      <td>0</td>\n",
       "      <td>0</td>\n",
       "      <td>2114</td>\n",
       "    </tr>\n",
       "    <tr>\n",
       "      <th>3</th>\n",
       "      <td>282.92310</td>\n",
       "      <td>39</td>\n",
       "      <td>1972</td>\n",
       "      <td>2</td>\n",
       "      <td>0</td>\n",
       "      <td>0</td>\n",
       "      <td>2148</td>\n",
       "    </tr>\n",
       "    <tr>\n",
       "      <th>4</th>\n",
       "      <td>807.23080</td>\n",
       "      <td>97</td>\n",
       "      <td>1985</td>\n",
       "      <td>1</td>\n",
       "      <td>0</td>\n",
       "      <td>0</td>\n",
       "      <td>2222</td>\n",
       "    </tr>\n",
       "    <tr>\n",
       "      <th>5</th>\n",
       "      <td>482.82053</td>\n",
       "      <td>62</td>\n",
       "      <td>1962</td>\n",
       "      <td>1</td>\n",
       "      <td>0</td>\n",
       "      <td>0</td>\n",
       "      <td>2222</td>\n",
       "    </tr>\n",
       "    <tr>\n",
       "      <th>6</th>\n",
       "      <td>323.69232</td>\n",
       "      <td>31</td>\n",
       "      <td>1965</td>\n",
       "      <td>1</td>\n",
       "      <td>0</td>\n",
       "      <td>0</td>\n",
       "      <td>2211</td>\n",
       "    </tr>\n",
       "    <tr>\n",
       "      <th>7</th>\n",
       "      <td>370.97437</td>\n",
       "      <td>61</td>\n",
       "      <td>1957</td>\n",
       "      <td>2</td>\n",
       "      <td>1</td>\n",
       "      <td>0</td>\n",
       "      <td>2142</td>\n",
       "    </tr>\n",
       "    <tr>\n",
       "      <th>8</th>\n",
       "      <td>373.69232</td>\n",
       "      <td>72</td>\n",
       "      <td>1978</td>\n",
       "      <td>1</td>\n",
       "      <td>0</td>\n",
       "      <td>0</td>\n",
       "      <td>2143</td>\n",
       "    </tr>\n",
       "    <tr>\n",
       "      <th>9</th>\n",
       "      <td>521.69230</td>\n",
       "      <td>75</td>\n",
       "      <td>1968</td>\n",
       "      <td>1</td>\n",
       "      <td>0</td>\n",
       "      <td>0</td>\n",
       "      <td>2142</td>\n",
       "    </tr>\n",
       "  </tbody>\n",
       "</table>\n",
       "</div>"
      ],
      "text/plain": [
       "   valor_aluguel  area_m2  ano_construcao  codigo_localidade  \\\n",
       "0      120.97436       35            1939                  1   \n",
       "1      436.97433      104            1939                  1   \n",
       "2      355.74360       29            1971                  2   \n",
       "3      282.92310       39            1972                  2   \n",
       "4      807.23080       97            1985                  1   \n",
       "5      482.82053       62            1962                  1   \n",
       "6      323.69232       31            1965                  1   \n",
       "7      370.97437       61            1957                  2   \n",
       "8      373.69232       72            1978                  1   \n",
       "9      521.69230       75            1968                  1   \n",
       "\n",
       "   numero_banheiros  numero_cozinhas  codigo_bairro  \n",
       "0                 0                0           1112  \n",
       "1                 1                0           1112  \n",
       "2                 0                0           2114  \n",
       "3                 0                0           2148  \n",
       "4                 0                0           2222  \n",
       "5                 0                0           2222  \n",
       "6                 0                0           2211  \n",
       "7                 1                0           2142  \n",
       "8                 0                0           2143  \n",
       "9                 0                0           2142  "
      ]
     },
     "execution_count": 4,
     "metadata": {},
     "output_type": "execute_result"
    }
   ],
   "source": [
    "\n",
    "df = pd.read_csv('dados/dataset.csv')\n",
    "df.head(10)"
   ]
  },
  {
   "cell_type": "markdown",
   "metadata": {},
   "source": [
    "### <font color=orange>Verificar a forma do DataFrame<font/>"
   ]
  },
  {
   "cell_type": "markdown",
   "metadata": {},
   "source": [
    "Esse código em Python simplesmente verifica a forma de um DataFrame, ou seja, ele retorna uma tupla contendo o número de linhas e colunas no DataFrame. Isso é útil para ter uma visão rápida da estrutura dos dados que você está manipulando, permitindo verificar a dimensão do DataFrame. Por exemplo, se a saída for (100, 5), isso significa que o DataFrame tem 100 linhas e 5 colunas. É uma operação básica de inspeção de dados em análise de dados e manipulação de DataFrames com bibliotecas como o pandas."
   ]
  },
  {
   "cell_type": "code",
   "execution_count": 5,
   "metadata": {},
   "outputs": [
    {
     "data": {
      "text/plain": [
       "(3000, 7)"
      ]
     },
     "execution_count": 5,
     "metadata": {},
     "output_type": "execute_result"
    }
   ],
   "source": [
    "\n",
    "df.shape"
   ]
  },
  {
   "cell_type": "markdown",
   "metadata": {},
   "source": [
    "### <font color=orange>Realizar a consulta das colunas do DataFrame<font/>"
   ]
  },
  {
   "cell_type": "markdown",
   "metadata": {},
   "source": [
    "Esse código Python realiza uma simples operação de consulta nas colunas de um DataFrame, que é uma estrutura de dados tabular amplamente usada em análise de dados. Ele exibe o resultado, mostrando as colunas presentes no DataFrame, o que é útil para identificar quais variáveis estão disponíveis para análise e manipulação nos dados contidos no DataFrame."
   ]
  },
  {
   "cell_type": "code",
   "execution_count": 6,
   "metadata": {},
   "outputs": [
    {
     "data": {
      "text/plain": [
       "Index(['valor_aluguel', 'area_m2', 'ano_construcao', 'codigo_localidade',\n",
       "       'numero_banheiros', 'numero_cozinhas', 'codigo_bairro'],\n",
       "      dtype='object')"
      ]
     },
     "execution_count": 6,
     "metadata": {},
     "output_type": "execute_result"
    }
   ],
   "source": [
    "\n",
    "df.columns"
   ]
  },
  {
   "cell_type": "markdown",
   "metadata": {},
   "source": [
    "### <font color=orange>Exibir das informações do DataFrame</font>"
   ]
  },
  {
   "cell_type": "markdown",
   "metadata": {},
   "source": [
    "O código em Python \"df.info()\" é usado para exibir informações detalhadas sobre um DataFrame, que é uma estrutura de dados do pandas. Ele fornece informações como o número de linhas e colunas, a quantidade de memória usada, os tipos de dados das colunas e a contagem de valores não nulos em cada coluna. Isso é útil para entender a composição e a qualidade dos dados contidos no DataFrame, o que facilita a análise e o processamento posterior dos dados."
   ]
  },
  {
   "cell_type": "code",
   "execution_count": 7,
   "metadata": {},
   "outputs": [
    {
     "name": "stdout",
     "output_type": "stream",
     "text": [
      "<class 'pandas.core.frame.DataFrame'>\n",
      "RangeIndex: 3000 entries, 0 to 2999\n",
      "Data columns (total 7 columns):\n",
      " #   Column             Non-Null Count  Dtype  \n",
      "---  ------             --------------  -----  \n",
      " 0   valor_aluguel      3000 non-null   float64\n",
      " 1   area_m2            3000 non-null   int64  \n",
      " 2   ano_construcao     3000 non-null   int64  \n",
      " 3   codigo_localidade  3000 non-null   int64  \n",
      " 4   numero_banheiros   3000 non-null   int64  \n",
      " 5   numero_cozinhas    3000 non-null   int64  \n",
      " 6   codigo_bairro      3000 non-null   int64  \n",
      "dtypes: float64(1), int64(6)\n",
      "memory usage: 164.2 KB\n"
     ]
    }
   ],
   "source": [
    "\n",
    "df.info()"
   ]
  },
  {
   "cell_type": "markdown",
   "metadata": {},
   "source": [
    "## <font color=yellow>Análise Exploratória - Resumo Estatístico</font>"
   ]
  },
  {
   "cell_type": "markdown",
   "metadata": {},
   "source": [
    "### <font color=orange>Verificar SE existe valores nulos no DataFrame</font>"
   ]
  },
  {
   "cell_type": "markdown",
   "metadata": {},
   "source": [
    "Esse código Python verifica se há valores ausentes em um DataFrame chamado \"df_dsa\". Ele utiliza o método \"isnull()\" para marcar cada valor ausente como True e, em seguida, usa \"sum()\" para contar quantos valores True (ou seja, ausentes) existem em cada coluna do DataFrame. Isso é útil para identificar e lidar com dados faltantes em análises de dados e garantir a qualidade dos dados."
   ]
  },
  {
   "cell_type": "code",
   "execution_count": 8,
   "metadata": {},
   "outputs": [
    {
     "data": {
      "text/plain": [
       "valor_aluguel        0\n",
       "area_m2              0\n",
       "ano_construcao       0\n",
       "codigo_localidade    0\n",
       "numero_banheiros     0\n",
       "numero_cozinhas      0\n",
       "codigo_bairro        0\n",
       "dtype: int64"
      ]
     },
     "execution_count": 8,
     "metadata": {},
     "output_type": "execute_result"
    }
   ],
   "source": [
    "\n",
    "df.isnull().sum()"
   ]
  },
  {
   "cell_type": "markdown",
   "metadata": {},
   "source": [
    "### <font color=orange>Verificar o resumo estatístico do conjunto de dados - ATENÇÃO</font>"
   ]
  },
  {
   "cell_type": "markdown",
   "metadata": {},
   "source": [
    "Esse código Python realiza uma operação simples, exibindo um resumo estatístico de um conjunto de dados representado pelo DataFrame \"df\". O método \"describe()\" fornece informações estatísticas, como média, desvio padrão, valores mínimo e máximo, quartis e contagem de dados para as colunas numéricas do DataFrame, o que é útil para uma rápida análise do conjunto de dados. É importante notar que o comentário \"ATENÇÃO\" sugere que o usuário deve ter cuidado ao interpretar essas estatísticas, pois elas podem afetar decisões relacionadas aos dados."
   ]
  },
  {
   "cell_type": "code",
   "execution_count": 9,
   "metadata": {},
   "outputs": [
    {
     "data": {
      "text/html": [
       "<div>\n",
       "<style scoped>\n",
       "    .dataframe tbody tr th:only-of-type {\n",
       "        vertical-align: middle;\n",
       "    }\n",
       "\n",
       "    .dataframe tbody tr th {\n",
       "        vertical-align: top;\n",
       "    }\n",
       "\n",
       "    .dataframe thead th {\n",
       "        text-align: right;\n",
       "    }\n",
       "</style>\n",
       "<table border=\"1\" class=\"dataframe\">\n",
       "  <thead>\n",
       "    <tr style=\"text-align: right;\">\n",
       "      <th></th>\n",
       "      <th>valor_aluguel</th>\n",
       "      <th>area_m2</th>\n",
       "      <th>ano_construcao</th>\n",
       "      <th>codigo_localidade</th>\n",
       "      <th>numero_banheiros</th>\n",
       "      <th>numero_cozinhas</th>\n",
       "      <th>codigo_bairro</th>\n",
       "    </tr>\n",
       "  </thead>\n",
       "  <tbody>\n",
       "    <tr>\n",
       "      <th>count</th>\n",
       "      <td>3000.000000</td>\n",
       "      <td>3000.000000</td>\n",
       "      <td>3000.000000</td>\n",
       "      <td>3000.000000</td>\n",
       "      <td>3000.000000</td>\n",
       "      <td>3000.000000</td>\n",
       "      <td>3000.000000</td>\n",
       "    </tr>\n",
       "    <tr>\n",
       "      <th>mean</th>\n",
       "      <td>459.643146</td>\n",
       "      <td>67.363333</td>\n",
       "      <td>1956.321333</td>\n",
       "      <td>1.441000</td>\n",
       "      <td>0.061333</td>\n",
       "      <td>0.042000</td>\n",
       "      <td>1173.798667</td>\n",
       "    </tr>\n",
       "    <tr>\n",
       "      <th>std</th>\n",
       "      <td>195.865692</td>\n",
       "      <td>23.675758</td>\n",
       "      <td>22.288136</td>\n",
       "      <td>0.545238</td>\n",
       "      <td>0.239981</td>\n",
       "      <td>0.200623</td>\n",
       "      <td>678.187690</td>\n",
       "    </tr>\n",
       "    <tr>\n",
       "      <th>min</th>\n",
       "      <td>40.512820</td>\n",
       "      <td>20.000000</td>\n",
       "      <td>1918.000000</td>\n",
       "      <td>1.000000</td>\n",
       "      <td>0.000000</td>\n",
       "      <td>0.000000</td>\n",
       "      <td>113.000000</td>\n",
       "    </tr>\n",
       "    <tr>\n",
       "      <th>25%</th>\n",
       "      <td>320.961530</td>\n",
       "      <td>51.000000</td>\n",
       "      <td>1939.000000</td>\n",
       "      <td>1.000000</td>\n",
       "      <td>0.000000</td>\n",
       "      <td>0.000000</td>\n",
       "      <td>561.750000</td>\n",
       "    </tr>\n",
       "    <tr>\n",
       "      <th>50%</th>\n",
       "      <td>426.897435</td>\n",
       "      <td>65.000000</td>\n",
       "      <td>1959.000000</td>\n",
       "      <td>1.000000</td>\n",
       "      <td>0.000000</td>\n",
       "      <td>0.000000</td>\n",
       "      <td>1025.000000</td>\n",
       "    </tr>\n",
       "    <tr>\n",
       "      <th>75%</th>\n",
       "      <td>560.282055</td>\n",
       "      <td>81.000000</td>\n",
       "      <td>1972.000000</td>\n",
       "      <td>2.000000</td>\n",
       "      <td>0.000000</td>\n",
       "      <td>0.000000</td>\n",
       "      <td>1714.000000</td>\n",
       "    </tr>\n",
       "    <tr>\n",
       "      <th>max</th>\n",
       "      <td>1843.384600</td>\n",
       "      <td>160.000000</td>\n",
       "      <td>1997.000000</td>\n",
       "      <td>3.000000</td>\n",
       "      <td>1.000000</td>\n",
       "      <td>1.000000</td>\n",
       "      <td>2529.000000</td>\n",
       "    </tr>\n",
       "  </tbody>\n",
       "</table>\n",
       "</div>"
      ],
      "text/plain": [
       "       valor_aluguel      area_m2  ano_construcao  codigo_localidade  \\\n",
       "count    3000.000000  3000.000000     3000.000000        3000.000000   \n",
       "mean      459.643146    67.363333     1956.321333           1.441000   \n",
       "std       195.865692    23.675758       22.288136           0.545238   \n",
       "min        40.512820    20.000000     1918.000000           1.000000   \n",
       "25%       320.961530    51.000000     1939.000000           1.000000   \n",
       "50%       426.897435    65.000000     1959.000000           1.000000   \n",
       "75%       560.282055    81.000000     1972.000000           2.000000   \n",
       "max      1843.384600   160.000000     1997.000000           3.000000   \n",
       "\n",
       "       numero_banheiros  numero_cozinhas  codigo_bairro  \n",
       "count       3000.000000      3000.000000    3000.000000  \n",
       "mean           0.061333         0.042000    1173.798667  \n",
       "std            0.239981         0.200623     678.187690  \n",
       "min            0.000000         0.000000     113.000000  \n",
       "25%            0.000000         0.000000     561.750000  \n",
       "50%            0.000000         0.000000    1025.000000  \n",
       "75%            0.000000         0.000000    1714.000000  \n",
       "max            1.000000         1.000000    2529.000000  "
      ]
     },
     "execution_count": 9,
     "metadata": {},
     "output_type": "execute_result"
    }
   ],
   "source": [
    "\n",
    "df.describe()"
   ]
  },
  {
   "cell_type": "markdown",
   "metadata": {},
   "source": [
    "### <font color=orange>Verificar o resumo e descrição arredondada do DataFrame</font>"
   ]
  },
  {
   "cell_type": "markdown",
   "metadata": {},
   "source": [
    "Nesse código Python, estamos usando a função \"describe()\" de um DataFrame, provavelmente de uma biblioteca como o Pandas, que fornece estatísticas resumidas dos dados no DataFrame, como média, desvio padrão, mínimo e máximo. A função \"round()\" está sendo usada para arredondar essas estatísticas para números inteiros, tornando a saída mais legível e apropriada para apresentação. Em resumo, o código arredonda as estatísticas descritivas do DataFrame para valores inteiros."
   ]
  },
  {
   "cell_type": "code",
   "execution_count": 10,
   "metadata": {},
   "outputs": [
    {
     "data": {
      "text/html": [
       "<div>\n",
       "<style scoped>\n",
       "    .dataframe tbody tr th:only-of-type {\n",
       "        vertical-align: middle;\n",
       "    }\n",
       "\n",
       "    .dataframe tbody tr th {\n",
       "        vertical-align: top;\n",
       "    }\n",
       "\n",
       "    .dataframe thead th {\n",
       "        text-align: right;\n",
       "    }\n",
       "</style>\n",
       "<table border=\"1\" class=\"dataframe\">\n",
       "  <thead>\n",
       "    <tr style=\"text-align: right;\">\n",
       "      <th></th>\n",
       "      <th>valor_aluguel</th>\n",
       "      <th>area_m2</th>\n",
       "      <th>ano_construcao</th>\n",
       "      <th>codigo_localidade</th>\n",
       "      <th>numero_banheiros</th>\n",
       "      <th>numero_cozinhas</th>\n",
       "      <th>codigo_bairro</th>\n",
       "    </tr>\n",
       "  </thead>\n",
       "  <tbody>\n",
       "    <tr>\n",
       "      <th>count</th>\n",
       "      <td>3000.0</td>\n",
       "      <td>3000.0</td>\n",
       "      <td>3000.0</td>\n",
       "      <td>3000.0</td>\n",
       "      <td>3000.0</td>\n",
       "      <td>3000.0</td>\n",
       "      <td>3000.0</td>\n",
       "    </tr>\n",
       "    <tr>\n",
       "      <th>mean</th>\n",
       "      <td>460.0</td>\n",
       "      <td>67.0</td>\n",
       "      <td>1956.0</td>\n",
       "      <td>1.0</td>\n",
       "      <td>0.0</td>\n",
       "      <td>0.0</td>\n",
       "      <td>1174.0</td>\n",
       "    </tr>\n",
       "    <tr>\n",
       "      <th>std</th>\n",
       "      <td>196.0</td>\n",
       "      <td>24.0</td>\n",
       "      <td>22.0</td>\n",
       "      <td>1.0</td>\n",
       "      <td>0.0</td>\n",
       "      <td>0.0</td>\n",
       "      <td>678.0</td>\n",
       "    </tr>\n",
       "    <tr>\n",
       "      <th>min</th>\n",
       "      <td>41.0</td>\n",
       "      <td>20.0</td>\n",
       "      <td>1918.0</td>\n",
       "      <td>1.0</td>\n",
       "      <td>0.0</td>\n",
       "      <td>0.0</td>\n",
       "      <td>113.0</td>\n",
       "    </tr>\n",
       "    <tr>\n",
       "      <th>25%</th>\n",
       "      <td>321.0</td>\n",
       "      <td>51.0</td>\n",
       "      <td>1939.0</td>\n",
       "      <td>1.0</td>\n",
       "      <td>0.0</td>\n",
       "      <td>0.0</td>\n",
       "      <td>562.0</td>\n",
       "    </tr>\n",
       "    <tr>\n",
       "      <th>50%</th>\n",
       "      <td>427.0</td>\n",
       "      <td>65.0</td>\n",
       "      <td>1959.0</td>\n",
       "      <td>1.0</td>\n",
       "      <td>0.0</td>\n",
       "      <td>0.0</td>\n",
       "      <td>1025.0</td>\n",
       "    </tr>\n",
       "    <tr>\n",
       "      <th>75%</th>\n",
       "      <td>560.0</td>\n",
       "      <td>81.0</td>\n",
       "      <td>1972.0</td>\n",
       "      <td>2.0</td>\n",
       "      <td>0.0</td>\n",
       "      <td>0.0</td>\n",
       "      <td>1714.0</td>\n",
       "    </tr>\n",
       "    <tr>\n",
       "      <th>max</th>\n",
       "      <td>1843.0</td>\n",
       "      <td>160.0</td>\n",
       "      <td>1997.0</td>\n",
       "      <td>3.0</td>\n",
       "      <td>1.0</td>\n",
       "      <td>1.0</td>\n",
       "      <td>2529.0</td>\n",
       "    </tr>\n",
       "  </tbody>\n",
       "</table>\n",
       "</div>"
      ],
      "text/plain": [
       "       valor_aluguel  area_m2  ano_construcao  codigo_localidade  \\\n",
       "count         3000.0   3000.0          3000.0             3000.0   \n",
       "mean           460.0     67.0          1956.0                1.0   \n",
       "std            196.0     24.0            22.0                1.0   \n",
       "min             41.0     20.0          1918.0                1.0   \n",
       "25%            321.0     51.0          1939.0                1.0   \n",
       "50%            427.0     65.0          1959.0                1.0   \n",
       "75%            560.0     81.0          1972.0                2.0   \n",
       "max           1843.0    160.0          1997.0                3.0   \n",
       "\n",
       "       numero_banheiros  numero_cozinhas  codigo_bairro  \n",
       "count            3000.0           3000.0         3000.0  \n",
       "mean                0.0              0.0         1174.0  \n",
       "std                 0.0              0.0          678.0  \n",
       "min                 0.0              0.0          113.0  \n",
       "25%                 0.0              0.0          562.0  \n",
       "50%                 0.0              0.0         1025.0  \n",
       "75%                 0.0              0.0         1714.0  \n",
       "max                 1.0              1.0         2529.0  "
      ]
     },
     "execution_count": 10,
     "metadata": {},
     "output_type": "execute_result"
    }
   ],
   "source": [
    "\n",
    "round(df.describe())"
   ]
  },
  {
   "cell_type": "markdown",
   "metadata": {},
   "source": [
    "### <font color=orange>Verificar o resumo estatístico da variável alvo</font>"
   ]
  },
  {
   "cell_type": "markdown",
   "metadata": {},
   "source": [
    "Esse código Python realiza um resumo estatístico da variável \"valor_aluguel\" em um DataFrame chamado \"df\". Ele exibe estatísticas descritivas, como média, desvio padrão, valores mínimo e máximo, e quartis da variável de aluguel, fornecendo uma visão geral das características dessa variável em termos estatísticos. É útil para compreender a distribuição dos valores de aluguel nos dados."
   ]
  },
  {
   "cell_type": "code",
   "execution_count": 11,
   "metadata": {},
   "outputs": [
    {
     "data": {
      "text/plain": [
       "count    3000.000000\n",
       "mean      459.643146\n",
       "std       195.865692\n",
       "min        40.512820\n",
       "25%       320.961530\n",
       "50%       426.897435\n",
       "75%       560.282055\n",
       "max      1843.384600\n",
       "Name: valor_aluguel, dtype: float64"
      ]
     },
     "execution_count": 11,
     "metadata": {},
     "output_type": "execute_result"
    }
   ],
   "source": [
    "\n",
    "df[\"valor_aluguel\"].describe()"
   ]
  },
  {
   "cell_type": "markdown",
   "metadata": {},
   "source": [
    "### <font color=orange>Criar um Histograma da variável alvo</font>"
   ]
  },
  {
   "cell_type": "markdown",
   "metadata": {},
   "source": [
    "Esse código Python utiliza a biblioteca Seaborn (sns) para criar um histograma da variável \"valor_aluguel\" de um DataFrame chamado \"df\". O histograma mostra a distribuição dos valores dessa variável, permitindo visualizar a frequência com que diferentes valores de aluguel ocorrem. O parâmetro \"kde = True\" adiciona uma estimativa da densidade do kernel, que suaviza o histograma e fornece uma representação gráfica da distribuição de probabilidade dos dados."
   ]
  },
  {
   "cell_type": "code",
   "execution_count": 12,
   "metadata": {},
   "outputs": [
    {
     "data": {
      "text/plain": [
       "[Text(0.5, 1.0, 'Histograma - Distribuição dos Valores dos Alugueis')]"
      ]
     },
     "execution_count": 12,
     "metadata": {},
     "output_type": "execute_result"
    },
    {
     "data": {
      "image/png": "[encoded data removed]",
      "text/plain": [
       "<Figure size 640x480 with 1 Axes>"
      ]
     },
     "metadata": {},
     "output_type": "display_data"
    }
   ],
   "source": [
    "\n",
    "sns.histplot(data = df, x = \"valor_aluguel\", kde = True).set(title='Histograma - Distribuição dos Valores dos Alugueis')"
   ]
  },
  {
   "cell_type": "markdown",
   "metadata": {},
   "source": [
    "### <font color=orange>Calcular a matriz de correlação das variáveis</font>"
   ]
  },
  {
   "cell_type": "markdown",
   "metadata": {},
   "source": [
    "Esse código Python simples calcula a matriz de correlação das variáveis em um DataFrame chamado 'df'. A matriz de correlação exibe como as variáveis estão relacionadas umas com as outras, variando de -1 a 1. Valores próximos a 1 indicam uma forte correlação positiva, valores próximos a -1 indicam uma forte correlação negativa, e valores próximos a 0 indicam correlação fraca ou nenhuma correlação entre as variáveis. É uma ferramenta útil para analisar relações entre dados quantitativos em análises estatísticas e de dados."
   ]
  },
  {
   "cell_type": "code",
   "execution_count": 13,
   "metadata": {},
   "outputs": [
    {
     "data": {
      "text/html": [
       "<div>\n",
       "<style scoped>\n",
       "    .dataframe tbody tr th:only-of-type {\n",
       "        vertical-align: middle;\n",
       "    }\n",
       "\n",
       "    .dataframe tbody tr th {\n",
       "        vertical-align: top;\n",
       "    }\n",
       "\n",
       "    .dataframe thead th {\n",
       "        text-align: right;\n",
       "    }\n",
       "</style>\n",
       "<table border=\"1\" class=\"dataframe\">\n",
       "  <thead>\n",
       "    <tr style=\"text-align: right;\">\n",
       "      <th></th>\n",
       "      <th>valor_aluguel</th>\n",
       "      <th>area_m2</th>\n",
       "      <th>ano_construcao</th>\n",
       "      <th>codigo_localidade</th>\n",
       "      <th>numero_banheiros</th>\n",
       "      <th>numero_cozinhas</th>\n",
       "      <th>codigo_bairro</th>\n",
       "    </tr>\n",
       "  </thead>\n",
       "  <tbody>\n",
       "    <tr>\n",
       "      <th>valor_aluguel</th>\n",
       "      <td>1.000000</td>\n",
       "      <td>0.584878</td>\n",
       "      <td>0.139194</td>\n",
       "      <td>0.172368</td>\n",
       "      <td>0.250261</td>\n",
       "      <td>0.170707</td>\n",
       "      <td>-0.020846</td>\n",
       "    </tr>\n",
       "    <tr>\n",
       "      <th>area_m2</th>\n",
       "      <td>0.584878</td>\n",
       "      <td>1.000000</td>\n",
       "      <td>-0.226581</td>\n",
       "      <td>0.110046</td>\n",
       "      <td>0.226306</td>\n",
       "      <td>0.045716</td>\n",
       "      <td>-0.089050</td>\n",
       "    </tr>\n",
       "    <tr>\n",
       "      <th>ano_construcao</th>\n",
       "      <td>0.139194</td>\n",
       "      <td>-0.226581</td>\n",
       "      <td>1.000000</td>\n",
       "      <td>-0.152206</td>\n",
       "      <td>0.065824</td>\n",
       "      <td>0.109881</td>\n",
       "      <td>0.327983</td>\n",
       "    </tr>\n",
       "    <tr>\n",
       "      <th>codigo_localidade</th>\n",
       "      <td>0.172368</td>\n",
       "      <td>0.110046</td>\n",
       "      <td>-0.152206</td>\n",
       "      <td>1.000000</td>\n",
       "      <td>0.037858</td>\n",
       "      <td>-0.004774</td>\n",
       "      <td>-0.282528</td>\n",
       "    </tr>\n",
       "    <tr>\n",
       "      <th>numero_banheiros</th>\n",
       "      <td>0.250261</td>\n",
       "      <td>0.226306</td>\n",
       "      <td>0.065824</td>\n",
       "      <td>0.037858</td>\n",
       "      <td>1.000000</td>\n",
       "      <td>0.064216</td>\n",
       "      <td>0.043600</td>\n",
       "    </tr>\n",
       "    <tr>\n",
       "      <th>numero_cozinhas</th>\n",
       "      <td>0.170707</td>\n",
       "      <td>0.045716</td>\n",
       "      <td>0.109881</td>\n",
       "      <td>-0.004774</td>\n",
       "      <td>0.064216</td>\n",
       "      <td>1.000000</td>\n",
       "      <td>0.029495</td>\n",
       "    </tr>\n",
       "    <tr>\n",
       "      <th>codigo_bairro</th>\n",
       "      <td>-0.020846</td>\n",
       "      <td>-0.089050</td>\n",
       "      <td>0.327983</td>\n",
       "      <td>-0.282528</td>\n",
       "      <td>0.043600</td>\n",
       "      <td>0.029495</td>\n",
       "      <td>1.000000</td>\n",
       "    </tr>\n",
       "  </tbody>\n",
       "</table>\n",
       "</div>"
      ],
      "text/plain": [
       "                   valor_aluguel   area_m2  ano_construcao  codigo_localidade  \\\n",
       "valor_aluguel           1.000000  0.584878        0.139194           0.172368   \n",
       "area_m2                 0.584878  1.000000       -0.226581           0.110046   \n",
       "ano_construcao          0.139194 -0.226581        1.000000          -0.152206   \n",
       "codigo_localidade       0.172368  0.110046       -0.152206           1.000000   \n",
       "numero_banheiros        0.250261  0.226306        0.065824           0.037858   \n",
       "numero_cozinhas         0.170707  0.045716        0.109881          -0.004774   \n",
       "codigo_bairro          -0.020846 -0.089050        0.327983          -0.282528   \n",
       "\n",
       "                   numero_banheiros  numero_cozinhas  codigo_bairro  \n",
       "valor_aluguel              0.250261         0.170707      -0.020846  \n",
       "area_m2                    0.226306         0.045716      -0.089050  \n",
       "ano_construcao             0.065824         0.109881       0.327983  \n",
       "codigo_localidade          0.037858        -0.004774      -0.282528  \n",
       "numero_banheiros           1.000000         0.064216       0.043600  \n",
       "numero_cozinhas            0.064216         1.000000       0.029495  \n",
       "codigo_bairro              0.043600         0.029495       1.000000  "
      ]
     },
     "execution_count": 13,
     "metadata": {},
     "output_type": "execute_result"
    }
   ],
   "source": [
    "\n",
    "df.corr()"
   ]
  },
  {
   "cell_type": "markdown",
   "metadata": {},
   "source": [
    "### <font color=green>Interpretadno o Resultado da correlação entre as variáveis valor do aluguel e área m²</font>"
   ]
  },
  {
   "cell_type": "markdown",
   "metadata": {},
   "source": [
    "O coeficiente de correlação é uma medida estatística que indica a força e a direção da relação linear entre duas variáveis numéricas. Ele varia entre -1 e 1, onde:\n",
    "\n",
    "* Um coeficiente de correlação igual a 1 indica uma correlação linear perfeita positiva, ou seja, quando uma variável aumenta, a outra variável também aumenta na mesma proporção.\n",
    "\n",
    "* Um coeficiente de correlação igual a -1 indica uma correlação linear perfeita negativa, ou seja, quando uma variável aumenta, a outra variável diminui na mesma proporção.\n",
    "\n",
    "* Um coeficiente de correlação igual a 0 sugere que não há correlação linear entre as duas variáveis.\n",
    "\n",
    "O coeficiente de correlação mais comum é o de Pearson, que mede a correlação linear entre duas variáveis. Existem outras medidas de correlação, como o coeficiente de correlação de Spearman, que avalia a relação monotônica entre duas variáveis, e o coeficiente de correlação de Kendall, que considera a concordância entre os rankings das variáveis."
   ]
  },
  {
   "cell_type": "markdown",
   "metadata": {},
   "source": [
    "### <font color=orange>Analisar a relação entre a variável de entrada area_m2 e a variável alvo valor_aluguel</font>"
   ]
  },
  {
   "cell_type": "markdown",
   "metadata": {},
   "source": [
    "Esse código Python utiliza a biblioteca Seaborn para criar um gráfico de dispersão que analisa a relação entre duas variáveis: \"area_m2\" (área em metros quadrados) no eixo horizontal e \"valor_aluguel\" (valor do aluguel) no eixo vertical. O gráfico apresenta a dispersão dos pontos, permitindo a visualização de como o valor do aluguel se relaciona com a área por metro quadrado. Além disso, ele inclui um título, rótulos nos eixos x e y para uma compreensão mais clara da representação visual dos dados."
   ]
  },
  {
   "cell_type": "code",
   "execution_count": 16,
   "metadata": {},
   "outputs": [
    {
     "data": {
      "text/plain": [
       "[Text(0.5, 1.0, 'Gráfico de Dispersão: Valor do Aluguel x Área m²'),\n",
       " Text(0, 0.5, 'Valor do Aluguel'),\n",
       " Text(0.5, 0, 'Àrea por Metro Quadrado')]"
      ]
     },
     "execution_count": 16,
     "metadata": {},
     "output_type": "execute_result"
    },
    {
     "data": {
      "image/png": "[encoded data removed]",
      "text/plain": [
       "<Figure size 640x480 with 1 Axes>"
      ]
     },
     "metadata": {},
     "output_type": "display_data"
    }
   ],
   "source": [
    "\n",
    "sns.scatterplot(\n",
    "    data = df, \n",
    "    x = \"area_m2\", \n",
    "    y = \"valor_aluguel\"\n",
    "    ).set(\n",
    "        title='Gráfico de Dispersão: Valor do Aluguel x Área m²', \n",
    "        ylabel='Valor do Aluguel', \n",
    "        xlabel='Àrea por Metro Quadrado'\n",
    "    )"
   ]
  },
  {
   "cell_type": "markdown",
   "metadata": {},
   "source": [
    "## <font color=yellow>Regressão Linear Simples</font>\n",
    "\n",
    "A Regressão Linear é uma técnica estatística utilizada para modelar a relação entre uma variável dependente (também chamada de variável resposta ou variável alvo) e uma ou mais variáveis independentes (também chamadas de variáveis explicativas ou preditoras). Ela tem como objetivo estimar os coeficientes da equação que melhor descreve essa relação, minimizando a soma dos erros quadráticos entre os valores observados e os valores previstos pelo modelo.\n",
    "\n",
    "Existem dois tipos principais de regressão linear:\n",
    "\n",
    "* **Regressão Linear Simples**: Neste caso, há apenas uma variável independente envolvida. A equação da Regressão Linear Simples é expressa como:\n",
    "\n",
    "Y = a + bX + ε\n",
    "\n",
    "Onde Y é a variável dependente, X é a variável independente, a é o coeficiente linear (intercepto), b é o coeficiente angular (inclinação) e ε é o erro aleatório.\n",
    "\n",
    "* **Regressão Linear Múltipla**: Neste caso, há duas ou mais variáveis independentes envolvidas. A equação é expressa como:\n",
    "\n",
    "Y = a + b1X1 + b2X2 + ... + bnXn + ε\n",
    "\n",
    "Onde Y é a variável dependente, X1, X2, ..., Xn são as variáveis independentes, a é o coeficiente linear (intercepto), b1, b2, ..., bn são os coeficientes angulares (inclinações) e ε é o erro aleatório.\n",
    "\n",
    "A Regressão Linear é amplamente utilizada em diversas áreas, como economia, ciências sociais, biologia e engenharia, para prever resultados, avaliar relações causais e identificar fatores que contribuem para um fenômeno específico. \n",
    "\n",
    "Além disso, é uma técnica fundamental para a análise de dados e aprendizado de máquina, onde é usada para desenvolver modelos preditivos."
   ]
  },
  {
   "cell_type": "markdown",
   "metadata": {},
   "source": [
    "## <font color=yellow>Construção de um Modelo OLS com Statsmodels em Python</font>"
   ]
  },
  {
   "cell_type": "markdown",
   "metadata": {},
   "source": [
    "### <font color=orange>Visualizar as 10 primeiras linhas da base de dados</font>"
   ]
  },
  {
   "cell_type": "markdown",
   "metadata": {},
   "source": [
    "A função 'head(10)' é usada para mostrar as 10 primeiras linhas desse DataFrame, permitindo uma rápida visualização dos dados no início do arquivo."
   ]
  },
  {
   "cell_type": "code",
   "execution_count": 17,
   "metadata": {},
   "outputs": [
    {
     "data": {
      "text/html": [
       "<div>\n",
       "<style scoped>\n",
       "    .dataframe tbody tr th:only-of-type {\n",
       "        vertical-align: middle;\n",
       "    }\n",
       "\n",
       "    .dataframe tbody tr th {\n",
       "        vertical-align: top;\n",
       "    }\n",
       "\n",
       "    .dataframe thead th {\n",
       "        text-align: right;\n",
       "    }\n",
       "</style>\n",
       "<table border=\"1\" class=\"dataframe\">\n",
       "  <thead>\n",
       "    <tr style=\"text-align: right;\">\n",
       "      <th></th>\n",
       "      <th>valor_aluguel</th>\n",
       "      <th>area_m2</th>\n",
       "      <th>ano_construcao</th>\n",
       "      <th>codigo_localidade</th>\n",
       "      <th>numero_banheiros</th>\n",
       "      <th>numero_cozinhas</th>\n",
       "      <th>codigo_bairro</th>\n",
       "    </tr>\n",
       "  </thead>\n",
       "  <tbody>\n",
       "    <tr>\n",
       "      <th>0</th>\n",
       "      <td>120.97436</td>\n",
       "      <td>35</td>\n",
       "      <td>1939</td>\n",
       "      <td>1</td>\n",
       "      <td>0</td>\n",
       "      <td>0</td>\n",
       "      <td>1112</td>\n",
       "    </tr>\n",
       "    <tr>\n",
       "      <th>1</th>\n",
       "      <td>436.97433</td>\n",
       "      <td>104</td>\n",
       "      <td>1939</td>\n",
       "      <td>1</td>\n",
       "      <td>1</td>\n",
       "      <td>0</td>\n",
       "      <td>1112</td>\n",
       "    </tr>\n",
       "    <tr>\n",
       "      <th>2</th>\n",
       "      <td>355.74360</td>\n",
       "      <td>29</td>\n",
       "      <td>1971</td>\n",
       "      <td>2</td>\n",
       "      <td>0</td>\n",
       "      <td>0</td>\n",
       "      <td>2114</td>\n",
       "    </tr>\n",
       "    <tr>\n",
       "      <th>3</th>\n",
       "      <td>282.92310</td>\n",
       "      <td>39</td>\n",
       "      <td>1972</td>\n",
       "      <td>2</td>\n",
       "      <td>0</td>\n",
       "      <td>0</td>\n",
       "      <td>2148</td>\n",
       "    </tr>\n",
       "    <tr>\n",
       "      <th>4</th>\n",
       "      <td>807.23080</td>\n",
       "      <td>97</td>\n",
       "      <td>1985</td>\n",
       "      <td>1</td>\n",
       "      <td>0</td>\n",
       "      <td>0</td>\n",
       "      <td>2222</td>\n",
       "    </tr>\n",
       "    <tr>\n",
       "      <th>5</th>\n",
       "      <td>482.82053</td>\n",
       "      <td>62</td>\n",
       "      <td>1962</td>\n",
       "      <td>1</td>\n",
       "      <td>0</td>\n",
       "      <td>0</td>\n",
       "      <td>2222</td>\n",
       "    </tr>\n",
       "    <tr>\n",
       "      <th>6</th>\n",
       "      <td>323.69232</td>\n",
       "      <td>31</td>\n",
       "      <td>1965</td>\n",
       "      <td>1</td>\n",
       "      <td>0</td>\n",
       "      <td>0</td>\n",
       "      <td>2211</td>\n",
       "    </tr>\n",
       "    <tr>\n",
       "      <th>7</th>\n",
       "      <td>370.97437</td>\n",
       "      <td>61</td>\n",
       "      <td>1957</td>\n",
       "      <td>2</td>\n",
       "      <td>1</td>\n",
       "      <td>0</td>\n",
       "      <td>2142</td>\n",
       "    </tr>\n",
       "    <tr>\n",
       "      <th>8</th>\n",
       "      <td>373.69232</td>\n",
       "      <td>72</td>\n",
       "      <td>1978</td>\n",
       "      <td>1</td>\n",
       "      <td>0</td>\n",
       "      <td>0</td>\n",
       "      <td>2143</td>\n",
       "    </tr>\n",
       "    <tr>\n",
       "      <th>9</th>\n",
       "      <td>521.69230</td>\n",
       "      <td>75</td>\n",
       "      <td>1968</td>\n",
       "      <td>1</td>\n",
       "      <td>0</td>\n",
       "      <td>0</td>\n",
       "      <td>2142</td>\n",
       "    </tr>\n",
       "  </tbody>\n",
       "</table>\n",
       "</div>"
      ],
      "text/plain": [
       "   valor_aluguel  area_m2  ano_construcao  codigo_localidade  \\\n",
       "0      120.97436       35            1939                  1   \n",
       "1      436.97433      104            1939                  1   \n",
       "2      355.74360       29            1971                  2   \n",
       "3      282.92310       39            1972                  2   \n",
       "4      807.23080       97            1985                  1   \n",
       "5      482.82053       62            1962                  1   \n",
       "6      323.69232       31            1965                  1   \n",
       "7      370.97437       61            1957                  2   \n",
       "8      373.69232       72            1978                  1   \n",
       "9      521.69230       75            1968                  1   \n",
       "\n",
       "   numero_banheiros  numero_cozinhas  codigo_bairro  \n",
       "0                 0                0           1112  \n",
       "1                 1                0           1112  \n",
       "2                 0                0           2114  \n",
       "3                 0                0           2148  \n",
       "4                 0                0           2222  \n",
       "5                 0                0           2222  \n",
       "6                 0                0           2211  \n",
       "7                 1                0           2142  \n",
       "8                 0                0           2143  \n",
       "9                 0                0           2142  "
      ]
     },
     "execution_count": 17,
     "metadata": {},
     "output_type": "execute_result"
    }
   ],
   "source": [
    "df.head(10)"
   ]
  },
  {
   "cell_type": "markdown",
   "metadata": {},
   "source": [
    "### <font color=orange>Definir a variável alvo</font>"
   ]
  },
  {
   "cell_type": "markdown",
   "metadata": {},
   "source": [
    "No código Python fornecido, estamos definindo a variável \"y\" para representar a coluna \"valor_aluguel\" de um DataFrame chamado \"df\". Em seguida, usamos o método \".head(10)\" para exibir os primeiros 10 valores dessa variável \"y\". Isso é útil para visualizar uma amostra dos valores de aluguel no início do DataFrame, facilitando a análise inicial dos dados."
   ]
  },
  {
   "cell_type": "code",
   "execution_count": 47,
   "metadata": {},
   "outputs": [
    {
     "data": {
      "text/plain": [
       "0    120.97436\n",
       "1    436.97433\n",
       "2    355.74360\n",
       "3    282.92310\n",
       "4    807.23080\n",
       "5    482.82053\n",
       "6    323.69232\n",
       "7    370.97437\n",
       "8    373.69232\n",
       "9    521.69230\n",
       "Name: valor_aluguel, dtype: float64"
      ]
     },
     "execution_count": 47,
     "metadata": {},
     "output_type": "execute_result"
    }
   ],
   "source": [
    "\n",
    "y = df[\"valor_aluguel\"]\n",
    "y.head(10)"
   ]
  },
  {
   "cell_type": "markdown",
   "metadata": {},
   "source": [
    "### <font color=orange>Definir a variável independente</font>"
   ]
  },
  {
   "cell_type": "markdown",
   "metadata": {},
   "source": [
    "No código Python acima, estamos definindo a variável independente \"x\" a partir do DataFrame \"df\" e selecionando a coluna \"area_m2\". Em seguida, exibimos as primeiras 10 linhas dessa variável usando o método \"head(10)\". Isso é comumente feito em análises de dados para isolar a variável que será usada como preditora em um modelo estatístico ou de machine learning, neste caso, a área em metros quadrados."
   ]
  },
  {
   "cell_type": "code",
   "execution_count": 48,
   "metadata": {},
   "outputs": [
    {
     "data": {
      "text/plain": [
       "0     35\n",
       "1    104\n",
       "2     29\n",
       "3     39\n",
       "4     97\n",
       "5     62\n",
       "6     31\n",
       "7     61\n",
       "8     72\n",
       "9     75\n",
       "Name: area_m2, dtype: int64"
      ]
     },
     "execution_count": 48,
     "metadata": {},
     "output_type": "execute_result"
    }
   ],
   "source": [
    "\n",
    "x = df[\"area_m2\"]\n",
    "x.head(10)"
   ]
  },
  {
   "cell_type": "markdown",
   "metadata": {},
   "source": [
    "### <font color=orange>Adicionar uma constante à variável independente, requerido pelo Statsmodels</font>"
   ]
  },
  {
   "cell_type": "markdown",
   "metadata": {},
   "source": [
    "No código Python apresentado, estamos preparando os dados para uma regressão linear usando o Statsmodels. A linha `x = sm.add_constant(x)` adiciona uma constante à variável independente `x`, o que é uma prática comum na regressão linear. Isso permite que o modelo inclua um intercepto na análise, tornando a regressão mais robusta e representativa. Em seguida, `x.head(10)` é usado para exibir as 10 primeiras linhas do DataFrame `x`, mostrando como os dados ficaram após essa transformação."
   ]
  },
  {
   "cell_type": "code",
   "execution_count": 49,
   "metadata": {},
   "outputs": [
    {
     "data": {
      "text/html": [
       "<div>\n",
       "<style scoped>\n",
       "    .dataframe tbody tr th:only-of-type {\n",
       "        vertical-align: middle;\n",
       "    }\n",
       "\n",
       "    .dataframe tbody tr th {\n",
       "        vertical-align: top;\n",
       "    }\n",
       "\n",
       "    .dataframe thead th {\n",
       "        text-align: right;\n",
       "    }\n",
       "</style>\n",
       "<table border=\"1\" class=\"dataframe\">\n",
       "  <thead>\n",
       "    <tr style=\"text-align: right;\">\n",
       "      <th></th>\n",
       "      <th>const</th>\n",
       "      <th>area_m2</th>\n",
       "    </tr>\n",
       "  </thead>\n",
       "  <tbody>\n",
       "    <tr>\n",
       "      <th>0</th>\n",
       "      <td>1.0</td>\n",
       "      <td>35</td>\n",
       "    </tr>\n",
       "    <tr>\n",
       "      <th>1</th>\n",
       "      <td>1.0</td>\n",
       "      <td>104</td>\n",
       "    </tr>\n",
       "    <tr>\n",
       "      <th>2</th>\n",
       "      <td>1.0</td>\n",
       "      <td>29</td>\n",
       "    </tr>\n",
       "    <tr>\n",
       "      <th>3</th>\n",
       "      <td>1.0</td>\n",
       "      <td>39</td>\n",
       "    </tr>\n",
       "    <tr>\n",
       "      <th>4</th>\n",
       "      <td>1.0</td>\n",
       "      <td>97</td>\n",
       "    </tr>\n",
       "    <tr>\n",
       "      <th>5</th>\n",
       "      <td>1.0</td>\n",
       "      <td>62</td>\n",
       "    </tr>\n",
       "    <tr>\n",
       "      <th>6</th>\n",
       "      <td>1.0</td>\n",
       "      <td>31</td>\n",
       "    </tr>\n",
       "    <tr>\n",
       "      <th>7</th>\n",
       "      <td>1.0</td>\n",
       "      <td>61</td>\n",
       "    </tr>\n",
       "    <tr>\n",
       "      <th>8</th>\n",
       "      <td>1.0</td>\n",
       "      <td>72</td>\n",
       "    </tr>\n",
       "    <tr>\n",
       "      <th>9</th>\n",
       "      <td>1.0</td>\n",
       "      <td>75</td>\n",
       "    </tr>\n",
       "  </tbody>\n",
       "</table>\n",
       "</div>"
      ],
      "text/plain": [
       "   const  area_m2\n",
       "0    1.0       35\n",
       "1    1.0      104\n",
       "2    1.0       29\n",
       "3    1.0       39\n",
       "4    1.0       97\n",
       "5    1.0       62\n",
       "6    1.0       31\n",
       "7    1.0       61\n",
       "8    1.0       72\n",
       "9    1.0       75"
      ]
     },
     "execution_count": 49,
     "metadata": {},
     "output_type": "execute_result"
    }
   ],
   "source": [
    "\n",
    "x = sm.add_constant(x)\n",
    "x.head(10)"
   ]
  },
  {
   "cell_type": "markdown",
   "metadata": {},
   "source": [
    "### <font color=orange>Criar o modelo de regressão linear ordinária (OLS)</font>"
   ]
  },
  {
   "cell_type": "markdown",
   "metadata": {},
   "source": [
    "Nesse trecho de código Python, estamos criando um modelo de regressão linear ordinária (OLS) usando a biblioteca StatsModels (sm). A variável \"modelo\" representa esse modelo de regressão linear, onde \"y\" é a variável de resposta (no contexto de análise de regressão, geralmente a variável que queremos prever) e \"x\" são as variáveis independentes usadas para a previsão. OLS é um método comum para ajustar um modelo linear aos dados, buscando encontrar a relação entre as variáveis independentes e a variável de resposta \"y\". Esse modelo pode ser usado para realizar análises estatísticas e previsões com base nos dados fornecidos."
   ]
  },
  {
   "cell_type": "code",
   "execution_count": 50,
   "metadata": {},
   "outputs": [
    {
     "data": {
      "text/plain": [
       "<statsmodels.regression.linear_model.OLS at 0x1b3e420b3d0>"
      ]
     },
     "execution_count": 50,
     "metadata": {},
     "output_type": "execute_result"
    }
   ],
   "source": [
    "\n",
    "modelo = sm.OLS(y, x)\n",
    "modelo"
   ]
  },
  {
   "cell_type": "markdown",
   "metadata": {},
   "source": [
    "### <font color=orange>Ajustar o modelo aos dados</font>"
   ]
  },
  {
   "cell_type": "markdown",
   "metadata": {},
   "source": [
    "Neste trecho de código em Python, estamos ajustando um modelo aos dados. A variável \"resultado\" recebe o resultado do ajuste do modelo, que pode incluir informações sobre o desempenho do modelo, coeficientes estimados, entre outros. É uma etapa crucial em tarefas de machine learning, em que o modelo é treinado com os dados de treinamento para fazer previsões ou classificações. Essa linha de código representa o processo de treinamento do modelo, mas detalhes específicos sobre o modelo e os dados não estão presentes aqui."
   ]
  },
  {
   "cell_type": "code",
   "execution_count": 51,
   "metadata": {},
   "outputs": [
    {
     "data": {
      "text/plain": [
       "<statsmodels.regression.linear_model.RegressionResultsWrapper at 0x1b3e40f0f10>"
      ]
     },
     "execution_count": 51,
     "metadata": {},
     "output_type": "execute_result"
    }
   ],
   "source": [
    "\n",
    "resultado = modelo.fit()\n",
    "resultado"
   ]
  },
  {
   "cell_type": "markdown",
   "metadata": {},
   "source": [
    "### <font color=orange>Visualizar os resultados do modelo</font>"
   ]
  },
  {
   "cell_type": "markdown",
   "metadata": {},
   "source": [
    "Nesse trecho de código Python, estamos visualizando os resultados de um modelo estatístico ou de regressão. O comando \"print(resultado.summary())\" exibe um resumo abrangente das estatísticas e informações relevantes relacionadas ao modelo, como coeficientes, valores p, e métricas de ajuste. Isso ajuda a compreender a qualidade e significância do modelo estatístico em questão, fornecendo insights sobre como as variáveis explicativas afetam a variável de resposta."
   ]
  },
  {
   "cell_type": "code",
   "execution_count": 52,
   "metadata": {},
   "outputs": [
    {
     "name": "stdout",
     "output_type": "stream",
     "text": [
      "                            OLS Regression Results                            \n",
      "==============================================================================\n",
      "Dep. Variable:          valor_aluguel   R-squared:                       0.342\n",
      "Model:                            OLS   Adj. R-squared:                  0.342\n",
      "Method:                 Least Squares   F-statistic:                     1559.\n",
      "Date:                Thu, 02 Nov 2023   Prob (F-statistic):          6.84e-275\n",
      "Time:                        23:55:20   Log-Likelihood:                -19461.\n",
      "No. Observations:                3000   AIC:                         3.893e+04\n",
      "Df Residuals:                    2998   BIC:                         3.894e+04\n",
      "Df Model:                           1                                         \n",
      "Covariance Type:            nonrobust                                         \n",
      "==============================================================================\n",
      "                 coef    std err          t      P>|t|      [0.025      0.975]\n",
      "------------------------------------------------------------------------------\n",
      "const        133.6988      8.750     15.279      0.000     116.541     150.856\n",
      "area_m2        4.8386      0.123     39.482      0.000       4.598       5.079\n",
      "==============================================================================\n",
      "Omnibus:                      206.173   Durbin-Watson:                   2.003\n",
      "Prob(Omnibus):                  0.000   Jarque-Bera (JB):              441.379\n",
      "Skew:                           0.448   Prob(JB):                     1.43e-96\n",
      "Kurtosis:                       4.651   Cond. No.                         215.\n",
      "==============================================================================\n",
      "\n",
      "Notes:\n",
      "[1] Standard Errors assume that the covariance matrix of the errors is correctly specified.\n"
     ]
    }
   ],
   "source": [
    "\n",
    "print(resultado.summary())"
   ]
  },
  {
   "cell_type": "markdown",
   "metadata": {},
   "source": [
    "### <font color=green>Interpretando o Resultado do Modelo Estatístico com Statsmodels</font>\n",
    "\n",
    "A tabela acima traz um resumo do modelo com diversas estatísticas. Aqui faremos a análise de uma delas, o R².\n",
    "\n",
    "O coeficiente de determinação, também conhecido como R², é uma medida estatística que avalia o quão bem o modelo de regressão se ajusta aos dados observados. Ele varia de 0 a 1 e representa a proporção da variação total da variável dependente que é explicada pelo modelo de regressão.\n",
    "\n",
    "A interpretação do R² é a seguinte:\n",
    "\n",
    "R² = 0: Neste caso, o modelo de regressão não explica nenhuma variação na variável dependente. Isso significa que o modelo não é útil para prever ou explicar a variável de interesse.\n",
    "\n",
    "R² = 1: Neste caso, o modelo de regressão explica toda a variação na variável dependente. Isso indica que o modelo se ajusta perfeitamente aos dados e é extremamente útil para prever ou explicar a variável de interesse.\n",
    "\n",
    "0 < R² < 1: Neste caso, o modelo de regressão explica uma parte da variação na variável dependente. Quanto maior o valor de R², melhor o modelo se ajusta aos dados e melhor é a sua capacidade de prever ou explicar a variável de interesse.\n",
    "\n",
    "É importante notar que um R² alto não garante que o modelo seja adequado, nem que haja uma relação causal entre as variáveis. Um R² alto pode ser resultado de variáveis irrelevantes, multicolinearidade ou até mesmo de um ajuste excessivo (overfitting). Portanto, é essencial avaliar outras estatísticas e diagnosticar o modelo antes de tirar conclusões definitivas."
   ]
  },
  {
   "cell_type": "markdown",
   "metadata": {},
   "source": [
    "### <font color=orange>Analisar a relação entre a área em m² & o valor do aluguel</font>"
   ]
  },
  {
   "cell_type": "markdown",
   "metadata": {},
   "source": [
    "Nesse código Python, estamos configurando um gráfico de dispersão para analisar a relação entre a área (em metros quadrados) e o valor do aluguel. Primeiro, definimos o tamanho da figura e os rótulos para os eixos. Em seguida, plotamos os dados reais como pontos (marcados com \"o\") e a linha de regressão que representa as previsões do modelo (marcada com \"r-\"). A legenda é configurada para explicar os elementos do gráfico, e finalmente, o gráfico é exibido. Esse gráfico é útil para visualizar como o valor do aluguel se relaciona com a área do imóvel, facilitando a interpretação dos dados."
   ]
  },
  {
   "cell_type": "code",
   "execution_count": 55,
   "metadata": {},
   "outputs": [
    {
     "data": {
      "image/png": "[encoded data removed]",
      "text/plain": [
       "<Figure size 1200x800 with 1 Axes>"
      ]
     },
     "metadata": {},
     "output_type": "display_data"
    }
   ],
   "source": [
    "\n",
    "# Configurações do gráfico\n",
    "fig, ax = plt.subplots(figsize=(12, 8))\n",
    "ax.set_title('Gráfico de Dispersão')\n",
    "ax.set_xlabel(\"Área (m²)\", size=16)\n",
    "ax.set_ylabel(\"Valor do Aluguel\", size=16)\n",
    "\n",
    "# Plot dos dados reais\n",
    "ax.plot(x[\"area_m2\"], y, \"o\", label=\"Dados Reais\")\n",
    "\n",
    "# Plot da linha de regressão (Previsões do Modelo)\n",
    "ax.plot(x[\"area_m2\"], resultado.fittedvalues, \"r-\", label=\"Linha de Regressão (Previsões do Modelo)\")\n",
    "\n",
    "# Configuração da legenda\n",
    "ax.legend(loc=\"best\")\n",
    "\n",
    "# Exibição do gráfico\n",
    "plt.show()"
   ]
  },
  {
   "cell_type": "markdown",
   "metadata": {},
   "source": [
    "### <font color=green>Interpretando o Resultado do Modelo Estatístico com Gráfico de Dispersão</font>\n",
    "\n",
    "* A imagem mostra um gráfico de dispersão com uma linha de regressão. O eixo horizontal representa a área de um imóvel em metros quadrados, e o eixo vertical representa o valor do aluguel mensal. Os pontos no gráfico representam os dados reais de imóveis alugados em uma determinada cidade. A linha de regressão é uma estimativa da relação entre a área e o valor do aluguel.\n",
    "\n",
    "* Ao olhar para o gráfico, podemos ver que, em geral, quanto maior a área de um imóvel, maior o valor do aluguel. No entanto, também podemos ver que existem alguns casos em que imóveis com áreas semelhantes têm valores de aluguel muito diferentes. Isso pode ser devido a fatores como localização, qualidade da construção ou outros atributos do imóvel.\n",
    "\n",
    "* A linha de regressão pode ser usada para estimar o valor do aluguel de um imóvel, com base em sua área. Por exemplo, se um imóvel tem 100 metros quadrados, a linha de regressão estima que o valor do aluguel mensal seja de cerca de R$ 1.000. No entanto, é importante lembrar que a linha de regressão é apenas uma estimativa, e o valor real do aluguel pode variar.\n",
    "\n",
    "* A imagem pode ser usada para fins de análise de dados ou previsão. Por exemplo, um corretor de imóveis pode usar a imagem para estimar o valor de um imóvel que está à venda. Um economista pode usar a imagem para estudar a relação entre o tamanho dos imóveis e os preços dos aluguéis.\n",
    "\n",
    "* Com isso, claramente existe uma forte relação entre a área (em m2) dos imóveis e o valor do aluguel. Entretanto, apenas a área dos imóveis não é suficiente para explicar a variação no valor do aluguel, pois nosso modelo obteve um coeficiente de determinação (R²) de apenas 0.34.\n",
    "\n",
    "* O ideal seria usar mais variáveis de entrada para construir o modelo a fim de compreender se outros fatores influenciam no valor do aluguel.\n",
    "\n",
    "* É sempre importante deixar claro que correlação não implica causalidade e que não podemos afirmar que o valor do aluguel muda apenas devido à área dos imóveis. Para estudar causalidade devemos aplicar Análise Causal.\n",
    "\n",
    "* Portanto, em um Projeto de Regressão, devemos validar as suposições (que são várias) antes de usar o modelo para tirar conclusões."
   ]
  }
 ],
 "metadata": {
  "kernelspec": {
   "display_name": "base",
   "language": "python",
   "name": "python3"
  },
  "language_info": {
   "codemirror_mode": {
    "name": "ipython",
    "version": 3
   },
   "file_extension": ".py",
   "mimetype": "text/x-python",
   "name": "python",
   "nbconvert_exporter": "python",
   "pygments_lexer": "ipython3",
   "version": "3.11.3"
  }
 },
 "nbformat": 4,
 "nbformat_minor": 2
}
