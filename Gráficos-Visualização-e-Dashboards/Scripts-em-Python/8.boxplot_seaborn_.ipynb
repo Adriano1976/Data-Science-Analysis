{
 "cells": [
  {
   "cell_type": "code",
   "execution_count": null,
   "metadata": {},
   "outputs": [],
   "source": [
    "# Formação Cientista de Dados - Fernando Amaral \n",
    "# Boxplot com Seaborn"
   ]
  },
  {
   "cell_type": "code",
   "execution_count": 2,
   "metadata": {},
   "outputs": [],
   "source": [
    "# Importação das bibliotecas - Este código importa duas bibliotecas em Python: \"pandas\" como \"pd\" e \n",
    "# \"seaborn\" como \"srn\". Essas bibliotecas são frequentemente usadas para análise e visualização de dados.\n",
    "\n",
    "import pandas as pd\n",
    "import seaborn as srn"
   ]
  },
  {
   "cell_type": "code",
   "execution_count": 3,
   "metadata": {},
   "outputs": [
    {
     "data": {
      "text/html": [
       "<div>\n",
       "<style scoped>\n",
       "    .dataframe tbody tr th:only-of-type {\n",
       "        vertical-align: middle;\n",
       "    }\n",
       "\n",
       "    .dataframe tbody tr th {\n",
       "        vertical-align: top;\n",
       "    }\n",
       "\n",
       "    .dataframe thead th {\n",
       "        text-align: right;\n",
       "    }\n",
       "</style>\n",
       "<table border=\"1\" class=\"dataframe\">\n",
       "  <thead>\n",
       "    <tr style=\"text-align: right;\">\n",
       "      <th></th>\n",
       "      <th>Girth</th>\n",
       "      <th>Height</th>\n",
       "      <th>Volume</th>\n",
       "    </tr>\n",
       "  </thead>\n",
       "  <tbody>\n",
       "    <tr>\n",
       "      <th>0</th>\n",
       "      <td>8.3</td>\n",
       "      <td>70</td>\n",
       "      <td>10.3</td>\n",
       "    </tr>\n",
       "    <tr>\n",
       "      <th>1</th>\n",
       "      <td>8.6</td>\n",
       "      <td>65</td>\n",
       "      <td>10.3</td>\n",
       "    </tr>\n",
       "    <tr>\n",
       "      <th>2</th>\n",
       "      <td>8.8</td>\n",
       "      <td>63</td>\n",
       "      <td>10.2</td>\n",
       "    </tr>\n",
       "    <tr>\n",
       "      <th>3</th>\n",
       "      <td>10.5</td>\n",
       "      <td>72</td>\n",
       "      <td>16.4</td>\n",
       "    </tr>\n",
       "    <tr>\n",
       "      <th>4</th>\n",
       "      <td>10.7</td>\n",
       "      <td>81</td>\n",
       "      <td>18.8</td>\n",
       "    </tr>\n",
       "  </tbody>\n",
       "</table>\n",
       "</div>"
      ],
      "text/plain": [
       "   Girth  Height  Volume\n",
       "0    8.3      70    10.3\n",
       "1    8.6      65    10.3\n",
       "2    8.8      63    10.2\n",
       "3   10.5      72    16.4\n",
       "4   10.7      81    18.8"
      ]
     },
     "execution_count": 3,
     "metadata": {},
     "output_type": "execute_result"
    }
   ],
   "source": [
    "# Este código lê um arquivo CSV chamado ‘trees.csv’ usando a função pd.read_csv e armazena os dados \n",
    "# em uma variável chamada base. Em seguida, base.head() é usado para exibir as primeiras cinco linhas \n",
    "# do DataFrame.\n",
    "\n",
    "base = pd.read_csv('C:/Users/Nilma Ferreira/Downloads/Formação de Cientîsta de Dados/13.Prática em Python/dados/trees.csv')\n",
    "base.head()"
   ]
  },
  {
   "cell_type": "code",
   "execution_count": 5,
   "metadata": {},
   "outputs": [
    {
     "data": {
      "text/plain": [
       "Text(0.5, 1.0, 'Árvores')"
      ]
     },
     "execution_count": 5,
     "metadata": {},
     "output_type": "execute_result"
    },
    {
     "data": {
      "image/png": "[encoded data removed]",
      "text/plain": [
       "<Figure size 640x480 with 1 Axes>"
      ]
     },
     "metadata": {},
     "output_type": "display_data"
    }
   ],
   "source": [
    "# Visualização de um boxplot - Este código cria um gráfico de caixa (boxplot) vertical usando os dados \n",
    "# da coluna 'Volume' de um conjunto de dados chamado 'base' e o rotula como 'Árvores'.\n",
    "\n",
    "srn.boxplot(data=base.Volume, orient='v').set_title('Árvores')"
   ]
  },
  {
   "cell_type": "code",
   "execution_count": 10,
   "metadata": {},
   "outputs": [
    {
     "data": {
      "text/plain": [
       "Text(0.5, 1.0, 'Árvores')"
      ]
     },
     "execution_count": 10,
     "metadata": {},
     "output_type": "execute_result"
    },
    {
     "data": {
      "image/png": "[encoded data removed]",
      "text/plain": [
       "<Figure size 640x480 with 1 Axes>"
      ]
     },
     "metadata": {},
     "output_type": "display_data"
    }
   ],
   "source": [
    "# Visualização de vários boxplots na mesma imagem - Este código em Python está criando um gráfico do tipo \"boxplot\" \n",
    "# para visualizar os dados contidos na variável chamada \"base\". O gráfico mostrará a distribuição estatística dos \n",
    "# valores dessa variável, incluindo informações sobre os quartis, mediana e possíveis valores discrepantes. A função \n",
    "# \"boxplot\" é parte da biblioteca \"seaborn\" (representada por \"sns\" neste código) e ajuda a entender a distribuição \n",
    "# dos dados de forma simples e visual.\n",
    "\n",
    "srn.boxplot(data = base).set_title('Árvores')"
   ]
  },
  {
   "cell_type": "markdown",
   "metadata": {},
   "source": [
    "* A imagem acima é um gráfico de caixa com três categorias: Girth, Height e Volume. \n",
    "* O título do gráfico é \"Árvores\", que é português para \"Trees\". \n",
    "* O eixo x tem as três categorias e o eixo y tem números de 0 a 90. \n",
    "* A categoria Girth tem um gráfico de caixa azul com uma mediana em torno de 20. \n",
    "* A categoria Height tem um gráfico de caixa laranja com uma mediana em torno de 70. \n",
    "* A categoria Volume tem um gráfico de caixa verde com uma mediana em torno de 40. \n",
    "* Há um outlier na categoria Height em torno de 90. \n",
    "* Isso pode ser usado para visualizar a relação entre as três variáveis. \n",
    "* É importante notar que este é apenas um resumo da distribuição dos dados e pode haver mais informações a serem extraídas ao analisar os dados mais detalhadamente."
   ]
  },
  {
   "cell_type": "code",
   "execution_count": null,
   "metadata": {},
   "outputs": [],
   "source": []
  }
 ],
 "metadata": {
  "jupytext": {
   "cell_metadata_filter": "-all",
   "main_language": "python",
   "notebook_metadata_filter": "-all"
  },
  "kernelspec": {
   "display_name": "Python 3 (ipykernel)",
   "language": "python",
   "name": "python3"
  },
  "language_info": {
   "codemirror_mode": {
    "name": "ipython",
    "version": 3
   },
   "file_extension": ".py",
   "mimetype": "text/x-python",
   "name": "python",
   "nbconvert_exporter": "python",
   "pygments_lexer": "ipython3",
   "version": "3.9.7"
  }
 },
 "nbformat": 4,
 "nbformat_minor": 4
}
