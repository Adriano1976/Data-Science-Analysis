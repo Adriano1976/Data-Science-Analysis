{
 "cells": [
  {
   "cell_type": "markdown",
   "id": "9cae7cd7-a29f-4743-bf98-476f9fe90b59",
   "metadata": {},
   "source": [
    "### Prof. Fernando Amaral - www.eia.ai\n",
    "### Contribuição: Adriano Santos\n",
    "#### <strong><font color=orange>Machine Learning com Spark</font></strong>\n",
    "## <strong>`Imputer`</strong>\n",
    "- A principal função do Imputer é substituir valores ausentes por algum valor específico ou estratégia de substituição, como média, mediana ou moda. Ele também pode substituir qualquer outro valor especificado pelo usuário usando o parâmetro setMissingValue.\n",
    "<br><br><hr>\n",
    "  "
   ]
  },
  {
   "cell_type": "markdown",
   "id": "29c5357b",
   "metadata": {},
   "source": [
    "No código a seguir, está sendo utilizado o **`pyspark`**, uma biblioteca para processamento de dados distribuídos utilizando o Apache Spark. Primeiramente, é importado o **`findspark`** para facilitar a inicialização do ambiente do Spark. Em seguida, é importada a classe **`SparkSession`** do **pyspark.sql** para criar uma sessão do Spark, permitindo a interação com os dados. Com a sessão criada, é invocado o método **`builder`** para configurar a sessão, onde é definido o nome da aplicação como \"imputer\". Por fim, a função **`getOrCreate`()** é utilizada para obter a sessão Spark existente ou criar uma nova, caso não exista, e atribuí-la à variável **spark**, pronta para ser usada em operações de processamento de dados."
   ]
  },
  {
   "cell_type": "code",
   "execution_count": 1,
   "id": "0c51b4eb",
   "metadata": {},
   "outputs": [],
   "source": [
    "import findspark, pyspark\n",
    "from pyspark.sql import SparkSession\n",
    "findspark.init()\n",
    "\n",
    "spark = SparkSession.builder.appName(\"imputer\").getOrCreate()"
   ]
  },
  {
   "cell_type": "markdown",
   "id": "0fac4d02",
   "metadata": {},
   "source": [
    "No código a seguir, está sendo importada a biblioteca **pyspark.ml.feature** para utilizar a função **`Imputer`**. Essa função é utilizada para preencher valores faltantes em conjuntos de dados, como em um DataFrame do Spark, substituindo esses valores pela média ou mediana das colunas correspondentes. Essa é uma etapa importante no pré-processamento de dados, garantindo que o conjunto de dados esteja completo antes de realizar análises ou treinamento de modelos de machine learning."
   ]
  },
  {
   "cell_type": "code",
   "execution_count": 2,
   "id": "247bb250",
   "metadata": {},
   "outputs": [],
   "source": [
    "from pyspark.ml.feature import Imputer"
   ]
  },
  {
   "cell_type": "markdown",
   "id": "9c404ce0",
   "metadata": {},
   "source": [
    "No código a seguir, está sendo utilizado o **`Spark`** para ler um arquivo CSV chamado \"CarrosNAN.csv\". A função **`spark.read.csv`** é usada para essa finalidade, onde definimos que o arquivo possui cabeçalho e o esquema deve ser inferido automaticamente. O separador de colunas é definido como ponto e vírgula. Em seguida, a função **carros.`show`()** é usada para exibir os dados do DataFrame carros no console."
   ]
  },
  {
   "cell_type": "code",
   "execution_count": 3,
   "id": "e47e249c",
   "metadata": {},
   "outputs": [
    {
     "name": "stdout",
     "output_type": "stream",
     "text": [
      "+-------+---------+-----------+---------------+----+-----+---------+-----------+-------+-----------+---+\n",
      "|Consumo|Cilindros|Cilindradas|RelEixoTraseiro|Peso|Tempo|TipoMotor|Transmissao|Marchas|Carburadors| HP|\n",
      "+-------+---------+-----------+---------------+----+-----+---------+-----------+-------+-----------+---+\n",
      "|     21|        6|        160|             39| 262| 1646|        0|          1|      4|          4|110|\n",
      "|     21|        6|       null|             39|2875| null|        0|          1|      4|          4|110|\n",
      "|    228|        0|        108|            385| 232| 1861|        1|          1|      4|          1| 93|\n",
      "|    214|        0|       null|            308|3215| 1944|        1|          0|      3|          1|110|\n",
      "|    187|        0|        360|            315|null| 1702|        0|          0|      3|          2|175|\n",
      "|    181|        6|        225|            276| 346| null|        1|          0|      3|          1|105|\n",
      "|    143|        8|        360|            321| 357| 1584|        0|          0|      3|          4|245|\n",
      "|    244|        4|       1467|            369| 319|   20|        1|          0|      4|          2| 62|\n",
      "|    228|        4|       1408|            392| 315|  229|        1|          0|      4|          2| 95|\n",
      "|    192|        0|       1676|            392| 344|  183|        1|          0|      4|          4|123|\n",
      "|    178|        6|       1676|            392|null|  189|        1|          0|      4|          4|123|\n",
      "|    164|        8|       2758|            307| 407|  174|        0|          0|      3|          3|180|\n",
      "|    173|        8|       2758|            307| 373|  176|        0|          0|      3|          3|180|\n",
      "|    152|        8|       2758|            307| 378|   18|        0|          0|      3|          3|180|\n",
      "|    104|        8|        472|            293| 525| 1798|        0|          0|      3|          4|205|\n",
      "|    104|        8|       null|              3|5424| 1782|        0|          0|      3|          4|215|\n",
      "|    147|        8|        440|            323|5345| 1742|        0|          0|      3|          4|230|\n",
      "|    324|        4|        787|            408|  22| 1947|        1|          1|      4|          1| 66|\n",
      "|    304|        4|        757|            493|1615| 1852|        1|          1|      4|          2| 52|\n",
      "|    339|        4|        711|            422|1835|  199|        1|          1|      4|          1| 65|\n",
      "+-------+---------+-----------+---------------+----+-----+---------+-----------+-------+-----------+---+\n",
      "only showing top 20 rows\n",
      "\n"
     ]
    }
   ],
   "source": [
    "carros = spark.read.csv(\"../CarrosNAN.csv\", header=True, inferSchema=True, sep=\";\")\n",
    "carros.show()"
   ]
  },
  {
   "cell_type": "markdown",
   "id": "27c98aaf",
   "metadata": {},
   "source": [
    "No código a seguir, está sendo utilizado o **`Imputer`** para preencher valores faltantes nas colunas \"Cilindradas\" e \"Peso\" do dataframe **carros**. Em seguida, um modelo é ajustado aos dados usando o método **`fit`** e transforma o dataframe original com os valores imputados, armazenando o resultado de volta na variável **carros**. Por fim, são selecionadas as colunas \"novaCilindradas\" e \"novaPeso\" e exibidas usando o método **`show`**."
   ]
  },
  {
   "cell_type": "code",
   "execution_count": 4,
   "id": "6696fe4c",
   "metadata": {},
   "outputs": [
    {
     "name": "stdout",
     "output_type": "stream",
     "text": [
      "+---------------+--------+\n",
      "|novaCilindradas|novaPeso|\n",
      "+---------------+--------+\n",
      "|            160|     262|\n",
      "|            848|    2875|\n",
      "|            108|     232|\n",
      "|            848|    3215|\n",
      "|            360|    1318|\n",
      "|            225|     346|\n",
      "|            360|     357|\n",
      "|           1467|     319|\n",
      "|           1408|     315|\n",
      "|           1676|     344|\n",
      "|           1676|    1318|\n",
      "|           2758|     407|\n",
      "|           2758|     373|\n",
      "|           2758|     378|\n",
      "|            472|     525|\n",
      "|            848|    5424|\n",
      "|            440|    5345|\n",
      "|            787|      22|\n",
      "|            757|    1615|\n",
      "|            711|    1835|\n",
      "+---------------+--------+\n",
      "only showing top 20 rows\n",
      "\n"
     ]
    }
   ],
   "source": [
    "imput = Imputer(inputCols=[\"Cilindradas\",\"Peso\"], outputCols=[\"novaCilindradas\", \"novaPeso\"])\n",
    "modelo = imput.fit(carros)\n",
    "carros = modelo.transform(carros)\n",
    "\n",
    "carros.select(\"novaCilindradas\", \"novaPeso\").show()"
   ]
  },
  {
   "cell_type": "markdown",
   "id": "01e90c5a",
   "metadata": {},
   "source": [
    "No código a seguir, está sendo utilizada a classe **`Imputer`** da biblioteca **pyspark.ml** para lidar com valores ausentes no conjunto de dados. Primeiro, é criado um objeto **imput** que irá substituir os valores ausentes na coluna \"Cilindros\" por sua mediana, e a coluna resultante é renomeada para \"novaCilindros\". Em seguida, são definidos os parâmetros da estratégia de imputação com **`setStrategy`(\"median\")** e o valor ausente é especificado como 0 com **`setMissingValue`(0)**. Após isso, o objeto **imput** é ajustado aos dados utilizando o método **`fit`()** com o DataFrame **carros** e a transformação é aplicada com **`transform`()**. Por fim, apenas as colunas \"Cilindros\" e \"novaCilindros\" são selecionadas e exibidas com **`show`()**. Este código é útil para lidar com valores ausentes em conjuntos de dados, garantindo que as análises subsequentes sejam realizadas de forma mais precisa e confiável."
   ]
  },
  {
   "cell_type": "code",
   "execution_count": 5,
   "id": "1ba9adc5",
   "metadata": {},
   "outputs": [
    {
     "name": "stdout",
     "output_type": "stream",
     "text": [
      "+---------+-------------+\n",
      "|Cilindros|novaCilindros|\n",
      "+---------+-------------+\n",
      "|        6|            6|\n",
      "|        6|            6|\n",
      "|        0|            6|\n",
      "|        0|            6|\n",
      "|        0|            6|\n",
      "|        6|            6|\n",
      "|        8|            8|\n",
      "|        4|            4|\n",
      "|        4|            4|\n",
      "|        0|            6|\n",
      "|        6|            6|\n",
      "|        8|            8|\n",
      "|        8|            8|\n",
      "|        8|            8|\n",
      "|        8|            8|\n",
      "|        8|            8|\n",
      "|        8|            8|\n",
      "|        4|            4|\n",
      "|        4|            4|\n",
      "|        4|            4|\n",
      "+---------+-------------+\n",
      "only showing top 20 rows\n",
      "\n"
     ]
    }
   ],
   "source": [
    "imput = Imputer(inputCols=[\"Cilindros\"], outputCols=[\"novaCilindros\"])\n",
    "imput.setStrategy(\"median\").setMissingValue(0).fit(carros).transform(carros).select(\"Cilindros\",\"novaCilindros\").show()"
   ]
  },
  {
   "cell_type": "code",
   "execution_count": null,
   "id": "1c3ef18f",
   "metadata": {},
   "outputs": [],
   "source": []
  }
 ],
 "metadata": {
  "kernelspec": {
   "display_name": "Python 3",
   "language": "python",
   "name": "python3"
  },
  "language_info": {
   "codemirror_mode": {
    "name": "ipython",
    "version": 3
   },
   "file_extension": ".py",
   "mimetype": "text/x-python",
   "name": "python",
   "nbconvert_exporter": "python",
   "pygments_lexer": "ipython3",
   "version": "3.11.3"
  }
 },
 "nbformat": 4,
 "nbformat_minor": 5
}
