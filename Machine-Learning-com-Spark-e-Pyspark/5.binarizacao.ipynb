{
 "cells": [
  {
   "cell_type": "markdown",
   "id": "3527e6c6-dd53-4476-a822-fa63f0c7a276",
   "metadata": {},
   "source": [
    "### Prof. Fernando Amaral - www.eia.ai\n",
    "### Contribuição: Adriano Santos\n",
    "#### <strong><font color=orange>Machine Learning com Spark</font></strong>\n",
    "## <strong>`Binarizer`</strong>\n",
    "\n",
    "A função do Binarizer é transformar valores numéricos em binários, onde valores menores que um determinado limite são convertidos para 0 e valores maiores ou iguais ao limite são convertidos para 1. O atributo transformado deve ser do tipo double.\n",
    "<hr>"
   ]
  },
  {
   "cell_type": "markdown",
   "id": "37dfe219",
   "metadata": {},
   "source": [
    "No código a seguir, está sendo utilizado o **`findspark`** e o **`pyspark`**, duas bibliotecas essenciais para trabalhar com o Apache Spark em ambiente Python. Através do **findspark.init()**, estamos inicializando o Spark no ambiente de desenvolvimento local. Em seguida, importamos a classe **`SparkSession`** do módulo **pyspark.sql** para criar uma sessão Spark, necessária para interagir com o Spark SQL. Através do método **`builder`**, estamos construindo uma instância de SparkSession com o nome de aplicação \"binarizacao\". Por fim, utilizamos o método **`getOrCreate`()** para garantir que uma sessão Spark seja criada ou obtida, permitindo assim a execução das operações desejadas utilizando o Spark. Este código é fundamental para iniciar um ambiente de desenvolvimento com Spark em Python e realizar operações de processamento de dados distribuído."
   ]
  },
  {
   "cell_type": "code",
   "execution_count": 1,
   "id": "25b07d57",
   "metadata": {},
   "outputs": [],
   "source": [
    "import findspark, pyspark\n",
    "from pyspark.sql import SparkSession\n",
    "\n",
    "findspark.init()\n",
    "spark = SparkSession.builder.appName(\"binarizacao\").getOrCreate()"
   ]
  },
  {
   "cell_type": "markdown",
   "id": "8d1b1982",
   "metadata": {},
   "source": [
    "No código a seguir, está sendo utilizado o **pyspark.ml.feature** para importar a função **`Binarizer`**. Essa função é usada para converter um valor numérico contínuo em uma variável binária com base em um limite especificado. Por exemplo, se o limite for definido como 0, qualquer valor maior que 0 será convertido para 1, e qualquer valor menor ou igual a 0 será convertido para 0. Essa função é comumente utilizada em pré-processamento de dados em problemas de classificação binária, onde é necessário transformar uma variável contínua em uma variável binária para facilitar o treinamento de modelos de machine learning."
   ]
  },
  {
   "cell_type": "code",
   "execution_count": 2,
   "id": "f86d359a",
   "metadata": {},
   "outputs": [],
   "source": [
    "from pyspark.ml.feature import Binarizer"
   ]
  },
  {
   "cell_type": "markdown",
   "id": "57bb3f18",
   "metadata": {},
   "source": [
    "No código a seguir, está sendo utilizado o PySpark para ler um arquivo CSV chamado \"iris.csv\" localizado um diretório acima do diretório atual. O arquivo possui um cabeçalho e o esquema dos dados está sendo inferido automaticamente. A função **`spark.read.csv`** é responsável por ler o arquivo CSV e armazenar os dados em um DataFrame chamado **iris**. Em seguida, é utilizada a função **iris.show(5)** para exibir as cinco primeiras linhas do DataFrame **iris**, permitindo uma rápida visualização dos dados. Esse código é útil para carregar e visualizar rapidamente conjuntos de dados no ambiente do PySpark, facilitando a análise exploratória de dados."
   ]
  },
  {
   "cell_type": "code",
   "execution_count": 3,
   "id": "75e52381",
   "metadata": {},
   "outputs": [
    {
     "name": "stdout",
     "output_type": "stream",
     "text": [
      "+-----------+----------+-----------+----------+-----------+\n",
      "|sepallength|sepalwidth|petallength|petalwidth|      class|\n",
      "+-----------+----------+-----------+----------+-----------+\n",
      "|        5.1|       3.5|        1.4|       0.2|Iris-setosa|\n",
      "|        4.9|       3.0|        1.4|       0.2|Iris-setosa|\n",
      "|        4.7|       3.2|        1.3|       0.2|Iris-setosa|\n",
      "|        4.6|       3.1|        1.5|       0.2|Iris-setosa|\n",
      "|        5.0|       3.6|        1.4|       0.2|Iris-setosa|\n",
      "+-----------+----------+-----------+----------+-----------+\n",
      "only showing top 5 rows\n",
      "\n"
     ]
    }
   ],
   "source": [
    "iris = spark.read.csv(\"../iris.csv\", header=True, inferSchema=True)\n",
    "iris.show(5)"
   ]
  },
  {
   "cell_type": "markdown",
   "id": "297418f5",
   "metadata": {},
   "source": [
    "No código a seguir, está sendo criado um objeto **binarizer** que utiliza a biblioteca **`Binarizer`**. Este objeto é configurado com um limite de `5`, especificado pelo parâmetro **`threshold`**, e é aplicado à coluna de entrada **sepallength**, identificada pelo parâmetro **`inputCol`**. O resultado da binarização é armazenado na coluna de saída **sepallength_bin**, especificada pelo parâmetro **`outputCol`**. Este código faz parte de um processo de pré-processamento de dados em um contexto de aprendizado de máquina, onde valores numéricos de comprimento de sépala estão sendo transformados em valores binários com base em um limite específico."
   ]
  },
  {
   "cell_type": "code",
   "execution_count": 4,
   "id": "b07e94a2",
   "metadata": {},
   "outputs": [],
   "source": [
    "binarizer = Binarizer(threshold=5, inputCol=\"sepallength\", outputCol=\"sepallength_bin\")"
   ]
  },
  {
   "cell_type": "markdown",
   "id": "3c32bc12",
   "metadata": {},
   "source": [
    "No código a seguir, está sendo realizado o processo de binarização dos dados do conjunto de dados Iris, utilizando a biblioteca **`binarizer`**. A função **`transform`** é aplicada ao conjunto de dados **iris**, convertendo as características em valores binários. Em seguida, a função **`show`** é chamada no objeto resultante **irisbin**, para exibir os dados binarizados. É importante notar que as bibliotecas e funções utilizadas não são nativas do Python padrão, indicando que é necessário importar uma biblioteca específica para realizar essas operações."
   ]
  },
  {
   "cell_type": "code",
   "execution_count": 6,
   "id": "9747ed0b",
   "metadata": {},
   "outputs": [
    {
     "name": "stdout",
     "output_type": "stream",
     "text": [
      "+-----------+----------+-----------+----------+-----------+---------------+\n",
      "|sepallength|sepalwidth|petallength|petalwidth|      class|sepallength_bin|\n",
      "+-----------+----------+-----------+----------+-----------+---------------+\n",
      "|        5.1|       3.5|        1.4|       0.2|Iris-setosa|            1.0|\n",
      "|        4.9|       3.0|        1.4|       0.2|Iris-setosa|            0.0|\n",
      "|        4.7|       3.2|        1.3|       0.2|Iris-setosa|            0.0|\n",
      "|        4.6|       3.1|        1.5|       0.2|Iris-setosa|            0.0|\n",
      "|        5.0|       3.6|        1.4|       0.2|Iris-setosa|            0.0|\n",
      "|        5.4|       3.9|        1.7|       0.4|Iris-setosa|            1.0|\n",
      "|        4.6|       3.4|        1.4|       0.3|Iris-setosa|            0.0|\n",
      "|        5.0|       3.4|        1.5|       0.2|Iris-setosa|            0.0|\n",
      "|        4.4|       2.9|        1.4|       0.2|Iris-setosa|            0.0|\n",
      "|        4.9|       3.1|        1.5|       0.1|Iris-setosa|            0.0|\n",
      "|        5.4|       3.7|        1.5|       0.2|Iris-setosa|            1.0|\n",
      "|        4.8|       3.4|        1.6|       0.2|Iris-setosa|            0.0|\n",
      "|        4.8|       3.0|        1.4|       0.1|Iris-setosa|            0.0|\n",
      "|        4.3|       3.0|        1.1|       0.1|Iris-setosa|            0.0|\n",
      "|        5.8|       4.0|        1.2|       0.2|Iris-setosa|            1.0|\n",
      "|        5.7|       4.4|        1.5|       0.4|Iris-setosa|            1.0|\n",
      "|        5.4|       3.9|        1.3|       0.4|Iris-setosa|            1.0|\n",
      "|        5.1|       3.5|        1.4|       0.3|Iris-setosa|            1.0|\n",
      "|        5.7|       3.8|        1.7|       0.3|Iris-setosa|            1.0|\n",
      "|        5.1|       3.8|        1.5|       0.3|Iris-setosa|            1.0|\n",
      "+-----------+----------+-----------+----------+-----------+---------------+\n",
      "only showing top 20 rows\n",
      "\n"
     ]
    }
   ],
   "source": [
    "irisbin = binarizer.transform(iris)\n",
    "irisbin.show()"
   ]
  },
  {
   "cell_type": "code",
   "execution_count": null,
   "id": "8d407407",
   "metadata": {},
   "outputs": [],
   "source": []
  }
 ],
 "metadata": {
  "kernelspec": {
   "display_name": "Python 3",
   "language": "python",
   "name": "python3"
  },
  "language_info": {
   "codemirror_mode": {
    "name": "ipython",
    "version": 3
   },
   "file_extension": ".py",
   "mimetype": "text/x-python",
   "name": "python",
   "nbconvert_exporter": "python",
   "pygments_lexer": "ipython3",
   "version": "3.11.3"
  }
 },
 "nbformat": 4,
 "nbformat_minor": 5
}
