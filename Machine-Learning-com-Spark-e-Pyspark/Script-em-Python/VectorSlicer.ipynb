{
 "cells": [
  {
   "cell_type": "markdown",
   "id": "a83e09b2-8463-4bee-9db8-48be2055879e",
   "metadata": {},
   "source": [
    "### Prof. Fernando Amaral - www.eia.ai\n",
    "### Contribuição: Adriano Santos\n",
    "#### <strong><font color=orange>Machine Learning com Spark</font></strong>\n",
    "## <strong>`VectorSlicer`</strong>\n",
    "`VectorSlicer` é uma transformação no Apache Spark MLlib usada para ***selecionar subconjuntos específicos de recursos de vetores multidimensionais***. Funciona como uma ferramenta de \"`slicing`\" ou fatiamento, permitindo que os usuários extraiam subvetores de um vetor original com base em índices especificados. Isso é particularmente útil em cenários onde se deseja focar apenas em certos aspectos dos dados, por exemplo, ao analisar características específicas de um conjunto de dados de alta dimensão ou ao preparar dados para modelagem, onde apenas algumas variáveis são relevantes para o problema em questão.\n",
    "</br>\n",
    "<hr>"
   ]
  },
  {
   "cell_type": "markdown",
   "id": "1bf71bec",
   "metadata": {},
   "source": [
    "No código a seguir, está sendo utilizado o **findspark** (biblioteca) para inicializar o ambiente do Spark no Python. A seguir, a **SparkSession** (classe) da biblioteca **pyspark.sql** é importada e uma sessão Spark é criada com o nome de aplicação \"vectorslicer\". Além disso, são importadas as classes **VectorSlicer** e **RFormula** da biblioteca **pyspark.ml.feature**, que são usadas para manipulação e transformação de dados em um contexto de aprendizado de máquina. O método **init()** (função) da biblioteca **findspark** é chamado para configurar o caminho do Spark, permitindo o uso das funcionalidades do PySpark no código Python. Por fim, a sessão Spark é criada utilizando o método **builder.appName(\"vectorslicer\").getOrCreate()** (função) da **SparkSession**, que configura e inicializa a sessão com o nome especificado, preparando o ambiente para operações subsequentes de análise e processamento de dados."
   ]
  },
  {
   "cell_type": "code",
   "execution_count": 3,
   "id": "7d22c0d7",
   "metadata": {},
   "outputs": [],
   "source": [
    "import findspark\n",
    "from pyspark.sql import SparkSession\n",
    "from pyspark.ml.feature import VectorSlicer, RFormula\n",
    "\n",
    "findspark.init()\n",
    "spark = SparkSession.builder.appName(\"vectorslicer\").getOrCreate()"
   ]
  },
  {
   "cell_type": "markdown",
   "id": "3289356d",
   "metadata": {},
   "source": [
    "No código a seguir, está sendo utilizado o *framework* **Spark** para ler um arquivo CSV contendo informações sobre carros. A função **spark.read.csv** é uma *função* do **Spark** que lê arquivos CSV, com três *parâmetros* específicos: **header=True**, que indica que a primeira linha do arquivo CSV contém os nomes das colunas; **inferSchema=True**, que instrui o Spark a inferir automaticamente o tipo de dados de cada coluna; e **sep=\";\"**, que especifica o ponto e vírgula como delimitador de campos no arquivo CSV. Após a leitura do arquivo, o objeto resultante, denominado **carros**, é uma *DataFrame* do **Spark** que contém os dados do arquivo CSV. Em seguida, a *função* **carros.show(5)** é chamada para exibir as primeiras cinco linhas do *DataFrame*, permitindo uma visualização rápida dos dados importados."
   ]
  },
  {
   "cell_type": "code",
   "execution_count": 5,
   "id": "f05f3ecc",
   "metadata": {},
   "outputs": [
    {
     "name": "stdout",
     "output_type": "stream",
     "text": [
      "+-------+---------+-----------+---------------+----+-----+---------+-----------+-------+-----------+---+\n",
      "|Consumo|Cilindros|Cilindradas|RelEixoTraseiro|Peso|Tempo|TipoMotor|Transmissao|Marchas|Carburadors| HP|\n",
      "+-------+---------+-----------+---------------+----+-----+---------+-----------+-------+-----------+---+\n",
      "|     21|        6|        160|             39| 262| 1646|        0|          1|      4|          4|110|\n",
      "|     21|        6|        160|             39|2875| 1702|        0|          1|      4|          4|110|\n",
      "|    228|        4|        108|            385| 232| 1861|        1|          1|      4|          1| 93|\n",
      "|    214|        6|        258|            308|3215| 1944|        1|          0|      3|          1|110|\n",
      "|    187|        8|        360|            315| 344| 1702|        0|          0|      3|          2|175|\n",
      "+-------+---------+-----------+---------------+----+-----+---------+-----------+-------+-----------+---+\n",
      "only showing top 5 rows\n",
      "\n"
     ]
    }
   ],
   "source": [
    "carros = spark.read.csv(\"../Carros.csv\", header=True, inferSchema=True, sep=\";\")\n",
    "carros.show(5)"
   ]
  },
  {
   "cell_type": "markdown",
   "id": "9a7fe828",
   "metadata": {},
   "source": [
    "Com base na tabela fornecida acima, podemos extrair os seguintes insights:\n",
    "\n",
    "1. **Relação entre Consumo e Peso**: Observa-se uma tendência de que veículos mais pesados tendem a ter um consumo de combustível mais elevado. Isso sugere uma relação inversa entre o peso do veículo e sua eficiência energética, o que pode ser uma consideração importante para os fabricantes visando melhorar a economia de combustível.\n",
    "\n",
    "2. **Variação na Potência (HP) e no Número de Cilindros**: Ao comparar a potência dos motores em cavalo-vapor (HP) com o número de cilindros, podemos identificar padrões de desempenho. Por exemplo, é possível que motores com um número maior de cilindros geralmente apresentem uma potência maior, embora outros fatores, como tecnologia de motor e eficiência de combustível, também possam influenciar.\n",
    "\n",
    "3. **Impacto da Transmissão no Desempenho**: A diferença entre os tipos de transmissão (manual vs. automática) pode afetar o desempenho do veículo, como indicado pelo número de marchas e outras variáveis. Essa informação pode ser crucial para consumidores interessados em características específicas de condução, como aceleração suave ou controle manual.\n",
    "<hr>"
   ]
  },
  {
   "cell_type": "markdown",
   "id": "f805a118",
   "metadata": {},
   "source": [
    "No código a seguir, está sendo usada a **biblioteca** Spark para manipulação e transformação de dados. Inicialmente, cria-se uma instância da **classe** `RFormula` com a **fórmula** `\"HP ~ .\"` que define \"HP\" como a variável dependente a ser prevista e \".\" indica que todas as outras colunas são variáveis independentes. A instância da **classe** `RFormula` também define os nomes das colunas de **parâmetros** `featuresCol` como \"independente\" e `labelCol` como \"dependente\". Em seguida, o método `fit` é utilizado para ajustar a **fórmula** ao DataFrame `carros`, e o método `transform` aplica essa transformação ao DataFrame `carros`, resultando em um novo DataFrame `carrosrf`. Por fim, o código seleciona as colunas \"independente\" e \"dependente\" do DataFrame `carrosrf` e as exibe com o método `show`, que mostra as linhas do DataFrame sem truncar os valores das colunas."
   ]
  },
  {
   "cell_type": "code",
   "execution_count": 6,
   "id": "dee35f29",
   "metadata": {},
   "outputs": [
    {
     "name": "stdout",
     "output_type": "stream",
     "text": [
      "+-----------------------------------------------------+----------+\n",
      "|independente                                         |dependente|\n",
      "+-----------------------------------------------------+----------+\n",
      "|[21.0,6.0,160.0,39.0,262.0,1646.0,0.0,1.0,4.0,4.0]   |110.0     |\n",
      "|[21.0,6.0,160.0,39.0,2875.0,1702.0,0.0,1.0,4.0,4.0]  |110.0     |\n",
      "|[228.0,4.0,108.0,385.0,232.0,1861.0,1.0,1.0,4.0,1.0] |93.0      |\n",
      "|[214.0,6.0,258.0,308.0,3215.0,1944.0,1.0,0.0,3.0,1.0]|110.0     |\n",
      "|[187.0,8.0,360.0,315.0,344.0,1702.0,0.0,0.0,3.0,2.0] |175.0     |\n",
      "|[181.0,6.0,225.0,276.0,346.0,2022.0,1.0,0.0,3.0,1.0] |105.0     |\n",
      "|[143.0,8.0,360.0,321.0,357.0,1584.0,0.0,0.0,3.0,4.0] |245.0     |\n",
      "|[244.0,4.0,1467.0,369.0,319.0,20.0,1.0,0.0,4.0,2.0]  |62.0      |\n",
      "|[228.0,4.0,1408.0,392.0,315.0,229.0,1.0,0.0,4.0,2.0] |95.0      |\n",
      "|[192.0,6.0,1676.0,392.0,344.0,183.0,1.0,0.0,4.0,4.0] |123.0     |\n",
      "|[178.0,6.0,1676.0,392.0,344.0,189.0,1.0,0.0,4.0,4.0] |123.0     |\n",
      "|[164.0,8.0,2758.0,307.0,407.0,174.0,0.0,0.0,3.0,3.0] |180.0     |\n",
      "|[173.0,8.0,2758.0,307.0,373.0,176.0,0.0,0.0,3.0,3.0] |180.0     |\n",
      "|[152.0,8.0,2758.0,307.0,378.0,18.0,0.0,0.0,3.0,3.0]  |180.0     |\n",
      "|[104.0,8.0,472.0,293.0,525.0,1798.0,0.0,0.0,3.0,4.0] |205.0     |\n",
      "|[104.0,8.0,460.0,3.0,5424.0,1782.0,0.0,0.0,3.0,4.0]  |215.0     |\n",
      "|[147.0,8.0,440.0,323.0,5345.0,1742.0,0.0,0.0,3.0,4.0]|230.0     |\n",
      "|[324.0,4.0,787.0,408.0,22.0,1947.0,1.0,1.0,4.0,1.0]  |66.0      |\n",
      "|[304.0,4.0,757.0,493.0,1615.0,1852.0,1.0,1.0,4.0,2.0]|52.0      |\n",
      "|[339.0,4.0,711.0,422.0,1835.0,199.0,1.0,1.0,4.0,1.0] |65.0      |\n",
      "+-----------------------------------------------------+----------+\n",
      "only showing top 20 rows\n",
      "\n"
     ]
    }
   ],
   "source": [
    "Rformula = RFormula(formula=\"HP ~ .\", featuresCol=\"independente\", labelCol=\"dependente\")\n",
    "carrosrf = Rformula.fit(carros).transform(carros)\n",
    "\n",
    "carrosrf.select(\"independente\", \"dependente\").show(truncate=False)"
   ]
  },
  {
   "cell_type": "markdown",
   "id": "b74caa01",
   "metadata": {},
   "source": [
    "Para analisar os dados fornecidos na tabela acima, podemos extrair alguns insights importantes:\n",
    "\n",
    "1. **Correlação entre variáveis independentes e dependentes:**\n",
    "   - Ao observar as variáveis independentes (independente) e a variável dependente (dependente), podemos realizar análises estatísticas para identificar a correlação entre elas. Isso nos ajudará a entender quais características dos carros estão mais fortemente associadas ao seu desempenho (representado pela variável dependente, que parece ser a potência do motor - \"HP\"). Por exemplo, podemos utilizar técnicas como a matriz de correlação para identificar quais variáveis têm maior impacto na potência do motor.\n",
    "\n",
    "2. **Padrões nos dados:**\n",
    "   - Podemos observar padrões nos dados, como valores extremos ou distribuições particulares. Isso pode nos fornecer insights sobre os tipos de carros presentes na amostra e como eles estão distribuídos em relação à potência do motor. Por exemplo, podemos identificar se existem tipos específicos de carros (por exemplo, carros esportivos, carros familiares, etc.) que tendem a ter uma potência maior ou menor.\n",
    "\n",
    "3. **Análise da distribuição da variável dependente:**\n",
    "   - É importante analisar a distribuição da variável dependente (potência do motor - \"HP\") para entender sua variabilidade e identificar possíveis padrões. Isso nos ajudará a determinar se a variável dependente segue uma distribuição normal ou se existem valores atípicos que podem afetar a análise. Podemos utilizar técnicas de visualização de dados, como histogramas ou gráficos de densidade, para explorar a distribuição da variável dependente e identificar possíveis insights.\n",
    "\n",
    "<hr>"
   ]
  },
  {
   "cell_type": "markdown",
   "id": "0634dc04",
   "metadata": {},
   "source": [
    "No código a seguir, está sendo utilizada a **Biblioteca** `VectorAssembler` do Spark MLlib para fatiar e selecionar determinadas características de um conjunto de dados. A **Classe** VectorSlicer é instanciada com parâmetros específicos, como a coluna de entrada (\"independente\"), a coluna de saída (\"caracteristicas\") e os índices das características a serem selecionadas ([1, 2, 6]). Em seguida, a **função** `transform()` é chamada sobre o objeto fatia, aplicando a transformação aos dados do **DataFrame** `carrosrf`. Por fim, o DataFrame resultante, carrosfat, é selecionado utilizando o **método** `select()`, exibindo as colunas \"independente\" e \"caracteristicas\" para os primeiros 5 registros, com o parâmetro truncate=False para mostrar todas as informações das colunas. Essa operação é útil para pré-processamento de dados antes de aplicar algoritmos de aprendizado de máquina, permitindo selecionar apenas as características relevantes para o modelo."
   ]
  },
  {
   "cell_type": "code",
   "execution_count": 7,
   "id": "51ef7d62",
   "metadata": {},
   "outputs": [
    {
     "name": "stdout",
     "output_type": "stream",
     "text": [
      "+-----------------------------------------------------+---------------+\n",
      "|independente                                         |caracteristicas|\n",
      "+-----------------------------------------------------+---------------+\n",
      "|[21.0,6.0,160.0,39.0,262.0,1646.0,0.0,1.0,4.0,4.0]   |[6.0,160.0,0.0]|\n",
      "|[21.0,6.0,160.0,39.0,2875.0,1702.0,0.0,1.0,4.0,4.0]  |[6.0,160.0,0.0]|\n",
      "|[228.0,4.0,108.0,385.0,232.0,1861.0,1.0,1.0,4.0,1.0] |[4.0,108.0,1.0]|\n",
      "|[214.0,6.0,258.0,308.0,3215.0,1944.0,1.0,0.0,3.0,1.0]|[6.0,258.0,1.0]|\n",
      "|[187.0,8.0,360.0,315.0,344.0,1702.0,0.0,0.0,3.0,2.0] |[8.0,360.0,0.0]|\n",
      "+-----------------------------------------------------+---------------+\n",
      "only showing top 5 rows\n",
      "\n"
     ]
    }
   ],
   "source": [
    "fatia = VectorSlicer(inputCol=\"independente\", outputCol=\"caracteristicas\", indices=[1,2,6])\n",
    "carrosfat = fatia.transform(carrosrf)\n",
    "\n",
    "carrosfat.select(\"independente\",\"caracteristicas\").show(5, truncate=False)"
   ]
  },
  {
   "cell_type": "markdown",
   "id": "cc133a7f",
   "metadata": {},
   "source": [
    "A partir da tabela fornecida acima, aqui estão três insights:\n",
    "\n",
    "1. **Distribuição do Número de Cilindros e Peso**: Ao observar a coluna \"independente\", percebe-se que há uma variação significativa no número de cilindros e no peso dos carros. Essas duas características parecem ser variáveis importantes na análise do desempenho e eficiência dos veículos.\n",
    "\n",
    "2. **Presença de Características Binárias**: A coluna \"caracteristicas\" indica a presença de características binárias, como \"0.0\" e \"1.0\". Isso sugere a possível presença de variáveis categóricas binárias, como tração dianteira/traseira ou tipo de transmissão, que podem ser importantes na predição ou classificação dos carros.\n",
    "\n",
    "3. **Padrões de Características Emergentes**: Ao comparar os valores das características selecionadas com as características originais, é possível observar padrões emergentes. Por exemplo, carros com um certo número de cilindros e peso podem ter características específicas em comum, indicando possíveis relações entre esses atributos e o desempenho do veículo. Este insight sugere a importância de explorar e entender esses padrões para insights mais profundos sobre os dados."
   ]
  },
  {
   "cell_type": "code",
   "execution_count": null,
   "id": "4241408c",
   "metadata": {},
   "outputs": [],
   "source": []
  }
 ],
 "metadata": {
  "kernelspec": {
   "display_name": "Python 3",
   "language": "python",
   "name": "python3"
  },
  "language_info": {
   "codemirror_mode": {
    "name": "ipython",
    "version": 3
   },
   "file_extension": ".py",
   "mimetype": "text/x-python",
   "name": "python",
   "nbconvert_exporter": "python",
   "pygments_lexer": "ipython3",
   "version": "3.11.3"
  }
 },
 "nbformat": 4,
 "nbformat_minor": 5
}
