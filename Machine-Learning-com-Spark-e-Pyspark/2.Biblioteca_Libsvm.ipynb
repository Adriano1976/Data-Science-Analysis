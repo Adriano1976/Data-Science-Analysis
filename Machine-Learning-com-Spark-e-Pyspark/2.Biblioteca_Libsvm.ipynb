{
 "cells": [
  {
   "cell_type": "markdown",
   "id": "4f3f9d3b-7a24-487b-9e92-c2ea81315c27",
   "metadata": {},
   "source": [
    "### Prof. Fernando Amaral - www.eia.ai\n",
    "### Contribuição: Adriano Santos\n",
    "#### <strong><font color=orange>Machine Learning com Spark</font></strong>\n",
    "## <strong>Libsvm</strong>\n",
    "Essa biblioteca é uma implementação de Machine Learning em código aberto desenvolvida pela National Taiwan University. Ela trabalha com dados tradicionais de Machine Learning, que podem ser representados por matrizes esparsas. A função específica da biblioteca não está clara na informação fornecida. Vejamos na prática como ela funciona nos códigos a seguir.\n",
    "<hr>"
   ]
  },
  {
   "cell_type": "markdown",
   "id": "8590efc8",
   "metadata": {},
   "source": [
    "No código a seguir, está sendo utilizado o **findspark** para localizar e inicializar o Spark no ambiente Python e a **pyspark** para importar o pacote do Spark. Em seguida, é feita a importação da classe **SparkSession** do módulo **pyspark.sql** para criar uma sessão Spark. A função **findspark.init()** é chamada para inicializar o Spark no ambiente atual. Posteriormente, é criada uma sessão Spark utilizando o método **builder** da classe **SparkSession**, onde é especificado o nome da aplicação como \"libsvm\" por meio do método **appName()** e a sessão é obtida através do método **getOrCreate()**. Esse código é comum em aplicações que utilizam o Spark, onde é necessário inicializar o ambiente Spark e criar uma sessão para interagir com os dados de forma distribuída e paralela."
   ]
  },
  {
   "cell_type": "code",
   "execution_count": 1,
   "id": "394c0118",
   "metadata": {},
   "outputs": [],
   "source": [
    "import findspark, pyspark\n",
    "from pyspark.sql import SparkSession\n",
    "\n",
    "findspark.init()\n",
    "spark = SparkSession.builder.appName(\"libsvm\").getOrCreate()"
   ]
  },
  {
   "cell_type": "markdown",
   "id": "7ead5f77",
   "metadata": {},
   "source": [
    "No código a seguir, está sendo feita a leitura de dados utilizando o Spark. A função **spark.read.format(\"libsvm\")** é usada para carregar dados no formato libsvm, com opção para especificar o número de características com **option(\"numFeatures\",\"4\")**. Os dados são carregados a partir do arquivo \"../iris_libsvm.txt\" e exibidos na tela com **dados.show(10, truncate=False)**, onde o parâmetro \"10\" determina o número de linhas a serem exibidas e **truncate=False** garante que as colunas não serão truncadas. Este código é útil para carregar dados em formato libsvm para análise e processamento posterior usando o Spark, uma estrutura de computação distribuída que é eficiente para lidar com grandes volumes de dados."
   ]
  },
  {
   "cell_type": "code",
   "execution_count": 3,
   "id": "cfa246bc",
   "metadata": {},
   "outputs": [
    {
     "name": "stdout",
     "output_type": "stream",
     "text": [
      "+-----+-------------------------------+\n",
      "|label|features                       |\n",
      "+-----+-------------------------------+\n",
      "|0.0  |(4,[0,2,3],[5.1,1.4,0.2])      |\n",
      "|0.0  |(4,[0,1,2,3],[4.9,3.0,1.4,0.2])|\n",
      "|0.0  |(4,[0,1,2,3],[4.7,3.2,1.3,0.2])|\n",
      "|0.0  |(4,[1,2,3],[3.1,1.5,0.2])      |\n",
      "|0.0  |(4,[0,1,2,3],[5.0,3.6,1.4,0.2])|\n",
      "|0.0  |(4,[0,1,2,3],[5.4,3.9,1.7,0.4])|\n",
      "|0.0  |(4,[0,1,2,3],[4.6,3.4,1.4,0.3])|\n",
      "|0.0  |(4,[0,1,2,3],[5.0,3.4,1.5,0.2])|\n",
      "|0.0  |(4,[0,1,2,3],[4.4,2.9,1.4,0.2])|\n",
      "|0.0  |(4,[3],[0.1])                  |\n",
      "+-----+-------------------------------+\n",
      "only showing top 10 rows\n",
      "\n"
     ]
    }
   ],
   "source": [
    "dados = spark.read.format(\"libsvm\").option(\"numFeatures\",\"4\").load(\"../iris_libsvm.txt\")\n",
    "dados.show(10, truncate=False)"
   ]
  },
  {
   "cell_type": "code",
   "execution_count": null,
   "id": "fd165c99",
   "metadata": {},
   "outputs": [],
   "source": []
  }
 ],
 "metadata": {
  "kernelspec": {
   "display_name": "Python 3",
   "language": "python",
   "name": "python3"
  },
  "language_info": {
   "codemirror_mode": {
    "name": "ipython",
    "version": 3
   },
   "file_extension": ".py",
   "mimetype": "text/x-python",
   "name": "python",
   "nbconvert_exporter": "python",
   "pygments_lexer": "ipython3",
   "version": "3.11.3"
  }
 },
 "nbformat": 4,
 "nbformat_minor": 5
}
