{
 "cells": [
  {
   "cell_type": "markdown",
   "id": "08f77477-1f79-4813-9bc6-3b6a6ea272d6",
   "metadata": {},
   "source": [
    "### Prof. Fernando Amaral - www.eia.ai\n",
    "### Contribuição: Adriano Santos\n",
    "#### <strong><font color=orange>Machine Learning com Spark</font></strong>\n",
    "## <strong>`PCA`</strong>\n",
    "Os objetivos da geração e extração de características através do `PCA` <strong>(Principal Component Analysis)</strong> são reduzir a dimensionalidade dos dados, criar atributos sintéticos que mantenham as características importantes dos dados originais e representar os atributos originais através de projeção. No entanto, o `PCA` não permite avaliar a importância dos atributos e não representa mais o negócio analisado.\n",
    "\n",
    "As limitações do `PCA` em relação à avaliação da importância dos atributos são:\n",
    "\n",
    "- O `PCA` cria atributos sintéticos que não possuem uma compreensão funcional direta, o que dificulta a interpretação dos resultados.\n",
    "\n",
    "- O `PCA` representa os atributos originais por meio de projeção, o que pode levar a perda de informações em relação à importância dos atributos.\n",
    "\n",
    "- O `PCA` não permite avaliar a importância dos atributos em relação ao negócio analisado, ou seja, não é capaz de identificar quais atributos são mais relevantes para o problema em questão.\n",
    "\n",
    "Portanto, o `PCA` <strong>(Principal Component Analysis)</strong> cria atributos sintéticos através da redução da dimensionalidade dos dados. Ele busca manter as características importantes dos dados originais ao criar novos atributos que são uma combinação linear dos atributos originais. A utilidade do `PCA` está em simplificar a representação dos dados, tornando-os mais fáceis de visualizar e analisar. No entanto, o `PCA` não permite avaliar a importância dos atributos e os novos atributos sintéticos não representam mais o negócio analisado.\n",
    "<hr>"
   ]
  },
  {
   "cell_type": "markdown",
   "id": "bae45ad9",
   "metadata": {},
   "source": [
    "No código a seguir, está sendo importada a biblioteca **`findspark`** para localizar e inicializar o Spark, junto com a **`pyspark`**. Em seguida, são importadas classes específicas necessárias do **pyspark.sql**, como **`SparkSession`**. Também é importada a classe **`PCA`** de **pyspark.ml.feature** para análise de componentes principais. O método **findspark.init()** é usado para inicializar o Spark. Uma sessão Spark é então criada usando **SparkSession.builder.appName(\"PCA\").getOrCreate()**, permitindo a execução de operações Spark. Essas etapas preparam o ambiente e as ferramentas necessárias para realizar análises de dados, incluindo a aplicação de técnicas como PCA para redução de dimensionalidade em conjuntos de dados usando o Apache Spark."
   ]
  },
  {
   "cell_type": "code",
   "execution_count": 1,
   "id": "113e218d",
   "metadata": {},
   "outputs": [],
   "source": [
    "import findspark, pyspark\n",
    "from pyspark.sql import SparkSession\n",
    "from pyspark.ml.feature import PCA\n",
    "\n",
    "findspark.init()\n",
    "spark = SparkSession.builder.appName(\"PCA\").getOrCreate()"
   ]
  },
  {
   "cell_type": "markdown",
   "id": "2947f282",
   "metadata": {},
   "source": [
    "No código a seguir, está sendo utilizado o **`pyspark`** para ler um arquivo CSV contendo dados sobre carros. Primeiro, a biblioteca é importada e em seguida é feita a leitura do arquivo usando a função **spark.read.csv**. O arquivo está localizado no diretório \"`../Carros.csv`\". Os parâmetros **header=True** e **inferSchema=True** indicam que a primeira linha do arquivo contém o cabeçalho e que o esquema dos dados deve ser inferido automaticamente, respectivamente. O parâmetro **sep=\";\"** especifica que o separador de campos no arquivo é o ponto e vírgula. Após a leitura, os cinco primeiros registros são exibidos na saída utilizando a função **carros.show(5)**. Este código é útil para carregar e visualizar rapidamente os dados de um arquivo CSV utilizando o ambiente do **pyspark**."
   ]
  },
  {
   "cell_type": "code",
   "execution_count": 2,
   "id": "4a5fb642",
   "metadata": {},
   "outputs": [
    {
     "name": "stdout",
     "output_type": "stream",
     "text": [
      "+-------+---------+-----------+---------------+----+-----+---------+-----------+-------+-----------+---+\n",
      "|Consumo|Cilindros|Cilindradas|RelEixoTraseiro|Peso|Tempo|TipoMotor|Transmissao|Marchas|Carburadors| HP|\n",
      "+-------+---------+-----------+---------------+----+-----+---------+-----------+-------+-----------+---+\n",
      "|     21|        6|        160|             39| 262| 1646|        0|          1|      4|          4|110|\n",
      "|     21|        6|        160|             39|2875| 1702|        0|          1|      4|          4|110|\n",
      "|    228|        4|        108|            385| 232| 1861|        1|          1|      4|          1| 93|\n",
      "|    214|        6|        258|            308|3215| 1944|        1|          0|      3|          1|110|\n",
      "|    187|        8|        360|            315| 344| 1702|        0|          0|      3|          2|175|\n",
      "+-------+---------+-----------+---------------+----+-----+---------+-----------+-------+-----------+---+\n",
      "only showing top 5 rows\n",
      "\n"
     ]
    }
   ],
   "source": [
    "carros = spark.read.csv(\"../Carros.csv\", header=True, inferSchema=True, sep=\";\")\n",
    "carros.show(5)"
   ]
  },
  {
   "cell_type": "markdown",
   "id": "f3f8e9a5",
   "metadata": {},
   "source": [
    "No código a seguir, está sendo utilizado o **`pyspark`**, uma biblioteca para processamento distribuído em Python. A função **`VectorAssembler`** é importada da biblioteca **pyspark.ml.feature**, e é utilizada para combinar várias colunas de características em uma única coluna de vetor. No exemplo, estamos criando um objeto **`vectas`** do tipo VectorAssembler, especificando as colunas de entrada com os nomes \"Consumo\", \"Cilindros\", \"Cilindradas\", \"RelEixoTraseiro\", \"Peso\", \"Tempo\", \"TipoMotor\", \"Transmissao\", \"Marchas\" e \"Carburadors\". Essas colunas são combinadas em uma única coluna chamada \"caracteristicas\", definida como a coluna de saída (**`outputCol`**). Em seguida, a transformação é aplicada aos dados dos carros (**carros**) utilizando o método **`transform`**, que cria uma nova coluna com as características combinadas, conforme especificado. Finalmente, é selecionada a coluna resultante \"caracteristicas\" utilizando o método **`select`** e exibida utilizando o método **`show`**, com a opção **truncate=False** para mostrar o conteúdo completo da coluna. Essa transformação é útil em tarefas de aprendizado de máquina, onde as características precisam ser combinadas em um único vetor para análise e modelagem."
   ]
  },
  {
   "cell_type": "code",
   "execution_count": 3,
   "id": "c447e2a5",
   "metadata": {},
   "outputs": [
    {
     "name": "stdout",
     "output_type": "stream",
     "text": [
      "+-----------------------------------------------------+\n",
      "|caracteristicas                                      |\n",
      "+-----------------------------------------------------+\n",
      "|[21.0,6.0,160.0,39.0,262.0,1646.0,0.0,1.0,4.0,4.0]   |\n",
      "|[21.0,6.0,160.0,39.0,2875.0,1702.0,0.0,1.0,4.0,4.0]  |\n",
      "|[228.0,4.0,108.0,385.0,232.0,1861.0,1.0,1.0,4.0,1.0] |\n",
      "|[214.0,6.0,258.0,308.0,3215.0,1944.0,1.0,0.0,3.0,1.0]|\n",
      "|[187.0,8.0,360.0,315.0,344.0,1702.0,0.0,0.0,3.0,2.0] |\n",
      "|[181.0,6.0,225.0,276.0,346.0,2022.0,1.0,0.0,3.0,1.0] |\n",
      "|[143.0,8.0,360.0,321.0,357.0,1584.0,0.0,0.0,3.0,4.0] |\n",
      "|[244.0,4.0,1467.0,369.0,319.0,20.0,1.0,0.0,4.0,2.0]  |\n",
      "|[228.0,4.0,1408.0,392.0,315.0,229.0,1.0,0.0,4.0,2.0] |\n",
      "|[192.0,6.0,1676.0,392.0,344.0,183.0,1.0,0.0,4.0,4.0] |\n",
      "|[178.0,6.0,1676.0,392.0,344.0,189.0,1.0,0.0,4.0,4.0] |\n",
      "|[164.0,8.0,2758.0,307.0,407.0,174.0,0.0,0.0,3.0,3.0] |\n",
      "|[173.0,8.0,2758.0,307.0,373.0,176.0,0.0,0.0,3.0,3.0] |\n",
      "|[152.0,8.0,2758.0,307.0,378.0,18.0,0.0,0.0,3.0,3.0]  |\n",
      "|[104.0,8.0,472.0,293.0,525.0,1798.0,0.0,0.0,3.0,4.0] |\n",
      "|[104.0,8.0,460.0,3.0,5424.0,1782.0,0.0,0.0,3.0,4.0]  |\n",
      "|[147.0,8.0,440.0,323.0,5345.0,1742.0,0.0,0.0,3.0,4.0]|\n",
      "|[324.0,4.0,787.0,408.0,22.0,1947.0,1.0,1.0,4.0,1.0]  |\n",
      "|[304.0,4.0,757.0,493.0,1615.0,1852.0,1.0,1.0,4.0,2.0]|\n",
      "|[339.0,4.0,711.0,422.0,1835.0,199.0,1.0,1.0,4.0,1.0] |\n",
      "+-----------------------------------------------------+\n",
      "only showing top 20 rows\n",
      "\n"
     ]
    }
   ],
   "source": [
    "from pyspark.ml.feature import VectorAssembler\n",
    "\n",
    "vectas = VectorAssembler(\n",
    "    inputCols=[\"Consumo\",\"Cilindros\",\"Cilindradas\",\"RelEixoTraseiro\",\"Peso\",\"Tempo\",\"TipoMotor\",\"Transmissao\",\"Marchas\",\"Carburadors\"],outputCol=\"caracteristicas\"\n",
    ")\n",
    "carros = vectas.transform(carros)\n",
    "carros.select(\"caracteristicas\").show(truncate=False)"
   ]
  },
  {
   "cell_type": "markdown",
   "id": "64d27632",
   "metadata": {},
   "source": [
    "No código a seguir, está sendo realizado um processo de análise de componentes principais (PCA) utilizando a biblioteca **`PCA`** do pacote **`pca`**. O parâmetro **k** define o número de componentes principais desejados, neste caso, definido como 3. A função **`fit`** é utilizada para ajustar o modelo aos dados, onde o conjunto de dados de entrada é especificado pela variável **carros**. O parâmetro **`inputCol`** indica a coluna do conjunto de dados que contém as características a serem analisadas, enquanto **`outputCol`** especifica o nome da coluna que conterá as características após a redução de dimensionalidade realizada pelo PCA, neste caso, denominada **caracteristicaspca**. Após a execução desse código, o modelo estará pronto para ser utilizado para reduzir a dimensionalidade dos dados de entrada de acordo com os componentes principais identificados."
   ]
  },
  {
   "cell_type": "code",
   "execution_count": 4,
   "id": "a3796758",
   "metadata": {},
   "outputs": [],
   "source": [
    "pca = PCA(k=3, inputCol=\"caracteristicas\", outputCol=\"caracteristicaspca\")\n",
    "modelo = pca.fit(carros)"
   ]
  },
  {
   "cell_type": "markdown",
   "id": "920fa953",
   "metadata": {},
   "source": [
    "No código a seguir, está sendo utilizado um modelo para transformar os dados contidos na variável **carros**. A função **`transform`** é aplicada ao modelo, gerando um novo conjunto de dados armazenado na variável **resultado**. Em seguida, é realizada uma seleção das colunas referentes às características principais dos carros, utilizando o método **`select`** com o argumento \"caracteristicaspca\". Por fim, o método **`show`** é utilizado para exibir o resultado da transformação, com a opção **truncate=False** garantindo que as informações não sejam truncadas na visualização. Esse código provavelmente faz parte de um processo de análise de dados ou de construção de um modelo de aprendizado de máquina, onde o modelo está sendo aplicado aos dados de carros para extrair suas características principais."
   ]
  },
  {
   "cell_type": "code",
   "execution_count": 7,
   "id": "c875fac1",
   "metadata": {},
   "outputs": [
    {
     "name": "stdout",
     "output_type": "stream",
     "text": [
      "+-----------------------------------------------------------+\n",
      "|caracteristicaspca                                         |\n",
      "+-----------------------------------------------------------+\n",
      "|[618.7707206779613,-937.712394997354,1231.963352994551]    |\n",
      "|[3112.9887675342197,-161.05746385491523,1191.8619913054383]|\n",
      "|[640.4959007710695,-1120.718886511042,1320.0756315189049]  |\n",
      "|[3466.0956877556673,-149.69421418298353,1401.204178036853] |\n",
      "|[661.4577445758732,-812.4592128844115,1395.2949328316356]  |\n",
      "|[769.2343671787738,-1120.4160559477316,1518.7436632279525] |\n",
      "|[644.8369503533214,-727.9539376169618,1313.6815210979353]  |\n",
      "|[9.10188066170976,1061.295403667789,1045.171050021569]     |\n",
      "|[67.13360966508404,878.4793682045013,1143.9379120496164]   |\n",
      "|[31.390504477140627,1095.369449828574,1306.012486190633]   |\n",
      "|[32.8916592220896,1091.1521230845226,1310.0881577350908]   |\n",
      "|[-118.372737516754,1832.771927405815,2088.6955393326043]   |\n",
      "|[-150.18148405358025,1820.8730926512776,2091.1033550766124]|\n",
      "|[-184.02684680334366,1930.3231940423877,1982.8031901298743]|\n",
      "|[835.9451693278469,-748.8857628718295,1538.0889537849143]  |\n",
      "|[5495.038233422232,777.0454947426244,1390.349383434824]    |\n",
      "|[5402.955892349916,772.4728618077415,1330.031199580702]    |\n",
      "|[329.124344856521,-796.2299760858442,1876.6906247404197]   |\n",
      "|[1821.0609870602007,-252.89066020520667,1736.5182284793482]|\n",
      "|[1636.9493562944256,914.9927770681531,570.2389907310253]   |\n",
      "+-----------------------------------------------------------+\n",
      "only showing top 20 rows\n",
      "\n"
     ]
    }
   ],
   "source": [
    "resultado = modelo.transform(carros)\n",
    "resultado.select(\"caracteristicaspca\").show(truncate=False)"
   ]
  },
  {
   "cell_type": "code",
   "execution_count": null,
   "id": "c2fd1b37",
   "metadata": {},
   "outputs": [],
   "source": []
  }
 ],
 "metadata": {
  "kernelspec": {
   "display_name": "Python 3",
   "language": "python",
   "name": "python3"
  },
  "language_info": {
   "codemirror_mode": {
    "name": "ipython",
    "version": 3
   },
   "file_extension": ".py",
   "mimetype": "text/x-python",
   "name": "python",
   "nbconvert_exporter": "python",
   "pygments_lexer": "ipython3",
   "version": "3.11.3"
  }
 },
 "nbformat": 4,
 "nbformat_minor": 5
}
